{
 "cells": [
  {
   "cell_type": "code",
   "execution_count": 1,
   "metadata": {},
   "outputs": [
    {
     "data": {
      "application/vnd.jupyter.widget-view+json": {
       "model_id": "",
       "version_major": 2,
       "version_minor": 0
      },
      "text/plain": [
       "Iterations:          0/? [00:00<?, ?it/s]"
      ]
     },
     "metadata": {},
     "output_type": "display_data"
    },
    {
     "data": {
      "application/vnd.jupyter.widget-view+json": {
       "model_id": "",
       "version_major": 2,
       "version_minor": 0
      },
      "text/plain": [
       "Packets:             0/? [00:00<?, ?it/s]"
      ]
     },
     "metadata": {},
     "output_type": "display_data"
    },
    {
     "data": {
      "text/html": [
       "        <script type=\"text/javascript\">\n",
       "        window.PlotlyConfig = {MathJaxConfig: 'local'};\n",
       "        if (window.MathJax && window.MathJax.Hub && window.MathJax.Hub.Config) {window.MathJax.Hub.Config({SVG: {font: \"STIX-Web\"}});}\n",
       "        if (typeof require !== 'undefined') {\n",
       "        require.undef(\"plotly\");\n",
       "        requirejs.config({\n",
       "            paths: {\n",
       "                'plotly': ['https://cdn.plot.ly/plotly-2.18.0.min']\n",
       "            }\n",
       "        });\n",
       "        require(['plotly'], function(Plotly) {\n",
       "            window._Plotly = Plotly;\n",
       "        });\n",
       "        }\n",
       "        </script>\n",
       "        "
      ]
     },
     "metadata": {},
     "output_type": "display_data"
    }
   ],
   "source": [
    "from tardis.io.config_reader import Configuration\n",
    "from tardis.simulation import Simulation\n",
    "from tardis.plasma.standard_plasmas import assemble_plasma\n",
    "from tardis.model import SimulationState\n",
    "from tardis.io.atom_data import AtomData\n",
    "from tardis.visualization.widgets.grotrian import GrotrianWidget\n",
    "from tardis.io.config_internal import get_data_dir\n",
    "from plotly.offline import init_notebook_mode\n",
    "import plotly.io as pio\n",
    "import os\n",
    "\n",
    "init_notebook_mode(connected=True)\n",
    "pio.renderers.default = \"notebook_connected\""
   ]
  },
  {
   "cell_type": "code",
   "execution_count": 2,
   "metadata": {},
   "outputs": [
    {
     "name": "stderr",
     "output_type": "stream",
     "text": [
      "/Users/archil/Documents/tardis_ayushi/tardis/plasma/properties/radiative_properties.py:93: RuntimeWarning:\n",
      "\n",
      "invalid value encountered in true_divide\n",
      "\n",
      "OMP: Info #276: omp_set_nested routine deprecated, please use omp_set_max_active_levels instead.\n",
      "/Users/archil/Documents/tardis_ayushi/tardis/plasma/properties/radiative_properties.py:93: RuntimeWarning:\n",
      "\n",
      "invalid value encountered in true_divide\n",
      "\n"
     ]
    },
    {
     "data": {
      "application/vnd.jupyter.widget-view+json": {
       "model_id": "810a615673a74825b5aeb8a176cf16bf",
       "version_major": 2,
       "version_minor": 0
      },
      "text/plain": [
       "TqdmHBox(children=(HTML(value='Iterations:', layout=Layout(width='6%')), FloatProgress(value=0.0, layout=Layou…"
      ]
     },
     "metadata": {},
     "output_type": "display_data"
    },
    {
     "data": {
      "application/vnd.jupyter.widget-view+json": {
       "model_id": "2e826907462c4b5f920b742122f37812",
       "version_major": 2,
       "version_minor": 0
      },
      "text/plain": [
       "TqdmHBox(children=(HTML(value='Packets:   ', layout=Layout(width='6%')), FloatProgress(value=0.0, layout=Layou…"
      ]
     },
     "metadata": {},
     "output_type": "display_data"
    },
    {
     "data": {
      "text/html": [
       "<style  type=\"text/css\" >\n",
       "</style><table id=\"T_cf074e46_2d1d_11ee_8a88_12e413fbf88d\" ><thead>    <tr>        <th class=\"index_name level0\" >Shell No.</th>        <th class=\"col_heading level0 col0\" >t_rad</th>        <th class=\"col_heading level0 col1\" >next_t_rad</th>        <th class=\"col_heading level0 col2\" >w</th>        <th class=\"col_heading level0 col3\" >next_w</th>    </tr></thead><tbody>\n",
       "                <tr>\n",
       "                        <th id=\"T_cf074e46_2d1d_11ee_8a88_12e413fbf88dlevel0_row0\" class=\"row_heading level0 row0\" >0</th>\n",
       "                        <td id=\"T_cf074e46_2d1d_11ee_8a88_12e413fbf88drow0_col0\" class=\"data row0 col0\" >9.93e+03</td>\n",
       "                        <td id=\"T_cf074e46_2d1d_11ee_8a88_12e413fbf88drow0_col1\" class=\"data row0 col1\" >1.01e+04</td>\n",
       "                        <td id=\"T_cf074e46_2d1d_11ee_8a88_12e413fbf88drow0_col2\" class=\"data row0 col2\" >0.4</td>\n",
       "                        <td id=\"T_cf074e46_2d1d_11ee_8a88_12e413fbf88drow0_col3\" class=\"data row0 col3\" >0.507</td>\n",
       "            </tr>\n",
       "            <tr>\n",
       "                        <th id=\"T_cf074e46_2d1d_11ee_8a88_12e413fbf88dlevel0_row1\" class=\"row_heading level0 row1\" >5</th>\n",
       "                        <td id=\"T_cf074e46_2d1d_11ee_8a88_12e413fbf88drow1_col0\" class=\"data row1 col0\" >9.85e+03</td>\n",
       "                        <td id=\"T_cf074e46_2d1d_11ee_8a88_12e413fbf88drow1_col1\" class=\"data row1 col1\" >1.02e+04</td>\n",
       "                        <td id=\"T_cf074e46_2d1d_11ee_8a88_12e413fbf88drow1_col2\" class=\"data row1 col2\" >0.211</td>\n",
       "                        <td id=\"T_cf074e46_2d1d_11ee_8a88_12e413fbf88drow1_col3\" class=\"data row1 col3\" >0.197</td>\n",
       "            </tr>\n",
       "            <tr>\n",
       "                        <th id=\"T_cf074e46_2d1d_11ee_8a88_12e413fbf88dlevel0_row2\" class=\"row_heading level0 row2\" >10</th>\n",
       "                        <td id=\"T_cf074e46_2d1d_11ee_8a88_12e413fbf88drow2_col0\" class=\"data row2 col0\" >9.78e+03</td>\n",
       "                        <td id=\"T_cf074e46_2d1d_11ee_8a88_12e413fbf88drow2_col1\" class=\"data row2 col1\" >1.01e+04</td>\n",
       "                        <td id=\"T_cf074e46_2d1d_11ee_8a88_12e413fbf88drow2_col2\" class=\"data row2 col2\" >0.143</td>\n",
       "                        <td id=\"T_cf074e46_2d1d_11ee_8a88_12e413fbf88drow2_col3\" class=\"data row2 col3\" >0.117</td>\n",
       "            </tr>\n",
       "            <tr>\n",
       "                        <th id=\"T_cf074e46_2d1d_11ee_8a88_12e413fbf88dlevel0_row3\" class=\"row_heading level0 row3\" >15</th>\n",
       "                        <td id=\"T_cf074e46_2d1d_11ee_8a88_12e413fbf88drow3_col0\" class=\"data row3 col0\" >9.71e+03</td>\n",
       "                        <td id=\"T_cf074e46_2d1d_11ee_8a88_12e413fbf88drow3_col1\" class=\"data row3 col1\" >9.87e+03</td>\n",
       "                        <td id=\"T_cf074e46_2d1d_11ee_8a88_12e413fbf88drow3_col2\" class=\"data row3 col2\" >0.105</td>\n",
       "                        <td id=\"T_cf074e46_2d1d_11ee_8a88_12e413fbf88drow3_col3\" class=\"data row3 col3\" >0.0869</td>\n",
       "            </tr>\n",
       "    </tbody></table>"
      ],
      "text/plain": [
       "<pandas.io.formats.style.Styler at 0x7ff1437f66a0>"
      ]
     },
     "metadata": {},
     "output_type": "display_data"
    },
    {
     "name": "stderr",
     "output_type": "stream",
     "text": [
      "/Users/archil/Documents/tardis_ayushi/tardis/plasma/properties/radiative_properties.py:93: RuntimeWarning:\n",
      "\n",
      "invalid value encountered in true_divide\n",
      "\n"
     ]
    },
    {
     "data": {
      "application/vnd.jupyter.widget-view+json": {
       "model_id": "f9675aea9a8d44528c2c9b0f03a47544",
       "version_major": 2,
       "version_minor": 0
      },
      "text/plain": [
       "VBox(children=(FigureWidget({\n",
       "    'data': [{'type': 'scatter', 'uid': '419b3691-c5aa-4c7b-aebf-33451889ce02', …"
      ]
     },
     "metadata": {},
     "output_type": "display_data"
    },
    {
     "data": {
      "text/html": [
       "<style  type=\"text/css\" >\n",
       "</style><table id=\"T_cfab60da_2d1d_11ee_8a88_12e413fbf88d\" ><thead>    <tr>        <th class=\"index_name level0\" >Shell No.</th>        <th class=\"col_heading level0 col0\" >t_rad</th>        <th class=\"col_heading level0 col1\" >next_t_rad</th>        <th class=\"col_heading level0 col2\" >w</th>        <th class=\"col_heading level0 col3\" >next_w</th>    </tr></thead><tbody>\n",
       "                <tr>\n",
       "                        <th id=\"T_cfab60da_2d1d_11ee_8a88_12e413fbf88dlevel0_row0\" class=\"row_heading level0 row0\" >0</th>\n",
       "                        <td id=\"T_cfab60da_2d1d_11ee_8a88_12e413fbf88drow0_col0\" class=\"data row0 col0\" >1.01e+04</td>\n",
       "                        <td id=\"T_cfab60da_2d1d_11ee_8a88_12e413fbf88drow0_col1\" class=\"data row0 col1\" >1.08e+04</td>\n",
       "                        <td id=\"T_cfab60da_2d1d_11ee_8a88_12e413fbf88drow0_col2\" class=\"data row0 col2\" >0.507</td>\n",
       "                        <td id=\"T_cfab60da_2d1d_11ee_8a88_12e413fbf88drow0_col3\" class=\"data row0 col3\" >0.525</td>\n",
       "            </tr>\n",
       "            <tr>\n",
       "                        <th id=\"T_cfab60da_2d1d_11ee_8a88_12e413fbf88dlevel0_row1\" class=\"row_heading level0 row1\" >5</th>\n",
       "                        <td id=\"T_cfab60da_2d1d_11ee_8a88_12e413fbf88drow1_col0\" class=\"data row1 col0\" >1.02e+04</td>\n",
       "                        <td id=\"T_cfab60da_2d1d_11ee_8a88_12e413fbf88drow1_col1\" class=\"data row1 col1\" >1.1e+04</td>\n",
       "                        <td id=\"T_cfab60da_2d1d_11ee_8a88_12e413fbf88drow1_col2\" class=\"data row1 col2\" >0.197</td>\n",
       "                        <td id=\"T_cfab60da_2d1d_11ee_8a88_12e413fbf88drow1_col3\" class=\"data row1 col3\" >0.203</td>\n",
       "            </tr>\n",
       "            <tr>\n",
       "                        <th id=\"T_cfab60da_2d1d_11ee_8a88_12e413fbf88dlevel0_row2\" class=\"row_heading level0 row2\" >10</th>\n",
       "                        <td id=\"T_cfab60da_2d1d_11ee_8a88_12e413fbf88drow2_col0\" class=\"data row2 col0\" >1.01e+04</td>\n",
       "                        <td id=\"T_cfab60da_2d1d_11ee_8a88_12e413fbf88drow2_col1\" class=\"data row2 col1\" >1.08e+04</td>\n",
       "                        <td id=\"T_cfab60da_2d1d_11ee_8a88_12e413fbf88drow2_col2\" class=\"data row2 col2\" >0.117</td>\n",
       "                        <td id=\"T_cfab60da_2d1d_11ee_8a88_12e413fbf88drow2_col3\" class=\"data row2 col3\" >0.125</td>\n",
       "            </tr>\n",
       "            <tr>\n",
       "                        <th id=\"T_cfab60da_2d1d_11ee_8a88_12e413fbf88dlevel0_row3\" class=\"row_heading level0 row3\" >15</th>\n",
       "                        <td id=\"T_cfab60da_2d1d_11ee_8a88_12e413fbf88drow3_col0\" class=\"data row3 col0\" >9.87e+03</td>\n",
       "                        <td id=\"T_cfab60da_2d1d_11ee_8a88_12e413fbf88drow3_col1\" class=\"data row3 col1\" >1.05e+04</td>\n",
       "                        <td id=\"T_cfab60da_2d1d_11ee_8a88_12e413fbf88drow3_col2\" class=\"data row3 col2\" >0.0869</td>\n",
       "                        <td id=\"T_cfab60da_2d1d_11ee_8a88_12e413fbf88drow3_col3\" class=\"data row3 col3\" >0.0933</td>\n",
       "            </tr>\n",
       "    </tbody></table>"
      ],
      "text/plain": [
       "<pandas.io.formats.style.Styler at 0x7ff1460fea30>"
      ]
     },
     "metadata": {},
     "output_type": "display_data"
    },
    {
     "name": "stderr",
     "output_type": "stream",
     "text": [
      "/Users/archil/Documents/tardis_ayushi/tardis/plasma/properties/radiative_properties.py:93: RuntimeWarning:\n",
      "\n",
      "invalid value encountered in true_divide\n",
      "\n"
     ]
    },
    {
     "data": {
      "text/html": [
       "<style  type=\"text/css\" >\n",
       "</style><table id=\"T_d00972f6_2d1d_11ee_8a88_12e413fbf88d\" ><thead>    <tr>        <th class=\"index_name level0\" >Shell No.</th>        <th class=\"col_heading level0 col0\" >t_rad</th>        <th class=\"col_heading level0 col1\" >next_t_rad</th>        <th class=\"col_heading level0 col2\" >w</th>        <th class=\"col_heading level0 col3\" >next_w</th>    </tr></thead><tbody>\n",
       "                <tr>\n",
       "                        <th id=\"T_d00972f6_2d1d_11ee_8a88_12e413fbf88dlevel0_row0\" class=\"row_heading level0 row0\" >0</th>\n",
       "                        <td id=\"T_d00972f6_2d1d_11ee_8a88_12e413fbf88drow0_col0\" class=\"data row0 col0\" >1.08e+04</td>\n",
       "                        <td id=\"T_d00972f6_2d1d_11ee_8a88_12e413fbf88drow0_col1\" class=\"data row0 col1\" >1.1e+04</td>\n",
       "                        <td id=\"T_d00972f6_2d1d_11ee_8a88_12e413fbf88drow0_col2\" class=\"data row0 col2\" >0.525</td>\n",
       "                        <td id=\"T_d00972f6_2d1d_11ee_8a88_12e413fbf88drow0_col3\" class=\"data row0 col3\" >0.483</td>\n",
       "            </tr>\n",
       "            <tr>\n",
       "                        <th id=\"T_d00972f6_2d1d_11ee_8a88_12e413fbf88dlevel0_row1\" class=\"row_heading level0 row1\" >5</th>\n",
       "                        <td id=\"T_d00972f6_2d1d_11ee_8a88_12e413fbf88drow1_col0\" class=\"data row1 col0\" >1.1e+04</td>\n",
       "                        <td id=\"T_d00972f6_2d1d_11ee_8a88_12e413fbf88drow1_col1\" class=\"data row1 col1\" >1.12e+04</td>\n",
       "                        <td id=\"T_d00972f6_2d1d_11ee_8a88_12e413fbf88drow1_col2\" class=\"data row1 col2\" >0.203</td>\n",
       "                        <td id=\"T_d00972f6_2d1d_11ee_8a88_12e413fbf88drow1_col3\" class=\"data row1 col3\" >0.189</td>\n",
       "            </tr>\n",
       "            <tr>\n",
       "                        <th id=\"T_d00972f6_2d1d_11ee_8a88_12e413fbf88dlevel0_row2\" class=\"row_heading level0 row2\" >10</th>\n",
       "                        <td id=\"T_d00972f6_2d1d_11ee_8a88_12e413fbf88drow2_col0\" class=\"data row2 col0\" >1.08e+04</td>\n",
       "                        <td id=\"T_d00972f6_2d1d_11ee_8a88_12e413fbf88drow2_col1\" class=\"data row2 col1\" >1.1e+04</td>\n",
       "                        <td id=\"T_d00972f6_2d1d_11ee_8a88_12e413fbf88drow2_col2\" class=\"data row2 col2\" >0.125</td>\n",
       "                        <td id=\"T_d00972f6_2d1d_11ee_8a88_12e413fbf88drow2_col3\" class=\"data row2 col3\" >0.118</td>\n",
       "            </tr>\n",
       "            <tr>\n",
       "                        <th id=\"T_d00972f6_2d1d_11ee_8a88_12e413fbf88dlevel0_row3\" class=\"row_heading level0 row3\" >15</th>\n",
       "                        <td id=\"T_d00972f6_2d1d_11ee_8a88_12e413fbf88drow3_col0\" class=\"data row3 col0\" >1.05e+04</td>\n",
       "                        <td id=\"T_d00972f6_2d1d_11ee_8a88_12e413fbf88drow3_col1\" class=\"data row3 col1\" >1.06e+04</td>\n",
       "                        <td id=\"T_d00972f6_2d1d_11ee_8a88_12e413fbf88drow3_col2\" class=\"data row3 col2\" >0.0933</td>\n",
       "                        <td id=\"T_d00972f6_2d1d_11ee_8a88_12e413fbf88drow3_col3\" class=\"data row3 col3\" >0.0895</td>\n",
       "            </tr>\n",
       "    </tbody></table>"
      ],
      "text/plain": [
       "<pandas.io.formats.style.Styler at 0x7ff1460fef10>"
      ]
     },
     "metadata": {},
     "output_type": "display_data"
    },
    {
     "data": {
      "text/html": [
       "<style  type=\"text/css\" >\n",
       "</style><table id=\"T_d06ab84a_2d1d_11ee_8a88_12e413fbf88d\" ><thead>    <tr>        <th class=\"index_name level0\" >Shell No.</th>        <th class=\"col_heading level0 col0\" >t_rad</th>        <th class=\"col_heading level0 col1\" >next_t_rad</th>        <th class=\"col_heading level0 col2\" >w</th>        <th class=\"col_heading level0 col3\" >next_w</th>    </tr></thead><tbody>\n",
       "                <tr>\n",
       "                        <th id=\"T_d06ab84a_2d1d_11ee_8a88_12e413fbf88dlevel0_row0\" class=\"row_heading level0 row0\" >0</th>\n",
       "                        <td id=\"T_d06ab84a_2d1d_11ee_8a88_12e413fbf88drow0_col0\" class=\"data row0 col0\" >1.1e+04</td>\n",
       "                        <td id=\"T_d06ab84a_2d1d_11ee_8a88_12e413fbf88drow0_col1\" class=\"data row0 col1\" >1.1e+04</td>\n",
       "                        <td id=\"T_d06ab84a_2d1d_11ee_8a88_12e413fbf88drow0_col2\" class=\"data row0 col2\" >0.483</td>\n",
       "                        <td id=\"T_d06ab84a_2d1d_11ee_8a88_12e413fbf88drow0_col3\" class=\"data row0 col3\" >0.469</td>\n",
       "            </tr>\n",
       "            <tr>\n",
       "                        <th id=\"T_d06ab84a_2d1d_11ee_8a88_12e413fbf88dlevel0_row1\" class=\"row_heading level0 row1\" >5</th>\n",
       "                        <td id=\"T_d06ab84a_2d1d_11ee_8a88_12e413fbf88drow1_col0\" class=\"data row1 col0\" >1.12e+04</td>\n",
       "                        <td id=\"T_d06ab84a_2d1d_11ee_8a88_12e413fbf88drow1_col1\" class=\"data row1 col1\" >1.12e+04</td>\n",
       "                        <td id=\"T_d06ab84a_2d1d_11ee_8a88_12e413fbf88drow1_col2\" class=\"data row1 col2\" >0.189</td>\n",
       "                        <td id=\"T_d06ab84a_2d1d_11ee_8a88_12e413fbf88drow1_col3\" class=\"data row1 col3\" >0.182</td>\n",
       "            </tr>\n",
       "            <tr>\n",
       "                        <th id=\"T_d06ab84a_2d1d_11ee_8a88_12e413fbf88dlevel0_row2\" class=\"row_heading level0 row2\" >10</th>\n",
       "                        <td id=\"T_d06ab84a_2d1d_11ee_8a88_12e413fbf88drow2_col0\" class=\"data row2 col0\" >1.1e+04</td>\n",
       "                        <td id=\"T_d06ab84a_2d1d_11ee_8a88_12e413fbf88drow2_col1\" class=\"data row2 col1\" >1.1e+04</td>\n",
       "                        <td id=\"T_d06ab84a_2d1d_11ee_8a88_12e413fbf88drow2_col2\" class=\"data row2 col2\" >0.118</td>\n",
       "                        <td id=\"T_d06ab84a_2d1d_11ee_8a88_12e413fbf88drow2_col3\" class=\"data row2 col3\" >0.113</td>\n",
       "            </tr>\n",
       "            <tr>\n",
       "                        <th id=\"T_d06ab84a_2d1d_11ee_8a88_12e413fbf88dlevel0_row3\" class=\"row_heading level0 row3\" >15</th>\n",
       "                        <td id=\"T_d06ab84a_2d1d_11ee_8a88_12e413fbf88drow3_col0\" class=\"data row3 col0\" >1.06e+04</td>\n",
       "                        <td id=\"T_d06ab84a_2d1d_11ee_8a88_12e413fbf88drow3_col1\" class=\"data row3 col1\" >1.07e+04</td>\n",
       "                        <td id=\"T_d06ab84a_2d1d_11ee_8a88_12e413fbf88drow3_col2\" class=\"data row3 col2\" >0.0895</td>\n",
       "                        <td id=\"T_d06ab84a_2d1d_11ee_8a88_12e413fbf88drow3_col3\" class=\"data row3 col3\" >0.0861</td>\n",
       "            </tr>\n",
       "    </tbody></table>"
      ],
      "text/plain": [
       "<pandas.io.formats.style.Styler at 0x7ff1460fef10>"
      ]
     },
     "metadata": {},
     "output_type": "display_data"
    },
    {
     "data": {
      "text/html": [
       "<style  type=\"text/css\" >\n",
       "</style><table id=\"T_d0f15e04_2d1d_11ee_8a88_12e413fbf88d\" ><thead>    <tr>        <th class=\"index_name level0\" >Shell No.</th>        <th class=\"col_heading level0 col0\" >t_rad</th>        <th class=\"col_heading level0 col1\" >next_t_rad</th>        <th class=\"col_heading level0 col2\" >w</th>        <th class=\"col_heading level0 col3\" >next_w</th>    </tr></thead><tbody>\n",
       "                <tr>\n",
       "                        <th id=\"T_d0f15e04_2d1d_11ee_8a88_12e413fbf88dlevel0_row0\" class=\"row_heading level0 row0\" >0</th>\n",
       "                        <td id=\"T_d0f15e04_2d1d_11ee_8a88_12e413fbf88drow0_col0\" class=\"data row0 col0\" >1.1e+04</td>\n",
       "                        <td id=\"T_d0f15e04_2d1d_11ee_8a88_12e413fbf88drow0_col1\" class=\"data row0 col1\" >1.1e+04</td>\n",
       "                        <td id=\"T_d0f15e04_2d1d_11ee_8a88_12e413fbf88drow0_col2\" class=\"data row0 col2\" >0.469</td>\n",
       "                        <td id=\"T_d0f15e04_2d1d_11ee_8a88_12e413fbf88drow0_col3\" class=\"data row0 col3\" >0.479</td>\n",
       "            </tr>\n",
       "            <tr>\n",
       "                        <th id=\"T_d0f15e04_2d1d_11ee_8a88_12e413fbf88dlevel0_row1\" class=\"row_heading level0 row1\" >5</th>\n",
       "                        <td id=\"T_d0f15e04_2d1d_11ee_8a88_12e413fbf88drow1_col0\" class=\"data row1 col0\" >1.12e+04</td>\n",
       "                        <td id=\"T_d0f15e04_2d1d_11ee_8a88_12e413fbf88drow1_col1\" class=\"data row1 col1\" >1.13e+04</td>\n",
       "                        <td id=\"T_d0f15e04_2d1d_11ee_8a88_12e413fbf88drow1_col2\" class=\"data row1 col2\" >0.182</td>\n",
       "                        <td id=\"T_d0f15e04_2d1d_11ee_8a88_12e413fbf88drow1_col3\" class=\"data row1 col3\" >0.178</td>\n",
       "            </tr>\n",
       "            <tr>\n",
       "                        <th id=\"T_d0f15e04_2d1d_11ee_8a88_12e413fbf88dlevel0_row2\" class=\"row_heading level0 row2\" >10</th>\n",
       "                        <td id=\"T_d0f15e04_2d1d_11ee_8a88_12e413fbf88drow2_col0\" class=\"data row2 col0\" >1.1e+04</td>\n",
       "                        <td id=\"T_d0f15e04_2d1d_11ee_8a88_12e413fbf88drow2_col1\" class=\"data row2 col1\" >1.1e+04</td>\n",
       "                        <td id=\"T_d0f15e04_2d1d_11ee_8a88_12e413fbf88drow2_col2\" class=\"data row2 col2\" >0.113</td>\n",
       "                        <td id=\"T_d0f15e04_2d1d_11ee_8a88_12e413fbf88drow2_col3\" class=\"data row2 col3\" >0.113</td>\n",
       "            </tr>\n",
       "            <tr>\n",
       "                        <th id=\"T_d0f15e04_2d1d_11ee_8a88_12e413fbf88dlevel0_row3\" class=\"row_heading level0 row3\" >15</th>\n",
       "                        <td id=\"T_d0f15e04_2d1d_11ee_8a88_12e413fbf88drow3_col0\" class=\"data row3 col0\" >1.07e+04</td>\n",
       "                        <td id=\"T_d0f15e04_2d1d_11ee_8a88_12e413fbf88drow3_col1\" class=\"data row3 col1\" >1.07e+04</td>\n",
       "                        <td id=\"T_d0f15e04_2d1d_11ee_8a88_12e413fbf88drow3_col2\" class=\"data row3 col2\" >0.0861</td>\n",
       "                        <td id=\"T_d0f15e04_2d1d_11ee_8a88_12e413fbf88drow3_col3\" class=\"data row3 col3\" >0.0839</td>\n",
       "            </tr>\n",
       "    </tbody></table>"
      ],
      "text/plain": [
       "<pandas.io.formats.style.Styler at 0x7ff14610fac0>"
      ]
     },
     "metadata": {},
     "output_type": "display_data"
    },
    {
     "data": {
      "text/html": [
       "<style  type=\"text/css\" >\n",
       "</style><table id=\"T_d1597eb2_2d1d_11ee_8a88_12e413fbf88d\" ><thead>    <tr>        <th class=\"index_name level0\" >Shell No.</th>        <th class=\"col_heading level0 col0\" >t_rad</th>        <th class=\"col_heading level0 col1\" >next_t_rad</th>        <th class=\"col_heading level0 col2\" >w</th>        <th class=\"col_heading level0 col3\" >next_w</th>    </tr></thead><tbody>\n",
       "                <tr>\n",
       "                        <th id=\"T_d1597eb2_2d1d_11ee_8a88_12e413fbf88dlevel0_row0\" class=\"row_heading level0 row0\" >0</th>\n",
       "                        <td id=\"T_d1597eb2_2d1d_11ee_8a88_12e413fbf88drow0_col0\" class=\"data row0 col0\" >1.1e+04</td>\n",
       "                        <td id=\"T_d1597eb2_2d1d_11ee_8a88_12e413fbf88drow0_col1\" class=\"data row0 col1\" >1.1e+04</td>\n",
       "                        <td id=\"T_d1597eb2_2d1d_11ee_8a88_12e413fbf88drow0_col2\" class=\"data row0 col2\" >0.479</td>\n",
       "                        <td id=\"T_d1597eb2_2d1d_11ee_8a88_12e413fbf88drow0_col3\" class=\"data row0 col3\" >0.47</td>\n",
       "            </tr>\n",
       "            <tr>\n",
       "                        <th id=\"T_d1597eb2_2d1d_11ee_8a88_12e413fbf88dlevel0_row1\" class=\"row_heading level0 row1\" >5</th>\n",
       "                        <td id=\"T_d1597eb2_2d1d_11ee_8a88_12e413fbf88drow1_col0\" class=\"data row1 col0\" >1.13e+04</td>\n",
       "                        <td id=\"T_d1597eb2_2d1d_11ee_8a88_12e413fbf88drow1_col1\" class=\"data row1 col1\" >1.12e+04</td>\n",
       "                        <td id=\"T_d1597eb2_2d1d_11ee_8a88_12e413fbf88drow1_col2\" class=\"data row1 col2\" >0.178</td>\n",
       "                        <td id=\"T_d1597eb2_2d1d_11ee_8a88_12e413fbf88drow1_col3\" class=\"data row1 col3\" >0.185</td>\n",
       "            </tr>\n",
       "            <tr>\n",
       "                        <th id=\"T_d1597eb2_2d1d_11ee_8a88_12e413fbf88dlevel0_row2\" class=\"row_heading level0 row2\" >10</th>\n",
       "                        <td id=\"T_d1597eb2_2d1d_11ee_8a88_12e413fbf88drow2_col0\" class=\"data row2 col0\" >1.1e+04</td>\n",
       "                        <td id=\"T_d1597eb2_2d1d_11ee_8a88_12e413fbf88drow2_col1\" class=\"data row2 col1\" >1.11e+04</td>\n",
       "                        <td id=\"T_d1597eb2_2d1d_11ee_8a88_12e413fbf88drow2_col2\" class=\"data row2 col2\" >0.113</td>\n",
       "                        <td id=\"T_d1597eb2_2d1d_11ee_8a88_12e413fbf88drow2_col3\" class=\"data row2 col3\" >0.112</td>\n",
       "            </tr>\n",
       "            <tr>\n",
       "                        <th id=\"T_d1597eb2_2d1d_11ee_8a88_12e413fbf88dlevel0_row3\" class=\"row_heading level0 row3\" >15</th>\n",
       "                        <td id=\"T_d1597eb2_2d1d_11ee_8a88_12e413fbf88drow3_col0\" class=\"data row3 col0\" >1.07e+04</td>\n",
       "                        <td id=\"T_d1597eb2_2d1d_11ee_8a88_12e413fbf88drow3_col1\" class=\"data row3 col1\" >1.07e+04</td>\n",
       "                        <td id=\"T_d1597eb2_2d1d_11ee_8a88_12e413fbf88drow3_col2\" class=\"data row3 col2\" >0.0839</td>\n",
       "                        <td id=\"T_d1597eb2_2d1d_11ee_8a88_12e413fbf88drow3_col3\" class=\"data row3 col3\" >0.0856</td>\n",
       "            </tr>\n",
       "    </tbody></table>"
      ],
      "text/plain": [
       "<pandas.io.formats.style.Styler at 0x7ff1460fea90>"
      ]
     },
     "metadata": {},
     "output_type": "display_data"
    },
    {
     "data": {
      "text/html": [
       "<style  type=\"text/css\" >\n",
       "</style><table id=\"T_d1b56178_2d1d_11ee_8a88_12e413fbf88d\" ><thead>    <tr>        <th class=\"index_name level0\" >Shell No.</th>        <th class=\"col_heading level0 col0\" >t_rad</th>        <th class=\"col_heading level0 col1\" >next_t_rad</th>        <th class=\"col_heading level0 col2\" >w</th>        <th class=\"col_heading level0 col3\" >next_w</th>    </tr></thead><tbody>\n",
       "                <tr>\n",
       "                        <th id=\"T_d1b56178_2d1d_11ee_8a88_12e413fbf88dlevel0_row0\" class=\"row_heading level0 row0\" >0</th>\n",
       "                        <td id=\"T_d1b56178_2d1d_11ee_8a88_12e413fbf88drow0_col0\" class=\"data row0 col0\" >1.1e+04</td>\n",
       "                        <td id=\"T_d1b56178_2d1d_11ee_8a88_12e413fbf88drow0_col1\" class=\"data row0 col1\" >1.1e+04</td>\n",
       "                        <td id=\"T_d1b56178_2d1d_11ee_8a88_12e413fbf88drow0_col2\" class=\"data row0 col2\" >0.47</td>\n",
       "                        <td id=\"T_d1b56178_2d1d_11ee_8a88_12e413fbf88drow0_col3\" class=\"data row0 col3\" >0.47</td>\n",
       "            </tr>\n",
       "            <tr>\n",
       "                        <th id=\"T_d1b56178_2d1d_11ee_8a88_12e413fbf88dlevel0_row1\" class=\"row_heading level0 row1\" >5</th>\n",
       "                        <td id=\"T_d1b56178_2d1d_11ee_8a88_12e413fbf88drow1_col0\" class=\"data row1 col0\" >1.12e+04</td>\n",
       "                        <td id=\"T_d1b56178_2d1d_11ee_8a88_12e413fbf88drow1_col1\" class=\"data row1 col1\" >1.13e+04</td>\n",
       "                        <td id=\"T_d1b56178_2d1d_11ee_8a88_12e413fbf88drow1_col2\" class=\"data row1 col2\" >0.185</td>\n",
       "                        <td id=\"T_d1b56178_2d1d_11ee_8a88_12e413fbf88drow1_col3\" class=\"data row1 col3\" >0.178</td>\n",
       "            </tr>\n",
       "            <tr>\n",
       "                        <th id=\"T_d1b56178_2d1d_11ee_8a88_12e413fbf88dlevel0_row2\" class=\"row_heading level0 row2\" >10</th>\n",
       "                        <td id=\"T_d1b56178_2d1d_11ee_8a88_12e413fbf88drow2_col0\" class=\"data row2 col0\" >1.11e+04</td>\n",
       "                        <td id=\"T_d1b56178_2d1d_11ee_8a88_12e413fbf88drow2_col1\" class=\"data row2 col1\" >1.11e+04</td>\n",
       "                        <td id=\"T_d1b56178_2d1d_11ee_8a88_12e413fbf88drow2_col2\" class=\"data row2 col2\" >0.112</td>\n",
       "                        <td id=\"T_d1b56178_2d1d_11ee_8a88_12e413fbf88drow2_col3\" class=\"data row2 col3\" >0.112</td>\n",
       "            </tr>\n",
       "            <tr>\n",
       "                        <th id=\"T_d1b56178_2d1d_11ee_8a88_12e413fbf88dlevel0_row3\" class=\"row_heading level0 row3\" >15</th>\n",
       "                        <td id=\"T_d1b56178_2d1d_11ee_8a88_12e413fbf88drow3_col0\" class=\"data row3 col0\" >1.07e+04</td>\n",
       "                        <td id=\"T_d1b56178_2d1d_11ee_8a88_12e413fbf88drow3_col1\" class=\"data row3 col1\" >1.07e+04</td>\n",
       "                        <td id=\"T_d1b56178_2d1d_11ee_8a88_12e413fbf88drow3_col2\" class=\"data row3 col2\" >0.0856</td>\n",
       "                        <td id=\"T_d1b56178_2d1d_11ee_8a88_12e413fbf88drow3_col3\" class=\"data row3 col3\" >0.086</td>\n",
       "            </tr>\n",
       "    </tbody></table>"
      ],
      "text/plain": [
       "<pandas.io.formats.style.Styler at 0x7ff14610fdc0>"
      ]
     },
     "metadata": {},
     "output_type": "display_data"
    },
    {
     "data": {
      "text/html": [
       "<style  type=\"text/css\" >\n",
       "</style><table id=\"T_d2103094_2d1d_11ee_8a88_12e413fbf88d\" ><thead>    <tr>        <th class=\"index_name level0\" >Shell No.</th>        <th class=\"col_heading level0 col0\" >t_rad</th>        <th class=\"col_heading level0 col1\" >next_t_rad</th>        <th class=\"col_heading level0 col2\" >w</th>        <th class=\"col_heading level0 col3\" >next_w</th>    </tr></thead><tbody>\n",
       "                <tr>\n",
       "                        <th id=\"T_d2103094_2d1d_11ee_8a88_12e413fbf88dlevel0_row0\" class=\"row_heading level0 row0\" >0</th>\n",
       "                        <td id=\"T_d2103094_2d1d_11ee_8a88_12e413fbf88drow0_col0\" class=\"data row0 col0\" >1.1e+04</td>\n",
       "                        <td id=\"T_d2103094_2d1d_11ee_8a88_12e413fbf88drow0_col1\" class=\"data row0 col1\" >1.11e+04</td>\n",
       "                        <td id=\"T_d2103094_2d1d_11ee_8a88_12e413fbf88drow0_col2\" class=\"data row0 col2\" >0.47</td>\n",
       "                        <td id=\"T_d2103094_2d1d_11ee_8a88_12e413fbf88drow0_col3\" class=\"data row0 col3\" >0.472</td>\n",
       "            </tr>\n",
       "            <tr>\n",
       "                        <th id=\"T_d2103094_2d1d_11ee_8a88_12e413fbf88dlevel0_row1\" class=\"row_heading level0 row1\" >5</th>\n",
       "                        <td id=\"T_d2103094_2d1d_11ee_8a88_12e413fbf88drow1_col0\" class=\"data row1 col0\" >1.13e+04</td>\n",
       "                        <td id=\"T_d2103094_2d1d_11ee_8a88_12e413fbf88drow1_col1\" class=\"data row1 col1\" >1.14e+04</td>\n",
       "                        <td id=\"T_d2103094_2d1d_11ee_8a88_12e413fbf88drow1_col2\" class=\"data row1 col2\" >0.178</td>\n",
       "                        <td id=\"T_d2103094_2d1d_11ee_8a88_12e413fbf88drow1_col3\" class=\"data row1 col3\" >0.175</td>\n",
       "            </tr>\n",
       "            <tr>\n",
       "                        <th id=\"T_d2103094_2d1d_11ee_8a88_12e413fbf88dlevel0_row2\" class=\"row_heading level0 row2\" >10</th>\n",
       "                        <td id=\"T_d2103094_2d1d_11ee_8a88_12e413fbf88drow2_col0\" class=\"data row2 col0\" >1.11e+04</td>\n",
       "                        <td id=\"T_d2103094_2d1d_11ee_8a88_12e413fbf88drow2_col1\" class=\"data row2 col1\" >1.11e+04</td>\n",
       "                        <td id=\"T_d2103094_2d1d_11ee_8a88_12e413fbf88drow2_col2\" class=\"data row2 col2\" >0.112</td>\n",
       "                        <td id=\"T_d2103094_2d1d_11ee_8a88_12e413fbf88drow2_col3\" class=\"data row2 col3\" >0.111</td>\n",
       "            </tr>\n",
       "            <tr>\n",
       "                        <th id=\"T_d2103094_2d1d_11ee_8a88_12e413fbf88dlevel0_row3\" class=\"row_heading level0 row3\" >15</th>\n",
       "                        <td id=\"T_d2103094_2d1d_11ee_8a88_12e413fbf88drow3_col0\" class=\"data row3 col0\" >1.07e+04</td>\n",
       "                        <td id=\"T_d2103094_2d1d_11ee_8a88_12e413fbf88drow3_col1\" class=\"data row3 col1\" >1.07e+04</td>\n",
       "                        <td id=\"T_d2103094_2d1d_11ee_8a88_12e413fbf88drow3_col2\" class=\"data row3 col2\" >0.086</td>\n",
       "                        <td id=\"T_d2103094_2d1d_11ee_8a88_12e413fbf88drow3_col3\" class=\"data row3 col3\" >0.084</td>\n",
       "            </tr>\n",
       "    </tbody></table>"
      ],
      "text/plain": [
       "<pandas.io.formats.style.Styler at 0x7ff14610fe50>"
      ]
     },
     "metadata": {},
     "output_type": "display_data"
    },
    {
     "data": {
      "text/html": [
       "<style  type=\"text/css\" >\n",
       "</style><table id=\"T_d27afc44_2d1d_11ee_8a88_12e413fbf88d\" ><thead>    <tr>        <th class=\"index_name level0\" >Shell No.</th>        <th class=\"col_heading level0 col0\" >t_rad</th>        <th class=\"col_heading level0 col1\" >next_t_rad</th>        <th class=\"col_heading level0 col2\" >w</th>        <th class=\"col_heading level0 col3\" >next_w</th>    </tr></thead><tbody>\n",
       "                <tr>\n",
       "                        <th id=\"T_d27afc44_2d1d_11ee_8a88_12e413fbf88dlevel0_row0\" class=\"row_heading level0 row0\" >0</th>\n",
       "                        <td id=\"T_d27afc44_2d1d_11ee_8a88_12e413fbf88drow0_col0\" class=\"data row0 col0\" >1.11e+04</td>\n",
       "                        <td id=\"T_d27afc44_2d1d_11ee_8a88_12e413fbf88drow0_col1\" class=\"data row0 col1\" >1.11e+04</td>\n",
       "                        <td id=\"T_d27afc44_2d1d_11ee_8a88_12e413fbf88drow0_col2\" class=\"data row0 col2\" >0.472</td>\n",
       "                        <td id=\"T_d27afc44_2d1d_11ee_8a88_12e413fbf88drow0_col3\" class=\"data row0 col3\" >0.469</td>\n",
       "            </tr>\n",
       "            <tr>\n",
       "                        <th id=\"T_d27afc44_2d1d_11ee_8a88_12e413fbf88dlevel0_row1\" class=\"row_heading level0 row1\" >5</th>\n",
       "                        <td id=\"T_d27afc44_2d1d_11ee_8a88_12e413fbf88drow1_col0\" class=\"data row1 col0\" >1.14e+04</td>\n",
       "                        <td id=\"T_d27afc44_2d1d_11ee_8a88_12e413fbf88drow1_col1\" class=\"data row1 col1\" >1.15e+04</td>\n",
       "                        <td id=\"T_d27afc44_2d1d_11ee_8a88_12e413fbf88drow1_col2\" class=\"data row1 col2\" >0.175</td>\n",
       "                        <td id=\"T_d27afc44_2d1d_11ee_8a88_12e413fbf88drow1_col3\" class=\"data row1 col3\" >0.17</td>\n",
       "            </tr>\n",
       "            <tr>\n",
       "                        <th id=\"T_d27afc44_2d1d_11ee_8a88_12e413fbf88dlevel0_row2\" class=\"row_heading level0 row2\" >10</th>\n",
       "                        <td id=\"T_d27afc44_2d1d_11ee_8a88_12e413fbf88drow2_col0\" class=\"data row2 col0\" >1.11e+04</td>\n",
       "                        <td id=\"T_d27afc44_2d1d_11ee_8a88_12e413fbf88drow2_col1\" class=\"data row2 col1\" >1.11e+04</td>\n",
       "                        <td id=\"T_d27afc44_2d1d_11ee_8a88_12e413fbf88drow2_col2\" class=\"data row2 col2\" >0.111</td>\n",
       "                        <td id=\"T_d27afc44_2d1d_11ee_8a88_12e413fbf88drow2_col3\" class=\"data row2 col3\" >0.109</td>\n",
       "            </tr>\n",
       "            <tr>\n",
       "                        <th id=\"T_d27afc44_2d1d_11ee_8a88_12e413fbf88dlevel0_row3\" class=\"row_heading level0 row3\" >15</th>\n",
       "                        <td id=\"T_d27afc44_2d1d_11ee_8a88_12e413fbf88drow3_col0\" class=\"data row3 col0\" >1.07e+04</td>\n",
       "                        <td id=\"T_d27afc44_2d1d_11ee_8a88_12e413fbf88drow3_col1\" class=\"data row3 col1\" >1.08e+04</td>\n",
       "                        <td id=\"T_d27afc44_2d1d_11ee_8a88_12e413fbf88drow3_col2\" class=\"data row3 col2\" >0.084</td>\n",
       "                        <td id=\"T_d27afc44_2d1d_11ee_8a88_12e413fbf88drow3_col3\" class=\"data row3 col3\" >0.0822</td>\n",
       "            </tr>\n",
       "    </tbody></table>"
      ],
      "text/plain": [
       "<pandas.io.formats.style.Styler at 0x7ff14610fdf0>"
      ]
     },
     "metadata": {},
     "output_type": "display_data"
    },
    {
     "data": {
      "text/html": [
       "<style  type=\"text/css\" >\n",
       "</style><table id=\"T_d2ec6ae6_2d1d_11ee_8a88_12e413fbf88d\" ><thead>    <tr>        <th class=\"index_name level0\" >Shell No.</th>        <th class=\"col_heading level0 col0\" >t_rad</th>        <th class=\"col_heading level0 col1\" >next_t_rad</th>        <th class=\"col_heading level0 col2\" >w</th>        <th class=\"col_heading level0 col3\" >next_w</th>    </tr></thead><tbody>\n",
       "                <tr>\n",
       "                        <th id=\"T_d2ec6ae6_2d1d_11ee_8a88_12e413fbf88dlevel0_row0\" class=\"row_heading level0 row0\" >0</th>\n",
       "                        <td id=\"T_d2ec6ae6_2d1d_11ee_8a88_12e413fbf88drow0_col0\" class=\"data row0 col0\" >1.11e+04</td>\n",
       "                        <td id=\"T_d2ec6ae6_2d1d_11ee_8a88_12e413fbf88drow0_col1\" class=\"data row0 col1\" >1.1e+04</td>\n",
       "                        <td id=\"T_d2ec6ae6_2d1d_11ee_8a88_12e413fbf88drow0_col2\" class=\"data row0 col2\" >0.469</td>\n",
       "                        <td id=\"T_d2ec6ae6_2d1d_11ee_8a88_12e413fbf88drow0_col3\" class=\"data row0 col3\" >0.475</td>\n",
       "            </tr>\n",
       "            <tr>\n",
       "                        <th id=\"T_d2ec6ae6_2d1d_11ee_8a88_12e413fbf88dlevel0_row1\" class=\"row_heading level0 row1\" >5</th>\n",
       "                        <td id=\"T_d2ec6ae6_2d1d_11ee_8a88_12e413fbf88drow1_col0\" class=\"data row1 col0\" >1.15e+04</td>\n",
       "                        <td id=\"T_d2ec6ae6_2d1d_11ee_8a88_12e413fbf88drow1_col1\" class=\"data row1 col1\" >1.14e+04</td>\n",
       "                        <td id=\"T_d2ec6ae6_2d1d_11ee_8a88_12e413fbf88drow1_col2\" class=\"data row1 col2\" >0.17</td>\n",
       "                        <td id=\"T_d2ec6ae6_2d1d_11ee_8a88_12e413fbf88drow1_col3\" class=\"data row1 col3\" >0.177</td>\n",
       "            </tr>\n",
       "            <tr>\n",
       "                        <th id=\"T_d2ec6ae6_2d1d_11ee_8a88_12e413fbf88dlevel0_row2\" class=\"row_heading level0 row2\" >10</th>\n",
       "                        <td id=\"T_d2ec6ae6_2d1d_11ee_8a88_12e413fbf88drow2_col0\" class=\"data row2 col0\" >1.11e+04</td>\n",
       "                        <td id=\"T_d2ec6ae6_2d1d_11ee_8a88_12e413fbf88drow2_col1\" class=\"data row2 col1\" >1.11e+04</td>\n",
       "                        <td id=\"T_d2ec6ae6_2d1d_11ee_8a88_12e413fbf88drow2_col2\" class=\"data row2 col2\" >0.109</td>\n",
       "                        <td id=\"T_d2ec6ae6_2d1d_11ee_8a88_12e413fbf88drow2_col3\" class=\"data row2 col3\" >0.112</td>\n",
       "            </tr>\n",
       "            <tr>\n",
       "                        <th id=\"T_d2ec6ae6_2d1d_11ee_8a88_12e413fbf88dlevel0_row3\" class=\"row_heading level0 row3\" >15</th>\n",
       "                        <td id=\"T_d2ec6ae6_2d1d_11ee_8a88_12e413fbf88drow3_col0\" class=\"data row3 col0\" >1.08e+04</td>\n",
       "                        <td id=\"T_d2ec6ae6_2d1d_11ee_8a88_12e413fbf88drow3_col1\" class=\"data row3 col1\" >1.06e+04</td>\n",
       "                        <td id=\"T_d2ec6ae6_2d1d_11ee_8a88_12e413fbf88drow3_col2\" class=\"data row3 col2\" >0.0822</td>\n",
       "                        <td id=\"T_d2ec6ae6_2d1d_11ee_8a88_12e413fbf88drow3_col3\" class=\"data row3 col3\" >0.0878</td>\n",
       "            </tr>\n",
       "    </tbody></table>"
      ],
      "text/plain": [
       "<pandas.io.formats.style.Styler at 0x7ff1460486a0>"
      ]
     },
     "metadata": {},
     "output_type": "display_data"
    },
    {
     "data": {
      "text/html": [
       "<style  type=\"text/css\" >\n",
       "</style><table id=\"T_d3659e8e_2d1d_11ee_8a88_12e413fbf88d\" ><thead>    <tr>        <th class=\"index_name level0\" >Shell No.</th>        <th class=\"col_heading level0 col0\" >t_rad</th>        <th class=\"col_heading level0 col1\" >next_t_rad</th>        <th class=\"col_heading level0 col2\" >w</th>        <th class=\"col_heading level0 col3\" >next_w</th>    </tr></thead><tbody>\n",
       "                <tr>\n",
       "                        <th id=\"T_d3659e8e_2d1d_11ee_8a88_12e413fbf88dlevel0_row0\" class=\"row_heading level0 row0\" >0</th>\n",
       "                        <td id=\"T_d3659e8e_2d1d_11ee_8a88_12e413fbf88drow0_col0\" class=\"data row0 col0\" >1.1e+04</td>\n",
       "                        <td id=\"T_d3659e8e_2d1d_11ee_8a88_12e413fbf88drow0_col1\" class=\"data row0 col1\" >1.1e+04</td>\n",
       "                        <td id=\"T_d3659e8e_2d1d_11ee_8a88_12e413fbf88drow0_col2\" class=\"data row0 col2\" >0.475</td>\n",
       "                        <td id=\"T_d3659e8e_2d1d_11ee_8a88_12e413fbf88drow0_col3\" class=\"data row0 col3\" >0.472</td>\n",
       "            </tr>\n",
       "            <tr>\n",
       "                        <th id=\"T_d3659e8e_2d1d_11ee_8a88_12e413fbf88dlevel0_row1\" class=\"row_heading level0 row1\" >5</th>\n",
       "                        <td id=\"T_d3659e8e_2d1d_11ee_8a88_12e413fbf88drow1_col0\" class=\"data row1 col0\" >1.14e+04</td>\n",
       "                        <td id=\"T_d3659e8e_2d1d_11ee_8a88_12e413fbf88drow1_col1\" class=\"data row1 col1\" >1.12e+04</td>\n",
       "                        <td id=\"T_d3659e8e_2d1d_11ee_8a88_12e413fbf88drow1_col2\" class=\"data row1 col2\" >0.177</td>\n",
       "                        <td id=\"T_d3659e8e_2d1d_11ee_8a88_12e413fbf88drow1_col3\" class=\"data row1 col3\" >0.184</td>\n",
       "            </tr>\n",
       "            <tr>\n",
       "                        <th id=\"T_d3659e8e_2d1d_11ee_8a88_12e413fbf88dlevel0_row2\" class=\"row_heading level0 row2\" >10</th>\n",
       "                        <td id=\"T_d3659e8e_2d1d_11ee_8a88_12e413fbf88drow2_col0\" class=\"data row2 col0\" >1.11e+04</td>\n",
       "                        <td id=\"T_d3659e8e_2d1d_11ee_8a88_12e413fbf88drow2_col1\" class=\"data row2 col1\" >1.1e+04</td>\n",
       "                        <td id=\"T_d3659e8e_2d1d_11ee_8a88_12e413fbf88drow2_col2\" class=\"data row2 col2\" >0.112</td>\n",
       "                        <td id=\"T_d3659e8e_2d1d_11ee_8a88_12e413fbf88drow2_col3\" class=\"data row2 col3\" >0.114</td>\n",
       "            </tr>\n",
       "            <tr>\n",
       "                        <th id=\"T_d3659e8e_2d1d_11ee_8a88_12e413fbf88dlevel0_row3\" class=\"row_heading level0 row3\" >15</th>\n",
       "                        <td id=\"T_d3659e8e_2d1d_11ee_8a88_12e413fbf88drow3_col0\" class=\"data row3 col0\" >1.06e+04</td>\n",
       "                        <td id=\"T_d3659e8e_2d1d_11ee_8a88_12e413fbf88drow3_col1\" class=\"data row3 col1\" >1.06e+04</td>\n",
       "                        <td id=\"T_d3659e8e_2d1d_11ee_8a88_12e413fbf88drow3_col2\" class=\"data row3 col2\" >0.0878</td>\n",
       "                        <td id=\"T_d3659e8e_2d1d_11ee_8a88_12e413fbf88drow3_col3\" class=\"data row3 col3\" >0.0859</td>\n",
       "            </tr>\n",
       "    </tbody></table>"
      ],
      "text/plain": [
       "<pandas.io.formats.style.Styler at 0x7ff1442adfd0>"
      ]
     },
     "metadata": {},
     "output_type": "display_data"
    },
    {
     "data": {
      "text/html": [
       "<style  type=\"text/css\" >\n",
       "</style><table id=\"T_d400f848_2d1d_11ee_8a88_12e413fbf88d\" ><thead>    <tr>        <th class=\"index_name level0\" >Shell No.</th>        <th class=\"col_heading level0 col0\" >t_rad</th>        <th class=\"col_heading level0 col1\" >next_t_rad</th>        <th class=\"col_heading level0 col2\" >w</th>        <th class=\"col_heading level0 col3\" >next_w</th>    </tr></thead><tbody>\n",
       "                <tr>\n",
       "                        <th id=\"T_d400f848_2d1d_11ee_8a88_12e413fbf88dlevel0_row0\" class=\"row_heading level0 row0\" >0</th>\n",
       "                        <td id=\"T_d400f848_2d1d_11ee_8a88_12e413fbf88drow0_col0\" class=\"data row0 col0\" >1.1e+04</td>\n",
       "                        <td id=\"T_d400f848_2d1d_11ee_8a88_12e413fbf88drow0_col1\" class=\"data row0 col1\" >1.11e+04</td>\n",
       "                        <td id=\"T_d400f848_2d1d_11ee_8a88_12e413fbf88drow0_col2\" class=\"data row0 col2\" >0.472</td>\n",
       "                        <td id=\"T_d400f848_2d1d_11ee_8a88_12e413fbf88drow0_col3\" class=\"data row0 col3\" >0.467</td>\n",
       "            </tr>\n",
       "            <tr>\n",
       "                        <th id=\"T_d400f848_2d1d_11ee_8a88_12e413fbf88dlevel0_row1\" class=\"row_heading level0 row1\" >5</th>\n",
       "                        <td id=\"T_d400f848_2d1d_11ee_8a88_12e413fbf88drow1_col0\" class=\"data row1 col0\" >1.12e+04</td>\n",
       "                        <td id=\"T_d400f848_2d1d_11ee_8a88_12e413fbf88drow1_col1\" class=\"data row1 col1\" >1.13e+04</td>\n",
       "                        <td id=\"T_d400f848_2d1d_11ee_8a88_12e413fbf88drow1_col2\" class=\"data row1 col2\" >0.184</td>\n",
       "                        <td id=\"T_d400f848_2d1d_11ee_8a88_12e413fbf88drow1_col3\" class=\"data row1 col3\" >0.176</td>\n",
       "            </tr>\n",
       "            <tr>\n",
       "                        <th id=\"T_d400f848_2d1d_11ee_8a88_12e413fbf88dlevel0_row2\" class=\"row_heading level0 row2\" >10</th>\n",
       "                        <td id=\"T_d400f848_2d1d_11ee_8a88_12e413fbf88drow2_col0\" class=\"data row2 col0\" >1.1e+04</td>\n",
       "                        <td id=\"T_d400f848_2d1d_11ee_8a88_12e413fbf88drow2_col1\" class=\"data row2 col1\" >1.11e+04</td>\n",
       "                        <td id=\"T_d400f848_2d1d_11ee_8a88_12e413fbf88drow2_col2\" class=\"data row2 col2\" >0.114</td>\n",
       "                        <td id=\"T_d400f848_2d1d_11ee_8a88_12e413fbf88drow2_col3\" class=\"data row2 col3\" >0.11</td>\n",
       "            </tr>\n",
       "            <tr>\n",
       "                        <th id=\"T_d400f848_2d1d_11ee_8a88_12e413fbf88dlevel0_row3\" class=\"row_heading level0 row3\" >15</th>\n",
       "                        <td id=\"T_d400f848_2d1d_11ee_8a88_12e413fbf88drow3_col0\" class=\"data row3 col0\" >1.06e+04</td>\n",
       "                        <td id=\"T_d400f848_2d1d_11ee_8a88_12e413fbf88drow3_col1\" class=\"data row3 col1\" >1.08e+04</td>\n",
       "                        <td id=\"T_d400f848_2d1d_11ee_8a88_12e413fbf88drow3_col2\" class=\"data row3 col2\" >0.0859</td>\n",
       "                        <td id=\"T_d400f848_2d1d_11ee_8a88_12e413fbf88drow3_col3\" class=\"data row3 col3\" >0.0821</td>\n",
       "            </tr>\n",
       "    </tbody></table>"
      ],
      "text/plain": [
       "<pandas.io.formats.style.Styler at 0x7ff14610fdf0>"
      ]
     },
     "metadata": {},
     "output_type": "display_data"
    },
    {
     "data": {
      "text/html": [
       "<style  type=\"text/css\" >\n",
       "</style><table id=\"T_d47dbe00_2d1d_11ee_8a88_12e413fbf88d\" ><thead>    <tr>        <th class=\"index_name level0\" >Shell No.</th>        <th class=\"col_heading level0 col0\" >t_rad</th>        <th class=\"col_heading level0 col1\" >next_t_rad</th>        <th class=\"col_heading level0 col2\" >w</th>        <th class=\"col_heading level0 col3\" >next_w</th>    </tr></thead><tbody>\n",
       "                <tr>\n",
       "                        <th id=\"T_d47dbe00_2d1d_11ee_8a88_12e413fbf88dlevel0_row0\" class=\"row_heading level0 row0\" >0</th>\n",
       "                        <td id=\"T_d47dbe00_2d1d_11ee_8a88_12e413fbf88drow0_col0\" class=\"data row0 col0\" >1.11e+04</td>\n",
       "                        <td id=\"T_d47dbe00_2d1d_11ee_8a88_12e413fbf88drow0_col1\" class=\"data row0 col1\" >1.11e+04</td>\n",
       "                        <td id=\"T_d47dbe00_2d1d_11ee_8a88_12e413fbf88drow0_col2\" class=\"data row0 col2\" >0.467</td>\n",
       "                        <td id=\"T_d47dbe00_2d1d_11ee_8a88_12e413fbf88drow0_col3\" class=\"data row0 col3\" >0.466</td>\n",
       "            </tr>\n",
       "            <tr>\n",
       "                        <th id=\"T_d47dbe00_2d1d_11ee_8a88_12e413fbf88dlevel0_row1\" class=\"row_heading level0 row1\" >5</th>\n",
       "                        <td id=\"T_d47dbe00_2d1d_11ee_8a88_12e413fbf88drow1_col0\" class=\"data row1 col0\" >1.13e+04</td>\n",
       "                        <td id=\"T_d47dbe00_2d1d_11ee_8a88_12e413fbf88drow1_col1\" class=\"data row1 col1\" >1.13e+04</td>\n",
       "                        <td id=\"T_d47dbe00_2d1d_11ee_8a88_12e413fbf88drow1_col2\" class=\"data row1 col2\" >0.176</td>\n",
       "                        <td id=\"T_d47dbe00_2d1d_11ee_8a88_12e413fbf88drow1_col3\" class=\"data row1 col3\" >0.18</td>\n",
       "            </tr>\n",
       "            <tr>\n",
       "                        <th id=\"T_d47dbe00_2d1d_11ee_8a88_12e413fbf88dlevel0_row2\" class=\"row_heading level0 row2\" >10</th>\n",
       "                        <td id=\"T_d47dbe00_2d1d_11ee_8a88_12e413fbf88drow2_col0\" class=\"data row2 col0\" >1.11e+04</td>\n",
       "                        <td id=\"T_d47dbe00_2d1d_11ee_8a88_12e413fbf88drow2_col1\" class=\"data row2 col1\" >1.11e+04</td>\n",
       "                        <td id=\"T_d47dbe00_2d1d_11ee_8a88_12e413fbf88drow2_col2\" class=\"data row2 col2\" >0.11</td>\n",
       "                        <td id=\"T_d47dbe00_2d1d_11ee_8a88_12e413fbf88drow2_col3\" class=\"data row2 col3\" >0.111</td>\n",
       "            </tr>\n",
       "            <tr>\n",
       "                        <th id=\"T_d47dbe00_2d1d_11ee_8a88_12e413fbf88dlevel0_row3\" class=\"row_heading level0 row3\" >15</th>\n",
       "                        <td id=\"T_d47dbe00_2d1d_11ee_8a88_12e413fbf88drow3_col0\" class=\"data row3 col0\" >1.08e+04</td>\n",
       "                        <td id=\"T_d47dbe00_2d1d_11ee_8a88_12e413fbf88drow3_col1\" class=\"data row3 col1\" >1.08e+04</td>\n",
       "                        <td id=\"T_d47dbe00_2d1d_11ee_8a88_12e413fbf88drow3_col2\" class=\"data row3 col2\" >0.0821</td>\n",
       "                        <td id=\"T_d47dbe00_2d1d_11ee_8a88_12e413fbf88drow3_col3\" class=\"data row3 col3\" >0.0841</td>\n",
       "            </tr>\n",
       "    </tbody></table>"
      ],
      "text/plain": [
       "<pandas.io.formats.style.Styler at 0x7ff1442adfd0>"
      ]
     },
     "metadata": {},
     "output_type": "display_data"
    },
    {
     "data": {
      "text/html": [
       "<style  type=\"text/css\" >\n",
       "</style><table id=\"T_d4e9477e_2d1d_11ee_8a88_12e413fbf88d\" ><thead>    <tr>        <th class=\"index_name level0\" >Shell No.</th>        <th class=\"col_heading level0 col0\" >t_rad</th>        <th class=\"col_heading level0 col1\" >next_t_rad</th>        <th class=\"col_heading level0 col2\" >w</th>        <th class=\"col_heading level0 col3\" >next_w</th>    </tr></thead><tbody>\n",
       "                <tr>\n",
       "                        <th id=\"T_d4e9477e_2d1d_11ee_8a88_12e413fbf88dlevel0_row0\" class=\"row_heading level0 row0\" >0</th>\n",
       "                        <td id=\"T_d4e9477e_2d1d_11ee_8a88_12e413fbf88drow0_col0\" class=\"data row0 col0\" >1.11e+04</td>\n",
       "                        <td id=\"T_d4e9477e_2d1d_11ee_8a88_12e413fbf88drow0_col1\" class=\"data row0 col1\" >1.11e+04</td>\n",
       "                        <td id=\"T_d4e9477e_2d1d_11ee_8a88_12e413fbf88drow0_col2\" class=\"data row0 col2\" >0.466</td>\n",
       "                        <td id=\"T_d4e9477e_2d1d_11ee_8a88_12e413fbf88drow0_col3\" class=\"data row0 col3\" >0.469</td>\n",
       "            </tr>\n",
       "            <tr>\n",
       "                        <th id=\"T_d4e9477e_2d1d_11ee_8a88_12e413fbf88dlevel0_row1\" class=\"row_heading level0 row1\" >5</th>\n",
       "                        <td id=\"T_d4e9477e_2d1d_11ee_8a88_12e413fbf88drow1_col0\" class=\"data row1 col0\" >1.13e+04</td>\n",
       "                        <td id=\"T_d4e9477e_2d1d_11ee_8a88_12e413fbf88drow1_col1\" class=\"data row1 col1\" >1.13e+04</td>\n",
       "                        <td id=\"T_d4e9477e_2d1d_11ee_8a88_12e413fbf88drow1_col2\" class=\"data row1 col2\" >0.18</td>\n",
       "                        <td id=\"T_d4e9477e_2d1d_11ee_8a88_12e413fbf88drow1_col3\" class=\"data row1 col3\" >0.182</td>\n",
       "            </tr>\n",
       "            <tr>\n",
       "                        <th id=\"T_d4e9477e_2d1d_11ee_8a88_12e413fbf88dlevel0_row2\" class=\"row_heading level0 row2\" >10</th>\n",
       "                        <td id=\"T_d4e9477e_2d1d_11ee_8a88_12e413fbf88drow2_col0\" class=\"data row2 col0\" >1.11e+04</td>\n",
       "                        <td id=\"T_d4e9477e_2d1d_11ee_8a88_12e413fbf88drow2_col1\" class=\"data row2 col1\" >1.1e+04</td>\n",
       "                        <td id=\"T_d4e9477e_2d1d_11ee_8a88_12e413fbf88drow2_col2\" class=\"data row2 col2\" >0.111</td>\n",
       "                        <td id=\"T_d4e9477e_2d1d_11ee_8a88_12e413fbf88drow2_col3\" class=\"data row2 col3\" >0.113</td>\n",
       "            </tr>\n",
       "            <tr>\n",
       "                        <th id=\"T_d4e9477e_2d1d_11ee_8a88_12e413fbf88dlevel0_row3\" class=\"row_heading level0 row3\" >15</th>\n",
       "                        <td id=\"T_d4e9477e_2d1d_11ee_8a88_12e413fbf88drow3_col0\" class=\"data row3 col0\" >1.08e+04</td>\n",
       "                        <td id=\"T_d4e9477e_2d1d_11ee_8a88_12e413fbf88drow3_col1\" class=\"data row3 col1\" >1.07e+04</td>\n",
       "                        <td id=\"T_d4e9477e_2d1d_11ee_8a88_12e413fbf88drow3_col2\" class=\"data row3 col2\" >0.0841</td>\n",
       "                        <td id=\"T_d4e9477e_2d1d_11ee_8a88_12e413fbf88drow3_col3\" class=\"data row3 col3\" >0.0854</td>\n",
       "            </tr>\n",
       "    </tbody></table>"
      ],
      "text/plain": [
       "<pandas.io.formats.style.Styler at 0x7ff14610f400>"
      ]
     },
     "metadata": {},
     "output_type": "display_data"
    },
    {
     "data": {
      "text/html": [
       "<style  type=\"text/css\" >\n",
       "</style><table id=\"T_d557ad5e_2d1d_11ee_8a88_12e413fbf88d\" ><thead>    <tr>        <th class=\"index_name level0\" >Shell No.</th>        <th class=\"col_heading level0 col0\" >t_rad</th>        <th class=\"col_heading level0 col1\" >next_t_rad</th>        <th class=\"col_heading level0 col2\" >w</th>        <th class=\"col_heading level0 col3\" >next_w</th>    </tr></thead><tbody>\n",
       "                <tr>\n",
       "                        <th id=\"T_d557ad5e_2d1d_11ee_8a88_12e413fbf88dlevel0_row0\" class=\"row_heading level0 row0\" >0</th>\n",
       "                        <td id=\"T_d557ad5e_2d1d_11ee_8a88_12e413fbf88drow0_col0\" class=\"data row0 col0\" >1.11e+04</td>\n",
       "                        <td id=\"T_d557ad5e_2d1d_11ee_8a88_12e413fbf88drow0_col1\" class=\"data row0 col1\" >1.1e+04</td>\n",
       "                        <td id=\"T_d557ad5e_2d1d_11ee_8a88_12e413fbf88drow0_col2\" class=\"data row0 col2\" >0.469</td>\n",
       "                        <td id=\"T_d557ad5e_2d1d_11ee_8a88_12e413fbf88drow0_col3\" class=\"data row0 col3\" >0.484</td>\n",
       "            </tr>\n",
       "            <tr>\n",
       "                        <th id=\"T_d557ad5e_2d1d_11ee_8a88_12e413fbf88dlevel0_row1\" class=\"row_heading level0 row1\" >5</th>\n",
       "                        <td id=\"T_d557ad5e_2d1d_11ee_8a88_12e413fbf88drow1_col0\" class=\"data row1 col0\" >1.13e+04</td>\n",
       "                        <td id=\"T_d557ad5e_2d1d_11ee_8a88_12e413fbf88drow1_col1\" class=\"data row1 col1\" >1.13e+04</td>\n",
       "                        <td id=\"T_d557ad5e_2d1d_11ee_8a88_12e413fbf88drow1_col2\" class=\"data row1 col2\" >0.182</td>\n",
       "                        <td id=\"T_d557ad5e_2d1d_11ee_8a88_12e413fbf88drow1_col3\" class=\"data row1 col3\" >0.181</td>\n",
       "            </tr>\n",
       "            <tr>\n",
       "                        <th id=\"T_d557ad5e_2d1d_11ee_8a88_12e413fbf88dlevel0_row2\" class=\"row_heading level0 row2\" >10</th>\n",
       "                        <td id=\"T_d557ad5e_2d1d_11ee_8a88_12e413fbf88drow2_col0\" class=\"data row2 col0\" >1.1e+04</td>\n",
       "                        <td id=\"T_d557ad5e_2d1d_11ee_8a88_12e413fbf88drow2_col1\" class=\"data row2 col1\" >1.1e+04</td>\n",
       "                        <td id=\"T_d557ad5e_2d1d_11ee_8a88_12e413fbf88drow2_col2\" class=\"data row2 col2\" >0.113</td>\n",
       "                        <td id=\"T_d557ad5e_2d1d_11ee_8a88_12e413fbf88drow2_col3\" class=\"data row2 col3\" >0.113</td>\n",
       "            </tr>\n",
       "            <tr>\n",
       "                        <th id=\"T_d557ad5e_2d1d_11ee_8a88_12e413fbf88dlevel0_row3\" class=\"row_heading level0 row3\" >15</th>\n",
       "                        <td id=\"T_d557ad5e_2d1d_11ee_8a88_12e413fbf88drow3_col0\" class=\"data row3 col0\" >1.07e+04</td>\n",
       "                        <td id=\"T_d557ad5e_2d1d_11ee_8a88_12e413fbf88drow3_col1\" class=\"data row3 col1\" >1.07e+04</td>\n",
       "                        <td id=\"T_d557ad5e_2d1d_11ee_8a88_12e413fbf88drow3_col2\" class=\"data row3 col2\" >0.0854</td>\n",
       "                        <td id=\"T_d557ad5e_2d1d_11ee_8a88_12e413fbf88drow3_col3\" class=\"data row3 col3\" >0.0858</td>\n",
       "            </tr>\n",
       "    </tbody></table>"
      ],
      "text/plain": [
       "<pandas.io.formats.style.Styler at 0x7ff14610f1f0>"
      ]
     },
     "metadata": {},
     "output_type": "display_data"
    },
    {
     "data": {
      "text/html": [
       "<style  type=\"text/css\" >\n",
       "</style><table id=\"T_d5bfc38a_2d1d_11ee_8a88_12e413fbf88d\" ><thead>    <tr>        <th class=\"index_name level0\" >Shell No.</th>        <th class=\"col_heading level0 col0\" >t_rad</th>        <th class=\"col_heading level0 col1\" >next_t_rad</th>        <th class=\"col_heading level0 col2\" >w</th>        <th class=\"col_heading level0 col3\" >next_w</th>    </tr></thead><tbody>\n",
       "                <tr>\n",
       "                        <th id=\"T_d5bfc38a_2d1d_11ee_8a88_12e413fbf88dlevel0_row0\" class=\"row_heading level0 row0\" >0</th>\n",
       "                        <td id=\"T_d5bfc38a_2d1d_11ee_8a88_12e413fbf88drow0_col0\" class=\"data row0 col0\" >1.1e+04</td>\n",
       "                        <td id=\"T_d5bfc38a_2d1d_11ee_8a88_12e413fbf88drow0_col1\" class=\"data row0 col1\" >1.1e+04</td>\n",
       "                        <td id=\"T_d5bfc38a_2d1d_11ee_8a88_12e413fbf88drow0_col2\" class=\"data row0 col2\" >0.484</td>\n",
       "                        <td id=\"T_d5bfc38a_2d1d_11ee_8a88_12e413fbf88drow0_col3\" class=\"data row0 col3\" >0.472</td>\n",
       "            </tr>\n",
       "            <tr>\n",
       "                        <th id=\"T_d5bfc38a_2d1d_11ee_8a88_12e413fbf88dlevel0_row1\" class=\"row_heading level0 row1\" >5</th>\n",
       "                        <td id=\"T_d5bfc38a_2d1d_11ee_8a88_12e413fbf88drow1_col0\" class=\"data row1 col0\" >1.13e+04</td>\n",
       "                        <td id=\"T_d5bfc38a_2d1d_11ee_8a88_12e413fbf88drow1_col1\" class=\"data row1 col1\" >1.13e+04</td>\n",
       "                        <td id=\"T_d5bfc38a_2d1d_11ee_8a88_12e413fbf88drow1_col2\" class=\"data row1 col2\" >0.181</td>\n",
       "                        <td id=\"T_d5bfc38a_2d1d_11ee_8a88_12e413fbf88drow1_col3\" class=\"data row1 col3\" >0.177</td>\n",
       "            </tr>\n",
       "            <tr>\n",
       "                        <th id=\"T_d5bfc38a_2d1d_11ee_8a88_12e413fbf88dlevel0_row2\" class=\"row_heading level0 row2\" >10</th>\n",
       "                        <td id=\"T_d5bfc38a_2d1d_11ee_8a88_12e413fbf88drow2_col0\" class=\"data row2 col0\" >1.1e+04</td>\n",
       "                        <td id=\"T_d5bfc38a_2d1d_11ee_8a88_12e413fbf88drow2_col1\" class=\"data row2 col1\" >1.1e+04</td>\n",
       "                        <td id=\"T_d5bfc38a_2d1d_11ee_8a88_12e413fbf88drow2_col2\" class=\"data row2 col2\" >0.113</td>\n",
       "                        <td id=\"T_d5bfc38a_2d1d_11ee_8a88_12e413fbf88drow2_col3\" class=\"data row2 col3\" >0.113</td>\n",
       "            </tr>\n",
       "            <tr>\n",
       "                        <th id=\"T_d5bfc38a_2d1d_11ee_8a88_12e413fbf88dlevel0_row3\" class=\"row_heading level0 row3\" >15</th>\n",
       "                        <td id=\"T_d5bfc38a_2d1d_11ee_8a88_12e413fbf88drow3_col0\" class=\"data row3 col0\" >1.07e+04</td>\n",
       "                        <td id=\"T_d5bfc38a_2d1d_11ee_8a88_12e413fbf88drow3_col1\" class=\"data row3 col1\" >1.06e+04</td>\n",
       "                        <td id=\"T_d5bfc38a_2d1d_11ee_8a88_12e413fbf88drow3_col2\" class=\"data row3 col2\" >0.0858</td>\n",
       "                        <td id=\"T_d5bfc38a_2d1d_11ee_8a88_12e413fbf88drow3_col3\" class=\"data row3 col3\" >0.0858</td>\n",
       "            </tr>\n",
       "    </tbody></table>"
      ],
      "text/plain": [
       "<pandas.io.formats.style.Styler at 0x7ff1460586d0>"
      ]
     },
     "metadata": {},
     "output_type": "display_data"
    },
    {
     "data": {
      "text/html": [
       "<style  type=\"text/css\" >\n",
       "</style><table id=\"T_d6264574_2d1d_11ee_8a88_12e413fbf88d\" ><thead>    <tr>        <th class=\"index_name level0\" >Shell No.</th>        <th class=\"col_heading level0 col0\" >t_rad</th>        <th class=\"col_heading level0 col1\" >next_t_rad</th>        <th class=\"col_heading level0 col2\" >w</th>        <th class=\"col_heading level0 col3\" >next_w</th>    </tr></thead><tbody>\n",
       "                <tr>\n",
       "                        <th id=\"T_d6264574_2d1d_11ee_8a88_12e413fbf88dlevel0_row0\" class=\"row_heading level0 row0\" >0</th>\n",
       "                        <td id=\"T_d6264574_2d1d_11ee_8a88_12e413fbf88drow0_col0\" class=\"data row0 col0\" >1.1e+04</td>\n",
       "                        <td id=\"T_d6264574_2d1d_11ee_8a88_12e413fbf88drow0_col1\" class=\"data row0 col1\" >1.11e+04</td>\n",
       "                        <td id=\"T_d6264574_2d1d_11ee_8a88_12e413fbf88drow0_col2\" class=\"data row0 col2\" >0.472</td>\n",
       "                        <td id=\"T_d6264574_2d1d_11ee_8a88_12e413fbf88drow0_col3\" class=\"data row0 col3\" >0.468</td>\n",
       "            </tr>\n",
       "            <tr>\n",
       "                        <th id=\"T_d6264574_2d1d_11ee_8a88_12e413fbf88dlevel0_row1\" class=\"row_heading level0 row1\" >5</th>\n",
       "                        <td id=\"T_d6264574_2d1d_11ee_8a88_12e413fbf88drow1_col0\" class=\"data row1 col0\" >1.13e+04</td>\n",
       "                        <td id=\"T_d6264574_2d1d_11ee_8a88_12e413fbf88drow1_col1\" class=\"data row1 col1\" >1.14e+04</td>\n",
       "                        <td id=\"T_d6264574_2d1d_11ee_8a88_12e413fbf88drow1_col2\" class=\"data row1 col2\" >0.177</td>\n",
       "                        <td id=\"T_d6264574_2d1d_11ee_8a88_12e413fbf88drow1_col3\" class=\"data row1 col3\" >0.175</td>\n",
       "            </tr>\n",
       "            <tr>\n",
       "                        <th id=\"T_d6264574_2d1d_11ee_8a88_12e413fbf88dlevel0_row2\" class=\"row_heading level0 row2\" >10</th>\n",
       "                        <td id=\"T_d6264574_2d1d_11ee_8a88_12e413fbf88drow2_col0\" class=\"data row2 col0\" >1.1e+04</td>\n",
       "                        <td id=\"T_d6264574_2d1d_11ee_8a88_12e413fbf88drow2_col1\" class=\"data row2 col1\" >1.11e+04</td>\n",
       "                        <td id=\"T_d6264574_2d1d_11ee_8a88_12e413fbf88drow2_col2\" class=\"data row2 col2\" >0.113</td>\n",
       "                        <td id=\"T_d6264574_2d1d_11ee_8a88_12e413fbf88drow2_col3\" class=\"data row2 col3\" >0.11</td>\n",
       "            </tr>\n",
       "            <tr>\n",
       "                        <th id=\"T_d6264574_2d1d_11ee_8a88_12e413fbf88dlevel0_row3\" class=\"row_heading level0 row3\" >15</th>\n",
       "                        <td id=\"T_d6264574_2d1d_11ee_8a88_12e413fbf88drow3_col0\" class=\"data row3 col0\" >1.06e+04</td>\n",
       "                        <td id=\"T_d6264574_2d1d_11ee_8a88_12e413fbf88drow3_col1\" class=\"data row3 col1\" >1.08e+04</td>\n",
       "                        <td id=\"T_d6264574_2d1d_11ee_8a88_12e413fbf88drow3_col2\" class=\"data row3 col2\" >0.0858</td>\n",
       "                        <td id=\"T_d6264574_2d1d_11ee_8a88_12e413fbf88drow3_col3\" class=\"data row3 col3\" >0.0816</td>\n",
       "            </tr>\n",
       "    </tbody></table>"
      ],
      "text/plain": [
       "<pandas.io.formats.style.Styler at 0x7ff1460c6220>"
      ]
     },
     "metadata": {},
     "output_type": "display_data"
    },
    {
     "data": {
      "text/html": [
       "<style  type=\"text/css\" >\n",
       "</style><table id=\"T_d68eb546_2d1d_11ee_8a88_12e413fbf88d\" ><thead>    <tr>        <th class=\"index_name level0\" >Shell No.</th>        <th class=\"col_heading level0 col0\" >t_rad</th>        <th class=\"col_heading level0 col1\" >next_t_rad</th>        <th class=\"col_heading level0 col2\" >w</th>        <th class=\"col_heading level0 col3\" >next_w</th>    </tr></thead><tbody>\n",
       "                <tr>\n",
       "                        <th id=\"T_d68eb546_2d1d_11ee_8a88_12e413fbf88dlevel0_row0\" class=\"row_heading level0 row0\" >0</th>\n",
       "                        <td id=\"T_d68eb546_2d1d_11ee_8a88_12e413fbf88drow0_col0\" class=\"data row0 col0\" >1.11e+04</td>\n",
       "                        <td id=\"T_d68eb546_2d1d_11ee_8a88_12e413fbf88drow0_col1\" class=\"data row0 col1\" >1.11e+04</td>\n",
       "                        <td id=\"T_d68eb546_2d1d_11ee_8a88_12e413fbf88drow0_col2\" class=\"data row0 col2\" >0.468</td>\n",
       "                        <td id=\"T_d68eb546_2d1d_11ee_8a88_12e413fbf88drow0_col3\" class=\"data row0 col3\" >0.464</td>\n",
       "            </tr>\n",
       "            <tr>\n",
       "                        <th id=\"T_d68eb546_2d1d_11ee_8a88_12e413fbf88dlevel0_row1\" class=\"row_heading level0 row1\" >5</th>\n",
       "                        <td id=\"T_d68eb546_2d1d_11ee_8a88_12e413fbf88drow1_col0\" class=\"data row1 col0\" >1.14e+04</td>\n",
       "                        <td id=\"T_d68eb546_2d1d_11ee_8a88_12e413fbf88drow1_col1\" class=\"data row1 col1\" >1.13e+04</td>\n",
       "                        <td id=\"T_d68eb546_2d1d_11ee_8a88_12e413fbf88drow1_col2\" class=\"data row1 col2\" >0.175</td>\n",
       "                        <td id=\"T_d68eb546_2d1d_11ee_8a88_12e413fbf88drow1_col3\" class=\"data row1 col3\" >0.177</td>\n",
       "            </tr>\n",
       "            <tr>\n",
       "                        <th id=\"T_d68eb546_2d1d_11ee_8a88_12e413fbf88dlevel0_row2\" class=\"row_heading level0 row2\" >10</th>\n",
       "                        <td id=\"T_d68eb546_2d1d_11ee_8a88_12e413fbf88drow2_col0\" class=\"data row2 col0\" >1.11e+04</td>\n",
       "                        <td id=\"T_d68eb546_2d1d_11ee_8a88_12e413fbf88drow2_col1\" class=\"data row2 col1\" >1.1e+04</td>\n",
       "                        <td id=\"T_d68eb546_2d1d_11ee_8a88_12e413fbf88drow2_col2\" class=\"data row2 col2\" >0.11</td>\n",
       "                        <td id=\"T_d68eb546_2d1d_11ee_8a88_12e413fbf88drow2_col3\" class=\"data row2 col3\" >0.113</td>\n",
       "            </tr>\n",
       "            <tr>\n",
       "                        <th id=\"T_d68eb546_2d1d_11ee_8a88_12e413fbf88dlevel0_row3\" class=\"row_heading level0 row3\" >15</th>\n",
       "                        <td id=\"T_d68eb546_2d1d_11ee_8a88_12e413fbf88drow3_col0\" class=\"data row3 col0\" >1.08e+04</td>\n",
       "                        <td id=\"T_d68eb546_2d1d_11ee_8a88_12e413fbf88drow3_col1\" class=\"data row3 col1\" >1.07e+04</td>\n",
       "                        <td id=\"T_d68eb546_2d1d_11ee_8a88_12e413fbf88drow3_col2\" class=\"data row3 col2\" >0.0816</td>\n",
       "                        <td id=\"T_d68eb546_2d1d_11ee_8a88_12e413fbf88drow3_col3\" class=\"data row3 col3\" >0.0848</td>\n",
       "            </tr>\n",
       "    </tbody></table>"
      ],
      "text/plain": [
       "<pandas.io.formats.style.Styler at 0x7ff14610f1c0>"
      ]
     },
     "metadata": {},
     "output_type": "display_data"
    },
    {
     "data": {
      "text/html": [
       "<style  type=\"text/css\" >\n",
       "</style><table id=\"T_d6f508aa_2d1d_11ee_8a88_12e413fbf88d\" ><thead>    <tr>        <th class=\"index_name level0\" >Shell No.</th>        <th class=\"col_heading level0 col0\" >t_rad</th>        <th class=\"col_heading level0 col1\" >next_t_rad</th>        <th class=\"col_heading level0 col2\" >w</th>        <th class=\"col_heading level0 col3\" >next_w</th>    </tr></thead><tbody>\n",
       "                <tr>\n",
       "                        <th id=\"T_d6f508aa_2d1d_11ee_8a88_12e413fbf88dlevel0_row0\" class=\"row_heading level0 row0\" >0</th>\n",
       "                        <td id=\"T_d6f508aa_2d1d_11ee_8a88_12e413fbf88drow0_col0\" class=\"data row0 col0\" >1.11e+04</td>\n",
       "                        <td id=\"T_d6f508aa_2d1d_11ee_8a88_12e413fbf88drow0_col1\" class=\"data row0 col1\" >1.11e+04</td>\n",
       "                        <td id=\"T_d6f508aa_2d1d_11ee_8a88_12e413fbf88drow0_col2\" class=\"data row0 col2\" >0.464</td>\n",
       "                        <td id=\"T_d6f508aa_2d1d_11ee_8a88_12e413fbf88drow0_col3\" class=\"data row0 col3\" >0.466</td>\n",
       "            </tr>\n",
       "            <tr>\n",
       "                        <th id=\"T_d6f508aa_2d1d_11ee_8a88_12e413fbf88dlevel0_row1\" class=\"row_heading level0 row1\" >5</th>\n",
       "                        <td id=\"T_d6f508aa_2d1d_11ee_8a88_12e413fbf88drow1_col0\" class=\"data row1 col0\" >1.13e+04</td>\n",
       "                        <td id=\"T_d6f508aa_2d1d_11ee_8a88_12e413fbf88drow1_col1\" class=\"data row1 col1\" >1.13e+04</td>\n",
       "                        <td id=\"T_d6f508aa_2d1d_11ee_8a88_12e413fbf88drow1_col2\" class=\"data row1 col2\" >0.177</td>\n",
       "                        <td id=\"T_d6f508aa_2d1d_11ee_8a88_12e413fbf88drow1_col3\" class=\"data row1 col3\" >0.177</td>\n",
       "            </tr>\n",
       "            <tr>\n",
       "                        <th id=\"T_d6f508aa_2d1d_11ee_8a88_12e413fbf88dlevel0_row2\" class=\"row_heading level0 row2\" >10</th>\n",
       "                        <td id=\"T_d6f508aa_2d1d_11ee_8a88_12e413fbf88drow2_col0\" class=\"data row2 col0\" >1.1e+04</td>\n",
       "                        <td id=\"T_d6f508aa_2d1d_11ee_8a88_12e413fbf88drow2_col1\" class=\"data row2 col1\" >1.11e+04</td>\n",
       "                        <td id=\"T_d6f508aa_2d1d_11ee_8a88_12e413fbf88drow2_col2\" class=\"data row2 col2\" >0.113</td>\n",
       "                        <td id=\"T_d6f508aa_2d1d_11ee_8a88_12e413fbf88drow2_col3\" class=\"data row2 col3\" >0.111</td>\n",
       "            </tr>\n",
       "            <tr>\n",
       "                        <th id=\"T_d6f508aa_2d1d_11ee_8a88_12e413fbf88dlevel0_row3\" class=\"row_heading level0 row3\" >15</th>\n",
       "                        <td id=\"T_d6f508aa_2d1d_11ee_8a88_12e413fbf88drow3_col0\" class=\"data row3 col0\" >1.07e+04</td>\n",
       "                        <td id=\"T_d6f508aa_2d1d_11ee_8a88_12e413fbf88drow3_col1\" class=\"data row3 col1\" >1.07e+04</td>\n",
       "                        <td id=\"T_d6f508aa_2d1d_11ee_8a88_12e413fbf88drow3_col2\" class=\"data row3 col2\" >0.0848</td>\n",
       "                        <td id=\"T_d6f508aa_2d1d_11ee_8a88_12e413fbf88drow3_col3\" class=\"data row3 col3\" >0.0853</td>\n",
       "            </tr>\n",
       "    </tbody></table>"
      ],
      "text/plain": [
       "<pandas.io.formats.style.Styler at 0x7ff1460642b0>"
      ]
     },
     "metadata": {},
     "output_type": "display_data"
    }
   ],
   "source": [
    "### Run Simulation\n",
    "config = Configuration.from_yaml(\"../../../docs/tardis_example.yml\")\n",
    "atom_data = AtomData.from_hdf(\n",
    "    os.path.join(get_data_dir(), \"kurucz_cd23_chianti_H_He.h5\")\n",
    ")\n",
    "model = SimulationState.from_config(config, atom_data=atom_data)\n",
    "plasma = assemble_plasma(config, model, atom_data=atom_data)\n",
    "sim = Simulation.from_config(config, model=model, plasma=plasma)\n",
    "sim.run_convergence()\n",
    "sim.run_final()"
   ]
  },
  {
   "cell_type": "code",
   "execution_count": null,
   "metadata": {
    "scrolled": false
   },
   "outputs": [],
   "source": [
    "diag = GrotrianWidget.from_simulation(sim)\n",
    "diag.plot.set_ion(2, 0) # He I\n",
    "diag.display()"
   ]
  },
  {
   "cell_type": "code",
   "execution_count": 3,
   "metadata": {},
   "outputs": [
    {
     "name": "stdout",
     "output_type": "stream",
     "text": [
      "Changing the ion will reset custom wavelength ranges, if any were set\n"
     ]
    },
    {
     "data": {
      "application/vnd.jupyter.widget-view+json": {
       "model_id": "7f45a9b9a83a4df7ba07a03dcaf481ec",
       "version_major": 2,
       "version_minor": 0
      },
      "text/plain": [
       "VBox(children=(BoundedIntText(value=10, description='Max Levels:', max=40, min=1), BoundedIntText(value=3, des…"
      ]
     },
     "metadata": {},
     "output_type": "display_data"
    }
   ],
   "source": [
    "diag = GrotrianWidget.from_simulation(sim)\n",
    "diag.plot.set_ion(8, 0)\n",
    "diag.display()"
   ]
  },
  {
   "cell_type": "code",
   "execution_count": null,
   "metadata": {},
   "outputs": [],
   "source": []
  }
 ],
 "metadata": {
  "kernelspec": {
   "display_name": "Python 3 (ipykernel)",
   "language": "python",
   "name": "python3"
  },
  "language_info": {
   "codemirror_mode": {
    "name": "ipython",
    "version": 3
   },
   "file_extension": ".py",
   "mimetype": "text/x-python",
   "name": "python",
   "nbconvert_exporter": "python",
   "pygments_lexer": "ipython3",
   "version": "3.8.16"
  }
 },
 "nbformat": 4,
 "nbformat_minor": 2
}
