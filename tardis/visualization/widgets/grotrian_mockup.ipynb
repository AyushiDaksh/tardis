{
 "cells": [
  {
   "cell_type": "code",
   "execution_count": 1,
   "metadata": {},
   "outputs": [
    {
     "data": {
      "application/vnd.jupyter.widget-view+json": {
       "model_id": "c4be0ff6d7c94398a4610ef30ce32059",
       "version_major": 2,
       "version_minor": 0
      },
      "text/plain": [
       "Iterations:          0/? [00:00<?, ?it/s]"
      ]
     },
     "metadata": {},
     "output_type": "display_data"
    },
    {
     "data": {
      "application/vnd.jupyter.widget-view+json": {
       "model_id": "ec89699ada964a1a96b8e7b0f5a4d0e7",
       "version_major": 2,
       "version_minor": 0
      },
      "text/plain": [
       "Packets:             0/? [00:00<?, ?it/s]"
      ]
     },
     "metadata": {},
     "output_type": "display_data"
    },
    {
     "data": {
      "text/html": [
       "        <script type=\"text/javascript\">\n",
       "        window.PlotlyConfig = {MathJaxConfig: 'local'};\n",
       "        if (window.MathJax && window.MathJax.Hub && window.MathJax.Hub.Config) {window.MathJax.Hub.Config({SVG: {font: \"STIX-Web\"}});}\n",
       "        if (typeof require !== 'undefined') {\n",
       "        require.undef(\"plotly\");\n",
       "        requirejs.config({\n",
       "            paths: {\n",
       "                'plotly': ['https://cdn.plot.ly/plotly-2.20.0.min']\n",
       "            }\n",
       "        });\n",
       "        require(['plotly'], function(Plotly) {\n",
       "            window._Plotly = Plotly;\n",
       "        });\n",
       "        }\n",
       "        </script>\n",
       "        "
      ]
     },
     "metadata": {},
     "output_type": "display_data"
    }
   ],
   "source": [
    "from tardis.io.config_reader import Configuration\n",
    "from tardis.simulation import Simulation\n",
    "from tardis.plasma.standard_plasmas import assemble_plasma\n",
    "from tardis.model import SimulationState\n",
    "from tardis.io.atom_data import AtomData\n",
    "from tardis.visualization.widgets.grotrian import GrotrianWidget\n",
    "from tardis.io.config_internal import get_data_dir\n",
    "from plotly.offline import init_notebook_mode\n",
    "import plotly.io as pio\n",
    "import os\n",
    "\n",
    "init_notebook_mode(connected=True)\n",
    "pio.renderers.default = \"notebook_connected\""
   ]
  },
  {
   "cell_type": "code",
   "execution_count": 2,
   "metadata": {},
   "outputs": [
    {
     "name": "stderr",
     "output_type": "stream",
     "text": [
      "Abundances have not been normalized to 1. - normalizing\n",
      "Zeta_data missing - replaced with 1s. Missing ions: [(12, 13), (14, 15), (16, 17), (18, 19), (20, 21)]\n",
      "/Users/ayushidaksh/Documents/tardis/tardis/plasma/properties/radiative_properties.py:93: RuntimeWarning:\n",
      "\n",
      "divide by zero encountered in true_divide\n",
      "\n",
      "/Users/ayushidaksh/Documents/tardis/tardis/plasma/properties/radiative_properties.py:93: RuntimeWarning:\n",
      "\n",
      "invalid value encountered in true_divide\n",
      "\n",
      "OMP: Info #276: omp_set_nested routine deprecated, please use omp_set_max_active_levels instead.\n",
      "Zeta_data missing - replaced with 1s. Missing ions: [(12, 13), (14, 15), (16, 17), (18, 19), (20, 21)]\n",
      "/Users/ayushidaksh/Documents/tardis/tardis/plasma/properties/radiative_properties.py:93: RuntimeWarning:\n",
      "\n",
      "divide by zero encountered in true_divide\n",
      "\n",
      "/Users/ayushidaksh/Documents/tardis/tardis/plasma/properties/radiative_properties.py:93: RuntimeWarning:\n",
      "\n",
      "invalid value encountered in true_divide\n",
      "\n"
     ]
    },
    {
     "data": {
      "application/vnd.jupyter.widget-view+json": {
       "model_id": "c09a88bc8ae64f22b0f3e16ba167d510",
       "version_major": 2,
       "version_minor": 0
      },
      "text/plain": [
       "TqdmHBox(children=(HTML(value='Iterations:', layout=Layout(width='6%')), FloatProgress(value=0.0, layout=Layou…"
      ]
     },
     "metadata": {},
     "output_type": "display_data"
    },
    {
     "data": {
      "application/vnd.jupyter.widget-view+json": {
       "model_id": "c592ada2654e4b219597156abdbbf20f",
       "version_major": 2,
       "version_minor": 0
      },
      "text/plain": [
       "TqdmHBox(children=(HTML(value='Packets:   ', layout=Layout(width='6%')), FloatProgress(value=0.0, layout=Layou…"
      ]
     },
     "metadata": {},
     "output_type": "display_data"
    },
    {
     "data": {
      "text/html": [
       "<style  type=\"text/css\" >\n",
       "</style><table id=\"T_ae7e34a0_3236_11ee_ba61_ae986459aa08\" ><thead>    <tr>        <th class=\"index_name level0\" >Shell No.</th>        <th class=\"col_heading level0 col0\" >t_rad</th>        <th class=\"col_heading level0 col1\" >next_t_rad</th>        <th class=\"col_heading level0 col2\" >w</th>        <th class=\"col_heading level0 col3\" >next_w</th>    </tr></thead><tbody>\n",
       "                <tr>\n",
       "                        <th id=\"T_ae7e34a0_3236_11ee_ba61_ae986459aa08level0_row0\" class=\"row_heading level0 row0\" >0</th>\n",
       "                        <td id=\"T_ae7e34a0_3236_11ee_ba61_ae986459aa08row0_col0\" class=\"data row0 col0\" >9.93e+03</td>\n",
       "                        <td id=\"T_ae7e34a0_3236_11ee_ba61_ae986459aa08row0_col1\" class=\"data row0 col1\" >1.01e+04</td>\n",
       "                        <td id=\"T_ae7e34a0_3236_11ee_ba61_ae986459aa08row0_col2\" class=\"data row0 col2\" >0.4</td>\n",
       "                        <td id=\"T_ae7e34a0_3236_11ee_ba61_ae986459aa08row0_col3\" class=\"data row0 col3\" >0.54</td>\n",
       "            </tr>\n",
       "            <tr>\n",
       "                        <th id=\"T_ae7e34a0_3236_11ee_ba61_ae986459aa08level0_row1\" class=\"row_heading level0 row1\" >5</th>\n",
       "                        <td id=\"T_ae7e34a0_3236_11ee_ba61_ae986459aa08row1_col0\" class=\"data row1 col0\" >9.85e+03</td>\n",
       "                        <td id=\"T_ae7e34a0_3236_11ee_ba61_ae986459aa08row1_col1\" class=\"data row1 col1\" >1e+04</td>\n",
       "                        <td id=\"T_ae7e34a0_3236_11ee_ba61_ae986459aa08row1_col2\" class=\"data row1 col2\" >0.211</td>\n",
       "                        <td id=\"T_ae7e34a0_3236_11ee_ba61_ae986459aa08row1_col3\" class=\"data row1 col3\" >0.215</td>\n",
       "            </tr>\n",
       "            <tr>\n",
       "                        <th id=\"T_ae7e34a0_3236_11ee_ba61_ae986459aa08level0_row2\" class=\"row_heading level0 row2\" >10</th>\n",
       "                        <td id=\"T_ae7e34a0_3236_11ee_ba61_ae986459aa08row2_col0\" class=\"data row2 col0\" >9.78e+03</td>\n",
       "                        <td id=\"T_ae7e34a0_3236_11ee_ba61_ae986459aa08row2_col1\" class=\"data row2 col1\" >9.96e+03</td>\n",
       "                        <td id=\"T_ae7e34a0_3236_11ee_ba61_ae986459aa08row2_col2\" class=\"data row2 col2\" >0.143</td>\n",
       "                        <td id=\"T_ae7e34a0_3236_11ee_ba61_ae986459aa08row2_col3\" class=\"data row2 col3\" >0.125</td>\n",
       "            </tr>\n",
       "            <tr>\n",
       "                        <th id=\"T_ae7e34a0_3236_11ee_ba61_ae986459aa08level0_row3\" class=\"row_heading level0 row3\" >15</th>\n",
       "                        <td id=\"T_ae7e34a0_3236_11ee_ba61_ae986459aa08row3_col0\" class=\"data row3 col0\" >9.71e+03</td>\n",
       "                        <td id=\"T_ae7e34a0_3236_11ee_ba61_ae986459aa08row3_col1\" class=\"data row3 col1\" >9.62e+03</td>\n",
       "                        <td id=\"T_ae7e34a0_3236_11ee_ba61_ae986459aa08row3_col2\" class=\"data row3 col2\" >0.105</td>\n",
       "                        <td id=\"T_ae7e34a0_3236_11ee_ba61_ae986459aa08row3_col3\" class=\"data row3 col3\" >0.0937</td>\n",
       "            </tr>\n",
       "    </tbody></table>"
      ],
      "text/plain": [
       "<pandas.io.formats.style.Styler at 0x7f8951418400>"
      ]
     },
     "metadata": {},
     "output_type": "display_data"
    },
    {
     "name": "stderr",
     "output_type": "stream",
     "text": [
      "/Users/ayushidaksh/Documents/tardis/tardis/plasma/properties/radiative_properties.py:93: RuntimeWarning:\n",
      "\n",
      "divide by zero encountered in true_divide\n",
      "\n",
      "/Users/ayushidaksh/Documents/tardis/tardis/plasma/properties/radiative_properties.py:93: RuntimeWarning:\n",
      "\n",
      "invalid value encountered in true_divide\n",
      "\n"
     ]
    },
    {
     "data": {
      "application/vnd.jupyter.widget-view+json": {
       "model_id": "bd918c0500fa4763b958669bc7e4e3b4",
       "version_major": 2,
       "version_minor": 0
      },
      "text/plain": [
       "VBox(children=(FigureWidget({\n",
       "    'data': [{'type': 'scatter', 'uid': '5cbce30b-9bb3-4c06-b0b7-e54718d13d12', …"
      ]
     },
     "metadata": {},
     "output_type": "display_data"
    },
    {
     "data": {
      "text/html": [
       "<style  type=\"text/css\" >\n",
       "</style><table id=\"T_af276192_3236_11ee_ba61_ae986459aa08\" ><thead>    <tr>        <th class=\"index_name level0\" >Shell No.</th>        <th class=\"col_heading level0 col0\" >t_rad</th>        <th class=\"col_heading level0 col1\" >next_t_rad</th>        <th class=\"col_heading level0 col2\" >w</th>        <th class=\"col_heading level0 col3\" >next_w</th>    </tr></thead><tbody>\n",
       "                <tr>\n",
       "                        <th id=\"T_af276192_3236_11ee_ba61_ae986459aa08level0_row0\" class=\"row_heading level0 row0\" >0</th>\n",
       "                        <td id=\"T_af276192_3236_11ee_ba61_ae986459aa08row0_col0\" class=\"data row0 col0\" >1.01e+04</td>\n",
       "                        <td id=\"T_af276192_3236_11ee_ba61_ae986459aa08row0_col1\" class=\"data row0 col1\" >1.08e+04</td>\n",
       "                        <td id=\"T_af276192_3236_11ee_ba61_ae986459aa08row0_col2\" class=\"data row0 col2\" >0.54</td>\n",
       "                        <td id=\"T_af276192_3236_11ee_ba61_ae986459aa08row0_col3\" class=\"data row0 col3\" >0.573</td>\n",
       "            </tr>\n",
       "            <tr>\n",
       "                        <th id=\"T_af276192_3236_11ee_ba61_ae986459aa08level0_row1\" class=\"row_heading level0 row1\" >5</th>\n",
       "                        <td id=\"T_af276192_3236_11ee_ba61_ae986459aa08row1_col0\" class=\"data row1 col0\" >1e+04</td>\n",
       "                        <td id=\"T_af276192_3236_11ee_ba61_ae986459aa08row1_col1\" class=\"data row1 col1\" >1.09e+04</td>\n",
       "                        <td id=\"T_af276192_3236_11ee_ba61_ae986459aa08row1_col2\" class=\"data row1 col2\" >0.215</td>\n",
       "                        <td id=\"T_af276192_3236_11ee_ba61_ae986459aa08row1_col3\" class=\"data row1 col3\" >0.226</td>\n",
       "            </tr>\n",
       "            <tr>\n",
       "                        <th id=\"T_af276192_3236_11ee_ba61_ae986459aa08level0_row2\" class=\"row_heading level0 row2\" >10</th>\n",
       "                        <td id=\"T_af276192_3236_11ee_ba61_ae986459aa08row2_col0\" class=\"data row2 col0\" >9.96e+03</td>\n",
       "                        <td id=\"T_af276192_3236_11ee_ba61_ae986459aa08row2_col1\" class=\"data row2 col1\" >1.06e+04</td>\n",
       "                        <td id=\"T_af276192_3236_11ee_ba61_ae986459aa08row2_col2\" class=\"data row2 col2\" >0.125</td>\n",
       "                        <td id=\"T_af276192_3236_11ee_ba61_ae986459aa08row2_col3\" class=\"data row2 col3\" >0.14</td>\n",
       "            </tr>\n",
       "            <tr>\n",
       "                        <th id=\"T_af276192_3236_11ee_ba61_ae986459aa08level0_row3\" class=\"row_heading level0 row3\" >15</th>\n",
       "                        <td id=\"T_af276192_3236_11ee_ba61_ae986459aa08row3_col0\" class=\"data row3 col0\" >9.62e+03</td>\n",
       "                        <td id=\"T_af276192_3236_11ee_ba61_ae986459aa08row3_col1\" class=\"data row3 col1\" >1.03e+04</td>\n",
       "                        <td id=\"T_af276192_3236_11ee_ba61_ae986459aa08row3_col2\" class=\"data row3 col2\" >0.0937</td>\n",
       "                        <td id=\"T_af276192_3236_11ee_ba61_ae986459aa08row3_col3\" class=\"data row3 col3\" >0.104</td>\n",
       "            </tr>\n",
       "    </tbody></table>"
      ],
      "text/plain": [
       "<pandas.io.formats.style.Styler at 0x7f8910af28b0>"
      ]
     },
     "metadata": {},
     "output_type": "display_data"
    },
    {
     "name": "stderr",
     "output_type": "stream",
     "text": [
      "/Users/ayushidaksh/Documents/tardis/tardis/plasma/properties/radiative_properties.py:93: RuntimeWarning:\n",
      "\n",
      "divide by zero encountered in true_divide\n",
      "\n",
      "/Users/ayushidaksh/Documents/tardis/tardis/plasma/properties/radiative_properties.py:93: RuntimeWarning:\n",
      "\n",
      "invalid value encountered in true_divide\n",
      "\n"
     ]
    },
    {
     "data": {
      "text/html": [
       "<style  type=\"text/css\" >\n",
       "</style><table id=\"T_afa11bb8_3236_11ee_ba61_ae986459aa08\" ><thead>    <tr>        <th class=\"index_name level0\" >Shell No.</th>        <th class=\"col_heading level0 col0\" >t_rad</th>        <th class=\"col_heading level0 col1\" >next_t_rad</th>        <th class=\"col_heading level0 col2\" >w</th>        <th class=\"col_heading level0 col3\" >next_w</th>    </tr></thead><tbody>\n",
       "                <tr>\n",
       "                        <th id=\"T_afa11bb8_3236_11ee_ba61_ae986459aa08level0_row0\" class=\"row_heading level0 row0\" >0</th>\n",
       "                        <td id=\"T_afa11bb8_3236_11ee_ba61_ae986459aa08row0_col0\" class=\"data row0 col0\" >1.08e+04</td>\n",
       "                        <td id=\"T_afa11bb8_3236_11ee_ba61_ae986459aa08row0_col1\" class=\"data row0 col1\" >1.1e+04</td>\n",
       "                        <td id=\"T_afa11bb8_3236_11ee_ba61_ae986459aa08row0_col2\" class=\"data row0 col2\" >0.573</td>\n",
       "                        <td id=\"T_afa11bb8_3236_11ee_ba61_ae986459aa08row0_col3\" class=\"data row0 col3\" >0.534</td>\n",
       "            </tr>\n",
       "            <tr>\n",
       "                        <th id=\"T_afa11bb8_3236_11ee_ba61_ae986459aa08level0_row1\" class=\"row_heading level0 row1\" >5</th>\n",
       "                        <td id=\"T_afa11bb8_3236_11ee_ba61_ae986459aa08row1_col0\" class=\"data row1 col0\" >1.09e+04</td>\n",
       "                        <td id=\"T_afa11bb8_3236_11ee_ba61_ae986459aa08row1_col1\" class=\"data row1 col1\" >1.1e+04</td>\n",
       "                        <td id=\"T_afa11bb8_3236_11ee_ba61_ae986459aa08row1_col2\" class=\"data row1 col2\" >0.226</td>\n",
       "                        <td id=\"T_afa11bb8_3236_11ee_ba61_ae986459aa08row1_col3\" class=\"data row1 col3\" >0.212</td>\n",
       "            </tr>\n",
       "            <tr>\n",
       "                        <th id=\"T_afa11bb8_3236_11ee_ba61_ae986459aa08level0_row2\" class=\"row_heading level0 row2\" >10</th>\n",
       "                        <td id=\"T_afa11bb8_3236_11ee_ba61_ae986459aa08row2_col0\" class=\"data row2 col0\" >1.06e+04</td>\n",
       "                        <td id=\"T_afa11bb8_3236_11ee_ba61_ae986459aa08row2_col1\" class=\"data row2 col1\" >1.08e+04</td>\n",
       "                        <td id=\"T_afa11bb8_3236_11ee_ba61_ae986459aa08row2_col2\" class=\"data row2 col2\" >0.14</td>\n",
       "                        <td id=\"T_afa11bb8_3236_11ee_ba61_ae986459aa08row2_col3\" class=\"data row2 col3\" >0.132</td>\n",
       "            </tr>\n",
       "            <tr>\n",
       "                        <th id=\"T_afa11bb8_3236_11ee_ba61_ae986459aa08level0_row3\" class=\"row_heading level0 row3\" >15</th>\n",
       "                        <td id=\"T_afa11bb8_3236_11ee_ba61_ae986459aa08row3_col0\" class=\"data row3 col0\" >1.03e+04</td>\n",
       "                        <td id=\"T_afa11bb8_3236_11ee_ba61_ae986459aa08row3_col1\" class=\"data row3 col1\" >1.05e+04</td>\n",
       "                        <td id=\"T_afa11bb8_3236_11ee_ba61_ae986459aa08row3_col2\" class=\"data row3 col2\" >0.104</td>\n",
       "                        <td id=\"T_afa11bb8_3236_11ee_ba61_ae986459aa08row3_col3\" class=\"data row3 col3\" >0.095</td>\n",
       "            </tr>\n",
       "    </tbody></table>"
      ],
      "text/plain": [
       "<pandas.io.formats.style.Styler at 0x7f8910af2f70>"
      ]
     },
     "metadata": {},
     "output_type": "display_data"
    },
    {
     "data": {
      "text/html": [
       "<style  type=\"text/css\" >\n",
       "</style><table id=\"T_b00a23e2_3236_11ee_ba61_ae986459aa08\" ><thead>    <tr>        <th class=\"index_name level0\" >Shell No.</th>        <th class=\"col_heading level0 col0\" >t_rad</th>        <th class=\"col_heading level0 col1\" >next_t_rad</th>        <th class=\"col_heading level0 col2\" >w</th>        <th class=\"col_heading level0 col3\" >next_w</th>    </tr></thead><tbody>\n",
       "                <tr>\n",
       "                        <th id=\"T_b00a23e2_3236_11ee_ba61_ae986459aa08level0_row0\" class=\"row_heading level0 row0\" >0</th>\n",
       "                        <td id=\"T_b00a23e2_3236_11ee_ba61_ae986459aa08row0_col0\" class=\"data row0 col0\" >1.1e+04</td>\n",
       "                        <td id=\"T_b00a23e2_3236_11ee_ba61_ae986459aa08row0_col1\" class=\"data row0 col1\" >1.1e+04</td>\n",
       "                        <td id=\"T_b00a23e2_3236_11ee_ba61_ae986459aa08row0_col2\" class=\"data row0 col2\" >0.534</td>\n",
       "                        <td id=\"T_b00a23e2_3236_11ee_ba61_ae986459aa08row0_col3\" class=\"data row0 col3\" >0.517</td>\n",
       "            </tr>\n",
       "            <tr>\n",
       "                        <th id=\"T_b00a23e2_3236_11ee_ba61_ae986459aa08level0_row1\" class=\"row_heading level0 row1\" >5</th>\n",
       "                        <td id=\"T_b00a23e2_3236_11ee_ba61_ae986459aa08row1_col0\" class=\"data row1 col0\" >1.1e+04</td>\n",
       "                        <td id=\"T_b00a23e2_3236_11ee_ba61_ae986459aa08row1_col1\" class=\"data row1 col1\" >1.1e+04</td>\n",
       "                        <td id=\"T_b00a23e2_3236_11ee_ba61_ae986459aa08row1_col2\" class=\"data row1 col2\" >0.212</td>\n",
       "                        <td id=\"T_b00a23e2_3236_11ee_ba61_ae986459aa08row1_col3\" class=\"data row1 col3\" >0.209</td>\n",
       "            </tr>\n",
       "            <tr>\n",
       "                        <th id=\"T_b00a23e2_3236_11ee_ba61_ae986459aa08level0_row2\" class=\"row_heading level0 row2\" >10</th>\n",
       "                        <td id=\"T_b00a23e2_3236_11ee_ba61_ae986459aa08row2_col0\" class=\"data row2 col0\" >1.08e+04</td>\n",
       "                        <td id=\"T_b00a23e2_3236_11ee_ba61_ae986459aa08row2_col1\" class=\"data row2 col1\" >1.08e+04</td>\n",
       "                        <td id=\"T_b00a23e2_3236_11ee_ba61_ae986459aa08row2_col2\" class=\"data row2 col2\" >0.132</td>\n",
       "                        <td id=\"T_b00a23e2_3236_11ee_ba61_ae986459aa08row2_col3\" class=\"data row2 col3\" >0.127</td>\n",
       "            </tr>\n",
       "            <tr>\n",
       "                        <th id=\"T_b00a23e2_3236_11ee_ba61_ae986459aa08level0_row3\" class=\"row_heading level0 row3\" >15</th>\n",
       "                        <td id=\"T_b00a23e2_3236_11ee_ba61_ae986459aa08row3_col0\" class=\"data row3 col0\" >1.05e+04</td>\n",
       "                        <td id=\"T_b00a23e2_3236_11ee_ba61_ae986459aa08row3_col1\" class=\"data row3 col1\" >1.05e+04</td>\n",
       "                        <td id=\"T_b00a23e2_3236_11ee_ba61_ae986459aa08row3_col2\" class=\"data row3 col2\" >0.095</td>\n",
       "                        <td id=\"T_b00a23e2_3236_11ee_ba61_ae986459aa08row3_col3\" class=\"data row3 col3\" >0.0925</td>\n",
       "            </tr>\n",
       "    </tbody></table>"
      ],
      "text/plain": [
       "<pandas.io.formats.style.Styler at 0x7f8942bdf730>"
      ]
     },
     "metadata": {},
     "output_type": "display_data"
    },
    {
     "data": {
      "text/html": [
       "<style  type=\"text/css\" >\n",
       "</style><table id=\"T_b072168c_3236_11ee_ba61_ae986459aa08\" ><thead>    <tr>        <th class=\"index_name level0\" >Shell No.</th>        <th class=\"col_heading level0 col0\" >t_rad</th>        <th class=\"col_heading level0 col1\" >next_t_rad</th>        <th class=\"col_heading level0 col2\" >w</th>        <th class=\"col_heading level0 col3\" >next_w</th>    </tr></thead><tbody>\n",
       "                <tr>\n",
       "                        <th id=\"T_b072168c_3236_11ee_ba61_ae986459aa08level0_row0\" class=\"row_heading level0 row0\" >0</th>\n",
       "                        <td id=\"T_b072168c_3236_11ee_ba61_ae986459aa08row0_col0\" class=\"data row0 col0\" >1.1e+04</td>\n",
       "                        <td id=\"T_b072168c_3236_11ee_ba61_ae986459aa08row0_col1\" class=\"data row0 col1\" >1.09e+04</td>\n",
       "                        <td id=\"T_b072168c_3236_11ee_ba61_ae986459aa08row0_col2\" class=\"data row0 col2\" >0.517</td>\n",
       "                        <td id=\"T_b072168c_3236_11ee_ba61_ae986459aa08row0_col3\" class=\"data row0 col3\" >0.534</td>\n",
       "            </tr>\n",
       "            <tr>\n",
       "                        <th id=\"T_b072168c_3236_11ee_ba61_ae986459aa08level0_row1\" class=\"row_heading level0 row1\" >5</th>\n",
       "                        <td id=\"T_b072168c_3236_11ee_ba61_ae986459aa08row1_col0\" class=\"data row1 col0\" >1.1e+04</td>\n",
       "                        <td id=\"T_b072168c_3236_11ee_ba61_ae986459aa08row1_col1\" class=\"data row1 col1\" >1.1e+04</td>\n",
       "                        <td id=\"T_b072168c_3236_11ee_ba61_ae986459aa08row1_col2\" class=\"data row1 col2\" >0.209</td>\n",
       "                        <td id=\"T_b072168c_3236_11ee_ba61_ae986459aa08row1_col3\" class=\"data row1 col3\" >0.208</td>\n",
       "            </tr>\n",
       "            <tr>\n",
       "                        <th id=\"T_b072168c_3236_11ee_ba61_ae986459aa08level0_row2\" class=\"row_heading level0 row2\" >10</th>\n",
       "                        <td id=\"T_b072168c_3236_11ee_ba61_ae986459aa08row2_col0\" class=\"data row2 col0\" >1.08e+04</td>\n",
       "                        <td id=\"T_b072168c_3236_11ee_ba61_ae986459aa08row2_col1\" class=\"data row2 col1\" >1.09e+04</td>\n",
       "                        <td id=\"T_b072168c_3236_11ee_ba61_ae986459aa08row2_col2\" class=\"data row2 col2\" >0.127</td>\n",
       "                        <td id=\"T_b072168c_3236_11ee_ba61_ae986459aa08row2_col3\" class=\"data row2 col3\" >0.123</td>\n",
       "            </tr>\n",
       "            <tr>\n",
       "                        <th id=\"T_b072168c_3236_11ee_ba61_ae986459aa08level0_row3\" class=\"row_heading level0 row3\" >15</th>\n",
       "                        <td id=\"T_b072168c_3236_11ee_ba61_ae986459aa08row3_col0\" class=\"data row3 col0\" >1.05e+04</td>\n",
       "                        <td id=\"T_b072168c_3236_11ee_ba61_ae986459aa08row3_col1\" class=\"data row3 col1\" >1.05e+04</td>\n",
       "                        <td id=\"T_b072168c_3236_11ee_ba61_ae986459aa08row3_col2\" class=\"data row3 col2\" >0.0925</td>\n",
       "                        <td id=\"T_b072168c_3236_11ee_ba61_ae986459aa08row3_col3\" class=\"data row3 col3\" >0.0943</td>\n",
       "            </tr>\n",
       "    </tbody></table>"
      ],
      "text/plain": [
       "<pandas.io.formats.style.Styler at 0x7f8942bdf640>"
      ]
     },
     "metadata": {},
     "output_type": "display_data"
    },
    {
     "data": {
      "text/html": [
       "<style  type=\"text/css\" >\n",
       "</style><table id=\"T_b0daa03a_3236_11ee_ba61_ae986459aa08\" ><thead>    <tr>        <th class=\"index_name level0\" >Shell No.</th>        <th class=\"col_heading level0 col0\" >t_rad</th>        <th class=\"col_heading level0 col1\" >next_t_rad</th>        <th class=\"col_heading level0 col2\" >w</th>        <th class=\"col_heading level0 col3\" >next_w</th>    </tr></thead><tbody>\n",
       "                <tr>\n",
       "                        <th id=\"T_b0daa03a_3236_11ee_ba61_ae986459aa08level0_row0\" class=\"row_heading level0 row0\" >0</th>\n",
       "                        <td id=\"T_b0daa03a_3236_11ee_ba61_ae986459aa08row0_col0\" class=\"data row0 col0\" >1.09e+04</td>\n",
       "                        <td id=\"T_b0daa03a_3236_11ee_ba61_ae986459aa08row0_col1\" class=\"data row0 col1\" >1.1e+04</td>\n",
       "                        <td id=\"T_b0daa03a_3236_11ee_ba61_ae986459aa08row0_col2\" class=\"data row0 col2\" >0.534</td>\n",
       "                        <td id=\"T_b0daa03a_3236_11ee_ba61_ae986459aa08row0_col3\" class=\"data row0 col3\" >0.519</td>\n",
       "            </tr>\n",
       "            <tr>\n",
       "                        <th id=\"T_b0daa03a_3236_11ee_ba61_ae986459aa08level0_row1\" class=\"row_heading level0 row1\" >5</th>\n",
       "                        <td id=\"T_b0daa03a_3236_11ee_ba61_ae986459aa08row1_col0\" class=\"data row1 col0\" >1.1e+04</td>\n",
       "                        <td id=\"T_b0daa03a_3236_11ee_ba61_ae986459aa08row1_col1\" class=\"data row1 col1\" >1.11e+04</td>\n",
       "                        <td id=\"T_b0daa03a_3236_11ee_ba61_ae986459aa08row1_col2\" class=\"data row1 col2\" >0.208</td>\n",
       "                        <td id=\"T_b0daa03a_3236_11ee_ba61_ae986459aa08row1_col3\" class=\"data row1 col3\" >0.209</td>\n",
       "            </tr>\n",
       "            <tr>\n",
       "                        <th id=\"T_b0daa03a_3236_11ee_ba61_ae986459aa08level0_row2\" class=\"row_heading level0 row2\" >10</th>\n",
       "                        <td id=\"T_b0daa03a_3236_11ee_ba61_ae986459aa08row2_col0\" class=\"data row2 col0\" >1.09e+04</td>\n",
       "                        <td id=\"T_b0daa03a_3236_11ee_ba61_ae986459aa08row2_col1\" class=\"data row2 col1\" >1.09e+04</td>\n",
       "                        <td id=\"T_b0daa03a_3236_11ee_ba61_ae986459aa08row2_col2\" class=\"data row2 col2\" >0.123</td>\n",
       "                        <td id=\"T_b0daa03a_3236_11ee_ba61_ae986459aa08row2_col3\" class=\"data row2 col3\" >0.126</td>\n",
       "            </tr>\n",
       "            <tr>\n",
       "                        <th id=\"T_b0daa03a_3236_11ee_ba61_ae986459aa08level0_row3\" class=\"row_heading level0 row3\" >15</th>\n",
       "                        <td id=\"T_b0daa03a_3236_11ee_ba61_ae986459aa08row3_col0\" class=\"data row3 col0\" >1.05e+04</td>\n",
       "                        <td id=\"T_b0daa03a_3236_11ee_ba61_ae986459aa08row3_col1\" class=\"data row3 col1\" >1.05e+04</td>\n",
       "                        <td id=\"T_b0daa03a_3236_11ee_ba61_ae986459aa08row3_col2\" class=\"data row3 col2\" >0.0943</td>\n",
       "                        <td id=\"T_b0daa03a_3236_11ee_ba61_ae986459aa08row3_col3\" class=\"data row3 col3\" >0.0939</td>\n",
       "            </tr>\n",
       "    </tbody></table>"
      ],
      "text/plain": [
       "<pandas.io.formats.style.Styler at 0x7f8910b1fb80>"
      ]
     },
     "metadata": {},
     "output_type": "display_data"
    },
    {
     "data": {
      "text/html": [
       "<style  type=\"text/css\" >\n",
       "</style><table id=\"T_b1410190_3236_11ee_ba61_ae986459aa08\" ><thead>    <tr>        <th class=\"index_name level0\" >Shell No.</th>        <th class=\"col_heading level0 col0\" >t_rad</th>        <th class=\"col_heading level0 col1\" >next_t_rad</th>        <th class=\"col_heading level0 col2\" >w</th>        <th class=\"col_heading level0 col3\" >next_w</th>    </tr></thead><tbody>\n",
       "                <tr>\n",
       "                        <th id=\"T_b1410190_3236_11ee_ba61_ae986459aa08level0_row0\" class=\"row_heading level0 row0\" >0</th>\n",
       "                        <td id=\"T_b1410190_3236_11ee_ba61_ae986459aa08row0_col0\" class=\"data row0 col0\" >1.1e+04</td>\n",
       "                        <td id=\"T_b1410190_3236_11ee_ba61_ae986459aa08row0_col1\" class=\"data row0 col1\" >1.1e+04</td>\n",
       "                        <td id=\"T_b1410190_3236_11ee_ba61_ae986459aa08row0_col2\" class=\"data row0 col2\" >0.519</td>\n",
       "                        <td id=\"T_b1410190_3236_11ee_ba61_ae986459aa08row0_col3\" class=\"data row0 col3\" >0.524</td>\n",
       "            </tr>\n",
       "            <tr>\n",
       "                        <th id=\"T_b1410190_3236_11ee_ba61_ae986459aa08level0_row1\" class=\"row_heading level0 row1\" >5</th>\n",
       "                        <td id=\"T_b1410190_3236_11ee_ba61_ae986459aa08row1_col0\" class=\"data row1 col0\" >1.11e+04</td>\n",
       "                        <td id=\"T_b1410190_3236_11ee_ba61_ae986459aa08row1_col1\" class=\"data row1 col1\" >1.11e+04</td>\n",
       "                        <td id=\"T_b1410190_3236_11ee_ba61_ae986459aa08row1_col2\" class=\"data row1 col2\" >0.209</td>\n",
       "                        <td id=\"T_b1410190_3236_11ee_ba61_ae986459aa08row1_col3\" class=\"data row1 col3\" >0.203</td>\n",
       "            </tr>\n",
       "            <tr>\n",
       "                        <th id=\"T_b1410190_3236_11ee_ba61_ae986459aa08level0_row2\" class=\"row_heading level0 row2\" >10</th>\n",
       "                        <td id=\"T_b1410190_3236_11ee_ba61_ae986459aa08row2_col0\" class=\"data row2 col0\" >1.09e+04</td>\n",
       "                        <td id=\"T_b1410190_3236_11ee_ba61_ae986459aa08row2_col1\" class=\"data row2 col1\" >1.09e+04</td>\n",
       "                        <td id=\"T_b1410190_3236_11ee_ba61_ae986459aa08row2_col2\" class=\"data row2 col2\" >0.126</td>\n",
       "                        <td id=\"T_b1410190_3236_11ee_ba61_ae986459aa08row2_col3\" class=\"data row2 col3\" >0.122</td>\n",
       "            </tr>\n",
       "            <tr>\n",
       "                        <th id=\"T_b1410190_3236_11ee_ba61_ae986459aa08level0_row3\" class=\"row_heading level0 row3\" >15</th>\n",
       "                        <td id=\"T_b1410190_3236_11ee_ba61_ae986459aa08row3_col0\" class=\"data row3 col0\" >1.05e+04</td>\n",
       "                        <td id=\"T_b1410190_3236_11ee_ba61_ae986459aa08row3_col1\" class=\"data row3 col1\" >1.05e+04</td>\n",
       "                        <td id=\"T_b1410190_3236_11ee_ba61_ae986459aa08row3_col2\" class=\"data row3 col2\" >0.0939</td>\n",
       "                        <td id=\"T_b1410190_3236_11ee_ba61_ae986459aa08row3_col3\" class=\"data row3 col3\" >0.0927</td>\n",
       "            </tr>\n",
       "    </tbody></table>"
      ],
      "text/plain": [
       "<pandas.io.formats.style.Styler at 0x7f8910b1f040>"
      ]
     },
     "metadata": {},
     "output_type": "display_data"
    },
    {
     "data": {
      "text/html": [
       "<style  type=\"text/css\" >\n",
       "</style><table id=\"T_b1a88eb4_3236_11ee_ba61_ae986459aa08\" ><thead>    <tr>        <th class=\"index_name level0\" >Shell No.</th>        <th class=\"col_heading level0 col0\" >t_rad</th>        <th class=\"col_heading level0 col1\" >next_t_rad</th>        <th class=\"col_heading level0 col2\" >w</th>        <th class=\"col_heading level0 col3\" >next_w</th>    </tr></thead><tbody>\n",
       "                <tr>\n",
       "                        <th id=\"T_b1a88eb4_3236_11ee_ba61_ae986459aa08level0_row0\" class=\"row_heading level0 row0\" >0</th>\n",
       "                        <td id=\"T_b1a88eb4_3236_11ee_ba61_ae986459aa08row0_col0\" class=\"data row0 col0\" >1.1e+04</td>\n",
       "                        <td id=\"T_b1a88eb4_3236_11ee_ba61_ae986459aa08row0_col1\" class=\"data row0 col1\" >1.1e+04</td>\n",
       "                        <td id=\"T_b1a88eb4_3236_11ee_ba61_ae986459aa08row0_col2\" class=\"data row0 col2\" >0.524</td>\n",
       "                        <td id=\"T_b1a88eb4_3236_11ee_ba61_ae986459aa08row0_col3\" class=\"data row0 col3\" >0.521</td>\n",
       "            </tr>\n",
       "            <tr>\n",
       "                        <th id=\"T_b1a88eb4_3236_11ee_ba61_ae986459aa08level0_row1\" class=\"row_heading level0 row1\" >5</th>\n",
       "                        <td id=\"T_b1a88eb4_3236_11ee_ba61_ae986459aa08row1_col0\" class=\"data row1 col0\" >1.11e+04</td>\n",
       "                        <td id=\"T_b1a88eb4_3236_11ee_ba61_ae986459aa08row1_col1\" class=\"data row1 col1\" >1.11e+04</td>\n",
       "                        <td id=\"T_b1a88eb4_3236_11ee_ba61_ae986459aa08row1_col2\" class=\"data row1 col2\" >0.203</td>\n",
       "                        <td id=\"T_b1a88eb4_3236_11ee_ba61_ae986459aa08row1_col3\" class=\"data row1 col3\" >0.204</td>\n",
       "            </tr>\n",
       "            <tr>\n",
       "                        <th id=\"T_b1a88eb4_3236_11ee_ba61_ae986459aa08level0_row2\" class=\"row_heading level0 row2\" >10</th>\n",
       "                        <td id=\"T_b1a88eb4_3236_11ee_ba61_ae986459aa08row2_col0\" class=\"data row2 col0\" >1.09e+04</td>\n",
       "                        <td id=\"T_b1a88eb4_3236_11ee_ba61_ae986459aa08row2_col1\" class=\"data row2 col1\" >1.1e+04</td>\n",
       "                        <td id=\"T_b1a88eb4_3236_11ee_ba61_ae986459aa08row2_col2\" class=\"data row2 col2\" >0.122</td>\n",
       "                        <td id=\"T_b1a88eb4_3236_11ee_ba61_ae986459aa08row2_col3\" class=\"data row2 col3\" >0.123</td>\n",
       "            </tr>\n",
       "            <tr>\n",
       "                        <th id=\"T_b1a88eb4_3236_11ee_ba61_ae986459aa08level0_row3\" class=\"row_heading level0 row3\" >15</th>\n",
       "                        <td id=\"T_b1a88eb4_3236_11ee_ba61_ae986459aa08row3_col0\" class=\"data row3 col0\" >1.05e+04</td>\n",
       "                        <td id=\"T_b1a88eb4_3236_11ee_ba61_ae986459aa08row3_col1\" class=\"data row3 col1\" >1.06e+04</td>\n",
       "                        <td id=\"T_b1a88eb4_3236_11ee_ba61_ae986459aa08row3_col2\" class=\"data row3 col2\" >0.0927</td>\n",
       "                        <td id=\"T_b1a88eb4_3236_11ee_ba61_ae986459aa08row3_col3\" class=\"data row3 col3\" >0.0917</td>\n",
       "            </tr>\n",
       "    </tbody></table>"
      ],
      "text/plain": [
       "<pandas.io.formats.style.Styler at 0x7f8910b03b20>"
      ]
     },
     "metadata": {},
     "output_type": "display_data"
    },
    {
     "data": {
      "text/html": [
       "<style  type=\"text/css\" >\n",
       "</style><table id=\"T_b2104c98_3236_11ee_ba61_ae986459aa08\" ><thead>    <tr>        <th class=\"index_name level0\" >Shell No.</th>        <th class=\"col_heading level0 col0\" >t_rad</th>        <th class=\"col_heading level0 col1\" >next_t_rad</th>        <th class=\"col_heading level0 col2\" >w</th>        <th class=\"col_heading level0 col3\" >next_w</th>    </tr></thead><tbody>\n",
       "                <tr>\n",
       "                        <th id=\"T_b2104c98_3236_11ee_ba61_ae986459aa08level0_row0\" class=\"row_heading level0 row0\" >0</th>\n",
       "                        <td id=\"T_b2104c98_3236_11ee_ba61_ae986459aa08row0_col0\" class=\"data row0 col0\" >1.1e+04</td>\n",
       "                        <td id=\"T_b2104c98_3236_11ee_ba61_ae986459aa08row0_col1\" class=\"data row0 col1\" >1.1e+04</td>\n",
       "                        <td id=\"T_b2104c98_3236_11ee_ba61_ae986459aa08row0_col2\" class=\"data row0 col2\" >0.521</td>\n",
       "                        <td id=\"T_b2104c98_3236_11ee_ba61_ae986459aa08row0_col3\" class=\"data row0 col3\" >0.522</td>\n",
       "            </tr>\n",
       "            <tr>\n",
       "                        <th id=\"T_b2104c98_3236_11ee_ba61_ae986459aa08level0_row1\" class=\"row_heading level0 row1\" >5</th>\n",
       "                        <td id=\"T_b2104c98_3236_11ee_ba61_ae986459aa08row1_col0\" class=\"data row1 col0\" >1.11e+04</td>\n",
       "                        <td id=\"T_b2104c98_3236_11ee_ba61_ae986459aa08row1_col1\" class=\"data row1 col1\" >1.11e+04</td>\n",
       "                        <td id=\"T_b2104c98_3236_11ee_ba61_ae986459aa08row1_col2\" class=\"data row1 col2\" >0.204</td>\n",
       "                        <td id=\"T_b2104c98_3236_11ee_ba61_ae986459aa08row1_col3\" class=\"data row1 col3\" >0.202</td>\n",
       "            </tr>\n",
       "            <tr>\n",
       "                        <th id=\"T_b2104c98_3236_11ee_ba61_ae986459aa08level0_row2\" class=\"row_heading level0 row2\" >10</th>\n",
       "                        <td id=\"T_b2104c98_3236_11ee_ba61_ae986459aa08row2_col0\" class=\"data row2 col0\" >1.1e+04</td>\n",
       "                        <td id=\"T_b2104c98_3236_11ee_ba61_ae986459aa08row2_col1\" class=\"data row2 col1\" >1.09e+04</td>\n",
       "                        <td id=\"T_b2104c98_3236_11ee_ba61_ae986459aa08row2_col2\" class=\"data row2 col2\" >0.123</td>\n",
       "                        <td id=\"T_b2104c98_3236_11ee_ba61_ae986459aa08row2_col3\" class=\"data row2 col3\" >0.123</td>\n",
       "            </tr>\n",
       "            <tr>\n",
       "                        <th id=\"T_b2104c98_3236_11ee_ba61_ae986459aa08level0_row3\" class=\"row_heading level0 row3\" >15</th>\n",
       "                        <td id=\"T_b2104c98_3236_11ee_ba61_ae986459aa08row3_col0\" class=\"data row3 col0\" >1.06e+04</td>\n",
       "                        <td id=\"T_b2104c98_3236_11ee_ba61_ae986459aa08row3_col1\" class=\"data row3 col1\" >1.06e+04</td>\n",
       "                        <td id=\"T_b2104c98_3236_11ee_ba61_ae986459aa08row3_col2\" class=\"data row3 col2\" >0.0917</td>\n",
       "                        <td id=\"T_b2104c98_3236_11ee_ba61_ae986459aa08row3_col3\" class=\"data row3 col3\" >0.0896</td>\n",
       "            </tr>\n",
       "    </tbody></table>"
      ],
      "text/plain": [
       "<pandas.io.formats.style.Styler at 0x7f8910af2a60>"
      ]
     },
     "metadata": {},
     "output_type": "display_data"
    },
    {
     "data": {
      "text/html": [
       "<style  type=\"text/css\" >\n",
       "</style><table id=\"T_b2766668_3236_11ee_ba61_ae986459aa08\" ><thead>    <tr>        <th class=\"index_name level0\" >Shell No.</th>        <th class=\"col_heading level0 col0\" >t_rad</th>        <th class=\"col_heading level0 col1\" >next_t_rad</th>        <th class=\"col_heading level0 col2\" >w</th>        <th class=\"col_heading level0 col3\" >next_w</th>    </tr></thead><tbody>\n",
       "                <tr>\n",
       "                        <th id=\"T_b2766668_3236_11ee_ba61_ae986459aa08level0_row0\" class=\"row_heading level0 row0\" >0</th>\n",
       "                        <td id=\"T_b2766668_3236_11ee_ba61_ae986459aa08row0_col0\" class=\"data row0 col0\" >1.1e+04</td>\n",
       "                        <td id=\"T_b2766668_3236_11ee_ba61_ae986459aa08row0_col1\" class=\"data row0 col1\" >1.1e+04</td>\n",
       "                        <td id=\"T_b2766668_3236_11ee_ba61_ae986459aa08row0_col2\" class=\"data row0 col2\" >0.522</td>\n",
       "                        <td id=\"T_b2766668_3236_11ee_ba61_ae986459aa08row0_col3\" class=\"data row0 col3\" >0.529</td>\n",
       "            </tr>\n",
       "            <tr>\n",
       "                        <th id=\"T_b2766668_3236_11ee_ba61_ae986459aa08level0_row1\" class=\"row_heading level0 row1\" >5</th>\n",
       "                        <td id=\"T_b2766668_3236_11ee_ba61_ae986459aa08row1_col0\" class=\"data row1 col0\" >1.11e+04</td>\n",
       "                        <td id=\"T_b2766668_3236_11ee_ba61_ae986459aa08row1_col1\" class=\"data row1 col1\" >1.11e+04</td>\n",
       "                        <td id=\"T_b2766668_3236_11ee_ba61_ae986459aa08row1_col2\" class=\"data row1 col2\" >0.202</td>\n",
       "                        <td id=\"T_b2766668_3236_11ee_ba61_ae986459aa08row1_col3\" class=\"data row1 col3\" >0.205</td>\n",
       "            </tr>\n",
       "            <tr>\n",
       "                        <th id=\"T_b2766668_3236_11ee_ba61_ae986459aa08level0_row2\" class=\"row_heading level0 row2\" >10</th>\n",
       "                        <td id=\"T_b2766668_3236_11ee_ba61_ae986459aa08row2_col0\" class=\"data row2 col0\" >1.09e+04</td>\n",
       "                        <td id=\"T_b2766668_3236_11ee_ba61_ae986459aa08row2_col1\" class=\"data row2 col1\" >1.1e+04</td>\n",
       "                        <td id=\"T_b2766668_3236_11ee_ba61_ae986459aa08row2_col2\" class=\"data row2 col2\" >0.123</td>\n",
       "                        <td id=\"T_b2766668_3236_11ee_ba61_ae986459aa08row2_col3\" class=\"data row2 col3\" >0.12</td>\n",
       "            </tr>\n",
       "            <tr>\n",
       "                        <th id=\"T_b2766668_3236_11ee_ba61_ae986459aa08level0_row3\" class=\"row_heading level0 row3\" >15</th>\n",
       "                        <td id=\"T_b2766668_3236_11ee_ba61_ae986459aa08row3_col0\" class=\"data row3 col0\" >1.06e+04</td>\n",
       "                        <td id=\"T_b2766668_3236_11ee_ba61_ae986459aa08row3_col1\" class=\"data row3 col1\" >1.06e+04</td>\n",
       "                        <td id=\"T_b2766668_3236_11ee_ba61_ae986459aa08row3_col2\" class=\"data row3 col2\" >0.0896</td>\n",
       "                        <td id=\"T_b2766668_3236_11ee_ba61_ae986459aa08row3_col3\" class=\"data row3 col3\" >0.0895</td>\n",
       "            </tr>\n",
       "    </tbody></table>"
      ],
      "text/plain": [
       "<pandas.io.formats.style.Styler at 0x7f89106a4f70>"
      ]
     },
     "metadata": {},
     "output_type": "display_data"
    },
    {
     "data": {
      "text/html": [
       "<style  type=\"text/css\" >\n",
       "</style><table id=\"T_b2dcf158_3236_11ee_ba61_ae986459aa08\" ><thead>    <tr>        <th class=\"index_name level0\" >Shell No.</th>        <th class=\"col_heading level0 col0\" >t_rad</th>        <th class=\"col_heading level0 col1\" >next_t_rad</th>        <th class=\"col_heading level0 col2\" >w</th>        <th class=\"col_heading level0 col3\" >next_w</th>    </tr></thead><tbody>\n",
       "                <tr>\n",
       "                        <th id=\"T_b2dcf158_3236_11ee_ba61_ae986459aa08level0_row0\" class=\"row_heading level0 row0\" >0</th>\n",
       "                        <td id=\"T_b2dcf158_3236_11ee_ba61_ae986459aa08row0_col0\" class=\"data row0 col0\" >1.1e+04</td>\n",
       "                        <td id=\"T_b2dcf158_3236_11ee_ba61_ae986459aa08row0_col1\" class=\"data row0 col1\" >1.1e+04</td>\n",
       "                        <td id=\"T_b2dcf158_3236_11ee_ba61_ae986459aa08row0_col2\" class=\"data row0 col2\" >0.529</td>\n",
       "                        <td id=\"T_b2dcf158_3236_11ee_ba61_ae986459aa08row0_col3\" class=\"data row0 col3\" >0.532</td>\n",
       "            </tr>\n",
       "            <tr>\n",
       "                        <th id=\"T_b2dcf158_3236_11ee_ba61_ae986459aa08level0_row1\" class=\"row_heading level0 row1\" >5</th>\n",
       "                        <td id=\"T_b2dcf158_3236_11ee_ba61_ae986459aa08row1_col0\" class=\"data row1 col0\" >1.11e+04</td>\n",
       "                        <td id=\"T_b2dcf158_3236_11ee_ba61_ae986459aa08row1_col1\" class=\"data row1 col1\" >1.11e+04</td>\n",
       "                        <td id=\"T_b2dcf158_3236_11ee_ba61_ae986459aa08row1_col2\" class=\"data row1 col2\" >0.205</td>\n",
       "                        <td id=\"T_b2dcf158_3236_11ee_ba61_ae986459aa08row1_col3\" class=\"data row1 col3\" >0.205</td>\n",
       "            </tr>\n",
       "            <tr>\n",
       "                        <th id=\"T_b2dcf158_3236_11ee_ba61_ae986459aa08level0_row2\" class=\"row_heading level0 row2\" >10</th>\n",
       "                        <td id=\"T_b2dcf158_3236_11ee_ba61_ae986459aa08row2_col0\" class=\"data row2 col0\" >1.1e+04</td>\n",
       "                        <td id=\"T_b2dcf158_3236_11ee_ba61_ae986459aa08row2_col1\" class=\"data row2 col1\" >1.1e+04</td>\n",
       "                        <td id=\"T_b2dcf158_3236_11ee_ba61_ae986459aa08row2_col2\" class=\"data row2 col2\" >0.12</td>\n",
       "                        <td id=\"T_b2dcf158_3236_11ee_ba61_ae986459aa08row2_col3\" class=\"data row2 col3\" >0.121</td>\n",
       "            </tr>\n",
       "            <tr>\n",
       "                        <th id=\"T_b2dcf158_3236_11ee_ba61_ae986459aa08level0_row3\" class=\"row_heading level0 row3\" >15</th>\n",
       "                        <td id=\"T_b2dcf158_3236_11ee_ba61_ae986459aa08row3_col0\" class=\"data row3 col0\" >1.06e+04</td>\n",
       "                        <td id=\"T_b2dcf158_3236_11ee_ba61_ae986459aa08row3_col1\" class=\"data row3 col1\" >1.07e+04</td>\n",
       "                        <td id=\"T_b2dcf158_3236_11ee_ba61_ae986459aa08row3_col2\" class=\"data row3 col2\" >0.0895</td>\n",
       "                        <td id=\"T_b2dcf158_3236_11ee_ba61_ae986459aa08row3_col3\" class=\"data row3 col3\" >0.0875</td>\n",
       "            </tr>\n",
       "    </tbody></table>"
      ],
      "text/plain": [
       "<pandas.io.formats.style.Styler at 0x7f8910b1f520>"
      ]
     },
     "metadata": {},
     "output_type": "display_data"
    },
    {
     "data": {
      "text/html": [
       "<style  type=\"text/css\" >\n",
       "</style><table id=\"T_b34575c0_3236_11ee_ba61_ae986459aa08\" ><thead>    <tr>        <th class=\"index_name level0\" >Shell No.</th>        <th class=\"col_heading level0 col0\" >t_rad</th>        <th class=\"col_heading level0 col1\" >next_t_rad</th>        <th class=\"col_heading level0 col2\" >w</th>        <th class=\"col_heading level0 col3\" >next_w</th>    </tr></thead><tbody>\n",
       "                <tr>\n",
       "                        <th id=\"T_b34575c0_3236_11ee_ba61_ae986459aa08level0_row0\" class=\"row_heading level0 row0\" >0</th>\n",
       "                        <td id=\"T_b34575c0_3236_11ee_ba61_ae986459aa08row0_col0\" class=\"data row0 col0\" >1.1e+04</td>\n",
       "                        <td id=\"T_b34575c0_3236_11ee_ba61_ae986459aa08row0_col1\" class=\"data row0 col1\" >1.11e+04</td>\n",
       "                        <td id=\"T_b34575c0_3236_11ee_ba61_ae986459aa08row0_col2\" class=\"data row0 col2\" >0.532</td>\n",
       "                        <td id=\"T_b34575c0_3236_11ee_ba61_ae986459aa08row0_col3\" class=\"data row0 col3\" >0.508</td>\n",
       "            </tr>\n",
       "            <tr>\n",
       "                        <th id=\"T_b34575c0_3236_11ee_ba61_ae986459aa08level0_row1\" class=\"row_heading level0 row1\" >5</th>\n",
       "                        <td id=\"T_b34575c0_3236_11ee_ba61_ae986459aa08row1_col0\" class=\"data row1 col0\" >1.11e+04</td>\n",
       "                        <td id=\"T_b34575c0_3236_11ee_ba61_ae986459aa08row1_col1\" class=\"data row1 col1\" >1.12e+04</td>\n",
       "                        <td id=\"T_b34575c0_3236_11ee_ba61_ae986459aa08row1_col2\" class=\"data row1 col2\" >0.205</td>\n",
       "                        <td id=\"T_b34575c0_3236_11ee_ba61_ae986459aa08row1_col3\" class=\"data row1 col3\" >0.195</td>\n",
       "            </tr>\n",
       "            <tr>\n",
       "                        <th id=\"T_b34575c0_3236_11ee_ba61_ae986459aa08level0_row2\" class=\"row_heading level0 row2\" >10</th>\n",
       "                        <td id=\"T_b34575c0_3236_11ee_ba61_ae986459aa08row2_col0\" class=\"data row2 col0\" >1.1e+04</td>\n",
       "                        <td id=\"T_b34575c0_3236_11ee_ba61_ae986459aa08row2_col1\" class=\"data row2 col1\" >1.09e+04</td>\n",
       "                        <td id=\"T_b34575c0_3236_11ee_ba61_ae986459aa08row2_col2\" class=\"data row2 col2\" >0.121</td>\n",
       "                        <td id=\"T_b34575c0_3236_11ee_ba61_ae986459aa08row2_col3\" class=\"data row2 col3\" >0.123</td>\n",
       "            </tr>\n",
       "            <tr>\n",
       "                        <th id=\"T_b34575c0_3236_11ee_ba61_ae986459aa08level0_row3\" class=\"row_heading level0 row3\" >15</th>\n",
       "                        <td id=\"T_b34575c0_3236_11ee_ba61_ae986459aa08row3_col0\" class=\"data row3 col0\" >1.07e+04</td>\n",
       "                        <td id=\"T_b34575c0_3236_11ee_ba61_ae986459aa08row3_col1\" class=\"data row3 col1\" >1.06e+04</td>\n",
       "                        <td id=\"T_b34575c0_3236_11ee_ba61_ae986459aa08row3_col2\" class=\"data row3 col2\" >0.0875</td>\n",
       "                        <td id=\"T_b34575c0_3236_11ee_ba61_ae986459aa08row3_col3\" class=\"data row3 col3\" >0.0894</td>\n",
       "            </tr>\n",
       "    </tbody></table>"
      ],
      "text/plain": [
       "<pandas.io.formats.style.Styler at 0x7f8910b37430>"
      ]
     },
     "metadata": {},
     "output_type": "display_data"
    },
    {
     "data": {
      "text/html": [
       "<style  type=\"text/css\" >\n",
       "</style><table id=\"T_b3abea76_3236_11ee_ba61_ae986459aa08\" ><thead>    <tr>        <th class=\"index_name level0\" >Shell No.</th>        <th class=\"col_heading level0 col0\" >t_rad</th>        <th class=\"col_heading level0 col1\" >next_t_rad</th>        <th class=\"col_heading level0 col2\" >w</th>        <th class=\"col_heading level0 col3\" >next_w</th>    </tr></thead><tbody>\n",
       "                <tr>\n",
       "                        <th id=\"T_b3abea76_3236_11ee_ba61_ae986459aa08level0_row0\" class=\"row_heading level0 row0\" >0</th>\n",
       "                        <td id=\"T_b3abea76_3236_11ee_ba61_ae986459aa08row0_col0\" class=\"data row0 col0\" >1.11e+04</td>\n",
       "                        <td id=\"T_b3abea76_3236_11ee_ba61_ae986459aa08row0_col1\" class=\"data row0 col1\" >1.11e+04</td>\n",
       "                        <td id=\"T_b3abea76_3236_11ee_ba61_ae986459aa08row0_col2\" class=\"data row0 col2\" >0.508</td>\n",
       "                        <td id=\"T_b3abea76_3236_11ee_ba61_ae986459aa08row0_col3\" class=\"data row0 col3\" >0.51</td>\n",
       "            </tr>\n",
       "            <tr>\n",
       "                        <th id=\"T_b3abea76_3236_11ee_ba61_ae986459aa08level0_row1\" class=\"row_heading level0 row1\" >5</th>\n",
       "                        <td id=\"T_b3abea76_3236_11ee_ba61_ae986459aa08row1_col0\" class=\"data row1 col0\" >1.12e+04</td>\n",
       "                        <td id=\"T_b3abea76_3236_11ee_ba61_ae986459aa08row1_col1\" class=\"data row1 col1\" >1.13e+04</td>\n",
       "                        <td id=\"T_b3abea76_3236_11ee_ba61_ae986459aa08row1_col2\" class=\"data row1 col2\" >0.195</td>\n",
       "                        <td id=\"T_b3abea76_3236_11ee_ba61_ae986459aa08row1_col3\" class=\"data row1 col3\" >0.194</td>\n",
       "            </tr>\n",
       "            <tr>\n",
       "                        <th id=\"T_b3abea76_3236_11ee_ba61_ae986459aa08level0_row2\" class=\"row_heading level0 row2\" >10</th>\n",
       "                        <td id=\"T_b3abea76_3236_11ee_ba61_ae986459aa08row2_col0\" class=\"data row2 col0\" >1.09e+04</td>\n",
       "                        <td id=\"T_b3abea76_3236_11ee_ba61_ae986459aa08row2_col1\" class=\"data row2 col1\" >1.1e+04</td>\n",
       "                        <td id=\"T_b3abea76_3236_11ee_ba61_ae986459aa08row2_col2\" class=\"data row2 col2\" >0.123</td>\n",
       "                        <td id=\"T_b3abea76_3236_11ee_ba61_ae986459aa08row2_col3\" class=\"data row2 col3\" >0.121</td>\n",
       "            </tr>\n",
       "            <tr>\n",
       "                        <th id=\"T_b3abea76_3236_11ee_ba61_ae986459aa08level0_row3\" class=\"row_heading level0 row3\" >15</th>\n",
       "                        <td id=\"T_b3abea76_3236_11ee_ba61_ae986459aa08row3_col0\" class=\"data row3 col0\" >1.06e+04</td>\n",
       "                        <td id=\"T_b3abea76_3236_11ee_ba61_ae986459aa08row3_col1\" class=\"data row3 col1\" >1.06e+04</td>\n",
       "                        <td id=\"T_b3abea76_3236_11ee_ba61_ae986459aa08row3_col2\" class=\"data row3 col2\" >0.0894</td>\n",
       "                        <td id=\"T_b3abea76_3236_11ee_ba61_ae986459aa08row3_col3\" class=\"data row3 col3\" >0.091</td>\n",
       "            </tr>\n",
       "    </tbody></table>"
      ],
      "text/plain": [
       "<pandas.io.formats.style.Styler at 0x7f8910b37e50>"
      ]
     },
     "metadata": {},
     "output_type": "display_data"
    },
    {
     "data": {
      "text/html": [
       "<style  type=\"text/css\" >\n",
       "</style><table id=\"T_b425fc26_3236_11ee_ba61_ae986459aa08\" ><thead>    <tr>        <th class=\"index_name level0\" >Shell No.</th>        <th class=\"col_heading level0 col0\" >t_rad</th>        <th class=\"col_heading level0 col1\" >next_t_rad</th>        <th class=\"col_heading level0 col2\" >w</th>        <th class=\"col_heading level0 col3\" >next_w</th>    </tr></thead><tbody>\n",
       "                <tr>\n",
       "                        <th id=\"T_b425fc26_3236_11ee_ba61_ae986459aa08level0_row0\" class=\"row_heading level0 row0\" >0</th>\n",
       "                        <td id=\"T_b425fc26_3236_11ee_ba61_ae986459aa08row0_col0\" class=\"data row0 col0\" >1.11e+04</td>\n",
       "                        <td id=\"T_b425fc26_3236_11ee_ba61_ae986459aa08row0_col1\" class=\"data row0 col1\" >1.11e+04</td>\n",
       "                        <td id=\"T_b425fc26_3236_11ee_ba61_ae986459aa08row0_col2\" class=\"data row0 col2\" >0.51</td>\n",
       "                        <td id=\"T_b425fc26_3236_11ee_ba61_ae986459aa08row0_col3\" class=\"data row0 col3\" >0.505</td>\n",
       "            </tr>\n",
       "            <tr>\n",
       "                        <th id=\"T_b425fc26_3236_11ee_ba61_ae986459aa08level0_row1\" class=\"row_heading level0 row1\" >5</th>\n",
       "                        <td id=\"T_b425fc26_3236_11ee_ba61_ae986459aa08row1_col0\" class=\"data row1 col0\" >1.13e+04</td>\n",
       "                        <td id=\"T_b425fc26_3236_11ee_ba61_ae986459aa08row1_col1\" class=\"data row1 col1\" >1.12e+04</td>\n",
       "                        <td id=\"T_b425fc26_3236_11ee_ba61_ae986459aa08row1_col2\" class=\"data row1 col2\" >0.194</td>\n",
       "                        <td id=\"T_b425fc26_3236_11ee_ba61_ae986459aa08row1_col3\" class=\"data row1 col3\" >0.2</td>\n",
       "            </tr>\n",
       "            <tr>\n",
       "                        <th id=\"T_b425fc26_3236_11ee_ba61_ae986459aa08level0_row2\" class=\"row_heading level0 row2\" >10</th>\n",
       "                        <td id=\"T_b425fc26_3236_11ee_ba61_ae986459aa08row2_col0\" class=\"data row2 col0\" >1.1e+04</td>\n",
       "                        <td id=\"T_b425fc26_3236_11ee_ba61_ae986459aa08row2_col1\" class=\"data row2 col1\" >1.1e+04</td>\n",
       "                        <td id=\"T_b425fc26_3236_11ee_ba61_ae986459aa08row2_col2\" class=\"data row2 col2\" >0.121</td>\n",
       "                        <td id=\"T_b425fc26_3236_11ee_ba61_ae986459aa08row2_col3\" class=\"data row2 col3\" >0.119</td>\n",
       "            </tr>\n",
       "            <tr>\n",
       "                        <th id=\"T_b425fc26_3236_11ee_ba61_ae986459aa08level0_row3\" class=\"row_heading level0 row3\" >15</th>\n",
       "                        <td id=\"T_b425fc26_3236_11ee_ba61_ae986459aa08row3_col0\" class=\"data row3 col0\" >1.06e+04</td>\n",
       "                        <td id=\"T_b425fc26_3236_11ee_ba61_ae986459aa08row3_col1\" class=\"data row3 col1\" >1.06e+04</td>\n",
       "                        <td id=\"T_b425fc26_3236_11ee_ba61_ae986459aa08row3_col2\" class=\"data row3 col2\" >0.091</td>\n",
       "                        <td id=\"T_b425fc26_3236_11ee_ba61_ae986459aa08row3_col3\" class=\"data row3 col3\" >0.089</td>\n",
       "            </tr>\n",
       "    </tbody></table>"
      ],
      "text/plain": [
       "<pandas.io.formats.style.Styler at 0x7f8965a36820>"
      ]
     },
     "metadata": {},
     "output_type": "display_data"
    },
    {
     "data": {
      "text/html": [
       "<style  type=\"text/css\" >\n",
       "</style><table id=\"T_b4975538_3236_11ee_ba61_ae986459aa08\" ><thead>    <tr>        <th class=\"index_name level0\" >Shell No.</th>        <th class=\"col_heading level0 col0\" >t_rad</th>        <th class=\"col_heading level0 col1\" >next_t_rad</th>        <th class=\"col_heading level0 col2\" >w</th>        <th class=\"col_heading level0 col3\" >next_w</th>    </tr></thead><tbody>\n",
       "                <tr>\n",
       "                        <th id=\"T_b4975538_3236_11ee_ba61_ae986459aa08level0_row0\" class=\"row_heading level0 row0\" >0</th>\n",
       "                        <td id=\"T_b4975538_3236_11ee_ba61_ae986459aa08row0_col0\" class=\"data row0 col0\" >1.11e+04</td>\n",
       "                        <td id=\"T_b4975538_3236_11ee_ba61_ae986459aa08row0_col1\" class=\"data row0 col1\" >1.1e+04</td>\n",
       "                        <td id=\"T_b4975538_3236_11ee_ba61_ae986459aa08row0_col2\" class=\"data row0 col2\" >0.505</td>\n",
       "                        <td id=\"T_b4975538_3236_11ee_ba61_ae986459aa08row0_col3\" class=\"data row0 col3\" >0.521</td>\n",
       "            </tr>\n",
       "            <tr>\n",
       "                        <th id=\"T_b4975538_3236_11ee_ba61_ae986459aa08level0_row1\" class=\"row_heading level0 row1\" >5</th>\n",
       "                        <td id=\"T_b4975538_3236_11ee_ba61_ae986459aa08row1_col0\" class=\"data row1 col0\" >1.12e+04</td>\n",
       "                        <td id=\"T_b4975538_3236_11ee_ba61_ae986459aa08row1_col1\" class=\"data row1 col1\" >1.11e+04</td>\n",
       "                        <td id=\"T_b4975538_3236_11ee_ba61_ae986459aa08row1_col2\" class=\"data row1 col2\" >0.2</td>\n",
       "                        <td id=\"T_b4975538_3236_11ee_ba61_ae986459aa08row1_col3\" class=\"data row1 col3\" >0.208</td>\n",
       "            </tr>\n",
       "            <tr>\n",
       "                        <th id=\"T_b4975538_3236_11ee_ba61_ae986459aa08level0_row2\" class=\"row_heading level0 row2\" >10</th>\n",
       "                        <td id=\"T_b4975538_3236_11ee_ba61_ae986459aa08row2_col0\" class=\"data row2 col0\" >1.1e+04</td>\n",
       "                        <td id=\"T_b4975538_3236_11ee_ba61_ae986459aa08row2_col1\" class=\"data row2 col1\" >1.09e+04</td>\n",
       "                        <td id=\"T_b4975538_3236_11ee_ba61_ae986459aa08row2_col2\" class=\"data row2 col2\" >0.119</td>\n",
       "                        <td id=\"T_b4975538_3236_11ee_ba61_ae986459aa08row2_col3\" class=\"data row2 col3\" >0.124</td>\n",
       "            </tr>\n",
       "            <tr>\n",
       "                        <th id=\"T_b4975538_3236_11ee_ba61_ae986459aa08level0_row3\" class=\"row_heading level0 row3\" >15</th>\n",
       "                        <td id=\"T_b4975538_3236_11ee_ba61_ae986459aa08row3_col0\" class=\"data row3 col0\" >1.06e+04</td>\n",
       "                        <td id=\"T_b4975538_3236_11ee_ba61_ae986459aa08row3_col1\" class=\"data row3 col1\" >1.05e+04</td>\n",
       "                        <td id=\"T_b4975538_3236_11ee_ba61_ae986459aa08row3_col2\" class=\"data row3 col2\" >0.089</td>\n",
       "                        <td id=\"T_b4975538_3236_11ee_ba61_ae986459aa08row3_col3\" class=\"data row3 col3\" >0.092</td>\n",
       "            </tr>\n",
       "    </tbody></table>"
      ],
      "text/plain": [
       "<pandas.io.formats.style.Styler at 0x7f8910b1f400>"
      ]
     },
     "metadata": {},
     "output_type": "display_data"
    },
    {
     "data": {
      "text/html": [
       "<style  type=\"text/css\" >\n",
       "</style><table id=\"T_b4fef1de_3236_11ee_ba61_ae986459aa08\" ><thead>    <tr>        <th class=\"index_name level0\" >Shell No.</th>        <th class=\"col_heading level0 col0\" >t_rad</th>        <th class=\"col_heading level0 col1\" >next_t_rad</th>        <th class=\"col_heading level0 col2\" >w</th>        <th class=\"col_heading level0 col3\" >next_w</th>    </tr></thead><tbody>\n",
       "                <tr>\n",
       "                        <th id=\"T_b4fef1de_3236_11ee_ba61_ae986459aa08level0_row0\" class=\"row_heading level0 row0\" >0</th>\n",
       "                        <td id=\"T_b4fef1de_3236_11ee_ba61_ae986459aa08row0_col0\" class=\"data row0 col0\" >1.1e+04</td>\n",
       "                        <td id=\"T_b4fef1de_3236_11ee_ba61_ae986459aa08row0_col1\" class=\"data row0 col1\" >1.1e+04</td>\n",
       "                        <td id=\"T_b4fef1de_3236_11ee_ba61_ae986459aa08row0_col2\" class=\"data row0 col2\" >0.521</td>\n",
       "                        <td id=\"T_b4fef1de_3236_11ee_ba61_ae986459aa08row0_col3\" class=\"data row0 col3\" >0.516</td>\n",
       "            </tr>\n",
       "            <tr>\n",
       "                        <th id=\"T_b4fef1de_3236_11ee_ba61_ae986459aa08level0_row1\" class=\"row_heading level0 row1\" >5</th>\n",
       "                        <td id=\"T_b4fef1de_3236_11ee_ba61_ae986459aa08row1_col0\" class=\"data row1 col0\" >1.11e+04</td>\n",
       "                        <td id=\"T_b4fef1de_3236_11ee_ba61_ae986459aa08row1_col1\" class=\"data row1 col1\" >1.11e+04</td>\n",
       "                        <td id=\"T_b4fef1de_3236_11ee_ba61_ae986459aa08row1_col2\" class=\"data row1 col2\" >0.208</td>\n",
       "                        <td id=\"T_b4fef1de_3236_11ee_ba61_ae986459aa08row1_col3\" class=\"data row1 col3\" >0.203</td>\n",
       "            </tr>\n",
       "            <tr>\n",
       "                        <th id=\"T_b4fef1de_3236_11ee_ba61_ae986459aa08level0_row2\" class=\"row_heading level0 row2\" >10</th>\n",
       "                        <td id=\"T_b4fef1de_3236_11ee_ba61_ae986459aa08row2_col0\" class=\"data row2 col0\" >1.09e+04</td>\n",
       "                        <td id=\"T_b4fef1de_3236_11ee_ba61_ae986459aa08row2_col1\" class=\"data row2 col1\" >1.08e+04</td>\n",
       "                        <td id=\"T_b4fef1de_3236_11ee_ba61_ae986459aa08row2_col2\" class=\"data row2 col2\" >0.124</td>\n",
       "                        <td id=\"T_b4fef1de_3236_11ee_ba61_ae986459aa08row2_col3\" class=\"data row2 col3\" >0.129</td>\n",
       "            </tr>\n",
       "            <tr>\n",
       "                        <th id=\"T_b4fef1de_3236_11ee_ba61_ae986459aa08level0_row3\" class=\"row_heading level0 row3\" >15</th>\n",
       "                        <td id=\"T_b4fef1de_3236_11ee_ba61_ae986459aa08row3_col0\" class=\"data row3 col0\" >1.05e+04</td>\n",
       "                        <td id=\"T_b4fef1de_3236_11ee_ba61_ae986459aa08row3_col1\" class=\"data row3 col1\" >1.06e+04</td>\n",
       "                        <td id=\"T_b4fef1de_3236_11ee_ba61_ae986459aa08row3_col2\" class=\"data row3 col2\" >0.092</td>\n",
       "                        <td id=\"T_b4fef1de_3236_11ee_ba61_ae986459aa08row3_col3\" class=\"data row3 col3\" >0.0895</td>\n",
       "            </tr>\n",
       "    </tbody></table>"
      ],
      "text/plain": [
       "<pandas.io.formats.style.Styler at 0x7f8910b37400>"
      ]
     },
     "metadata": {},
     "output_type": "display_data"
    },
    {
     "data": {
      "text/html": [
       "<style  type=\"text/css\" >\n",
       "</style><table id=\"T_b565cf8a_3236_11ee_ba61_ae986459aa08\" ><thead>    <tr>        <th class=\"index_name level0\" >Shell No.</th>        <th class=\"col_heading level0 col0\" >t_rad</th>        <th class=\"col_heading level0 col1\" >next_t_rad</th>        <th class=\"col_heading level0 col2\" >w</th>        <th class=\"col_heading level0 col3\" >next_w</th>    </tr></thead><tbody>\n",
       "                <tr>\n",
       "                        <th id=\"T_b565cf8a_3236_11ee_ba61_ae986459aa08level0_row0\" class=\"row_heading level0 row0\" >0</th>\n",
       "                        <td id=\"T_b565cf8a_3236_11ee_ba61_ae986459aa08row0_col0\" class=\"data row0 col0\" >1.1e+04</td>\n",
       "                        <td id=\"T_b565cf8a_3236_11ee_ba61_ae986459aa08row0_col1\" class=\"data row0 col1\" >1.1e+04</td>\n",
       "                        <td id=\"T_b565cf8a_3236_11ee_ba61_ae986459aa08row0_col2\" class=\"data row0 col2\" >0.516</td>\n",
       "                        <td id=\"T_b565cf8a_3236_11ee_ba61_ae986459aa08row0_col3\" class=\"data row0 col3\" >0.523</td>\n",
       "            </tr>\n",
       "            <tr>\n",
       "                        <th id=\"T_b565cf8a_3236_11ee_ba61_ae986459aa08level0_row1\" class=\"row_heading level0 row1\" >5</th>\n",
       "                        <td id=\"T_b565cf8a_3236_11ee_ba61_ae986459aa08row1_col0\" class=\"data row1 col0\" >1.11e+04</td>\n",
       "                        <td id=\"T_b565cf8a_3236_11ee_ba61_ae986459aa08row1_col1\" class=\"data row1 col1\" >1.12e+04</td>\n",
       "                        <td id=\"T_b565cf8a_3236_11ee_ba61_ae986459aa08row1_col2\" class=\"data row1 col2\" >0.203</td>\n",
       "                        <td id=\"T_b565cf8a_3236_11ee_ba61_ae986459aa08row1_col3\" class=\"data row1 col3\" >0.195</td>\n",
       "            </tr>\n",
       "            <tr>\n",
       "                        <th id=\"T_b565cf8a_3236_11ee_ba61_ae986459aa08level0_row2\" class=\"row_heading level0 row2\" >10</th>\n",
       "                        <td id=\"T_b565cf8a_3236_11ee_ba61_ae986459aa08row2_col0\" class=\"data row2 col0\" >1.08e+04</td>\n",
       "                        <td id=\"T_b565cf8a_3236_11ee_ba61_ae986459aa08row2_col1\" class=\"data row2 col1\" >1.1e+04</td>\n",
       "                        <td id=\"T_b565cf8a_3236_11ee_ba61_ae986459aa08row2_col2\" class=\"data row2 col2\" >0.129</td>\n",
       "                        <td id=\"T_b565cf8a_3236_11ee_ba61_ae986459aa08row2_col3\" class=\"data row2 col3\" >0.12</td>\n",
       "            </tr>\n",
       "            <tr>\n",
       "                        <th id=\"T_b565cf8a_3236_11ee_ba61_ae986459aa08level0_row3\" class=\"row_heading level0 row3\" >15</th>\n",
       "                        <td id=\"T_b565cf8a_3236_11ee_ba61_ae986459aa08row3_col0\" class=\"data row3 col0\" >1.06e+04</td>\n",
       "                        <td id=\"T_b565cf8a_3236_11ee_ba61_ae986459aa08row3_col1\" class=\"data row3 col1\" >1.07e+04</td>\n",
       "                        <td id=\"T_b565cf8a_3236_11ee_ba61_ae986459aa08row3_col2\" class=\"data row3 col2\" >0.0895</td>\n",
       "                        <td id=\"T_b565cf8a_3236_11ee_ba61_ae986459aa08row3_col3\" class=\"data row3 col3\" >0.0874</td>\n",
       "            </tr>\n",
       "    </tbody></table>"
      ],
      "text/plain": [
       "<pandas.io.formats.style.Styler at 0x7f8965a36820>"
      ]
     },
     "metadata": {},
     "output_type": "display_data"
    },
    {
     "data": {
      "text/html": [
       "<style  type=\"text/css\" >\n",
       "</style><table id=\"T_b5ccdbd0_3236_11ee_ba61_ae986459aa08\" ><thead>    <tr>        <th class=\"index_name level0\" >Shell No.</th>        <th class=\"col_heading level0 col0\" >t_rad</th>        <th class=\"col_heading level0 col1\" >next_t_rad</th>        <th class=\"col_heading level0 col2\" >w</th>        <th class=\"col_heading level0 col3\" >next_w</th>    </tr></thead><tbody>\n",
       "                <tr>\n",
       "                        <th id=\"T_b5ccdbd0_3236_11ee_ba61_ae986459aa08level0_row0\" class=\"row_heading level0 row0\" >0</th>\n",
       "                        <td id=\"T_b5ccdbd0_3236_11ee_ba61_ae986459aa08row0_col0\" class=\"data row0 col0\" >1.1e+04</td>\n",
       "                        <td id=\"T_b5ccdbd0_3236_11ee_ba61_ae986459aa08row0_col1\" class=\"data row0 col1\" >1.1e+04</td>\n",
       "                        <td id=\"T_b5ccdbd0_3236_11ee_ba61_ae986459aa08row0_col2\" class=\"data row0 col2\" >0.523</td>\n",
       "                        <td id=\"T_b5ccdbd0_3236_11ee_ba61_ae986459aa08row0_col3\" class=\"data row0 col3\" >0.519</td>\n",
       "            </tr>\n",
       "            <tr>\n",
       "                        <th id=\"T_b5ccdbd0_3236_11ee_ba61_ae986459aa08level0_row1\" class=\"row_heading level0 row1\" >5</th>\n",
       "                        <td id=\"T_b5ccdbd0_3236_11ee_ba61_ae986459aa08row1_col0\" class=\"data row1 col0\" >1.12e+04</td>\n",
       "                        <td id=\"T_b5ccdbd0_3236_11ee_ba61_ae986459aa08row1_col1\" class=\"data row1 col1\" >1.12e+04</td>\n",
       "                        <td id=\"T_b5ccdbd0_3236_11ee_ba61_ae986459aa08row1_col2\" class=\"data row1 col2\" >0.195</td>\n",
       "                        <td id=\"T_b5ccdbd0_3236_11ee_ba61_ae986459aa08row1_col3\" class=\"data row1 col3\" >0.198</td>\n",
       "            </tr>\n",
       "            <tr>\n",
       "                        <th id=\"T_b5ccdbd0_3236_11ee_ba61_ae986459aa08level0_row2\" class=\"row_heading level0 row2\" >10</th>\n",
       "                        <td id=\"T_b5ccdbd0_3236_11ee_ba61_ae986459aa08row2_col0\" class=\"data row2 col0\" >1.1e+04</td>\n",
       "                        <td id=\"T_b5ccdbd0_3236_11ee_ba61_ae986459aa08row2_col1\" class=\"data row2 col1\" >1.1e+04</td>\n",
       "                        <td id=\"T_b5ccdbd0_3236_11ee_ba61_ae986459aa08row2_col2\" class=\"data row2 col2\" >0.12</td>\n",
       "                        <td id=\"T_b5ccdbd0_3236_11ee_ba61_ae986459aa08row2_col3\" class=\"data row2 col3\" >0.12</td>\n",
       "            </tr>\n",
       "            <tr>\n",
       "                        <th id=\"T_b5ccdbd0_3236_11ee_ba61_ae986459aa08level0_row3\" class=\"row_heading level0 row3\" >15</th>\n",
       "                        <td id=\"T_b5ccdbd0_3236_11ee_ba61_ae986459aa08row3_col0\" class=\"data row3 col0\" >1.07e+04</td>\n",
       "                        <td id=\"T_b5ccdbd0_3236_11ee_ba61_ae986459aa08row3_col1\" class=\"data row3 col1\" >1.06e+04</td>\n",
       "                        <td id=\"T_b5ccdbd0_3236_11ee_ba61_ae986459aa08row3_col2\" class=\"data row3 col2\" >0.0874</td>\n",
       "                        <td id=\"T_b5ccdbd0_3236_11ee_ba61_ae986459aa08row3_col3\" class=\"data row3 col3\" >0.0913</td>\n",
       "            </tr>\n",
       "    </tbody></table>"
      ],
      "text/plain": [
       "<pandas.io.formats.style.Styler at 0x7f8910324850>"
      ]
     },
     "metadata": {},
     "output_type": "display_data"
    },
    {
     "data": {
      "text/html": [
       "<style  type=\"text/css\" >\n",
       "</style><table id=\"T_b633efa0_3236_11ee_ba61_ae986459aa08\" ><thead>    <tr>        <th class=\"index_name level0\" >Shell No.</th>        <th class=\"col_heading level0 col0\" >t_rad</th>        <th class=\"col_heading level0 col1\" >next_t_rad</th>        <th class=\"col_heading level0 col2\" >w</th>        <th class=\"col_heading level0 col3\" >next_w</th>    </tr></thead><tbody>\n",
       "                <tr>\n",
       "                        <th id=\"T_b633efa0_3236_11ee_ba61_ae986459aa08level0_row0\" class=\"row_heading level0 row0\" >0</th>\n",
       "                        <td id=\"T_b633efa0_3236_11ee_ba61_ae986459aa08row0_col0\" class=\"data row0 col0\" >1.1e+04</td>\n",
       "                        <td id=\"T_b633efa0_3236_11ee_ba61_ae986459aa08row0_col1\" class=\"data row0 col1\" >1.11e+04</td>\n",
       "                        <td id=\"T_b633efa0_3236_11ee_ba61_ae986459aa08row0_col2\" class=\"data row0 col2\" >0.519</td>\n",
       "                        <td id=\"T_b633efa0_3236_11ee_ba61_ae986459aa08row0_col3\" class=\"data row0 col3\" >0.513</td>\n",
       "            </tr>\n",
       "            <tr>\n",
       "                        <th id=\"T_b633efa0_3236_11ee_ba61_ae986459aa08level0_row1\" class=\"row_heading level0 row1\" >5</th>\n",
       "                        <td id=\"T_b633efa0_3236_11ee_ba61_ae986459aa08row1_col0\" class=\"data row1 col0\" >1.12e+04</td>\n",
       "                        <td id=\"T_b633efa0_3236_11ee_ba61_ae986459aa08row1_col1\" class=\"data row1 col1\" >1.12e+04</td>\n",
       "                        <td id=\"T_b633efa0_3236_11ee_ba61_ae986459aa08row1_col2\" class=\"data row1 col2\" >0.198</td>\n",
       "                        <td id=\"T_b633efa0_3236_11ee_ba61_ae986459aa08row1_col3\" class=\"data row1 col3\" >0.196</td>\n",
       "            </tr>\n",
       "            <tr>\n",
       "                        <th id=\"T_b633efa0_3236_11ee_ba61_ae986459aa08level0_row2\" class=\"row_heading level0 row2\" >10</th>\n",
       "                        <td id=\"T_b633efa0_3236_11ee_ba61_ae986459aa08row2_col0\" class=\"data row2 col0\" >1.1e+04</td>\n",
       "                        <td id=\"T_b633efa0_3236_11ee_ba61_ae986459aa08row2_col1\" class=\"data row2 col1\" >1.11e+04</td>\n",
       "                        <td id=\"T_b633efa0_3236_11ee_ba61_ae986459aa08row2_col2\" class=\"data row2 col2\" >0.12</td>\n",
       "                        <td id=\"T_b633efa0_3236_11ee_ba61_ae986459aa08row2_col3\" class=\"data row2 col3\" >0.118</td>\n",
       "            </tr>\n",
       "            <tr>\n",
       "                        <th id=\"T_b633efa0_3236_11ee_ba61_ae986459aa08level0_row3\" class=\"row_heading level0 row3\" >15</th>\n",
       "                        <td id=\"T_b633efa0_3236_11ee_ba61_ae986459aa08row3_col0\" class=\"data row3 col0\" >1.06e+04</td>\n",
       "                        <td id=\"T_b633efa0_3236_11ee_ba61_ae986459aa08row3_col1\" class=\"data row3 col1\" >1.07e+04</td>\n",
       "                        <td id=\"T_b633efa0_3236_11ee_ba61_ae986459aa08row3_col2\" class=\"data row3 col2\" >0.0913</td>\n",
       "                        <td id=\"T_b633efa0_3236_11ee_ba61_ae986459aa08row3_col3\" class=\"data row3 col3\" >0.0881</td>\n",
       "            </tr>\n",
       "    </tbody></table>"
      ],
      "text/plain": [
       "<pandas.io.formats.style.Styler at 0x7f8910b1f3a0>"
      ]
     },
     "metadata": {},
     "output_type": "display_data"
    }
   ],
   "source": [
    "### Run Simulation\n",
    "config = Configuration.from_yaml(\"../../../docs/tardis_example.yml\")\n",
    "atom_data = AtomData.from_hdf(\n",
    "    os.path.join(get_data_dir(), \"kurucz_cd23_chianti_H_He.h5\")\n",
    ")\n",
    "model = SimulationState.from_config(config, atom_data=atom_data)\n",
    "plasma = assemble_plasma(config, model, atom_data=atom_data)\n",
    "sim = Simulation.from_config(config, model=model, plasma=plasma)\n",
    "sim.run_convergence()\n",
    "sim.run_final()"
   ]
  },
  {
   "cell_type": "code",
   "execution_count": 3,
   "metadata": {
    "scrolled": false
   },
   "outputs": [
    {
     "name": "stderr",
     "output_type": "stream",
     "text": [
      "/Users/ayushidaksh/miniconda3/envs/tardis/lib/python3.8/site-packages/pandas/core/series.py:679: RuntimeWarning:\n",
      "\n",
      "divide by zero encountered in log\n",
      "\n"
     ]
    },
    {
     "name": "stdout",
     "output_type": "stream",
     "text": [
      "Changing the ion will reset custom wavelength ranges, if any were set\n",
      "    level_number_lower  level_number_upper  num_electrons  wavelength\n",
      "0                    1                   3            137   10833.307\n",
      "1                    1                   4            129   10833.217\n",
      "2                    1                   5             89   10832.058\n",
      "3                    1                   9             16    3889.751\n",
      "4                    1                  10             10    3889.748\n",
      "5                    1                  11              2    3889.707\n",
      "6                    1                  19              4    3188.667\n",
      "7                    1                  20              6    3188.666\n",
      "8                    1                  33              3    2945.965\n",
      "9                    1                  34              1    2945.965\n",
      "10                   3                   7             14    7067.127\n",
      "11                   3                  12            115    5877.243\n",
      "12                   3                  13             21    5877.243\n",
      "13                   3                  14              1    5877.227\n",
      "14                   3                  17              6    4714.458\n",
      "15                   3                  22             25    4472.729\n",
      "16                   3                  23              4    4472.729\n",
      "17                   3                  24              1    4472.725\n",
      "18                   3                  36              1    4027.324\n",
      "19                   3                  37             15    4027.324\n",
      "20                   4                   7             10    7067.165\n",
      "21                   4                  13             63    5877.269\n",
      "22                   4                  14             19    5877.254\n",
      "23                   4                  17              3    4714.475\n",
      "24                   4                  23             13    4472.744\n",
      "25                   4                  24              6    4472.740\n",
      "26                   4                  31              2    4121.986\n",
      "27                   4                  36             14    4027.336\n",
      "28                   4                  38              4    4027.334\n",
      "29                   5                   7              2    7067.658\n",
      "30                   5                  14             24    5877.595\n",
      "31                   5                  24              7    4472.938\n",
      "32                   5                  38              3    4027.495\n",
      "33                   6                   8              1    7283.357\n",
      "34                   6                  15             11    6679.995\n",
      "35                   6                  18              1    5049.146\n",
      "36                   6                  25              1    4923.305\n",
      "37                   6                  39              2    4389.162\n",
      "38                   9                  17              2   21125.785\n",
      "39                   9                  22              1   17007.037\n",
      "40                   9                  31              1   12849.457\n",
      "41                  10                  36              1   11972.366\n",
      "42                  10                  38              1   11972.352\n",
      "43                  12                  27              6   18690.425\n",
      "44                  12                  41              3   12788.420\n",
      "45                  13                  26              4   18690.453\n",
      "46                  14                  28              1   18690.551\n",
      "47                  27                  45              1   40490.141\n",
      "48                  29                  47              1   40490.354\n",
      "    level_number_lower  level_number_upper  num_electrons  wavelength\n",
      "0                    1                   3            137   10833.307\n",
      "1                    1                   4            129   10833.217\n",
      "2                    1                   5             89   10832.058\n",
      "3                    1                   9             16    3889.751\n",
      "4                    1                  10             10    3889.748\n",
      "5                    1                  11              2    3889.707\n",
      "6                    1                  19              4    3188.667\n",
      "7                    1                  20              6    3188.666\n",
      "8                    1                  33              3    2945.965\n",
      "9                    1                  34              1    2945.965\n",
      "10                   3                   7             14    7067.127\n",
      "11                   3                  12            115    5877.243\n",
      "12                   3                  13             21    5877.243\n",
      "13                   3                  14              1    5877.227\n",
      "14                   3                  17              6    4714.458\n",
      "15                   3                  22             25    4472.729\n",
      "16                   3                  23              4    4472.729\n",
      "17                   3                  24              1    4472.725\n",
      "18                   3                  36              1    4027.324\n",
      "19                   3                  37             15    4027.324\n",
      "20                   4                   7             10    7067.165\n",
      "21                   4                  13             63    5877.269\n",
      "22                   4                  14             19    5877.254\n",
      "23                   4                  17              3    4714.475\n",
      "24                   4                  23             13    4472.744\n",
      "25                   4                  24              6    4472.740\n",
      "26                   4                  31              2    4121.986\n",
      "27                   4                  36             14    4027.336\n",
      "28                   4                  38              4    4027.334\n",
      "29                   5                   7              2    7067.658\n",
      "30                   5                  14             24    5877.595\n",
      "31                   5                  24              7    4472.938\n",
      "32                   5                  38              3    4027.495\n",
      "33                   6                   8              1    7283.357\n",
      "34                   6                  15             11    6679.995\n",
      "35                   6                  18              1    5049.146\n",
      "36                   6                  25              1    4923.305\n",
      "37                   6                  39              2    4389.162\n",
      "38                   9                  17              2   21125.785\n",
      "39                   9                  22              1   17007.037\n",
      "40                   9                  31              1   12849.457\n",
      "41                  10                  36              1   11972.366\n",
      "42                  10                  38              1   11972.352\n",
      "43                  12                  27              6   18690.425\n",
      "44                  12                  41              3   12788.420\n",
      "45                  13                  26              4   18690.453\n",
      "46                  14                  28              1   18690.551\n",
      "47                  27                  45              1   40490.141\n",
      "48                  29                  47              1   40490.354\n",
      "    level_number_lower  level_number_upper  num_electrons  wavelength\n",
      "0                    1                   3            137   10833.307\n",
      "1                    1                   4            129   10833.217\n",
      "2                    1                   5             89   10832.058\n",
      "3                    1                   9             16    3889.751\n",
      "4                    1                  10             10    3889.748\n",
      "5                    1                  11              2    3889.707\n",
      "6                    1                  19              4    3188.667\n",
      "7                    1                  20              6    3188.666\n",
      "8                    1                  33              3    2945.965\n",
      "9                    1                  34              1    2945.965\n",
      "10                   3                   7             14    7067.127\n",
      "11                   3                  12            115    5877.243\n",
      "12                   3                  13             21    5877.243\n",
      "13                   3                  14              1    5877.227\n",
      "14                   3                  17              6    4714.458\n",
      "15                   3                  22             25    4472.729\n",
      "16                   3                  23              4    4472.729\n",
      "17                   3                  24              1    4472.725\n",
      "18                   3                  36              1    4027.324\n",
      "19                   3                  37             15    4027.324\n",
      "20                   4                   7             10    7067.165\n",
      "21                   4                  13             63    5877.269\n",
      "22                   4                  14             19    5877.254\n",
      "23                   4                  17              3    4714.475\n",
      "24                   4                  23             13    4472.744\n",
      "25                   4                  24              6    4472.740\n",
      "26                   4                  31              2    4121.986\n",
      "27                   4                  36             14    4027.336\n",
      "28                   4                  38              4    4027.334\n",
      "29                   5                   7              2    7067.658\n",
      "30                   5                  14             24    5877.595\n",
      "31                   5                  24              7    4472.938\n",
      "32                   5                  38              3    4027.495\n",
      "33                   6                   8              1    7283.357\n",
      "34                   6                  15             11    6679.995\n",
      "35                   6                  18              1    5049.146\n",
      "36                   6                  25              1    4923.305\n",
      "37                   6                  39              2    4389.162\n",
      "38                   9                  17              2   21125.785\n",
      "39                   9                  22              1   17007.037\n",
      "40                   9                  31              1   12849.457\n",
      "41                  10                  36              1   11972.366\n",
      "42                  10                  38              1   11972.352\n",
      "43                  12                  27              6   18690.425\n",
      "44                  12                  41              3   12788.420\n",
      "45                  13                  26              4   18690.453\n",
      "46                  14                  28              1   18690.551\n",
      "47                  27                  45              1   40490.141\n",
      "48                  29                  47              1   40490.354\n",
      "    level_number_lower  level_number_upper  num_electrons  wavelength\n",
      "0                    1                   3            137   10833.307\n",
      "1                    1                   4            129   10833.217\n",
      "2                    1                   5             89   10832.058\n",
      "3                    1                   9             16    3889.751\n",
      "4                    1                  10             10    3889.748\n",
      "5                    1                  11              2    3889.707\n",
      "6                    1                  19              4    3188.667\n",
      "7                    1                  20              6    3188.666\n",
      "8                    1                  33              3    2945.965\n",
      "9                    1                  34              1    2945.965\n",
      "10                   3                   7             14    7067.127\n",
      "11                   3                  12            115    5877.243\n",
      "12                   3                  13             21    5877.243\n",
      "13                   3                  14              1    5877.227\n",
      "14                   3                  17              6    4714.458\n",
      "15                   3                  22             25    4472.729\n",
      "16                   3                  23              4    4472.729\n",
      "17                   3                  24              1    4472.725\n",
      "18                   3                  36              1    4027.324\n",
      "19                   3                  37             15    4027.324\n",
      "20                   4                   7             10    7067.165\n",
      "21                   4                  13             63    5877.269\n",
      "22                   4                  14             19    5877.254\n",
      "23                   4                  17              3    4714.475\n",
      "24                   4                  23             13    4472.744\n",
      "25                   4                  24              6    4472.740\n",
      "26                   4                  31              2    4121.986\n",
      "27                   4                  36             14    4027.336\n",
      "28                   4                  38              4    4027.334\n",
      "29                   5                   7              2    7067.658\n",
      "30                   5                  14             24    5877.595\n",
      "31                   5                  24              7    4472.938\n",
      "32                   5                  38              3    4027.495\n",
      "33                   6                   8              1    7283.357\n",
      "34                   6                  15             11    6679.995\n",
      "35                   6                  18              1    5049.146\n",
      "36                   6                  25              1    4923.305\n",
      "37                   6                  39              2    4389.162\n",
      "38                   9                  17              2   21125.785\n",
      "39                   9                  22              1   17007.037\n",
      "40                   9                  31              1   12849.457\n",
      "41                  10                  36              1   11972.366\n",
      "42                  10                  38              1   11972.352\n",
      "43                  12                  27              6   18690.425\n",
      "44                  12                  41              3   12788.420\n",
      "45                  13                  26              4   18690.453\n",
      "46                  14                  28              1   18690.551\n",
      "47                  27                  45              1   40490.141\n",
      "48                  29                  47              1   40490.354\n",
      "Changing the ion will reset custom wavelength ranges, if any were set\n",
      "   level_number_lower  level_number_upper  num_electrons  wavelength\n",
      "0                   1                  45              1    1316.543\n",
      "1                   2                  23              1    1433.309\n",
      "2                   4                  22              1    1666.687\n",
      "   level_number_lower  level_number_upper  num_electrons  wavelength\n",
      "0                   1                  45              1    1316.543\n",
      "1                   2                  23              1    1433.309\n",
      "2                   4                  22              1    1666.687\n"
     ]
    },
    {
     "ename": "ValueError",
     "evalue": "zero-size array to reduction operation minimum which has no identity",
     "output_type": "error",
     "traceback": [
      "\u001b[0;31m---------------------------------------------------------------------------\u001b[0m",
      "\u001b[0;31mValueError\u001b[0m                                Traceback (most recent call last)",
      "Cell \u001b[0;32mIn[3], line 2\u001b[0m\n\u001b[1;32m      1\u001b[0m diag \u001b[39m=\u001b[39m GrotrianWidget\u001b[39m.\u001b[39mfrom_simulation(sim)\n\u001b[0;32m----> 2\u001b[0m diag\u001b[39m.\u001b[39;49mplot\u001b[39m.\u001b[39;49mset_ion(\u001b[39m16\u001b[39;49m, \u001b[39m0\u001b[39;49m)\n\u001b[1;32m      3\u001b[0m diag\u001b[39m.\u001b[39mdisplay()\n",
      "File \u001b[0;32m~/Documents/tardis/tardis/visualization/widgets/grotrian.py:341\u001b[0m, in \u001b[0;36mGrotrianPlot.set_ion\u001b[0;34m(self, atomic_number, ion_number)\u001b[0m\n\u001b[1;32m    336\u001b[0m \u001b[39mprint\u001b[39m(\n\u001b[1;32m    337\u001b[0m     \u001b[39m\"\u001b[39m\u001b[39mChanging the ion will reset custom wavelength ranges, if any were set\u001b[39m\u001b[39m\"\u001b[39m\n\u001b[1;32m    338\u001b[0m )\n\u001b[1;32m    340\u001b[0m \u001b[39m# Reset any custom wavelengths if user changes ion\u001b[39;00m\n\u001b[0;32m--> 341\u001b[0m \u001b[39mself\u001b[39;49m\u001b[39m.\u001b[39;49mreset_selected_plot_wavelength_range()\n",
      "File \u001b[0;32m~/Documents/tardis/tardis/visualization/widgets/grotrian.py:268\u001b[0m, in \u001b[0;36mGrotrianPlot.reset_selected_plot_wavelength_range\u001b[0;34m(self)\u001b[0m\n\u001b[1;32m    264\u001b[0m \u001b[39mdef\u001b[39;00m \u001b[39mreset_selected_plot_wavelength_range\u001b[39m(\u001b[39mself\u001b[39m):\n\u001b[1;32m    265\u001b[0m \u001b[39m    \u001b[39m\u001b[39m\"\"\"\u001b[39;00m\n\u001b[1;32m    266\u001b[0m \u001b[39m    Resets the wavelength range of the selected plot\u001b[39;00m\n\u001b[1;32m    267\u001b[0m \u001b[39m    \"\"\"\u001b[39;00m\n\u001b[0;32m--> 268\u001b[0m     \u001b[39mself\u001b[39;49m\u001b[39m.\u001b[39;49mmin_wavelength \u001b[39m=\u001b[39m \u001b[39mNone\u001b[39;00m\n\u001b[1;32m    269\u001b[0m     \u001b[39mself\u001b[39m\u001b[39m.\u001b[39mmax_wavelength \u001b[39m=\u001b[39m \u001b[39mNone\u001b[39;00m\n",
      "File \u001b[0;32m~/Documents/tardis/tardis/visualization/widgets/grotrian.py:253\u001b[0m, in \u001b[0;36mGrotrianPlot.min_wavelength\u001b[0;34m(self, value)\u001b[0m\n\u001b[1;32m    250\u001b[0m \u001b[39m@min_wavelength\u001b[39m\u001b[39m.\u001b[39msetter\n\u001b[1;32m    251\u001b[0m \u001b[39mdef\u001b[39;00m \u001b[39mmin_wavelength\u001b[39m(\u001b[39mself\u001b[39m, value):\n\u001b[1;32m    252\u001b[0m     \u001b[39mself\u001b[39m\u001b[39m.\u001b[39m_min_wavelength \u001b[39m=\u001b[39m value\n\u001b[0;32m--> 253\u001b[0m     \u001b[39mself\u001b[39;49m\u001b[39m.\u001b[39;49m_compute_transitions()\n",
      "File \u001b[0;32m~/Documents/tardis/tardis/visualization/widgets/grotrian.py:511\u001b[0m, in \u001b[0;36mGrotrianPlot._compute_transitions\u001b[0;34m(self)\u001b[0m\n\u001b[1;32m    505\u001b[0m deexcite_lines \u001b[39m=\u001b[39m deexcite_lines\u001b[39m.\u001b[39mloc[\n\u001b[1;32m    506\u001b[0m     (deexcite_lines\u001b[39m.\u001b[39mwavelength \u001b[39m>\u001b[39m\u001b[39m=\u001b[39m \u001b[39mself\u001b[39m\u001b[39m.\u001b[39mmin_wavelength)\n\u001b[1;32m    507\u001b[0m     \u001b[39m&\u001b[39m (deexcite_lines\u001b[39m.\u001b[39mwavelength \u001b[39m<\u001b[39m\u001b[39m=\u001b[39m \u001b[39mself\u001b[39m\u001b[39m.\u001b[39mmax_wavelength)\n\u001b[1;32m    508\u001b[0m ]\n\u001b[1;32m    510\u001b[0m \u001b[39m### Compute the standardized log number of electrons for arrow line width\u001b[39;00m\n\u001b[0;32m--> 511\u001b[0m transition_width_coefficient \u001b[39m=\u001b[39m standardize(\n\u001b[1;32m    512\u001b[0m     np\u001b[39m.\u001b[39;49mconcatenate(\n\u001b[1;32m    513\u001b[0m         (excite_lines\u001b[39m.\u001b[39;49mnum_electrons, deexcite_lines\u001b[39m.\u001b[39;49mnum_electrons)\n\u001b[1;32m    514\u001b[0m     ),\n\u001b[1;32m    515\u001b[0m     transform\u001b[39m=\u001b[39;49m\u001b[39mself\u001b[39;49m\u001b[39m.\u001b[39;49m_transition_width_transform,\n\u001b[1;32m    516\u001b[0m )\n\u001b[1;32m    517\u001b[0m excite_lines[\n\u001b[1;32m    518\u001b[0m     \u001b[39m\"\u001b[39m\u001b[39mtransition_width_coefficient\u001b[39m\u001b[39m\"\u001b[39m\n\u001b[1;32m    519\u001b[0m ] \u001b[39m=\u001b[39m transition_width_coefficient[: \u001b[39mlen\u001b[39m(excite_lines)]\n\u001b[1;32m    520\u001b[0m deexcite_lines[\n\u001b[1;32m    521\u001b[0m     \u001b[39m\"\u001b[39m\u001b[39mtransition_width_coefficient\u001b[39m\u001b[39m\"\u001b[39m\n\u001b[1;32m    522\u001b[0m ] \u001b[39m=\u001b[39m transition_width_coefficient[\u001b[39mlen\u001b[39m(excite_lines) :]\n",
      "File \u001b[0;32m~/Documents/tardis/tardis/visualization/widgets/grotrian.py:67\u001b[0m, in \u001b[0;36mstandardize\u001b[0;34m(values, transform, min_value, max_value, zero_undefined, zero_undefined_offset)\u001b[0m\n\u001b[1;32m     65\u001b[0m         min_value \u001b[39m=\u001b[39m values[values \u001b[39m>\u001b[39m \u001b[39m0\u001b[39m]\u001b[39m.\u001b[39mmin()\n\u001b[1;32m     66\u001b[0m     \u001b[39melse\u001b[39;00m:\n\u001b[0;32m---> 67\u001b[0m         min_value \u001b[39m=\u001b[39m values\u001b[39m.\u001b[39;49mmin()\n\u001b[1;32m     68\u001b[0m \u001b[39mif\u001b[39;00m max_value \u001b[39mis\u001b[39;00m \u001b[39mNone\u001b[39;00m:\n\u001b[1;32m     69\u001b[0m     \u001b[39mif\u001b[39;00m zero_undefined:\n",
      "File \u001b[0;32m~/miniconda3/envs/tardis/lib/python3.8/site-packages/numpy/core/_methods.py:43\u001b[0m, in \u001b[0;36m_amin\u001b[0;34m(a, axis, out, keepdims, initial, where)\u001b[0m\n\u001b[1;32m     41\u001b[0m \u001b[39mdef\u001b[39;00m \u001b[39m_amin\u001b[39m(a, axis\u001b[39m=\u001b[39m\u001b[39mNone\u001b[39;00m, out\u001b[39m=\u001b[39m\u001b[39mNone\u001b[39;00m, keepdims\u001b[39m=\u001b[39m\u001b[39mFalse\u001b[39;00m,\n\u001b[1;32m     42\u001b[0m           initial\u001b[39m=\u001b[39m_NoValue, where\u001b[39m=\u001b[39m\u001b[39mTrue\u001b[39;00m):\n\u001b[0;32m---> 43\u001b[0m     \u001b[39mreturn\u001b[39;00m umr_minimum(a, axis, \u001b[39mNone\u001b[39;49;00m, out, keepdims, initial, where)\n",
      "\u001b[0;31mValueError\u001b[0m: zero-size array to reduction operation minimum which has no identity"
     ]
    }
   ],
   "source": [
    "diag = GrotrianWidget.from_simulation(sim)\n",
    "diag.display()"
   ]
  },
  {
   "cell_type": "code",
   "execution_count": null,
   "metadata": {},
   "outputs": [],
   "source": [
    "len(sim.model.v_inner)\n",
    "sim.plasma.lines.loc[16,0]"
   ]
  }
 ],
 "metadata": {
  "kernelspec": {
   "display_name": "Python 3 (ipykernel)",
   "language": "python",
   "name": "python3"
  },
  "language_info": {
   "codemirror_mode": {
    "name": "ipython",
    "version": 3
   },
   "file_extension": ".py",
   "mimetype": "text/x-python",
   "name": "python",
   "nbconvert_exporter": "python",
   "pygments_lexer": "ipython3",
   "version": "3.8.16"
  }
 },
 "nbformat": 4,
 "nbformat_minor": 2
}
