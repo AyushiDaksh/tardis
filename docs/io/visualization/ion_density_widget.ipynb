{
 "cells": [
  {
   "cell_type": "markdown",
   "metadata": {},
   "source": [
    "# First Objective: \"Grotrian diagram visualisation\""
   ]
  },
  {
   "cell_type": "markdown",
   "metadata": {},
   "source": [
    "This is my solution to the first objective of the \"Grotrian diagram visualisation\".\n",
    "[GSoC'23 ideas page](https://tardis-sn.github.io/gsoc_2023/ideas/)\n",
    "<br><br>\n",
    "The logic is location at `tardis.visualization.widgets.ion_density.IonDensityWidget`.<br>The user can select an element from the dropdown in the widget and the corresponding ion fractional densities will be displayed (the ions with zero densities in all shells are filtered out). The user can also toggle the visibility of each plot line by clicking on the corresponding legend."
   ]
  },
  {
   "cell_type": "code",
   "execution_count": null,
   "metadata": {},
   "outputs": [],
   "source": [
    "# Download the atomic data\n",
    "from tardis.io.atom_data.util import download_atom_data\n",
    "download_atom_data('kurucz_cd23_chianti_H_He')"
   ]
  },
  {
   "cell_type": "code",
   "execution_count": 1,
   "metadata": {
    "tags": []
   },
   "outputs": [
    {
     "data": {
      "application/vnd.jupyter.widget-view+json": {
       "model_id": "",
       "version_major": 2,
       "version_minor": 0
      },
      "text/plain": [
       "Iterations:          0/? [00:00<?, ?it/s]"
      ]
     },
     "metadata": {},
     "output_type": "display_data"
    },
    {
     "data": {
      "application/vnd.jupyter.widget-view+json": {
       "model_id": "",
       "version_major": 2,
       "version_minor": 0
      },
      "text/plain": [
       "Packets:             0/? [00:00<?, ?it/s]"
      ]
     },
     "metadata": {},
     "output_type": "display_data"
    },
    {
     "name": "stdout",
     "output_type": "stream",
     "text": [
      "[\u001b[1mpy.warnings         \u001b[0m][\u001b[1;33mWARNING\u001b[0m]  \n",
      "\t/Users/archil/Documents/tardis_ayushi/tardis/plasma/properties/radiative_properties.py:93: RuntimeWarning: invalid value encountered in true_divide\n",
      "  (g_lower * n_upper) / (g_upper * n_lower)\n",
      " (\u001b[1mwarnings.py\u001b[0m:109)\n"
     ]
    },
    {
     "name": "stderr",
     "output_type": "stream",
     "text": [
      "OMP: Info #276: omp_set_nested routine deprecated, please use omp_set_max_active_levels instead.\n"
     ]
    },
    {
     "name": "stdout",
     "output_type": "stream",
     "text": [
      "[\u001b[1mpy.warnings         \u001b[0m][\u001b[1;33mWARNING\u001b[0m]  \n",
      "\t/Users/archil/Documents/tardis_ayushi/tardis/plasma/properties/radiative_properties.py:93: RuntimeWarning: invalid value encountered in true_divide\n",
      "  (g_lower * n_upper) / (g_upper * n_lower)\n",
      " (\u001b[1mwarnings.py\u001b[0m:109)\n"
     ]
    },
    {
     "data": {
      "application/vnd.jupyter.widget-view+json": {
       "model_id": "4ad67a8e7a534863940c7e3d195d6713",
       "version_major": 2,
       "version_minor": 0
      },
      "text/plain": [
       "TqdmHBox(children=(HTML(value='Iterations:', layout=Layout(width='6%')), FloatProgress(value=0.0, layout=Layou…"
      ]
     },
     "metadata": {},
     "output_type": "display_data"
    },
    {
     "data": {
      "application/vnd.jupyter.widget-view+json": {
       "model_id": "4149347c32bb400cbed0366927b6b93b",
       "version_major": 2,
       "version_minor": 0
      },
      "text/plain": [
       "TqdmHBox(children=(HTML(value='Packets:   ', layout=Layout(width='6%')), FloatProgress(value=0.0, layout=Layou…"
      ]
     },
     "metadata": {},
     "output_type": "display_data"
    },
    {
     "name": "stdout",
     "output_type": "stream",
     "text": [
      "[\u001b[1mpy.warnings         \u001b[0m][\u001b[1;33mWARNING\u001b[0m]  \n",
      "\t/Users/archil/Documents/tardis_ayushi/tardis/plasma/properties/radiative_properties.py:93: RuntimeWarning: invalid value encountered in true_divide\n",
      "  (g_lower * n_upper) / (g_upper * n_lower)\n",
      " (\u001b[1mwarnings.py\u001b[0m:109)\n"
     ]
    }
   ],
   "source": [
    "# Run simulation\n",
    "from tardis import run_tardis\n",
    "sim = run_tardis('tardis_example.yml', virtual_packet_logging=True, log_level='CRITICAL')"
   ]
  },
  {
   "cell_type": "markdown",
   "metadata": {},
   "source": [
    "# Plot the data\n",
    "User can select the element from the dropdown, and show/hide the plot lines by clicking on the legend"
   ]
  },
  {
   "cell_type": "code",
   "execution_count": 4,
   "metadata": {
    "tags": []
   },
   "outputs": [
    {
     "data": {
      "application/vnd.jupyter.widget-view+json": {
       "model_id": "fa8aa9cfe5ab4314b0bbfd817189750d",
       "version_major": 2,
       "version_minor": 0
      },
      "text/plain": [
       "VBox(children=(Dropdown(description='Selected Element', index=2, options=('O', 'Mg', 'Si', 'S', 'Ar', 'Ca'), s…"
      ]
     },
     "metadata": {},
     "output_type": "display_data"
    }
   ],
   "source": [
    "from tardis.visualization.widgets.ion_density import IonDensityWidget\n",
    "widget = IonDensityWidget.from_simulation(sim)\n",
    "widget.display()"
   ]
  },
  {
   "cell_type": "code",
   "execution_count": null,
   "metadata": {},
   "outputs": [],
   "source": []
  }
 ],
 "metadata": {
  "kernelspec": {
   "display_name": "Python 3 (ipykernel)",
   "language": "python",
   "name": "python3"
  },
  "language_info": {
   "codemirror_mode": {
    "name": "ipython",
    "version": 3
   },
   "file_extension": ".py",
   "mimetype": "text/x-python",
   "name": "python",
   "nbconvert_exporter": "python",
   "pygments_lexer": "ipython3",
   "version": "3.8.16"
  },
  "vscode": {
   "interpreter": {
    "hash": "defe8b08020f57b91ec8b1bf5347c8e80eebacf58a5c41681b21c70bb98802a0"
   }
  },
  "widgets": {
   "application/vnd.jupyter.widget-state+json": {
    "state": {
     "03ebe28e582d4fa8bde4b08f0c426b84": {
      "model_module": "@jupyter-widgets/base",
      "model_module_version": "1.2.0",
      "model_name": "LayoutModel",
      "state": {}
     },
     "0b18f5b1fbf04b728d0465b8fe35f79e": {
      "model_module": "@jupyter-widgets/controls",
      "model_module_version": "1.5.0",
      "model_name": "FloatProgressModel",
      "state": {
       "layout": "IPY_MODEL_b7f3b18af6474199a43bf1bcee483985",
       "max": 100000,
       "style": "IPY_MODEL_b5b49da89d1b493a9ff1a4e1c364bcd0",
       "value": 100000
      }
     },
     "1ab224d52a5c44329176867c04c863b3": {
      "model_module": "@jupyter-widgets/controls",
      "model_module_version": "1.5.0",
      "model_name": "VBoxModel",
      "state": {
       "children": [
        "IPY_MODEL_c2f8228f284949db8c042aa8352ac85a",
        "IPY_MODEL_c0eba967a3ef4126a648be44f72a3b90"
       ],
       "layout": "IPY_MODEL_a7ff163869f240cca51710d9a1f2105c"
      }
     },
     "2173382981064ebea729e3dcbc8bb229": {
      "model_module": "@jupyter-widgets/controls",
      "model_module_version": "1.5.0",
      "model_name": "FloatProgressModel",
      "state": {
       "bar_style": "info",
       "layout": "IPY_MODEL_deb877f2c8dd451d922b0713680df30c",
       "max": 1,
       "style": "IPY_MODEL_4673826c1a1f48d7ab74305028c5a67f"
      }
     },
     "253e65aa3e7b4bccb8b20e739406fc58": {
      "model_module": "@jupyter-widgets/base",
      "model_module_version": "1.2.0",
      "model_name": "LayoutModel",
      "state": {}
     },
     "2728c05517e3460fa6aeeae27461edbd": {
      "model_module": "@jupyter-widgets/base",
      "model_module_version": "1.2.0",
      "model_name": "LayoutModel",
      "state": {}
     },
     "3496a7c86b494a3e8048cc78f409efc1": {
      "model_module": "@jupyter-widgets/output",
      "model_module_version": "1.0.0",
      "model_name": "OutputModel",
      "state": {
       "layout": "IPY_MODEL_ea6c36ff79e148219b0bceeb1e2c35b2"
      }
     },
     "3858112257894618a4ed7c6a022a2a06": {
      "model_module": "@jupyter-widgets/controls",
      "model_module_version": "1.5.0",
      "model_name": "HTMLModel",
      "state": {
       "layout": "IPY_MODEL_dfce40515451400da6c2ef792486bf58",
       "style": "IPY_MODEL_8527d9661b0e4a9c806665cfe5f6afb2",
       "value": "Packets:   "
      }
     },
     "3860cc73720044128550021905f8a47b": {
      "model_module": "@jupyter-widgets/base",
      "model_module_version": "1.2.0",
      "model_name": "LayoutModel",
      "state": {}
     },
     "3bf89c4f67cc4c9c8b7465fa41d4d0ed": {
      "model_module": "@jupyter-widgets/controls",
      "model_module_version": "1.5.0",
      "model_name": "DescriptionStyleModel",
      "state": {
       "description_width": "initial"
      }
     },
     "3f2db933bec7453799ca1e5021f693d6": {
      "model_module": "@jupyter-widgets/controls",
      "model_module_version": "1.5.0",
      "model_name": "DescriptionStyleModel",
      "state": {
       "description_width": ""
      }
     },
     "411ce037af5c4ddd8099ae40ff1236dc": {
      "model_module": "@jupyter-widgets/controls",
      "model_module_version": "1.5.0",
      "model_name": "DescriptionStyleModel",
      "state": {
       "description_width": ""
      }
     },
     "4149347c32bb400cbed0366927b6b93b": {
      "model_module": "@jupyter-widgets/controls",
      "model_module_version": "1.5.0",
      "model_name": "HBoxModel",
      "state": {
       "children": [
        "IPY_MODEL_3858112257894618a4ed7c6a022a2a06",
        "IPY_MODEL_0b18f5b1fbf04b728d0465b8fe35f79e",
        "IPY_MODEL_a0d2a5a10a9049e9aa1df0bf98c831f3"
       ],
       "layout": "IPY_MODEL_9aab1088d8fe4c1fb49f20dbb064089d"
      }
     },
     "4673826c1a1f48d7ab74305028c5a67f": {
      "model_module": "@jupyter-widgets/controls",
      "model_module_version": "1.5.0",
      "model_name": "ProgressStyleModel",
      "state": {
       "description_width": ""
      }
     },
     "49ebb427588b4240aa7bcbbf009836eb": {
      "model_module": "@jupyter-widgets/controls",
      "model_module_version": "1.5.0",
      "model_name": "HTMLModel",
      "state": {
       "layout": "IPY_MODEL_72c05d43b57342bbaa28f2de35c414ce",
       "style": "IPY_MODEL_411ce037af5c4ddd8099ae40ff1236dc",
       "value": "20/20 [00:17&lt;00:00,  2.08s/it]"
      }
     },
     "4ad67a8e7a534863940c7e3d195d6713": {
      "model_module": "@jupyter-widgets/controls",
      "model_module_version": "1.5.0",
      "model_name": "HBoxModel",
      "state": {
       "children": [
        "IPY_MODEL_e6aa49bf303649faa8330f26c9d74d96",
        "IPY_MODEL_c8cc755be5284d569ff0ac7988d758ab",
        "IPY_MODEL_49ebb427588b4240aa7bcbbf009836eb"
       ],
       "layout": "IPY_MODEL_51a1ea83f91b416baec7e7afd7619aa8"
      }
     },
     "51a1ea83f91b416baec7e7afd7619aa8": {
      "model_module": "@jupyter-widgets/base",
      "model_module_version": "1.2.0",
      "model_name": "LayoutModel",
      "state": {}
     },
     "558f2ffefc3545dbad253a4eb7bd22c7": {
      "model_module": "@jupyter-widgets/controls",
      "model_module_version": "1.5.0",
      "model_name": "DescriptionStyleModel",
      "state": {
       "description_width": ""
      }
     },
     "57c11ce373f74b6a9036a3f48ff041a4": {
      "model_module": "@jupyter-widgets/controls",
      "model_module_version": "1.5.0",
      "model_name": "ProgressStyleModel",
      "state": {
       "description_width": ""
      }
     },
     "5c0951b614eb4cd0a477ffab885cc7f4": {
      "model_module": "@jupyter-widgets/controls",
      "model_module_version": "1.5.0",
      "model_name": "HTMLModel",
      "state": {
       "layout": "IPY_MODEL_80bff77099df4d478ff7ac1a9f7c7970",
       "style": "IPY_MODEL_7556f9ba651442f0adcdada24d85ce76",
       "value": "Packets:   "
      }
     },
     "5d18a040bb734ba49382f282aa9d369e": {
      "model_module": "@jupyter-widgets/base",
      "model_module_version": "1.2.0",
      "model_name": "LayoutModel",
      "state": {}
     },
     "5d40c03f5c8e4ebcb03f61d031c08515": {
      "model_module": "@jupyter-widgets/controls",
      "model_module_version": "1.5.0",
      "model_name": "DescriptionStyleModel",
      "state": {
       "description_width": "initial"
      }
     },
     "61d2883b081b4983a0e99704c824ff6d": {
      "buffers": [
       {
        "data": "AAAAAAB8xUABAAAAAF3GQAEAAAAAPsdAAQAAAAAfyEABAAAAAADJQAEAAAAA4clAAQAAAADCykABAAAAAKPLQAEAAAAAhMxAAQAAAABlzUABAAAAAEbOQAEAAAAAJ89AAAAAAAAE0EAAAAAAgHTQQAAAAAAA5dBAAAAAAIBV0UAAAAAAAMbRQAAAAACANtJAAAAAAACn0kAAAAAAgBfTQAAAAAAAiNNA",
        "encoding": "base64",
        "path": [
         "_data",
         0,
         "x",
         "value"
        ]
       },
       {
        "data": "Lzh7XXVaYD0vOHtddVpgPf+7JkdKzU09kYTUIusHOz0ysBqvy4kpPWFp2jniMyE9NjwIEZCAFT086o2bg4wNPaNrAhBwgAQ9d0Nc7WHz+zyKMtBBSx/3PHAFb228tPI8hoahrtTf7TwJD3oqa6LnPEGPG97PTOQ8eVyNOdJK4TxoMN4/XS3hPHcvzSSKad08cdSVJaQO1jzOWllQhQHXPGduGipEPNg8",
        "encoding": "base64",
        "path": [
         "_data",
         0,
         "y",
         "value"
        ]
       },
       {
        "data": "AAAAAAB8xUABAAAAAF3GQAEAAAAAPsdAAQAAAAAfyEABAAAAAADJQAEAAAAA4clAAQAAAADCykABAAAAAKPLQAEAAAAAhMxAAQAAAABlzUABAAAAAEbOQAEAAAAAJ89AAAAAAAAE0EAAAAAAgHTQQAAAAAAA5dBAAAAAAIBV0UAAAAAAAMbRQAAAAACANtJAAAAAAACn0kAAAAAAgBfTQAAAAAAAiNNA",
        "encoding": "base64",
        "path": [
         "_data",
         1,
         "x",
         "value"
        ]
       },
       {
        "data": "/A9GuAUUFj/8D0a4BRQWP5FutVxxnQw/ol89dNJoAj8t867YSj34PouXT16MNPQ+T2OiTLHr7z7rb0brXc/qPoUPJOYlm+Y+57dCwvLI4j5Q8msDlsThPht9fzHNg+A+sS0MXKpd3j69GGcC9q/bPs7wrzkdpNo+VfuXGrZx2T6w7Ya0AefaPpGqULsmsdk+BQuBrI9q1j5f7vKpt13YPp4KMDdhnNo+",
        "encoding": "base64",
        "path": [
         "_data",
         1,
         "y",
         "value"
        ]
       },
       {
        "data": "AAAAAAB8xUABAAAAAF3GQAEAAAAAPsdAAQAAAAAfyEABAAAAAADJQAEAAAAA4clAAQAAAADCykABAAAAAKPLQAEAAAAAhMxAAQAAAABlzUABAAAAAEbOQAEAAAAAJ89AAAAAAAAE0EAAAAAAgHTQQAAAAAAA5dBAAAAAAIBV0UAAAAAAAMbRQAAAAACANtJAAAAAAACn0kAAAAAAgBfTQAAAAAAAiNNA",
        "encoding": "base64",
        "path": [
         "_data",
         2,
         "x",
         "value"
        ]
       },
       {
        "data": "71sFYMnt7z/vWwVgye3vP6UL85Ae4O8/qiw9VjPG7z+rdHeN8ZrvP5xUtwN8ju8/K1o91+dx7z+6JPfCgmDvP+rvLnk3Te8/tn1BEgMx7z8v6bgHKULvPwpiIoJCS+8/j1wGk4FP7z9GVMlSI1DvPyUNzEvAYO8/C2zJ/TJt7z8oEkAE64/vP29p2xDxl+8/KjF8fNeM7z8Wxt+a3qvvP+u3bZAOw+8/",
        "encoding": "base64",
        "path": [
         "_data",
         2,
         "y",
         "value"
        ]
       },
       {
        "data": "AAAAAAB8xUABAAAAAF3GQAEAAAAAPsdAAQAAAAAfyEABAAAAAADJQAEAAAAA4clAAQAAAADCykABAAAAAKPLQAEAAAAAhMxAAQAAAABlzUABAAAAAEbOQAEAAAAAJ89AAAAAAAAE0EAAAAAAgHTQQAAAAAAA5dBAAAAAAIBV0UAAAAAAAMbRQAAAAACANtJAAAAAAACn0kAAAAAAgBfTQAAAAAAAiNNA",
        "encoding": "base64",
        "path": [
         "_data",
         3,
         "x",
         "value"
        ]
       },
       {
        "data": "IUcHzP+FYT8hRwfM/4VhP/DOpUT5bm8/psQpN4PBfD9km4rzfTeJP4zv3cDkVow/STFxmQe/kT/qp7+qTeyTP6KZemg9VpY/cNB1iETdmT8NeDhppriXP0nUUDeflZY/NPoOu+cNlj+lkqCe2vmVP0rtGz5M5pM/B/VZJglYkj9yXrIK4gGMP+6vSaCFAIo/xukrilPHjD9ZvuuOTQWFP9VO564Qcn4/",
        "encoding": "base64",
        "path": [
         "_data",
         3,
         "y",
         "value"
        ]
       },
       {
        "data": "AAAAAAB8xUABAAAAAF3GQAEAAAAAPsdAAQAAAAAfyEABAAAAAADJQAEAAAAA4clAAQAAAADCykABAAAAAKPLQAEAAAAAhMxAAQAAAABlzUABAAAAAEbOQAEAAAAAJ89AAAAAAAAE0EAAAAAAgHTQQAAAAAAA5dBAAAAAAIBV0UAAAAAAAMbRQAAAAACANtJAAAAAAACn0kAAAAAAgBfTQAAAAAAAiNNA",
        "encoding": "base64",
        "path": [
         "_data",
         4,
         "x",
         "value"
        ]
       },
       {
        "data": "FeM1q9VHmT0V4zWr1UeZPU2W58oRorY90h7ChexW1T2TBbln+FbyPaJu/bz5OvY9tuEA7L5zAT7uG1LUkjwFPgE6p9Q01Qk+H0VMcykCET5Uf9iP3dMJPpu/CbBreQU+3JjCA1//Aj4PXFWUdqkBPoOyTjxCO/o9j4p6X3db9D37MX+hCUrkPd+G6McZEuA9e+//HONI4z2OrCTB12vRPX+4qymh7r49",
        "encoding": "base64",
        "path": [
         "_data",
         4,
         "y",
         "value"
        ]
       }
      ],
      "model_module": "jupyterlab-plotly",
      "model_module_version": "^5.13.0",
      "model_name": "FigureModel",
      "state": {
       "_config": {
        "editSelection": false,
        "plotlyServerURL": "https://plot.ly"
       },
       "_data": [
        {
         "hovertemplate": "Si I<br>Velocity: %{x:.0f}<br>Density: %{y}",
         "line": {
          "shape": "vh"
         },
         "mode": "lines+markers",
         "name": "Si I",
         "type": "scatter",
         "uid": "fdee193e-5b24-42c9-9c1f-5dceb7fbb48f",
         "x": {
          "dtype": "float64",
          "shape": [
           21
          ]
         },
         "y": {
          "dtype": "float64",
          "shape": [
           21
          ]
         }
        },
        {
         "hovertemplate": "Si II<br>Velocity: %{x:.0f}<br>Density: %{y}",
         "line": {
          "shape": "vh"
         },
         "mode": "lines+markers",
         "name": "Si II",
         "type": "scatter",
         "uid": "a4fa7bde-f2be-42bb-baf6-eb605b1081f5",
         "x": {
          "dtype": "float64",
          "shape": [
           21
          ]
         },
         "y": {
          "dtype": "float64",
          "shape": [
           21
          ]
         }
        },
        {
         "hovertemplate": "Si III<br>Velocity: %{x:.0f}<br>Density: %{y}",
         "line": {
          "shape": "vh"
         },
         "mode": "lines+markers",
         "name": "Si III",
         "type": "scatter",
         "uid": "ad84d57e-3137-44e8-9388-a22cf62eb4c5",
         "x": {
          "dtype": "float64",
          "shape": [
           21
          ]
         },
         "y": {
          "dtype": "float64",
          "shape": [
           21
          ]
         }
        },
        {
         "hovertemplate": "Si IV<br>Velocity: %{x:.0f}<br>Density: %{y}",
         "line": {
          "shape": "vh"
         },
         "mode": "lines+markers",
         "name": "Si IV",
         "type": "scatter",
         "uid": "8eadbfb1-fda9-43b7-a208-fea7dc147f4c",
         "x": {
          "dtype": "float64",
          "shape": [
           21
          ]
         },
         "y": {
          "dtype": "float64",
          "shape": [
           21
          ]
         }
        },
        {
         "hovertemplate": "Si V<br>Velocity: %{x:.0f}<br>Density: %{y}",
         "line": {
          "shape": "vh"
         },
         "mode": "lines+markers",
         "name": "Si V",
         "type": "scatter",
         "uid": "e2af5182-262c-4e2f-a039-2f2dffc40502",
         "x": {
          "dtype": "float64",
          "shape": [
           21
          ]
         },
         "y": {
          "dtype": "float64",
          "shape": [
           21
          ]
         }
        }
       ],
       "_js2py_pointsCallback": {},
       "_js2py_restyle": {},
       "_js2py_update": {},
       "_last_layout_edit_id": 27,
       "_last_trace_edit_id": 26,
       "_layout": {
        "autosize": true,
        "legend": {
         "font": {
          "size": 16
         },
         "y": 0.5
        },
        "template": {
         "data": {
          "bar": [
           {
            "error_x": {
             "color": "#2a3f5f"
            },
            "error_y": {
             "color": "#2a3f5f"
            },
            "marker": {
             "line": {
              "color": "#E5ECF6",
              "width": 0.5
             },
             "pattern": {
              "fillmode": "overlay",
              "size": 10,
              "solidity": 0.2
             }
            },
            "type": "bar"
           }
          ],
          "barpolar": [
           {
            "marker": {
             "line": {
              "color": "#E5ECF6",
              "width": 0.5
             },
             "pattern": {
              "fillmode": "overlay",
              "size": 10,
              "solidity": 0.2
             }
            },
            "type": "barpolar"
           }
          ],
          "carpet": [
           {
            "aaxis": {
             "endlinecolor": "#2a3f5f",
             "gridcolor": "white",
             "linecolor": "white",
             "minorgridcolor": "white",
             "startlinecolor": "#2a3f5f"
            },
            "baxis": {
             "endlinecolor": "#2a3f5f",
             "gridcolor": "white",
             "linecolor": "white",
             "minorgridcolor": "white",
             "startlinecolor": "#2a3f5f"
            },
            "type": "carpet"
           }
          ],
          "choropleth": [
           {
            "colorbar": {
             "outlinewidth": 0,
             "ticks": ""
            },
            "type": "choropleth"
           }
          ],
          "contour": [
           {
            "colorbar": {
             "outlinewidth": 0,
             "ticks": ""
            },
            "colorscale": [
             [
              0,
              "#0d0887"
             ],
             [
              0.1111111111111111,
              "#46039f"
             ],
             [
              0.2222222222222222,
              "#7201a8"
             ],
             [
              0.3333333333333333,
              "#9c179e"
             ],
             [
              0.4444444444444444,
              "#bd3786"
             ],
             [
              0.5555555555555556,
              "#d8576b"
             ],
             [
              0.6666666666666666,
              "#ed7953"
             ],
             [
              0.7777777777777778,
              "#fb9f3a"
             ],
             [
              0.8888888888888888,
              "#fdca26"
             ],
             [
              1,
              "#f0f921"
             ]
            ],
            "type": "contour"
           }
          ],
          "contourcarpet": [
           {
            "colorbar": {
             "outlinewidth": 0,
             "ticks": ""
            },
            "type": "contourcarpet"
           }
          ],
          "heatmap": [
           {
            "colorbar": {
             "outlinewidth": 0,
             "ticks": ""
            },
            "colorscale": [
             [
              0,
              "#0d0887"
             ],
             [
              0.1111111111111111,
              "#46039f"
             ],
             [
              0.2222222222222222,
              "#7201a8"
             ],
             [
              0.3333333333333333,
              "#9c179e"
             ],
             [
              0.4444444444444444,
              "#bd3786"
             ],
             [
              0.5555555555555556,
              "#d8576b"
             ],
             [
              0.6666666666666666,
              "#ed7953"
             ],
             [
              0.7777777777777778,
              "#fb9f3a"
             ],
             [
              0.8888888888888888,
              "#fdca26"
             ],
             [
              1,
              "#f0f921"
             ]
            ],
            "type": "heatmap"
           }
          ],
          "heatmapgl": [
           {
            "colorbar": {
             "outlinewidth": 0,
             "ticks": ""
            },
            "colorscale": [
             [
              0,
              "#0d0887"
             ],
             [
              0.1111111111111111,
              "#46039f"
             ],
             [
              0.2222222222222222,
              "#7201a8"
             ],
             [
              0.3333333333333333,
              "#9c179e"
             ],
             [
              0.4444444444444444,
              "#bd3786"
             ],
             [
              0.5555555555555556,
              "#d8576b"
             ],
             [
              0.6666666666666666,
              "#ed7953"
             ],
             [
              0.7777777777777778,
              "#fb9f3a"
             ],
             [
              0.8888888888888888,
              "#fdca26"
             ],
             [
              1,
              "#f0f921"
             ]
            ],
            "type": "heatmapgl"
           }
          ],
          "histogram": [
           {
            "marker": {
             "pattern": {
              "fillmode": "overlay",
              "size": 10,
              "solidity": 0.2
             }
            },
            "type": "histogram"
           }
          ],
          "histogram2d": [
           {
            "colorbar": {
             "outlinewidth": 0,
             "ticks": ""
            },
            "colorscale": [
             [
              0,
              "#0d0887"
             ],
             [
              0.1111111111111111,
              "#46039f"
             ],
             [
              0.2222222222222222,
              "#7201a8"
             ],
             [
              0.3333333333333333,
              "#9c179e"
             ],
             [
              0.4444444444444444,
              "#bd3786"
             ],
             [
              0.5555555555555556,
              "#d8576b"
             ],
             [
              0.6666666666666666,
              "#ed7953"
             ],
             [
              0.7777777777777778,
              "#fb9f3a"
             ],
             [
              0.8888888888888888,
              "#fdca26"
             ],
             [
              1,
              "#f0f921"
             ]
            ],
            "type": "histogram2d"
           }
          ],
          "histogram2dcontour": [
           {
            "colorbar": {
             "outlinewidth": 0,
             "ticks": ""
            },
            "colorscale": [
             [
              0,
              "#0d0887"
             ],
             [
              0.1111111111111111,
              "#46039f"
             ],
             [
              0.2222222222222222,
              "#7201a8"
             ],
             [
              0.3333333333333333,
              "#9c179e"
             ],
             [
              0.4444444444444444,
              "#bd3786"
             ],
             [
              0.5555555555555556,
              "#d8576b"
             ],
             [
              0.6666666666666666,
              "#ed7953"
             ],
             [
              0.7777777777777778,
              "#fb9f3a"
             ],
             [
              0.8888888888888888,
              "#fdca26"
             ],
             [
              1,
              "#f0f921"
             ]
            ],
            "type": "histogram2dcontour"
           }
          ],
          "mesh3d": [
           {
            "colorbar": {
             "outlinewidth": 0,
             "ticks": ""
            },
            "type": "mesh3d"
           }
          ],
          "parcoords": [
           {
            "line": {
             "colorbar": {
              "outlinewidth": 0,
              "ticks": ""
             }
            },
            "type": "parcoords"
           }
          ],
          "pie": [
           {
            "automargin": true,
            "type": "pie"
           }
          ],
          "scatter": [
           {
            "fillpattern": {
             "fillmode": "overlay",
             "size": 10,
             "solidity": 0.2
            },
            "type": "scatter"
           }
          ],
          "scatter3d": [
           {
            "line": {
             "colorbar": {
              "outlinewidth": 0,
              "ticks": ""
             }
            },
            "marker": {
             "colorbar": {
              "outlinewidth": 0,
              "ticks": ""
             }
            },
            "type": "scatter3d"
           }
          ],
          "scattercarpet": [
           {
            "marker": {
             "colorbar": {
              "outlinewidth": 0,
              "ticks": ""
             }
            },
            "type": "scattercarpet"
           }
          ],
          "scattergeo": [
           {
            "marker": {
             "colorbar": {
              "outlinewidth": 0,
              "ticks": ""
             }
            },
            "type": "scattergeo"
           }
          ],
          "scattergl": [
           {
            "marker": {
             "colorbar": {
              "outlinewidth": 0,
              "ticks": ""
             }
            },
            "type": "scattergl"
           }
          ],
          "scattermapbox": [
           {
            "marker": {
             "colorbar": {
              "outlinewidth": 0,
              "ticks": ""
             }
            },
            "type": "scattermapbox"
           }
          ],
          "scatterpolar": [
           {
            "marker": {
             "colorbar": {
              "outlinewidth": 0,
              "ticks": ""
             }
            },
            "type": "scatterpolar"
           }
          ],
          "scatterpolargl": [
           {
            "marker": {
             "colorbar": {
              "outlinewidth": 0,
              "ticks": ""
             }
            },
            "type": "scatterpolargl"
           }
          ],
          "scatterternary": [
           {
            "marker": {
             "colorbar": {
              "outlinewidth": 0,
              "ticks": ""
             }
            },
            "type": "scatterternary"
           }
          ],
          "surface": [
           {
            "colorbar": {
             "outlinewidth": 0,
             "ticks": ""
            },
            "colorscale": [
             [
              0,
              "#0d0887"
             ],
             [
              0.1111111111111111,
              "#46039f"
             ],
             [
              0.2222222222222222,
              "#7201a8"
             ],
             [
              0.3333333333333333,
              "#9c179e"
             ],
             [
              0.4444444444444444,
              "#bd3786"
             ],
             [
              0.5555555555555556,
              "#d8576b"
             ],
             [
              0.6666666666666666,
              "#ed7953"
             ],
             [
              0.7777777777777778,
              "#fb9f3a"
             ],
             [
              0.8888888888888888,
              "#fdca26"
             ],
             [
              1,
              "#f0f921"
             ]
            ],
            "type": "surface"
           }
          ],
          "table": [
           {
            "cells": {
             "fill": {
              "color": "#EBF0F8"
             },
             "line": {
              "color": "white"
             }
            },
            "header": {
             "fill": {
              "color": "#C8D4E3"
             },
             "line": {
              "color": "white"
             }
            },
            "type": "table"
           }
          ]
         },
         "layout": {
          "annotationdefaults": {
           "arrowcolor": "#2a3f5f",
           "arrowhead": 0,
           "arrowwidth": 1
          },
          "autotypenumbers": "strict",
          "coloraxis": {
           "colorbar": {
            "outlinewidth": 0,
            "ticks": ""
           }
          },
          "colorscale": {
           "diverging": [
            [
             0,
             "#8e0152"
            ],
            [
             0.1,
             "#c51b7d"
            ],
            [
             0.2,
             "#de77ae"
            ],
            [
             0.3,
             "#f1b6da"
            ],
            [
             0.4,
             "#fde0ef"
            ],
            [
             0.5,
             "#f7f7f7"
            ],
            [
             0.6,
             "#e6f5d0"
            ],
            [
             0.7,
             "#b8e186"
            ],
            [
             0.8,
             "#7fbc41"
            ],
            [
             0.9,
             "#4d9221"
            ],
            [
             1,
             "#276419"
            ]
           ],
           "sequential": [
            [
             0,
             "#0d0887"
            ],
            [
             0.1111111111111111,
             "#46039f"
            ],
            [
             0.2222222222222222,
             "#7201a8"
            ],
            [
             0.3333333333333333,
             "#9c179e"
            ],
            [
             0.4444444444444444,
             "#bd3786"
            ],
            [
             0.5555555555555556,
             "#d8576b"
            ],
            [
             0.6666666666666666,
             "#ed7953"
            ],
            [
             0.7777777777777778,
             "#fb9f3a"
            ],
            [
             0.8888888888888888,
             "#fdca26"
            ],
            [
             1,
             "#f0f921"
            ]
           ],
           "sequentialminus": [
            [
             0,
             "#0d0887"
            ],
            [
             0.1111111111111111,
             "#46039f"
            ],
            [
             0.2222222222222222,
             "#7201a8"
            ],
            [
             0.3333333333333333,
             "#9c179e"
            ],
            [
             0.4444444444444444,
             "#bd3786"
            ],
            [
             0.5555555555555556,
             "#d8576b"
            ],
            [
             0.6666666666666666,
             "#ed7953"
            ],
            [
             0.7777777777777778,
             "#fb9f3a"
            ],
            [
             0.8888888888888888,
             "#fdca26"
            ],
            [
             1,
             "#f0f921"
            ]
           ]
          },
          "colorway": [
           "#636efa",
           "#EF553B",
           "#00cc96",
           "#ab63fa",
           "#FFA15A",
           "#19d3f3",
           "#FF6692",
           "#B6E880",
           "#FF97FF",
           "#FECB52"
          ],
          "font": {
           "color": "#2a3f5f"
          },
          "geo": {
           "bgcolor": "white",
           "lakecolor": "white",
           "landcolor": "#E5ECF6",
           "showlakes": true,
           "showland": true,
           "subunitcolor": "white"
          },
          "hoverlabel": {
           "align": "left"
          },
          "hovermode": "closest",
          "mapbox": {
           "style": "light"
          },
          "paper_bgcolor": "white",
          "plot_bgcolor": "#E5ECF6",
          "polar": {
           "angularaxis": {
            "gridcolor": "white",
            "linecolor": "white",
            "ticks": ""
           },
           "bgcolor": "#E5ECF6",
           "radialaxis": {
            "gridcolor": "white",
            "linecolor": "white",
            "ticks": ""
           }
          },
          "scene": {
           "xaxis": {
            "backgroundcolor": "#E5ECF6",
            "gridcolor": "white",
            "gridwidth": 2,
            "linecolor": "white",
            "showbackground": true,
            "ticks": "",
            "zerolinecolor": "white"
           },
           "yaxis": {
            "backgroundcolor": "#E5ECF6",
            "gridcolor": "white",
            "gridwidth": 2,
            "linecolor": "white",
            "showbackground": true,
            "ticks": "",
            "zerolinecolor": "white"
           },
           "zaxis": {
            "backgroundcolor": "#E5ECF6",
            "gridcolor": "white",
            "gridwidth": 2,
            "linecolor": "white",
            "showbackground": true,
            "ticks": "",
            "zerolinecolor": "white"
           }
          },
          "shapedefaults": {
           "line": {
            "color": "#2a3f5f"
           }
          },
          "ternary": {
           "aaxis": {
            "gridcolor": "white",
            "linecolor": "white",
            "ticks": ""
           },
           "baxis": {
            "gridcolor": "white",
            "linecolor": "white",
            "ticks": ""
           },
           "bgcolor": "#E5ECF6",
           "caxis": {
            "gridcolor": "white",
            "linecolor": "white",
            "ticks": ""
           }
          },
          "title": {
           "x": 0.05
          },
          "xaxis": {
           "automargin": true,
           "gridcolor": "white",
           "linecolor": "white",
           "ticks": "",
           "title": {
            "standoff": 15
           },
           "zerolinecolor": "white",
           "zerolinewidth": 2
          },
          "yaxis": {
           "automargin": true,
           "gridcolor": "white",
           "linecolor": "white",
           "ticks": "",
           "title": {
            "standoff": 15
           },
           "zerolinecolor": "white",
           "zerolinewidth": 2
          }
         }
        },
        "title": {
         "text": "Si Fractional Ion Density vs Velocity",
         "x": 0.5
        },
        "xaxis": {
         "exponentformat": "none",
         "title": {
          "text": "Velocity (km / s)"
         }
        },
        "yaxis": {
         "exponentformat": "power",
         "title": {
          "text": "Ion Density"
         },
         "type": "log"
        }
       },
       "_py2js_animate": {},
       "_py2js_moveTraces": {},
       "_py2js_removeLayoutProps": {},
       "_py2js_removeTraceProps": {},
       "_py2js_restyle": {},
       "_view_count": 1
      }
     },
     "7208ae4d6de34898be38a9dbf872bbf8": {
      "model_module": "@jupyter-widgets/output",
      "model_module_version": "1.0.0",
      "model_name": "OutputModel",
      "state": {
       "layout": "IPY_MODEL_2728c05517e3460fa6aeeae27461edbd"
      }
     },
     "72c05d43b57342bbaa28f2de35c414ce": {
      "model_module": "@jupyter-widgets/base",
      "model_module_version": "1.2.0",
      "model_name": "LayoutModel",
      "state": {}
     },
     "7556f9ba651442f0adcdada24d85ce76": {
      "model_module": "@jupyter-widgets/controls",
      "model_module_version": "1.5.0",
      "model_name": "DescriptionStyleModel",
      "state": {
       "description_width": ""
      }
     },
     "77adb2641d12421aa791fcaae0723ea4": {
      "model_module": "@jupyter-widgets/base",
      "model_module_version": "1.2.0",
      "model_name": "LayoutModel",
      "state": {
       "width": "20px"
      }
     },
     "80bff77099df4d478ff7ac1a9f7c7970": {
      "model_module": "@jupyter-widgets/base",
      "model_module_version": "1.2.0",
      "model_name": "LayoutModel",
      "state": {}
     },
     "84c2003b2dd94d0e92a7aa6b8c7a0720": {
      "model_module": "@jupyter-widgets/base",
      "model_module_version": "1.2.0",
      "model_name": "LayoutModel",
      "state": {
       "width": "60%"
      }
     },
     "8527d9661b0e4a9c806665cfe5f6afb2": {
      "model_module": "@jupyter-widgets/controls",
      "model_module_version": "1.5.0",
      "model_name": "DescriptionStyleModel",
      "state": {
       "description_width": ""
      }
     },
     "8b61f666dfa941b29eef5e0c880f0407": {
      "model_module": "@jupyter-widgets/base",
      "model_module_version": "1.2.0",
      "model_name": "LayoutModel",
      "state": {}
     },
     "8e022a8d40ef482a94b630694811ed0b": {
      "model_module": "@jupyter-widgets/controls",
      "model_module_version": "1.5.0",
      "model_name": "HTMLModel",
      "state": {
       "layout": "IPY_MODEL_c0a39c68c62a45b3b1912b733686fbcb",
       "style": "IPY_MODEL_b4ff1d9cd9da4b8994bf10d431847f4a",
       "value": "Iterations:"
      }
     },
     "9864da4d988248deafb638a7d8498d7e": {
      "model_module": "@jupyter-widgets/controls",
      "model_module_version": "1.5.0",
      "model_name": "FloatProgressModel",
      "state": {
       "bar_style": "info",
       "layout": "IPY_MODEL_77adb2641d12421aa791fcaae0723ea4",
       "max": 1,
       "style": "IPY_MODEL_e5696aa90642472baaa930e8d1680dd5"
      }
     },
     "9aab1088d8fe4c1fb49f20dbb064089d": {
      "model_module": "@jupyter-widgets/base",
      "model_module_version": "1.2.0",
      "model_name": "LayoutModel",
      "state": {}
     },
     "a0d2a5a10a9049e9aa1df0bf98c831f3": {
      "model_module": "@jupyter-widgets/controls",
      "model_module_version": "1.5.0",
      "model_name": "HTMLModel",
      "state": {
       "layout": "IPY_MODEL_03ebe28e582d4fa8bde4b08f0c426b84",
       "style": "IPY_MODEL_558f2ffefc3545dbad253a4eb7bd22c7",
       "value": "100000/100000 [00:21&lt;00:00, 23153.27it/s]"
      }
     },
     "a5c7cf5460d8434e9ac124cf7e49fe2f": {
      "model_module": "@jupyter-widgets/base",
      "model_module_version": "1.2.0",
      "model_name": "LayoutModel",
      "state": {}
     },
     "a7ff163869f240cca51710d9a1f2105c": {
      "model_module": "@jupyter-widgets/base",
      "model_module_version": "1.2.0",
      "model_name": "LayoutModel",
      "state": {
       "align_items": "center",
       "display": "flex",
       "flex_flow": "column",
       "margin": "10px 0px 0px 5px"
      }
     },
     "aef23132bd2746a2ad1682c62f767c75": {
      "model_module": "@jupyter-widgets/controls",
      "model_module_version": "1.5.0",
      "model_name": "DropdownModel",
      "state": {
       "_options_labels": [
        "O",
        "Mg",
        "Si",
        "S",
        "Ar",
        "Ca"
       ],
       "description": "Selected Element",
       "index": 2,
       "layout": "IPY_MODEL_a5c7cf5460d8434e9ac124cf7e49fe2f",
       "style": "IPY_MODEL_3bf89c4f67cc4c9c8b7465fa41d4d0ed"
      }
     },
     "b4ff1d9cd9da4b8994bf10d431847f4a": {
      "model_module": "@jupyter-widgets/controls",
      "model_module_version": "1.5.0",
      "model_name": "DescriptionStyleModel",
      "state": {
       "description_width": ""
      }
     },
     "b5b49da89d1b493a9ff1a4e1c364bcd0": {
      "model_module": "@jupyter-widgets/controls",
      "model_module_version": "1.5.0",
      "model_name": "ProgressStyleModel",
      "state": {
       "description_width": ""
      }
     },
     "b74acd160473498ea3154ba069361360": {
      "model_module": "@jupyter-widgets/controls",
      "model_module_version": "1.5.0",
      "model_name": "DescriptionStyleModel",
      "state": {
       "description_width": ""
      }
     },
     "b7f3b18af6474199a43bf1bcee483985": {
      "model_module": "@jupyter-widgets/base",
      "model_module_version": "1.2.0",
      "model_name": "LayoutModel",
      "state": {
       "width": "60%"
      }
     },
     "b802c649c6cd4fcd9e353ded34f0a28b": {
      "model_module": "@jupyter-widgets/base",
      "model_module_version": "1.2.0",
      "model_name": "LayoutModel",
      "state": {}
     },
     "bdb3f12633134c6d9a5b53918aaa776f": {
      "model_module": "@jupyter-widgets/controls",
      "model_module_version": "1.5.0",
      "model_name": "HTMLModel",
      "state": {
       "layout": "IPY_MODEL_5d18a040bb734ba49382f282aa9d369e",
       "style": "IPY_MODEL_c81591f5dff84521971d3f7c86364a48",
       "value": "0/? [00:00&lt;?, ?it/s]"
      }
     },
     "c0a39c68c62a45b3b1912b733686fbcb": {
      "model_module": "@jupyter-widgets/base",
      "model_module_version": "1.2.0",
      "model_name": "LayoutModel",
      "state": {}
     },
     "c0eba967a3ef4126a648be44f72a3b90": {
      "buffers": [
       {
        "data": "AAAAAAB8xUABAAAAAF3GQAEAAAAAPsdAAQAAAAAfyEABAAAAAADJQAEAAAAA4clAAQAAAADCykABAAAAAKPLQAEAAAAAhMxAAQAAAABlzUABAAAAAEbOQAEAAAAAJ89AAAAAAAAE0EAAAAAAgHTQQAAAAAAA5dBAAAAAAIBV0UAAAAAAAMbRQAAAAACANtJAAAAAAACn0kAAAAAAgBfTQAAAAAAAiNNA",
        "encoding": "base64",
        "path": [
         "_data",
         0,
         "x",
         "value"
        ]
       },
       {
        "data": "Lzh7XXVaYD0vOHtddVpgPf+7JkdKzU09kYTUIusHOz0ysBqvy4kpPWFp2jniMyE9NjwIEZCAFT086o2bg4wNPaNrAhBwgAQ9d0Nc7WHz+zyKMtBBSx/3PHAFb228tPI8hoahrtTf7TwJD3oqa6LnPEGPG97PTOQ8eVyNOdJK4TxoMN4/XS3hPHcvzSSKad08cdSVJaQO1jzOWllQhQHXPGduGipEPNg8",
        "encoding": "base64",
        "path": [
         "_data",
         0,
         "y",
         "value"
        ]
       },
       {
        "data": "AAAAAAB8xUABAAAAAF3GQAEAAAAAPsdAAQAAAAAfyEABAAAAAADJQAEAAAAA4clAAQAAAADCykABAAAAAKPLQAEAAAAAhMxAAQAAAABlzUABAAAAAEbOQAEAAAAAJ89AAAAAAAAE0EAAAAAAgHTQQAAAAAAA5dBAAAAAAIBV0UAAAAAAAMbRQAAAAACANtJAAAAAAACn0kAAAAAAgBfTQAAAAAAAiNNA",
        "encoding": "base64",
        "path": [
         "_data",
         1,
         "x",
         "value"
        ]
       },
       {
        "data": "/A9GuAUUFj/8D0a4BRQWP5FutVxxnQw/ol89dNJoAj8t867YSj34PouXT16MNPQ+T2OiTLHr7z7rb0brXc/qPoUPJOYlm+Y+57dCwvLI4j5Q8msDlsThPht9fzHNg+A+sS0MXKpd3j69GGcC9q/bPs7wrzkdpNo+VfuXGrZx2T6w7Ya0AefaPpGqULsmsdk+BQuBrI9q1j5f7vKpt13YPp4KMDdhnNo+",
        "encoding": "base64",
        "path": [
         "_data",
         1,
         "y",
         "value"
        ]
       },
       {
        "data": "AAAAAAB8xUABAAAAAF3GQAEAAAAAPsdAAQAAAAAfyEABAAAAAADJQAEAAAAA4clAAQAAAADCykABAAAAAKPLQAEAAAAAhMxAAQAAAABlzUABAAAAAEbOQAEAAAAAJ89AAAAAAAAE0EAAAAAAgHTQQAAAAAAA5dBAAAAAAIBV0UAAAAAAAMbRQAAAAACANtJAAAAAAACn0kAAAAAAgBfTQAAAAAAAiNNA",
        "encoding": "base64",
        "path": [
         "_data",
         2,
         "x",
         "value"
        ]
       },
       {
        "data": "71sFYMnt7z/vWwVgye3vP6UL85Ae4O8/qiw9VjPG7z+rdHeN8ZrvP5xUtwN8ju8/K1o91+dx7z+6JPfCgmDvP+rvLnk3Te8/tn1BEgMx7z8v6bgHKULvPwpiIoJCS+8/j1wGk4FP7z9GVMlSI1DvPyUNzEvAYO8/C2zJ/TJt7z8oEkAE64/vP29p2xDxl+8/KjF8fNeM7z8Wxt+a3qvvP+u3bZAOw+8/",
        "encoding": "base64",
        "path": [
         "_data",
         2,
         "y",
         "value"
        ]
       },
       {
        "data": "AAAAAAB8xUABAAAAAF3GQAEAAAAAPsdAAQAAAAAfyEABAAAAAADJQAEAAAAA4clAAQAAAADCykABAAAAAKPLQAEAAAAAhMxAAQAAAABlzUABAAAAAEbOQAEAAAAAJ89AAAAAAAAE0EAAAAAAgHTQQAAAAAAA5dBAAAAAAIBV0UAAAAAAAMbRQAAAAACANtJAAAAAAACn0kAAAAAAgBfTQAAAAAAAiNNA",
        "encoding": "base64",
        "path": [
         "_data",
         3,
         "x",
         "value"
        ]
       },
       {
        "data": "IUcHzP+FYT8hRwfM/4VhP/DOpUT5bm8/psQpN4PBfD9km4rzfTeJP4zv3cDkVow/STFxmQe/kT/qp7+qTeyTP6KZemg9VpY/cNB1iETdmT8NeDhppriXP0nUUDeflZY/NPoOu+cNlj+lkqCe2vmVP0rtGz5M5pM/B/VZJglYkj9yXrIK4gGMP+6vSaCFAIo/xukrilPHjD9ZvuuOTQWFP9VO564Qcn4/",
        "encoding": "base64",
        "path": [
         "_data",
         3,
         "y",
         "value"
        ]
       },
       {
        "data": "AAAAAAB8xUABAAAAAF3GQAEAAAAAPsdAAQAAAAAfyEABAAAAAADJQAEAAAAA4clAAQAAAADCykABAAAAAKPLQAEAAAAAhMxAAQAAAABlzUABAAAAAEbOQAEAAAAAJ89AAAAAAAAE0EAAAAAAgHTQQAAAAAAA5dBAAAAAAIBV0UAAAAAAAMbRQAAAAACANtJAAAAAAACn0kAAAAAAgBfTQAAAAAAAiNNA",
        "encoding": "base64",
        "path": [
         "_data",
         4,
         "x",
         "value"
        ]
       },
       {
        "data": "FeM1q9VHmT0V4zWr1UeZPU2W58oRorY90h7ChexW1T2TBbln+FbyPaJu/bz5OvY9tuEA7L5zAT7uG1LUkjwFPgE6p9Q01Qk+H0VMcykCET5Uf9iP3dMJPpu/CbBreQU+3JjCA1//Aj4PXFWUdqkBPoOyTjxCO/o9j4p6X3db9D37MX+hCUrkPd+G6McZEuA9e+//HONI4z2OrCTB12vRPX+4qymh7r49",
        "encoding": "base64",
        "path": [
         "_data",
         4,
         "y",
         "value"
        ]
       }
      ],
      "model_module": "jupyterlab-plotly",
      "model_module_version": "^5.13.0",
      "model_name": "FigureModel",
      "state": {
       "_config": {
        "editSelection": false,
        "plotlyServerURL": "https://plot.ly"
       },
       "_data": [
        {
         "hovertemplate": "Si I<br>Velocity: %{x:.0f}<br>Density: %{y}",
         "line": {
          "shape": "vh"
         },
         "mode": "lines+markers",
         "name": "Si I",
         "type": "scatter",
         "uid": "66063a4f-33ef-4d55-a181-2ca749dab206",
         "x": {
          "dtype": "float64",
          "shape": [
           21
          ]
         },
         "y": {
          "dtype": "float64",
          "shape": [
           21
          ]
         }
        },
        {
         "hovertemplate": "Si II<br>Velocity: %{x:.0f}<br>Density: %{y}",
         "line": {
          "shape": "vh"
         },
         "mode": "lines+markers",
         "name": "Si II",
         "type": "scatter",
         "uid": "f6f6c079-4acf-48dd-a8c2-d499c328c7b6",
         "x": {
          "dtype": "float64",
          "shape": [
           21
          ]
         },
         "y": {
          "dtype": "float64",
          "shape": [
           21
          ]
         }
        },
        {
         "hovertemplate": "Si III<br>Velocity: %{x:.0f}<br>Density: %{y}",
         "line": {
          "shape": "vh"
         },
         "mode": "lines+markers",
         "name": "Si III",
         "type": "scatter",
         "uid": "a77945db-19a0-4bd7-be81-61983c8255e0",
         "x": {
          "dtype": "float64",
          "shape": [
           21
          ]
         },
         "y": {
          "dtype": "float64",
          "shape": [
           21
          ]
         }
        },
        {
         "hovertemplate": "Si IV<br>Velocity: %{x:.0f}<br>Density: %{y}",
         "line": {
          "shape": "vh"
         },
         "mode": "lines+markers",
         "name": "Si IV",
         "type": "scatter",
         "uid": "4fd17720-7641-488d-ae78-ca0667831a0f",
         "x": {
          "dtype": "float64",
          "shape": [
           21
          ]
         },
         "y": {
          "dtype": "float64",
          "shape": [
           21
          ]
         }
        },
        {
         "hovertemplate": "Si V<br>Velocity: %{x:.0f}<br>Density: %{y}",
         "line": {
          "shape": "vh"
         },
         "mode": "lines+markers",
         "name": "Si V",
         "type": "scatter",
         "uid": "949d8583-344e-41dc-8238-5c805638439c",
         "x": {
          "dtype": "float64",
          "shape": [
           21
          ]
         },
         "y": {
          "dtype": "float64",
          "shape": [
           21
          ]
         }
        }
       ],
       "_js2py_restyle": {},
       "_js2py_update": {},
       "_last_layout_edit_id": 11,
       "_last_trace_edit_id": 10,
       "_layout": {
        "autosize": true,
        "legend": {
         "font": {
          "size": 16
         },
         "y": 0.5
        },
        "template": {
         "data": {
          "bar": [
           {
            "error_x": {
             "color": "#2a3f5f"
            },
            "error_y": {
             "color": "#2a3f5f"
            },
            "marker": {
             "line": {
              "color": "#E5ECF6",
              "width": 0.5
             },
             "pattern": {
              "fillmode": "overlay",
              "size": 10,
              "solidity": 0.2
             }
            },
            "type": "bar"
           }
          ],
          "barpolar": [
           {
            "marker": {
             "line": {
              "color": "#E5ECF6",
              "width": 0.5
             },
             "pattern": {
              "fillmode": "overlay",
              "size": 10,
              "solidity": 0.2
             }
            },
            "type": "barpolar"
           }
          ],
          "carpet": [
           {
            "aaxis": {
             "endlinecolor": "#2a3f5f",
             "gridcolor": "white",
             "linecolor": "white",
             "minorgridcolor": "white",
             "startlinecolor": "#2a3f5f"
            },
            "baxis": {
             "endlinecolor": "#2a3f5f",
             "gridcolor": "white",
             "linecolor": "white",
             "minorgridcolor": "white",
             "startlinecolor": "#2a3f5f"
            },
            "type": "carpet"
           }
          ],
          "choropleth": [
           {
            "colorbar": {
             "outlinewidth": 0,
             "ticks": ""
            },
            "type": "choropleth"
           }
          ],
          "contour": [
           {
            "colorbar": {
             "outlinewidth": 0,
             "ticks": ""
            },
            "colorscale": [
             [
              0,
              "#0d0887"
             ],
             [
              0.1111111111111111,
              "#46039f"
             ],
             [
              0.2222222222222222,
              "#7201a8"
             ],
             [
              0.3333333333333333,
              "#9c179e"
             ],
             [
              0.4444444444444444,
              "#bd3786"
             ],
             [
              0.5555555555555556,
              "#d8576b"
             ],
             [
              0.6666666666666666,
              "#ed7953"
             ],
             [
              0.7777777777777778,
              "#fb9f3a"
             ],
             [
              0.8888888888888888,
              "#fdca26"
             ],
             [
              1,
              "#f0f921"
             ]
            ],
            "type": "contour"
           }
          ],
          "contourcarpet": [
           {
            "colorbar": {
             "outlinewidth": 0,
             "ticks": ""
            },
            "type": "contourcarpet"
           }
          ],
          "heatmap": [
           {
            "colorbar": {
             "outlinewidth": 0,
             "ticks": ""
            },
            "colorscale": [
             [
              0,
              "#0d0887"
             ],
             [
              0.1111111111111111,
              "#46039f"
             ],
             [
              0.2222222222222222,
              "#7201a8"
             ],
             [
              0.3333333333333333,
              "#9c179e"
             ],
             [
              0.4444444444444444,
              "#bd3786"
             ],
             [
              0.5555555555555556,
              "#d8576b"
             ],
             [
              0.6666666666666666,
              "#ed7953"
             ],
             [
              0.7777777777777778,
              "#fb9f3a"
             ],
             [
              0.8888888888888888,
              "#fdca26"
             ],
             [
              1,
              "#f0f921"
             ]
            ],
            "type": "heatmap"
           }
          ],
          "heatmapgl": [
           {
            "colorbar": {
             "outlinewidth": 0,
             "ticks": ""
            },
            "colorscale": [
             [
              0,
              "#0d0887"
             ],
             [
              0.1111111111111111,
              "#46039f"
             ],
             [
              0.2222222222222222,
              "#7201a8"
             ],
             [
              0.3333333333333333,
              "#9c179e"
             ],
             [
              0.4444444444444444,
              "#bd3786"
             ],
             [
              0.5555555555555556,
              "#d8576b"
             ],
             [
              0.6666666666666666,
              "#ed7953"
             ],
             [
              0.7777777777777778,
              "#fb9f3a"
             ],
             [
              0.8888888888888888,
              "#fdca26"
             ],
             [
              1,
              "#f0f921"
             ]
            ],
            "type": "heatmapgl"
           }
          ],
          "histogram": [
           {
            "marker": {
             "pattern": {
              "fillmode": "overlay",
              "size": 10,
              "solidity": 0.2
             }
            },
            "type": "histogram"
           }
          ],
          "histogram2d": [
           {
            "colorbar": {
             "outlinewidth": 0,
             "ticks": ""
            },
            "colorscale": [
             [
              0,
              "#0d0887"
             ],
             [
              0.1111111111111111,
              "#46039f"
             ],
             [
              0.2222222222222222,
              "#7201a8"
             ],
             [
              0.3333333333333333,
              "#9c179e"
             ],
             [
              0.4444444444444444,
              "#bd3786"
             ],
             [
              0.5555555555555556,
              "#d8576b"
             ],
             [
              0.6666666666666666,
              "#ed7953"
             ],
             [
              0.7777777777777778,
              "#fb9f3a"
             ],
             [
              0.8888888888888888,
              "#fdca26"
             ],
             [
              1,
              "#f0f921"
             ]
            ],
            "type": "histogram2d"
           }
          ],
          "histogram2dcontour": [
           {
            "colorbar": {
             "outlinewidth": 0,
             "ticks": ""
            },
            "colorscale": [
             [
              0,
              "#0d0887"
             ],
             [
              0.1111111111111111,
              "#46039f"
             ],
             [
              0.2222222222222222,
              "#7201a8"
             ],
             [
              0.3333333333333333,
              "#9c179e"
             ],
             [
              0.4444444444444444,
              "#bd3786"
             ],
             [
              0.5555555555555556,
              "#d8576b"
             ],
             [
              0.6666666666666666,
              "#ed7953"
             ],
             [
              0.7777777777777778,
              "#fb9f3a"
             ],
             [
              0.8888888888888888,
              "#fdca26"
             ],
             [
              1,
              "#f0f921"
             ]
            ],
            "type": "histogram2dcontour"
           }
          ],
          "mesh3d": [
           {
            "colorbar": {
             "outlinewidth": 0,
             "ticks": ""
            },
            "type": "mesh3d"
           }
          ],
          "parcoords": [
           {
            "line": {
             "colorbar": {
              "outlinewidth": 0,
              "ticks": ""
             }
            },
            "type": "parcoords"
           }
          ],
          "pie": [
           {
            "automargin": true,
            "type": "pie"
           }
          ],
          "scatter": [
           {
            "fillpattern": {
             "fillmode": "overlay",
             "size": 10,
             "solidity": 0.2
            },
            "type": "scatter"
           }
          ],
          "scatter3d": [
           {
            "line": {
             "colorbar": {
              "outlinewidth": 0,
              "ticks": ""
             }
            },
            "marker": {
             "colorbar": {
              "outlinewidth": 0,
              "ticks": ""
             }
            },
            "type": "scatter3d"
           }
          ],
          "scattercarpet": [
           {
            "marker": {
             "colorbar": {
              "outlinewidth": 0,
              "ticks": ""
             }
            },
            "type": "scattercarpet"
           }
          ],
          "scattergeo": [
           {
            "marker": {
             "colorbar": {
              "outlinewidth": 0,
              "ticks": ""
             }
            },
            "type": "scattergeo"
           }
          ],
          "scattergl": [
           {
            "marker": {
             "colorbar": {
              "outlinewidth": 0,
              "ticks": ""
             }
            },
            "type": "scattergl"
           }
          ],
          "scattermapbox": [
           {
            "marker": {
             "colorbar": {
              "outlinewidth": 0,
              "ticks": ""
             }
            },
            "type": "scattermapbox"
           }
          ],
          "scatterpolar": [
           {
            "marker": {
             "colorbar": {
              "outlinewidth": 0,
              "ticks": ""
             }
            },
            "type": "scatterpolar"
           }
          ],
          "scatterpolargl": [
           {
            "marker": {
             "colorbar": {
              "outlinewidth": 0,
              "ticks": ""
             }
            },
            "type": "scatterpolargl"
           }
          ],
          "scatterternary": [
           {
            "marker": {
             "colorbar": {
              "outlinewidth": 0,
              "ticks": ""
             }
            },
            "type": "scatterternary"
           }
          ],
          "surface": [
           {
            "colorbar": {
             "outlinewidth": 0,
             "ticks": ""
            },
            "colorscale": [
             [
              0,
              "#0d0887"
             ],
             [
              0.1111111111111111,
              "#46039f"
             ],
             [
              0.2222222222222222,
              "#7201a8"
             ],
             [
              0.3333333333333333,
              "#9c179e"
             ],
             [
              0.4444444444444444,
              "#bd3786"
             ],
             [
              0.5555555555555556,
              "#d8576b"
             ],
             [
              0.6666666666666666,
              "#ed7953"
             ],
             [
              0.7777777777777778,
              "#fb9f3a"
             ],
             [
              0.8888888888888888,
              "#fdca26"
             ],
             [
              1,
              "#f0f921"
             ]
            ],
            "type": "surface"
           }
          ],
          "table": [
           {
            "cells": {
             "fill": {
              "color": "#EBF0F8"
             },
             "line": {
              "color": "white"
             }
            },
            "header": {
             "fill": {
              "color": "#C8D4E3"
             },
             "line": {
              "color": "white"
             }
            },
            "type": "table"
           }
          ]
         },
         "layout": {
          "annotationdefaults": {
           "arrowcolor": "#2a3f5f",
           "arrowhead": 0,
           "arrowwidth": 1
          },
          "autotypenumbers": "strict",
          "coloraxis": {
           "colorbar": {
            "outlinewidth": 0,
            "ticks": ""
           }
          },
          "colorscale": {
           "diverging": [
            [
             0,
             "#8e0152"
            ],
            [
             0.1,
             "#c51b7d"
            ],
            [
             0.2,
             "#de77ae"
            ],
            [
             0.3,
             "#f1b6da"
            ],
            [
             0.4,
             "#fde0ef"
            ],
            [
             0.5,
             "#f7f7f7"
            ],
            [
             0.6,
             "#e6f5d0"
            ],
            [
             0.7,
             "#b8e186"
            ],
            [
             0.8,
             "#7fbc41"
            ],
            [
             0.9,
             "#4d9221"
            ],
            [
             1,
             "#276419"
            ]
           ],
           "sequential": [
            [
             0,
             "#0d0887"
            ],
            [
             0.1111111111111111,
             "#46039f"
            ],
            [
             0.2222222222222222,
             "#7201a8"
            ],
            [
             0.3333333333333333,
             "#9c179e"
            ],
            [
             0.4444444444444444,
             "#bd3786"
            ],
            [
             0.5555555555555556,
             "#d8576b"
            ],
            [
             0.6666666666666666,
             "#ed7953"
            ],
            [
             0.7777777777777778,
             "#fb9f3a"
            ],
            [
             0.8888888888888888,
             "#fdca26"
            ],
            [
             1,
             "#f0f921"
            ]
           ],
           "sequentialminus": [
            [
             0,
             "#0d0887"
            ],
            [
             0.1111111111111111,
             "#46039f"
            ],
            [
             0.2222222222222222,
             "#7201a8"
            ],
            [
             0.3333333333333333,
             "#9c179e"
            ],
            [
             0.4444444444444444,
             "#bd3786"
            ],
            [
             0.5555555555555556,
             "#d8576b"
            ],
            [
             0.6666666666666666,
             "#ed7953"
            ],
            [
             0.7777777777777778,
             "#fb9f3a"
            ],
            [
             0.8888888888888888,
             "#fdca26"
            ],
            [
             1,
             "#f0f921"
            ]
           ]
          },
          "colorway": [
           "#636efa",
           "#EF553B",
           "#00cc96",
           "#ab63fa",
           "#FFA15A",
           "#19d3f3",
           "#FF6692",
           "#B6E880",
           "#FF97FF",
           "#FECB52"
          ],
          "font": {
           "color": "#2a3f5f"
          },
          "geo": {
           "bgcolor": "white",
           "lakecolor": "white",
           "landcolor": "#E5ECF6",
           "showlakes": true,
           "showland": true,
           "subunitcolor": "white"
          },
          "hoverlabel": {
           "align": "left"
          },
          "hovermode": "closest",
          "mapbox": {
           "style": "light"
          },
          "paper_bgcolor": "white",
          "plot_bgcolor": "#E5ECF6",
          "polar": {
           "angularaxis": {
            "gridcolor": "white",
            "linecolor": "white",
            "ticks": ""
           },
           "bgcolor": "#E5ECF6",
           "radialaxis": {
            "gridcolor": "white",
            "linecolor": "white",
            "ticks": ""
           }
          },
          "scene": {
           "xaxis": {
            "backgroundcolor": "#E5ECF6",
            "gridcolor": "white",
            "gridwidth": 2,
            "linecolor": "white",
            "showbackground": true,
            "ticks": "",
            "zerolinecolor": "white"
           },
           "yaxis": {
            "backgroundcolor": "#E5ECF6",
            "gridcolor": "white",
            "gridwidth": 2,
            "linecolor": "white",
            "showbackground": true,
            "ticks": "",
            "zerolinecolor": "white"
           },
           "zaxis": {
            "backgroundcolor": "#E5ECF6",
            "gridcolor": "white",
            "gridwidth": 2,
            "linecolor": "white",
            "showbackground": true,
            "ticks": "",
            "zerolinecolor": "white"
           }
          },
          "shapedefaults": {
           "line": {
            "color": "#2a3f5f"
           }
          },
          "ternary": {
           "aaxis": {
            "gridcolor": "white",
            "linecolor": "white",
            "ticks": ""
           },
           "baxis": {
            "gridcolor": "white",
            "linecolor": "white",
            "ticks": ""
           },
           "bgcolor": "#E5ECF6",
           "caxis": {
            "gridcolor": "white",
            "linecolor": "white",
            "ticks": ""
           }
          },
          "title": {
           "x": 0.05
          },
          "xaxis": {
           "automargin": true,
           "gridcolor": "white",
           "linecolor": "white",
           "ticks": "",
           "title": {
            "standoff": 15
           },
           "zerolinecolor": "white",
           "zerolinewidth": 2
          },
          "yaxis": {
           "automargin": true,
           "gridcolor": "white",
           "linecolor": "white",
           "ticks": "",
           "title": {
            "standoff": 15
           },
           "zerolinecolor": "white",
           "zerolinewidth": 2
          }
         }
        },
        "title": {
         "text": "Si Fractional Ion Density vs Velocity",
         "x": 0.5
        },
        "xaxis": {
         "exponentformat": "none",
         "title": {
          "text": "Velocity (km / s)"
         }
        },
        "yaxis": {
         "exponentformat": "power",
         "title": {
          "text": "Ion Density"
         },
         "type": "log"
        }
       },
       "_py2js_animate": {},
       "_py2js_deleteTraces": {},
       "_py2js_moveTraces": {},
       "_py2js_removeLayoutProps": {},
       "_py2js_removeTraceProps": {},
       "_py2js_restyle": {},
       "_view_count": 0
      }
     },
     "c2f8228f284949db8c042aa8352ac85a": {
      "model_module": "@jupyter-widgets/controls",
      "model_module_version": "1.5.0",
      "model_name": "DropdownModel",
      "state": {
       "_options_labels": [
        "O",
        "Mg",
        "Si",
        "S",
        "Ar",
        "Ca"
       ],
       "description": "Selected Element",
       "index": 2,
       "layout": "IPY_MODEL_8b61f666dfa941b29eef5e0c880f0407",
       "style": "IPY_MODEL_5d40c03f5c8e4ebcb03f61d031c08515"
      }
     },
     "c81591f5dff84521971d3f7c86364a48": {
      "model_module": "@jupyter-widgets/controls",
      "model_module_version": "1.5.0",
      "model_name": "DescriptionStyleModel",
      "state": {
       "description_width": ""
      }
     },
     "c8cc755be5284d569ff0ac7988d758ab": {
      "model_module": "@jupyter-widgets/controls",
      "model_module_version": "1.5.0",
      "model_name": "FloatProgressModel",
      "state": {
       "layout": "IPY_MODEL_84c2003b2dd94d0e92a7aa6b8c7a0720",
       "max": 20,
       "style": "IPY_MODEL_57c11ce373f74b6a9036a3f48ff041a4",
       "value": 20
      }
     },
     "d91d0f6c1a914bc582c36ff171fa89d0": {
      "model_module": "@jupyter-widgets/controls",
      "model_module_version": "1.5.0",
      "model_name": "HTMLModel",
      "state": {
       "layout": "IPY_MODEL_253e65aa3e7b4bccb8b20e739406fc58",
       "style": "IPY_MODEL_3f2db933bec7453799ca1e5021f693d6",
       "value": "0/? [00:00&lt;?, ?it/s]"
      }
     },
     "deb877f2c8dd451d922b0713680df30c": {
      "model_module": "@jupyter-widgets/base",
      "model_module_version": "1.2.0",
      "model_name": "LayoutModel",
      "state": {
       "width": "20px"
      }
     },
     "dfce40515451400da6c2ef792486bf58": {
      "model_module": "@jupyter-widgets/base",
      "model_module_version": "1.2.0",
      "model_name": "LayoutModel",
      "state": {
       "width": "6%"
      }
     },
     "e5696aa90642472baaa930e8d1680dd5": {
      "model_module": "@jupyter-widgets/controls",
      "model_module_version": "1.5.0",
      "model_name": "ProgressStyleModel",
      "state": {
       "description_width": ""
      }
     },
     "e6aa49bf303649faa8330f26c9d74d96": {
      "model_module": "@jupyter-widgets/controls",
      "model_module_version": "1.5.0",
      "model_name": "HTMLModel",
      "state": {
       "layout": "IPY_MODEL_f84037a5e7414d06a66c1fe8e761c060",
       "style": "IPY_MODEL_b74acd160473498ea3154ba069361360",
       "value": "Iterations:"
      }
     },
     "ea6c36ff79e148219b0bceeb1e2c35b2": {
      "model_module": "@jupyter-widgets/base",
      "model_module_version": "1.2.0",
      "model_name": "LayoutModel",
      "state": {}
     },
     "f84037a5e7414d06a66c1fe8e761c060": {
      "model_module": "@jupyter-widgets/base",
      "model_module_version": "1.2.0",
      "model_name": "LayoutModel",
      "state": {
       "width": "6%"
      }
     },
     "fa8aa9cfe5ab4314b0bbfd817189750d": {
      "model_module": "@jupyter-widgets/controls",
      "model_module_version": "1.5.0",
      "model_name": "VBoxModel",
      "state": {
       "children": [
        "IPY_MODEL_aef23132bd2746a2ad1682c62f767c75",
        "IPY_MODEL_61d2883b081b4983a0e99704c824ff6d"
       ],
       "layout": "IPY_MODEL_fcfebae1d7184edc8f9f8861e05dc033"
      }
     },
     "fcfebae1d7184edc8f9f8861e05dc033": {
      "model_module": "@jupyter-widgets/base",
      "model_module_version": "1.2.0",
      "model_name": "LayoutModel",
      "state": {
       "align_items": "center",
       "display": "flex",
       "flex_flow": "column",
       "margin": "10px 0px 0px 5px"
      }
     }
    },
    "version_major": 2,
    "version_minor": 0
   }
  }
 },
 "nbformat": 4,
 "nbformat_minor": 4
}
