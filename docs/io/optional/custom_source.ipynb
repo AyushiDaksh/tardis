{
 "cells": [
  {
   "attachments": {},
   "cell_type": "markdown",
   "metadata": {},
   "source": [
    "# Running TARDIS with a Custom Packet Source"
   ]
  },
  {
   "attachments": {},
   "cell_type": "markdown",
   "metadata": {},
   "source": [
    "By default, TARDIS generates energy packets using its `BasePacketSource` class, which models the photosphere of the supernova as a perfect blackbody (see [Energy Packet Initialization](../../physics/montecarlo/initialization.ipynb)). However, users may create their own packet source, as will be shown in this notebook. In order to do this, a user must create a class (that can but does not have to inherit from `BasePacketSource`) which contains a method `create_packets` that takes in (in this order):\n",
    "- the photospheric temperature\n",
    "- the number of packets\n",
    "- a random number generator\n",
    "- the photospheric radius\n",
    "\n",
    "and returns arrays of the radii, frequencies, propogation directions, and energies of the ensemble of packets (once again see [Energy Packet Initialization](../../physics/montecarlo/initialization.ipynb) for more information). To use your packet source in a run of TARDIS, you must pass an instance of your class into the `run_tardis` function under the `packet_source` keyword argument.\n",
    "\n",
    ".. note:: In both the `BasePacketSource` class and in the example here, all packets are generated at the same radius. This need not be true in general (although the `create_packets` method should only take in a single radius as its argument).\n",
    "\n",
    "We show an example of how a custom packet source is used:"
   ]
  },
  {
   "cell_type": "code",
   "execution_count": 1,
   "metadata": {},
   "outputs": [
    {
     "data": {
      "application/vnd.jupyter.widget-view+json": {
       "model_id": "73d574c0901243c899fa08cc4630ac45",
       "version_major": 2,
       "version_minor": 0
      },
      "text/plain": [
       "Iterations:          0/? [00:00<?, ?it/s]"
      ]
     },
     "metadata": {},
     "output_type": "display_data"
    },
    {
     "data": {
      "application/vnd.jupyter.widget-view+json": {
       "model_id": "61f85733b3a14c04a2603e6f692d97e0",
       "version_major": 2,
       "version_minor": 0
      },
      "text/plain": [
       "Packets:             0/? [00:00<?, ?it/s]"
      ]
     },
     "metadata": {},
     "output_type": "display_data"
    }
   ],
   "source": [
    "# Import necessary packages\n",
    "import numpy as np\n",
    "from tardis import constants as const\n",
    "from astropy import units as u\n",
    "from tardis.montecarlo.packet_source import BasePacketSource\n",
    "from tardis import run_tardis\n",
    "import matplotlib.pyplot as plt\n",
    "from tardis.io.atom_data import download_atom_data"
   ]
  },
  {
   "cell_type": "code",
   "execution_count": null,
   "metadata": {},
   "outputs": [],
   "source": [
    "# Download the atomic data used for a run of TARDIS\n",
    "download_atom_data('kurucz_cd23_chianti_H_He')"
   ]
  },
  {
   "cell_type": "code",
   "execution_count": 2,
   "metadata": {},
   "outputs": [],
   "source": [
    "# Create a packet source class that contains a create_packets method\n",
    "class TruncBlackbodySource(BasePacketSource):\n",
    "    \"\"\"\n",
    "        Custom inner boundary source class to replace the Blackbody source\n",
    "        with a truncated Blackbody source.\n",
    "    \"\"\"\n",
    "    \n",

    "    def __init__(self, seed, truncation_wavelength):\n",
    "        \"\"\"\n",
    "        Parameters\n",
    "        ----------\n",
    "        base_seed: Seed for random number generator\n",
    "        truncation_wavelength : astropy.Quantity\n",
    "            truncation wavelength.\n",
    "        \"\"\"\n",
    "        super().__init__(base_seed)\n",
    "        self.rng = np.random.default_rng(seed=base_seed)\n",
    "        # Only wavelengths higher than the truncation wavelength will be sampled.\n",
    "        self.truncation_wavelength = truncation_wavelength\n",
    "    \n",
    "    def create_packets(self, T, no_of_packets, radius,\n",
    "                       drawing_sample_size=None):\n",
    "        \"\"\"\n",
    "        Packet source that generates a truncated Blackbody source.\n",
    "        \n",
    "        Parameters\n",
    "        ----------\n",
    "        temperature : astropy.Quantity\n",
    "            Absolute Temperature\n",
    "        no_of_packets : int\n",
    "            Number of packets\n",
    "        rng : numpy random number generator\n",
    "        radius : astropy.Quantity\n",
    "            Initial packet radius \n",
    "\n",
    "        Returns\n",
    "        -------\n",
    "        astropy.Quantity : Packet radii\n",
    "        astropy.Quantity : Packet frequencies\n",
    "        astropy.Quantity : Packet directions\n",
    "        astropy.Quantity : Packet energies\n",
    "        \"\"\"\n",
    "        \n",
    "        # Makes uniform array of packet radii\n",
    "        radii = np.ones(no_of_packets) * radius\n",
    "\n",
    "        # Use mus and energies from normal blackbody source.\n",
    "        mus = self.create_zero_limb_darkening_packet_mus(no_of_packets)\n",
    "        energies = self.create_uniform_packet_energies(no_of_packets)\n",
    "\n",
    "        # If not specified, draw 2 times as many packets and reject any beyond no_of_packets.\n",
    "        if drawing_sample_size is None:\n",
    "            drawing_sample_size = 2 * no_of_packets\n",
    "\n",
    "        # Blackbody will be truncated below truncation_wavelength / above truncation_frequency.\n",
    "        truncation_frequency = self.truncation_wavelength.to(\n",
    "                                          u.Hz, equivalencies=u.spectral())\n",
    "        \n",
    "        # Draw nus from blackbody distribution and reject based on truncation_frequency.\n",
    "        # If more nus.shape[0] > no_of_packets use only the first no_of_packets.\n",
    "        nus = self.create_blackbody_packet_nus(T, drawing_sample_size)\n",
    "        nus = nus[nus<truncation_frequency][:no_of_packets]\n",
    "        \n",
    "        \n",
    "        # Only required if the truncation wavelength is too big compared to the maximum \n",
    "        # of the blackbody distribution. Keep sampling until nus.shape[0] > no_of_packets.\n",
    "        while nus.shape[0] < no_of_packets:\n",
    "            additional_nus = self.create_blackbody_packet_nus(\n",
    "                T, drawing_sample_size\n",
    "            )\n",
    "            mask = additional_nus < truncation_frequency\n",
    "            additional_nus = additional_nus[mask][:no_of_packets]\n",
    "            nus = np.hstack([nus, additional_nus])[:no_of_packets]\n",
    "            \n",
    "        return radii, nus, mus, energies"
   ]
  },
  {
   "cell_type": "code",
   "execution_count": 3,
   "metadata": {},
   "outputs": [],
   "source": [
    "# Call an instance of the packet source class\n",
    "packet_source = TruncBlackbodySource(\n",
    "    53253, truncation_wavelength=2000 * u.Angstrom\n",
    ")"
   ]
  },
  {
   "attachments": {},
   "cell_type": "markdown",
   "metadata": {},
   "source": [
    "We now run TARDIS both with and without our custom packet source, and we compare the results:"
   ]
  },
  {
   "cell_type": "code",
   "execution_count": 4,
   "metadata": {},
   "outputs": [
    {
     "name": "stdout",
     "output_type": "stream",
     "text": [
      "[\u001b[1mtardis.plasma.standard_plasmas\u001b[0m][\u001b[1;37mINFO\u001b[0m   ]  \n",
      "\t\n",
      "\tReading Atomic Data from kurucz_cd23_chianti_H_He.h5 (\u001b[1mstandard_plasmas.py\u001b[0m:95)\n",
      "[\u001b[1mtardis.io.atom_data.util\u001b[0m][\u001b[1;37mINFO\u001b[0m   ]  \n",
      "\t\n",
      "\tAtom Data kurucz_cd23_chianti_H_He.h5 not found in local path.\n",
      "\tExists in TARDIS Data repo /Users/archil/Downloads/tardis-data/kurucz_cd23_chianti_H_He.h5 (\u001b[1mutil.py\u001b[0m:33)\n",
      "[\u001b[1mtardis.io.atom_data.base\u001b[0m][\u001b[1;37mINFO\u001b[0m   ]  \n",
      "\tReading Atom Data with: UUID = 6f7b09e887a311e7a06b246e96350010 MD5  = 864f1753714343c41f99cb065710cace  (\u001b[1mbase.py\u001b[0m:249)\n",
      "[\u001b[1mtardis.io.atom_data.base\u001b[0m][\u001b[1;37mINFO\u001b[0m   ]  \n",
      "\tNon provided Atomic Data: synpp_refs, photoionization_data, yg_data, two_photon_data (\u001b[1mbase.py\u001b[0m:253)\n",
      "[\u001b[1mpy.warnings         \u001b[0m][\u001b[1;33mWARNING\u001b[0m]  \n",
      "\t/Users/archil/Documents/tardis_ayushi/tardis/plasma/properties/radiative_properties.py:93: RuntimeWarning: invalid value encountered in true_divide\n",
      "  (g_lower * n_upper) / (g_upper * n_lower)\n",
      " (\u001b[1mwarnings.py\u001b[0m:109)\n"
     ]
    },
    {
     "name": "stderr",
     "output_type": "stream",
     "text": [
      "OMP: Info #276: omp_set_nested routine deprecated, please use omp_set_max_active_levels instead.\n"
     ]
    },
    {
     "name": "stdout",
     "output_type": "stream",
     "text": [
      "[\u001b[1mpy.warnings         \u001b[0m][\u001b[1;33mWARNING\u001b[0m]  \n",
      "\t/Users/archil/Documents/tardis_ayushi/tardis/plasma/properties/radiative_properties.py:93: RuntimeWarning: invalid value encountered in true_divide\n",
      "  (g_lower * n_upper) / (g_upper * n_lower)\n",
      " (\u001b[1mwarnings.py\u001b[0m:109)\n",
      "[\u001b[1mtardis.simulation.base\u001b[0m][\u001b[1;37mINFO\u001b[0m   ]  \n",
      "\t\n",
      "\tStarting iteration 1 of 20 (\u001b[1mbase.py\u001b[0m:385)\n"
     ]
    },
    {
     "data": {
      "application/vnd.jupyter.widget-view+json": {
       "model_id": "49cfa7edb090447697d598c98c624fb1",
       "version_major": 2,
       "version_minor": 0
      },
      "text/plain": [
       "TqdmHBox(children=(HTML(value='Iterations:', layout=Layout(width='6%')), FloatProgress(value=0.0, layout=Layou…"
      ]
     },
     "metadata": {},
     "output_type": "display_data"
    },
    {
     "data": {
      "application/vnd.jupyter.widget-view+json": {
       "model_id": "6edae20f73d74e77b87e4e6923cab272",
       "version_major": 2,
       "version_minor": 0
      },
      "text/plain": [
       "TqdmHBox(children=(HTML(value='Packets:   ', layout=Layout(width='6%')), FloatProgress(value=0.0, layout=Layou…"
      ]
     },
     "metadata": {},
     "output_type": "display_data"
    },
    {
     "name": "stdout",
     "output_type": "stream",
     "text": [
      "[\u001b[1mtardis.simulation.base\u001b[0m][\u001b[1;37mINFO\u001b[0m   ]  \n",
      "\t\n",
      "\tLuminosity emitted   = 8.037e+42 erg / s\n",
      "\tLuminosity absorbed  = 2.571e+42 erg / s\n",
      "\tLuminosity requested = 1.059e+43 erg / s\n",
      " (\u001b[1mbase.py\u001b[0m:559)\n",
      "[\u001b[1mtardis.simulation.base\u001b[0m][\u001b[1;37mINFO\u001b[0m   ]  \n",
      "\t\n",
      "\tPlasma stratification: (\u001b[1mbase.py\u001b[0m:527)\n"
     ]
    },
    {
     "data": {
      "text/html": [
       "<style  type=\"text/css\" >\n",
       "</style><table id=\"T_3bbd1a7a_cc4d_11ed_8e79_12e413fbf88c\" ><thead>    <tr>        <th class=\"index_name level0\" >Shell No.</th>        <th class=\"col_heading level0 col0\" >t_rad</th>        <th class=\"col_heading level0 col1\" >next_t_rad</th>        <th class=\"col_heading level0 col2\" >w</th>        <th class=\"col_heading level0 col3\" >next_w</th>    </tr></thead><tbody>\n",
       "                <tr>\n",
       "                        <th id=\"T_3bbd1a7a_cc4d_11ed_8e79_12e413fbf88clevel0_row0\" class=\"row_heading level0 row0\" >0</th>\n",
       "                        <td id=\"T_3bbd1a7a_cc4d_11ed_8e79_12e413fbf88crow0_col0\" class=\"data row0 col0\" >9.93e+03</td>\n",
       "                        <td id=\"T_3bbd1a7a_cc4d_11ed_8e79_12e413fbf88crow0_col1\" class=\"data row0 col1\" >9.42e+03</td>\n",
       "                        <td id=\"T_3bbd1a7a_cc4d_11ed_8e79_12e413fbf88crow0_col2\" class=\"data row0 col2\" >0.4</td>\n",
       "                        <td id=\"T_3bbd1a7a_cc4d_11ed_8e79_12e413fbf88crow0_col3\" class=\"data row0 col3\" >0.674</td>\n",
       "            </tr>\n",
       "            <tr>\n",
       "                        <th id=\"T_3bbd1a7a_cc4d_11ed_8e79_12e413fbf88clevel0_row1\" class=\"row_heading level0 row1\" >5</th>\n",
       "                        <td id=\"T_3bbd1a7a_cc4d_11ed_8e79_12e413fbf88crow1_col0\" class=\"data row1 col0\" >9.85e+03</td>\n",
       "                        <td id=\"T_3bbd1a7a_cc4d_11ed_8e79_12e413fbf88crow1_col1\" class=\"data row1 col1\" >9.74e+03</td>\n",
       "                        <td id=\"T_3bbd1a7a_cc4d_11ed_8e79_12e413fbf88crow1_col2\" class=\"data row1 col2\" >0.211</td>\n",
       "                        <td id=\"T_3bbd1a7a_cc4d_11ed_8e79_12e413fbf88crow1_col3\" class=\"data row1 col3\" >0.24</td>\n",
       "            </tr>\n",
       "            <tr>\n",
       "                        <th id=\"T_3bbd1a7a_cc4d_11ed_8e79_12e413fbf88clevel0_row2\" class=\"row_heading level0 row2\" >10</th>\n",
       "                        <td id=\"T_3bbd1a7a_cc4d_11ed_8e79_12e413fbf88crow2_col0\" class=\"data row2 col0\" >9.78e+03</td>\n",
       "                        <td id=\"T_3bbd1a7a_cc4d_11ed_8e79_12e413fbf88crow2_col1\" class=\"data row2 col1\" >9.63e+03</td>\n",
       "                        <td id=\"T_3bbd1a7a_cc4d_11ed_8e79_12e413fbf88crow2_col2\" class=\"data row2 col2\" >0.143</td>\n",
       "                        <td id=\"T_3bbd1a7a_cc4d_11ed_8e79_12e413fbf88crow2_col3\" class=\"data row2 col3\" >0.145</td>\n",
       "            </tr>\n",
       "            <tr>\n",
       "                        <th id=\"T_3bbd1a7a_cc4d_11ed_8e79_12e413fbf88clevel0_row3\" class=\"row_heading level0 row3\" >15</th>\n",
       "                        <td id=\"T_3bbd1a7a_cc4d_11ed_8e79_12e413fbf88crow3_col0\" class=\"data row3 col0\" >9.71e+03</td>\n",
       "                        <td id=\"T_3bbd1a7a_cc4d_11ed_8e79_12e413fbf88crow3_col1\" class=\"data row3 col1\" >9.36e+03</td>\n",
       "                        <td id=\"T_3bbd1a7a_cc4d_11ed_8e79_12e413fbf88crow3_col2\" class=\"data row3 col2\" >0.105</td>\n",
       "                        <td id=\"T_3bbd1a7a_cc4d_11ed_8e79_12e413fbf88crow3_col3\" class=\"data row3 col3\" >0.109</td>\n",
       "            </tr>\n",
       "    </tbody></table>"
      ],
      "text/plain": [
       "<pandas.io.formats.style.Styler at 0x7fa1b9c0dbe0>"
      ]
     },
     "metadata": {},
     "output_type": "display_data"
    },
    {
     "name": "stdout",
     "output_type": "stream",
     "text": [
      "[\u001b[1mtardis.simulation.base\u001b[0m][\u001b[1;37mINFO\u001b[0m   ]  \n",
      "\t\n",
      "\tCurrent t_inner = 9933.952 K\n",
      "\tExpected t_inner for next iteration = 10669.203 K\n",
      " (\u001b[1mbase.py\u001b[0m:554)\n",
      "[\u001b[1mpy.warnings         \u001b[0m][\u001b[1;33mWARNING\u001b[0m]  \n",
      "\t/Users/archil/Documents/tardis_ayushi/tardis/plasma/properties/radiative_properties.py:93: RuntimeWarning: invalid value encountered in true_divide\n",
      "  (g_lower * n_upper) / (g_upper * n_lower)\n",
      " (\u001b[1mwarnings.py\u001b[0m:109)\n",
      "[\u001b[1mtardis.simulation.base\u001b[0m][\u001b[1;37mINFO\u001b[0m   ]  \n",
      "\t\n",
      "\tStarting iteration 2 of 20 (\u001b[1mbase.py\u001b[0m:385)\n",
      "[\u001b[1mtardis.simulation.base\u001b[0m][\u001b[1;37mINFO\u001b[0m   ]  \n",
      "\t\n",
      "\tLuminosity emitted   = 1.057e+43 erg / s\n",
      "\tLuminosity absorbed  = 3.539e+42 erg / s\n",
      "\tLuminosity requested = 1.059e+43 erg / s\n",
      " (\u001b[1mbase.py\u001b[0m:559)\n",
      "[\u001b[1mtardis.simulation.base\u001b[0m][\u001b[1;37mINFO\u001b[0m   ]  \n",
      "\t\n",
      "\tPlasma stratification: (\u001b[1mbase.py\u001b[0m:527)\n"
     ]
    },
    {
     "data": {
      "text/html": [
       "<style  type=\"text/css\" >\n",
       "</style><table id=\"T_3c1d66f0_cc4d_11ed_8e79_12e413fbf88c\" ><thead>    <tr>        <th class=\"index_name level0\" >Shell No.</th>        <th class=\"col_heading level0 col0\" >t_rad</th>        <th class=\"col_heading level0 col1\" >next_t_rad</th>        <th class=\"col_heading level0 col2\" >w</th>        <th class=\"col_heading level0 col3\" >next_w</th>    </tr></thead><tbody>\n",
       "                <tr>\n",
       "                        <th id=\"T_3c1d66f0_cc4d_11ed_8e79_12e413fbf88clevel0_row0\" class=\"row_heading level0 row0\" >0</th>\n",
       "                        <td id=\"T_3c1d66f0_cc4d_11ed_8e79_12e413fbf88crow0_col0\" class=\"data row0 col0\" >9.42e+03</td>\n",
       "                        <td id=\"T_3c1d66f0_cc4d_11ed_8e79_12e413fbf88crow0_col1\" class=\"data row0 col1\" >9.62e+03</td>\n",
       "                        <td id=\"T_3c1d66f0_cc4d_11ed_8e79_12e413fbf88crow0_col2\" class=\"data row0 col2\" >0.674</td>\n",
       "                        <td id=\"T_3c1d66f0_cc4d_11ed_8e79_12e413fbf88crow0_col3\" class=\"data row0 col3\" >0.833</td>\n",
       "            </tr>\n",
       "            <tr>\n",
       "                        <th id=\"T_3c1d66f0_cc4d_11ed_8e79_12e413fbf88clevel0_row1\" class=\"row_heading level0 row1\" >5</th>\n",
       "                        <td id=\"T_3c1d66f0_cc4d_11ed_8e79_12e413fbf88crow1_col0\" class=\"data row1 col0\" >9.74e+03</td>\n",
       "                        <td id=\"T_3c1d66f0_cc4d_11ed_8e79_12e413fbf88crow1_col1\" class=\"data row1 col1\" >9.89e+03</td>\n",
       "                        <td id=\"T_3c1d66f0_cc4d_11ed_8e79_12e413fbf88crow1_col2\" class=\"data row1 col2\" >0.24</td>\n",
       "                        <td id=\"T_3c1d66f0_cc4d_11ed_8e79_12e413fbf88crow1_col3\" class=\"data row1 col3\" >0.302</td>\n",
       "            </tr>\n",
       "            <tr>\n",
       "                        <th id=\"T_3c1d66f0_cc4d_11ed_8e79_12e413fbf88clevel0_row2\" class=\"row_heading level0 row2\" >10</th>\n",
       "                        <td id=\"T_3c1d66f0_cc4d_11ed_8e79_12e413fbf88crow2_col0\" class=\"data row2 col0\" >9.63e+03</td>\n",
       "                        <td id=\"T_3c1d66f0_cc4d_11ed_8e79_12e413fbf88crow2_col1\" class=\"data row2 col1\" >9.82e+03</td>\n",
       "                        <td id=\"T_3c1d66f0_cc4d_11ed_8e79_12e413fbf88crow2_col2\" class=\"data row2 col2\" >0.145</td>\n",
       "                        <td id=\"T_3c1d66f0_cc4d_11ed_8e79_12e413fbf88crow2_col3\" class=\"data row2 col3\" >0.177</td>\n",
       "            </tr>\n",
       "            <tr>\n",
       "                        <th id=\"T_3c1d66f0_cc4d_11ed_8e79_12e413fbf88clevel0_row3\" class=\"row_heading level0 row3\" >15</th>\n",
       "                        <td id=\"T_3c1d66f0_cc4d_11ed_8e79_12e413fbf88crow3_col0\" class=\"data row3 col0\" >9.36e+03</td>\n",
       "                        <td id=\"T_3c1d66f0_cc4d_11ed_8e79_12e413fbf88crow3_col1\" class=\"data row3 col1\" >9.68e+03</td>\n",
       "                        <td id=\"T_3c1d66f0_cc4d_11ed_8e79_12e413fbf88crow3_col2\" class=\"data row3 col2\" >0.109</td>\n",
       "                        <td id=\"T_3c1d66f0_cc4d_11ed_8e79_12e413fbf88crow3_col3\" class=\"data row3 col3\" >0.125</td>\n",
       "            </tr>\n",
       "    </tbody></table>"
      ],
      "text/plain": [
       "<pandas.io.formats.style.Styler at 0x7fa1ce35d3d0>"
      ]
     },
     "metadata": {},
     "output_type": "display_data"
    },
    {
     "name": "stdout",
     "output_type": "stream",
     "text": [
      "[\u001b[1mtardis.simulation.base\u001b[0m][\u001b[1;37mINFO\u001b[0m   ]  \n",
      "\t\n",
      "\tCurrent t_inner = 10669.203 K\n",
      "\tExpected t_inner for next iteration = 10675.465 K\n",
      " (\u001b[1mbase.py\u001b[0m:554)\n",
      "[\u001b[1mtardis.simulation.base\u001b[0m][\u001b[1;37mINFO\u001b[0m   ]  \n",
      "\t\n",
      "\tStarting iteration 3 of 20 (\u001b[1mbase.py\u001b[0m:385)\n",
      "[\u001b[1mtardis.simulation.base\u001b[0m][\u001b[1;37mINFO\u001b[0m   ]  \n",
      "\t\n",
      "\tLuminosity emitted   = 1.069e+43 erg / s\n",
      "\tLuminosity absorbed  = 3.457e+42 erg / s\n",
      "\tLuminosity requested = 1.059e+43 erg / s\n",
      " (\u001b[1mbase.py\u001b[0m:559)\n",
      "[\u001b[1mtardis.simulation.base\u001b[0m][\u001b[1;37mINFO\u001b[0m   ]  \n",
      "\tIteration converged 1/4 consecutive times. (\u001b[1mbase.py\u001b[0m:266)\n",
      "[\u001b[1mtardis.simulation.base\u001b[0m][\u001b[1;37mINFO\u001b[0m   ]  \n",
      "\t\n",
      "\tPlasma stratification: (\u001b[1mbase.py\u001b[0m:527)\n"
     ]
    },
    {
     "data": {
      "text/html": [
       "<style  type=\"text/css\" >\n",
       "</style><table id=\"T_3c77f99e_cc4d_11ed_8e79_12e413fbf88c\" ><thead>    <tr>        <th class=\"index_name level0\" >Shell No.</th>        <th class=\"col_heading level0 col0\" >t_rad</th>        <th class=\"col_heading level0 col1\" >next_t_rad</th>        <th class=\"col_heading level0 col2\" >w</th>        <th class=\"col_heading level0 col3\" >next_w</th>    </tr></thead><tbody>\n",
       "                <tr>\n",
       "                        <th id=\"T_3c77f99e_cc4d_11ed_8e79_12e413fbf88clevel0_row0\" class=\"row_heading level0 row0\" >0</th>\n",
       "                        <td id=\"T_3c77f99e_cc4d_11ed_8e79_12e413fbf88crow0_col0\" class=\"data row0 col0\" >9.62e+03</td>\n",
       "                        <td id=\"T_3c77f99e_cc4d_11ed_8e79_12e413fbf88crow0_col1\" class=\"data row0 col1\" >9.7e+03</td>\n",
       "                        <td id=\"T_3c77f99e_cc4d_11ed_8e79_12e413fbf88crow0_col2\" class=\"data row0 col2\" >0.833</td>\n",
       "                        <td id=\"T_3c77f99e_cc4d_11ed_8e79_12e413fbf88crow0_col3\" class=\"data row0 col3\" >0.806</td>\n",
       "            </tr>\n",
       "            <tr>\n",
       "                        <th id=\"T_3c77f99e_cc4d_11ed_8e79_12e413fbf88clevel0_row1\" class=\"row_heading level0 row1\" >5</th>\n",
       "                        <td id=\"T_3c77f99e_cc4d_11ed_8e79_12e413fbf88crow1_col0\" class=\"data row1 col0\" >9.89e+03</td>\n",
       "                        <td id=\"T_3c77f99e_cc4d_11ed_8e79_12e413fbf88crow1_col1\" class=\"data row1 col1\" >9.93e+03</td>\n",
       "                        <td id=\"T_3c77f99e_cc4d_11ed_8e79_12e413fbf88crow1_col2\" class=\"data row1 col2\" >0.302</td>\n",
       "                        <td id=\"T_3c77f99e_cc4d_11ed_8e79_12e413fbf88crow1_col3\" class=\"data row1 col3\" >0.298</td>\n",
       "            </tr>\n",
       "            <tr>\n",
       "                        <th id=\"T_3c77f99e_cc4d_11ed_8e79_12e413fbf88clevel0_row2\" class=\"row_heading level0 row2\" >10</th>\n",
       "                        <td id=\"T_3c77f99e_cc4d_11ed_8e79_12e413fbf88crow2_col0\" class=\"data row2 col0\" >9.82e+03</td>\n",
       "                        <td id=\"T_3c77f99e_cc4d_11ed_8e79_12e413fbf88crow2_col1\" class=\"data row2 col1\" >9.79e+03</td>\n",
       "                        <td id=\"T_3c77f99e_cc4d_11ed_8e79_12e413fbf88crow2_col2\" class=\"data row2 col2\" >0.177</td>\n",
       "                        <td id=\"T_3c77f99e_cc4d_11ed_8e79_12e413fbf88crow2_col3\" class=\"data row2 col3\" >0.183</td>\n",
       "            </tr>\n",
       "            <tr>\n",
       "                        <th id=\"T_3c77f99e_cc4d_11ed_8e79_12e413fbf88clevel0_row3\" class=\"row_heading level0 row3\" >15</th>\n",
       "                        <td id=\"T_3c77f99e_cc4d_11ed_8e79_12e413fbf88crow3_col0\" class=\"data row3 col0\" >9.68e+03</td>\n",
       "                        <td id=\"T_3c77f99e_cc4d_11ed_8e79_12e413fbf88crow3_col1\" class=\"data row3 col1\" >9.65e+03</td>\n",
       "                        <td id=\"T_3c77f99e_cc4d_11ed_8e79_12e413fbf88crow3_col2\" class=\"data row3 col2\" >0.125</td>\n",
       "                        <td id=\"T_3c77f99e_cc4d_11ed_8e79_12e413fbf88crow3_col3\" class=\"data row3 col3\" >0.128</td>\n",
       "            </tr>\n",
       "    </tbody></table>"
      ],
      "text/plain": [
       "<pandas.io.formats.style.Styler at 0x7fa1bb695ee0>"
      ]
     },
     "metadata": {},
     "output_type": "display_data"
    },
    {
     "name": "stdout",
     "output_type": "stream",
     "text": [
      "[\u001b[1mtardis.simulation.base\u001b[0m][\u001b[1;37mINFO\u001b[0m   ]  \n",
      "\t\n",
      "\tCurrent t_inner = 10675.465 K\n",
      "\tExpected t_inner for next iteration = 10651.837 K\n",
      " (\u001b[1mbase.py\u001b[0m:554)\n",
      "[\u001b[1mtardis.simulation.base\u001b[0m][\u001b[1;37mINFO\u001b[0m   ]  \n",
      "\t\n",
      "\tStarting iteration 4 of 20 (\u001b[1mbase.py\u001b[0m:385)\n",
      "[\u001b[1mtardis.simulation.base\u001b[0m][\u001b[1;37mINFO\u001b[0m   ]  \n",
      "\t\n",
      "\tLuminosity emitted   = 1.055e+43 erg / s\n",
      "\tLuminosity absorbed  = 3.476e+42 erg / s\n",
      "\tLuminosity requested = 1.059e+43 erg / s\n",
      " (\u001b[1mbase.py\u001b[0m:559)\n",
      "[\u001b[1mtardis.simulation.base\u001b[0m][\u001b[1;37mINFO\u001b[0m   ]  \n",
      "\tIteration converged 2/4 consecutive times. (\u001b[1mbase.py\u001b[0m:266)\n",
      "[\u001b[1mtardis.simulation.base\u001b[0m][\u001b[1;37mINFO\u001b[0m   ]  \n",
      "\t\n",
      "\tPlasma stratification: (\u001b[1mbase.py\u001b[0m:527)\n"
     ]
    },
    {
     "data": {
      "text/html": [
       "<style  type=\"text/css\" >\n",
       "</style><table id=\"T_3ce27fa8_cc4d_11ed_8e79_12e413fbf88c\" ><thead>    <tr>        <th class=\"index_name level0\" >Shell No.</th>        <th class=\"col_heading level0 col0\" >t_rad</th>        <th class=\"col_heading level0 col1\" >next_t_rad</th>        <th class=\"col_heading level0 col2\" >w</th>        <th class=\"col_heading level0 col3\" >next_w</th>    </tr></thead><tbody>\n",
       "                <tr>\n",
       "                        <th id=\"T_3ce27fa8_cc4d_11ed_8e79_12e413fbf88clevel0_row0\" class=\"row_heading level0 row0\" >0</th>\n",
       "                        <td id=\"T_3ce27fa8_cc4d_11ed_8e79_12e413fbf88crow0_col0\" class=\"data row0 col0\" >9.7e+03</td>\n",
       "                        <td id=\"T_3ce27fa8_cc4d_11ed_8e79_12e413fbf88crow0_col1\" class=\"data row0 col1\" >9.65e+03</td>\n",
       "                        <td id=\"T_3ce27fa8_cc4d_11ed_8e79_12e413fbf88crow0_col2\" class=\"data row0 col2\" >0.806</td>\n",
       "                        <td id=\"T_3ce27fa8_cc4d_11ed_8e79_12e413fbf88crow0_col3\" class=\"data row0 col3\" >0.816</td>\n",
       "            </tr>\n",
       "            <tr>\n",
       "                        <th id=\"T_3ce27fa8_cc4d_11ed_8e79_12e413fbf88clevel0_row1\" class=\"row_heading level0 row1\" >5</th>\n",
       "                        <td id=\"T_3ce27fa8_cc4d_11ed_8e79_12e413fbf88crow1_col0\" class=\"data row1 col0\" >9.93e+03</td>\n",
       "                        <td id=\"T_3ce27fa8_cc4d_11ed_8e79_12e413fbf88crow1_col1\" class=\"data row1 col1\" >9.88e+03</td>\n",
       "                        <td id=\"T_3ce27fa8_cc4d_11ed_8e79_12e413fbf88crow1_col2\" class=\"data row1 col2\" >0.298</td>\n",
       "                        <td id=\"T_3ce27fa8_cc4d_11ed_8e79_12e413fbf88crow1_col3\" class=\"data row1 col3\" >0.297</td>\n",
       "            </tr>\n",
       "            <tr>\n",
       "                        <th id=\"T_3ce27fa8_cc4d_11ed_8e79_12e413fbf88clevel0_row2\" class=\"row_heading level0 row2\" >10</th>\n",
       "                        <td id=\"T_3ce27fa8_cc4d_11ed_8e79_12e413fbf88crow2_col0\" class=\"data row2 col0\" >9.79e+03</td>\n",
       "                        <td id=\"T_3ce27fa8_cc4d_11ed_8e79_12e413fbf88crow2_col1\" class=\"data row2 col1\" >9.79e+03</td>\n",
       "                        <td id=\"T_3ce27fa8_cc4d_11ed_8e79_12e413fbf88crow2_col2\" class=\"data row2 col2\" >0.183</td>\n",
       "                        <td id=\"T_3ce27fa8_cc4d_11ed_8e79_12e413fbf88crow2_col3\" class=\"data row2 col3\" >0.177</td>\n",
       "            </tr>\n",
       "            <tr>\n",
       "                        <th id=\"T_3ce27fa8_cc4d_11ed_8e79_12e413fbf88clevel0_row3\" class=\"row_heading level0 row3\" >15</th>\n",
       "                        <td id=\"T_3ce27fa8_cc4d_11ed_8e79_12e413fbf88crow3_col0\" class=\"data row3 col0\" >9.65e+03</td>\n",
       "                        <td id=\"T_3ce27fa8_cc4d_11ed_8e79_12e413fbf88crow3_col1\" class=\"data row3 col1\" >9.6e+03</td>\n",
       "                        <td id=\"T_3ce27fa8_cc4d_11ed_8e79_12e413fbf88crow3_col2\" class=\"data row3 col2\" >0.128</td>\n",
       "                        <td id=\"T_3ce27fa8_cc4d_11ed_8e79_12e413fbf88crow3_col3\" class=\"data row3 col3\" >0.129</td>\n",
       "            </tr>\n",
       "    </tbody></table>"
      ],
      "text/plain": [
       "<pandas.io.formats.style.Styler at 0x7fa1aa500370>"
      ]
     },
     "metadata": {},
     "output_type": "display_data"
    },
    {
     "name": "stdout",
     "output_type": "stream",
     "text": [
      "[\u001b[1mtardis.simulation.base\u001b[0m][\u001b[1;37mINFO\u001b[0m   ]  \n",
      "\t\n",
      "\tCurrent t_inner = 10651.837 K\n",
      "\tExpected t_inner for next iteration = 10663.586 K\n",
      " (\u001b[1mbase.py\u001b[0m:554)\n",
      "[\u001b[1mtardis.simulation.base\u001b[0m][\u001b[1;37mINFO\u001b[0m   ]  \n",
      "\t\n",
      "\tStarting iteration 5 of 20 (\u001b[1mbase.py\u001b[0m:385)\n",
      "[\u001b[1mtardis.simulation.base\u001b[0m][\u001b[1;37mINFO\u001b[0m   ]  \n",
      "\t\n",
      "\tLuminosity emitted   = 1.060e+43 erg / s\n",
      "\tLuminosity absorbed  = 3.476e+42 erg / s\n",
      "\tLuminosity requested = 1.059e+43 erg / s\n",
      " (\u001b[1mbase.py\u001b[0m:559)\n",
      "[\u001b[1mtardis.simulation.base\u001b[0m][\u001b[1;37mINFO\u001b[0m   ]  \n",
      "\tIteration converged 3/4 consecutive times. (\u001b[1mbase.py\u001b[0m:266)\n",
      "[\u001b[1mtardis.simulation.base\u001b[0m][\u001b[1;37mINFO\u001b[0m   ]  \n",
      "\t\n",
      "\tPlasma stratification: (\u001b[1mbase.py\u001b[0m:527)\n"
     ]
    },
    {
     "data": {
      "text/html": [
       "<style  type=\"text/css\" >\n",
       "</style><table id=\"T_3d3d91fe_cc4d_11ed_8e79_12e413fbf88c\" ><thead>    <tr>        <th class=\"index_name level0\" >Shell No.</th>        <th class=\"col_heading level0 col0\" >t_rad</th>        <th class=\"col_heading level0 col1\" >next_t_rad</th>        <th class=\"col_heading level0 col2\" >w</th>        <th class=\"col_heading level0 col3\" >next_w</th>    </tr></thead><tbody>\n",
       "                <tr>\n",
       "                        <th id=\"T_3d3d91fe_cc4d_11ed_8e79_12e413fbf88clevel0_row0\" class=\"row_heading level0 row0\" >0</th>\n",
       "                        <td id=\"T_3d3d91fe_cc4d_11ed_8e79_12e413fbf88crow0_col0\" class=\"data row0 col0\" >9.65e+03</td>\n",
       "                        <td id=\"T_3d3d91fe_cc4d_11ed_8e79_12e413fbf88crow0_col1\" class=\"data row0 col1\" >9.68e+03</td>\n",
       "                        <td id=\"T_3d3d91fe_cc4d_11ed_8e79_12e413fbf88crow0_col2\" class=\"data row0 col2\" >0.816</td>\n",
       "                        <td id=\"T_3d3d91fe_cc4d_11ed_8e79_12e413fbf88crow0_col3\" class=\"data row0 col3\" >0.803</td>\n",
       "            </tr>\n",
       "            <tr>\n",
       "                        <th id=\"T_3d3d91fe_cc4d_11ed_8e79_12e413fbf88clevel0_row1\" class=\"row_heading level0 row1\" >5</th>\n",
       "                        <td id=\"T_3d3d91fe_cc4d_11ed_8e79_12e413fbf88crow1_col0\" class=\"data row1 col0\" >9.88e+03</td>\n",
       "                        <td id=\"T_3d3d91fe_cc4d_11ed_8e79_12e413fbf88crow1_col1\" class=\"data row1 col1\" >9.88e+03</td>\n",
       "                        <td id=\"T_3d3d91fe_cc4d_11ed_8e79_12e413fbf88crow1_col2\" class=\"data row1 col2\" >0.297</td>\n",
       "                        <td id=\"T_3d3d91fe_cc4d_11ed_8e79_12e413fbf88crow1_col3\" class=\"data row1 col3\" >0.301</td>\n",
       "            </tr>\n",
       "            <tr>\n",
       "                        <th id=\"T_3d3d91fe_cc4d_11ed_8e79_12e413fbf88clevel0_row2\" class=\"row_heading level0 row2\" >10</th>\n",
       "                        <td id=\"T_3d3d91fe_cc4d_11ed_8e79_12e413fbf88crow2_col0\" class=\"data row2 col0\" >9.79e+03</td>\n",
       "                        <td id=\"T_3d3d91fe_cc4d_11ed_8e79_12e413fbf88crow2_col1\" class=\"data row2 col1\" >9.86e+03</td>\n",
       "                        <td id=\"T_3d3d91fe_cc4d_11ed_8e79_12e413fbf88crow2_col2\" class=\"data row2 col2\" >0.177</td>\n",
       "                        <td id=\"T_3d3d91fe_cc4d_11ed_8e79_12e413fbf88crow2_col3\" class=\"data row2 col3\" >0.176</td>\n",
       "            </tr>\n",
       "            <tr>\n",
       "                        <th id=\"T_3d3d91fe_cc4d_11ed_8e79_12e413fbf88clevel0_row3\" class=\"row_heading level0 row3\" >15</th>\n",
       "                        <td id=\"T_3d3d91fe_cc4d_11ed_8e79_12e413fbf88crow3_col0\" class=\"data row3 col0\" >9.6e+03</td>\n",
       "                        <td id=\"T_3d3d91fe_cc4d_11ed_8e79_12e413fbf88crow3_col1\" class=\"data row3 col1\" >9.67e+03</td>\n",
       "                        <td id=\"T_3d3d91fe_cc4d_11ed_8e79_12e413fbf88crow3_col2\" class=\"data row3 col2\" >0.129</td>\n",
       "                        <td id=\"T_3d3d91fe_cc4d_11ed_8e79_12e413fbf88crow3_col3\" class=\"data row3 col3\" >0.126</td>\n",
       "            </tr>\n",
       "    </tbody></table>"
      ],
      "text/plain": [
       "<pandas.io.formats.style.Styler at 0x7fa1bb00f580>"
      ]
     },
     "metadata": {},
     "output_type": "display_data"
    },
    {
     "name": "stdout",
     "output_type": "stream",
     "text": [
      "[\u001b[1mtardis.simulation.base\u001b[0m][\u001b[1;37mINFO\u001b[0m   ]  \n",
      "\t\n",
      "\tCurrent t_inner = 10663.586 K\n",
      "\tExpected t_inner for next iteration = 10660.699 K\n",
      " (\u001b[1mbase.py\u001b[0m:554)\n",
      "[\u001b[1mtardis.simulation.base\u001b[0m][\u001b[1;37mINFO\u001b[0m   ]  \n",
      "\t\n",
      "\tStarting iteration 6 of 20 (\u001b[1mbase.py\u001b[0m:385)\n",
      "[\u001b[1mtardis.simulation.base\u001b[0m][\u001b[1;37mINFO\u001b[0m   ]  \n",
      "\t\n",
      "\tLuminosity emitted   = 1.064e+43 erg / s\n",
      "\tLuminosity absorbed  = 3.421e+42 erg / s\n",
      "\tLuminosity requested = 1.059e+43 erg / s\n",
      " (\u001b[1mbase.py\u001b[0m:559)\n",
      "[\u001b[1mtardis.simulation.base\u001b[0m][\u001b[1;37mINFO\u001b[0m   ]  \n",
      "\tIteration converged 4/4 consecutive times. (\u001b[1mbase.py\u001b[0m:266)\n",
      "[\u001b[1mtardis.simulation.base\u001b[0m][\u001b[1;37mINFO\u001b[0m   ]  \n",
      "\t\n",
      "\tPlasma stratification: (\u001b[1mbase.py\u001b[0m:527)\n"
     ]
    },
    {
     "data": {
      "text/html": [
       "<style  type=\"text/css\" >\n",
       "</style><table id=\"T_3d96ec40_cc4d_11ed_8e79_12e413fbf88c\" ><thead>    <tr>        <th class=\"index_name level0\" >Shell No.</th>        <th class=\"col_heading level0 col0\" >t_rad</th>        <th class=\"col_heading level0 col1\" >next_t_rad</th>        <th class=\"col_heading level0 col2\" >w</th>        <th class=\"col_heading level0 col3\" >next_w</th>    </tr></thead><tbody>\n",
       "                <tr>\n",
       "                        <th id=\"T_3d96ec40_cc4d_11ed_8e79_12e413fbf88clevel0_row0\" class=\"row_heading level0 row0\" >0</th>\n",
       "                        <td id=\"T_3d96ec40_cc4d_11ed_8e79_12e413fbf88crow0_col0\" class=\"data row0 col0\" >9.68e+03</td>\n",
       "                        <td id=\"T_3d96ec40_cc4d_11ed_8e79_12e413fbf88crow0_col1\" class=\"data row0 col1\" >9.67e+03</td>\n",
       "                        <td id=\"T_3d96ec40_cc4d_11ed_8e79_12e413fbf88crow0_col2\" class=\"data row0 col2\" >0.803</td>\n",
       "                        <td id=\"T_3d96ec40_cc4d_11ed_8e79_12e413fbf88crow0_col3\" class=\"data row0 col3\" >0.811</td>\n",
       "            </tr>\n",
       "            <tr>\n",
       "                        <th id=\"T_3d96ec40_cc4d_11ed_8e79_12e413fbf88clevel0_row1\" class=\"row_heading level0 row1\" >5</th>\n",
       "                        <td id=\"T_3d96ec40_cc4d_11ed_8e79_12e413fbf88crow1_col0\" class=\"data row1 col0\" >9.88e+03</td>\n",
       "                        <td id=\"T_3d96ec40_cc4d_11ed_8e79_12e413fbf88crow1_col1\" class=\"data row1 col1\" >1e+04</td>\n",
       "                        <td id=\"T_3d96ec40_cc4d_11ed_8e79_12e413fbf88crow1_col2\" class=\"data row1 col2\" >0.301</td>\n",
       "                        <td id=\"T_3d96ec40_cc4d_11ed_8e79_12e413fbf88crow1_col3\" class=\"data row1 col3\" >0.29</td>\n",
       "            </tr>\n",
       "            <tr>\n",
       "                        <th id=\"T_3d96ec40_cc4d_11ed_8e79_12e413fbf88clevel0_row2\" class=\"row_heading level0 row2\" >10</th>\n",
       "                        <td id=\"T_3d96ec40_cc4d_11ed_8e79_12e413fbf88crow2_col0\" class=\"data row2 col0\" >9.86e+03</td>\n",
       "                        <td id=\"T_3d96ec40_cc4d_11ed_8e79_12e413fbf88crow2_col1\" class=\"data row2 col1\" >9.87e+03</td>\n",
       "                        <td id=\"T_3d96ec40_cc4d_11ed_8e79_12e413fbf88crow2_col2\" class=\"data row2 col2\" >0.176</td>\n",
       "                        <td id=\"T_3d96ec40_cc4d_11ed_8e79_12e413fbf88crow2_col3\" class=\"data row2 col3\" >0.175</td>\n",
       "            </tr>\n",
       "            <tr>\n",
       "                        <th id=\"T_3d96ec40_cc4d_11ed_8e79_12e413fbf88clevel0_row3\" class=\"row_heading level0 row3\" >15</th>\n",
       "                        <td id=\"T_3d96ec40_cc4d_11ed_8e79_12e413fbf88crow3_col0\" class=\"data row3 col0\" >9.67e+03</td>\n",
       "                        <td id=\"T_3d96ec40_cc4d_11ed_8e79_12e413fbf88crow3_col1\" class=\"data row3 col1\" >9.68e+03</td>\n",
       "                        <td id=\"T_3d96ec40_cc4d_11ed_8e79_12e413fbf88crow3_col2\" class=\"data row3 col2\" >0.126</td>\n",
       "                        <td id=\"T_3d96ec40_cc4d_11ed_8e79_12e413fbf88crow3_col3\" class=\"data row3 col3\" >0.126</td>\n",
       "            </tr>\n",
       "    </tbody></table>"
      ],
      "text/plain": [
       "<pandas.io.formats.style.Styler at 0x7fa1ba2afe80>"
      ]
     },
     "metadata": {},
     "output_type": "display_data"
    },
    {
     "name": "stdout",
     "output_type": "stream",
     "text": [
      "[\u001b[1mtardis.simulation.base\u001b[0m][\u001b[1;37mINFO\u001b[0m   ]  \n",
      "\t\n",
      "\tCurrent t_inner = 10660.699 K\n",
      "\tExpected t_inner for next iteration = 10647.660 K\n",
      " (\u001b[1mbase.py\u001b[0m:554)\n",
      "[\u001b[1mtardis.simulation.base\u001b[0m][\u001b[1;37mINFO\u001b[0m   ]  \n",
      "\t\n",
      "\tStarting iteration 7 of 20 (\u001b[1mbase.py\u001b[0m:385)\n",
      "[\u001b[1mtardis.simulation.base\u001b[0m][\u001b[1;37mINFO\u001b[0m   ]  \n",
      "\t\n",
      "\tLuminosity emitted   = 1.059e+43 erg / s\n",
      "\tLuminosity absorbed  = 3.415e+42 erg / s\n",
      "\tLuminosity requested = 1.059e+43 erg / s\n",
      " (\u001b[1mbase.py\u001b[0m:559)\n",
      "[\u001b[1mtardis.simulation.base\u001b[0m][\u001b[1;37mINFO\u001b[0m   ]  \n",
      "\tIteration converged 5/4 consecutive times. (\u001b[1mbase.py\u001b[0m:266)\n",
      "[\u001b[1mtardis.simulation.base\u001b[0m][\u001b[1;37mINFO\u001b[0m   ]  \n",
      "\t\n",
      "\tPlasma stratification: (\u001b[1mbase.py\u001b[0m:527)\n"
     ]
    },
    {
     "data": {
      "text/html": [
       "<style  type=\"text/css\" >\n",
       "</style><table id=\"T_3ded8f0a_cc4d_11ed_8e79_12e413fbf88c\" ><thead>    <tr>        <th class=\"index_name level0\" >Shell No.</th>        <th class=\"col_heading level0 col0\" >t_rad</th>        <th class=\"col_heading level0 col1\" >next_t_rad</th>        <th class=\"col_heading level0 col2\" >w</th>        <th class=\"col_heading level0 col3\" >next_w</th>    </tr></thead><tbody>\n",
       "                <tr>\n",
       "                        <th id=\"T_3ded8f0a_cc4d_11ed_8e79_12e413fbf88clevel0_row0\" class=\"row_heading level0 row0\" >0</th>\n",
       "                        <td id=\"T_3ded8f0a_cc4d_11ed_8e79_12e413fbf88crow0_col0\" class=\"data row0 col0\" >9.67e+03</td>\n",
       "                        <td id=\"T_3ded8f0a_cc4d_11ed_8e79_12e413fbf88crow0_col1\" class=\"data row0 col1\" >9.66e+03</td>\n",
       "                        <td id=\"T_3ded8f0a_cc4d_11ed_8e79_12e413fbf88crow0_col2\" class=\"data row0 col2\" >0.811</td>\n",
       "                        <td id=\"T_3ded8f0a_cc4d_11ed_8e79_12e413fbf88crow0_col3\" class=\"data row0 col3\" >0.802</td>\n",
       "            </tr>\n",
       "            <tr>\n",
       "                        <th id=\"T_3ded8f0a_cc4d_11ed_8e79_12e413fbf88clevel0_row1\" class=\"row_heading level0 row1\" >5</th>\n",
       "                        <td id=\"T_3ded8f0a_cc4d_11ed_8e79_12e413fbf88crow1_col0\" class=\"data row1 col0\" >1e+04</td>\n",
       "                        <td id=\"T_3ded8f0a_cc4d_11ed_8e79_12e413fbf88crow1_col1\" class=\"data row1 col1\" >9.87e+03</td>\n",
       "                        <td id=\"T_3ded8f0a_cc4d_11ed_8e79_12e413fbf88crow1_col2\" class=\"data row1 col2\" >0.29</td>\n",
       "                        <td id=\"T_3ded8f0a_cc4d_11ed_8e79_12e413fbf88crow1_col3\" class=\"data row1 col3\" >0.3</td>\n",
       "            </tr>\n",
       "            <tr>\n",
       "                        <th id=\"T_3ded8f0a_cc4d_11ed_8e79_12e413fbf88clevel0_row2\" class=\"row_heading level0 row2\" >10</th>\n",
       "                        <td id=\"T_3ded8f0a_cc4d_11ed_8e79_12e413fbf88crow2_col0\" class=\"data row2 col0\" >9.87e+03</td>\n",
       "                        <td id=\"T_3ded8f0a_cc4d_11ed_8e79_12e413fbf88crow2_col1\" class=\"data row2 col1\" >9.86e+03</td>\n",
       "                        <td id=\"T_3ded8f0a_cc4d_11ed_8e79_12e413fbf88crow2_col2\" class=\"data row2 col2\" >0.175</td>\n",
       "                        <td id=\"T_3ded8f0a_cc4d_11ed_8e79_12e413fbf88crow2_col3\" class=\"data row2 col3\" >0.175</td>\n",
       "            </tr>\n",
       "            <tr>\n",
       "                        <th id=\"T_3ded8f0a_cc4d_11ed_8e79_12e413fbf88clevel0_row3\" class=\"row_heading level0 row3\" >15</th>\n",
       "                        <td id=\"T_3ded8f0a_cc4d_11ed_8e79_12e413fbf88crow3_col0\" class=\"data row3 col0\" >9.68e+03</td>\n",
       "                        <td id=\"T_3ded8f0a_cc4d_11ed_8e79_12e413fbf88crow3_col1\" class=\"data row3 col1\" >9.61e+03</td>\n",
       "                        <td id=\"T_3ded8f0a_cc4d_11ed_8e79_12e413fbf88crow3_col2\" class=\"data row3 col2\" >0.126</td>\n",
       "                        <td id=\"T_3ded8f0a_cc4d_11ed_8e79_12e413fbf88crow3_col3\" class=\"data row3 col3\" >0.129</td>\n",
       "            </tr>\n",
       "    </tbody></table>"
      ],
      "text/plain": [
       "<pandas.io.formats.style.Styler at 0x7fa1bba5b5b0>"
      ]
     },
     "metadata": {},
     "output_type": "display_data"
    },
    {
     "name": "stdout",
     "output_type": "stream",
     "text": [
      "[\u001b[1mtardis.simulation.base\u001b[0m][\u001b[1;37mINFO\u001b[0m   ]  \n",
      "\t\n",
      "\tCurrent t_inner = 10647.660 K\n",
      "\tExpected t_inner for next iteration = 10649.199 K\n",
      " (\u001b[1mbase.py\u001b[0m:554)\n",
      "[\u001b[1mtardis.simulation.base\u001b[0m][\u001b[1;37mINFO\u001b[0m   ]  \n",
      "\t\n",
      "\tStarting iteration 8 of 20 (\u001b[1mbase.py\u001b[0m:385)\n",
      "[\u001b[1mtardis.simulation.base\u001b[0m][\u001b[1;37mINFO\u001b[0m   ]  \n",
      "\t\n",
      "\tLuminosity emitted   = 1.057e+43 erg / s\n",
      "\tLuminosity absorbed  = 3.432e+42 erg / s\n",
      "\tLuminosity requested = 1.059e+43 erg / s\n",
      " (\u001b[1mbase.py\u001b[0m:559)\n",
      "[\u001b[1mtardis.simulation.base\u001b[0m][\u001b[1;37mINFO\u001b[0m   ]  \n",
      "\tIteration converged 6/4 consecutive times. (\u001b[1mbase.py\u001b[0m:266)\n",
      "[\u001b[1mtardis.simulation.base\u001b[0m][\u001b[1;37mINFO\u001b[0m   ]  \n",
      "\t\n",
      "\tPlasma stratification: (\u001b[1mbase.py\u001b[0m:527)\n"
     ]
    },
    {
     "data": {
      "text/html": [
       "<style  type=\"text/css\" >\n",
       "</style><table id=\"T_3e46a428_cc4d_11ed_8e79_12e413fbf88c\" ><thead>    <tr>        <th class=\"index_name level0\" >Shell No.</th>        <th class=\"col_heading level0 col0\" >t_rad</th>        <th class=\"col_heading level0 col1\" >next_t_rad</th>        <th class=\"col_heading level0 col2\" >w</th>        <th class=\"col_heading level0 col3\" >next_w</th>    </tr></thead><tbody>\n",
       "                <tr>\n",
       "                        <th id=\"T_3e46a428_cc4d_11ed_8e79_12e413fbf88clevel0_row0\" class=\"row_heading level0 row0\" >0</th>\n",
       "                        <td id=\"T_3e46a428_cc4d_11ed_8e79_12e413fbf88crow0_col0\" class=\"data row0 col0\" >9.66e+03</td>\n",
       "                        <td id=\"T_3e46a428_cc4d_11ed_8e79_12e413fbf88crow0_col1\" class=\"data row0 col1\" >9.68e+03</td>\n",
       "                        <td id=\"T_3e46a428_cc4d_11ed_8e79_12e413fbf88crow0_col2\" class=\"data row0 col2\" >0.802</td>\n",
       "                        <td id=\"T_3e46a428_cc4d_11ed_8e79_12e413fbf88crow0_col3\" class=\"data row0 col3\" >0.803</td>\n",
       "            </tr>\n",
       "            <tr>\n",
       "                        <th id=\"T_3e46a428_cc4d_11ed_8e79_12e413fbf88clevel0_row1\" class=\"row_heading level0 row1\" >5</th>\n",
       "                        <td id=\"T_3e46a428_cc4d_11ed_8e79_12e413fbf88crow1_col0\" class=\"data row1 col0\" >9.87e+03</td>\n",
       "                        <td id=\"T_3e46a428_cc4d_11ed_8e79_12e413fbf88crow1_col1\" class=\"data row1 col1\" >9.96e+03</td>\n",
       "                        <td id=\"T_3e46a428_cc4d_11ed_8e79_12e413fbf88crow1_col2\" class=\"data row1 col2\" >0.3</td>\n",
       "                        <td id=\"T_3e46a428_cc4d_11ed_8e79_12e413fbf88crow1_col3\" class=\"data row1 col3\" >0.292</td>\n",
       "            </tr>\n",
       "            <tr>\n",
       "                        <th id=\"T_3e46a428_cc4d_11ed_8e79_12e413fbf88clevel0_row2\" class=\"row_heading level0 row2\" >10</th>\n",
       "                        <td id=\"T_3e46a428_cc4d_11ed_8e79_12e413fbf88crow2_col0\" class=\"data row2 col0\" >9.86e+03</td>\n",
       "                        <td id=\"T_3e46a428_cc4d_11ed_8e79_12e413fbf88crow2_col1\" class=\"data row2 col1\" >9.89e+03</td>\n",
       "                        <td id=\"T_3e46a428_cc4d_11ed_8e79_12e413fbf88crow2_col2\" class=\"data row2 col2\" >0.175</td>\n",
       "                        <td id=\"T_3e46a428_cc4d_11ed_8e79_12e413fbf88crow2_col3\" class=\"data row2 col3\" >0.172</td>\n",
       "            </tr>\n",
       "            <tr>\n",
       "                        <th id=\"T_3e46a428_cc4d_11ed_8e79_12e413fbf88clevel0_row3\" class=\"row_heading level0 row3\" >15</th>\n",
       "                        <td id=\"T_3e46a428_cc4d_11ed_8e79_12e413fbf88crow3_col0\" class=\"data row3 col0\" >9.61e+03</td>\n",
       "                        <td id=\"T_3e46a428_cc4d_11ed_8e79_12e413fbf88crow3_col1\" class=\"data row3 col1\" >9.66e+03</td>\n",
       "                        <td id=\"T_3e46a428_cc4d_11ed_8e79_12e413fbf88crow3_col2\" class=\"data row3 col2\" >0.129</td>\n",
       "                        <td id=\"T_3e46a428_cc4d_11ed_8e79_12e413fbf88crow3_col3\" class=\"data row3 col3\" >0.126</td>\n",
       "            </tr>\n",
       "    </tbody></table>"
      ],
      "text/plain": [
       "<pandas.io.formats.style.Styler at 0x7fa1bba7dc70>"
      ]
     },
     "metadata": {},
     "output_type": "display_data"
    },
    {
     "name": "stdout",
     "output_type": "stream",
     "text": [
      "[\u001b[1mtardis.simulation.base\u001b[0m][\u001b[1;37mINFO\u001b[0m   ]  \n",
      "\t\n",
      "\tCurrent t_inner = 10649.199 K\n",
      "\tExpected t_inner for next iteration = 10653.699 K\n",
      " (\u001b[1mbase.py\u001b[0m:554)\n",
      "[\u001b[1mtardis.simulation.base\u001b[0m][\u001b[1;37mINFO\u001b[0m   ]  \n",
      "\t\n",
      "\tStarting iteration 9 of 20 (\u001b[1mbase.py\u001b[0m:385)\n",
      "[\u001b[1mtardis.simulation.base\u001b[0m][\u001b[1;37mINFO\u001b[0m   ]  \n",
      "\t\n",
      "\tLuminosity emitted   = 1.057e+43 erg / s\n",
      "\tLuminosity absorbed  = 3.464e+42 erg / s\n",
      "\tLuminosity requested = 1.059e+43 erg / s\n",
      " (\u001b[1mbase.py\u001b[0m:559)\n",
      "[\u001b[1mtardis.simulation.base\u001b[0m][\u001b[1;37mINFO\u001b[0m   ]  \n",
      "\tIteration converged 7/4 consecutive times. (\u001b[1mbase.py\u001b[0m:266)\n",
      "[\u001b[1mtardis.simulation.base\u001b[0m][\u001b[1;37mINFO\u001b[0m   ]  \n",
      "\t\n",
      "\tPlasma stratification: (\u001b[1mbase.py\u001b[0m:527)\n"
     ]
    },
    {
     "data": {
      "text/html": [
       "<style  type=\"text/css\" >\n",
       "</style><table id=\"T_3e9d0d40_cc4d_11ed_8e79_12e413fbf88c\" ><thead>    <tr>        <th class=\"index_name level0\" >Shell No.</th>        <th class=\"col_heading level0 col0\" >t_rad</th>        <th class=\"col_heading level0 col1\" >next_t_rad</th>        <th class=\"col_heading level0 col2\" >w</th>        <th class=\"col_heading level0 col3\" >next_w</th>    </tr></thead><tbody>\n",
       "                <tr>\n",
       "                        <th id=\"T_3e9d0d40_cc4d_11ed_8e79_12e413fbf88clevel0_row0\" class=\"row_heading level0 row0\" >0</th>\n",
       "                        <td id=\"T_3e9d0d40_cc4d_11ed_8e79_12e413fbf88crow0_col0\" class=\"data row0 col0\" >9.68e+03</td>\n",
       "                        <td id=\"T_3e9d0d40_cc4d_11ed_8e79_12e413fbf88crow0_col1\" class=\"data row0 col1\" >9.69e+03</td>\n",
       "                        <td id=\"T_3e9d0d40_cc4d_11ed_8e79_12e413fbf88crow0_col2\" class=\"data row0 col2\" >0.803</td>\n",
       "                        <td id=\"T_3e9d0d40_cc4d_11ed_8e79_12e413fbf88crow0_col3\" class=\"data row0 col3\" >0.8</td>\n",
       "            </tr>\n",
       "            <tr>\n",
       "                        <th id=\"T_3e9d0d40_cc4d_11ed_8e79_12e413fbf88clevel0_row1\" class=\"row_heading level0 row1\" >5</th>\n",
       "                        <td id=\"T_3e9d0d40_cc4d_11ed_8e79_12e413fbf88crow1_col0\" class=\"data row1 col0\" >9.96e+03</td>\n",
       "                        <td id=\"T_3e9d0d40_cc4d_11ed_8e79_12e413fbf88crow1_col1\" class=\"data row1 col1\" >9.99e+03</td>\n",
       "                        <td id=\"T_3e9d0d40_cc4d_11ed_8e79_12e413fbf88crow1_col2\" class=\"data row1 col2\" >0.292</td>\n",
       "                        <td id=\"T_3e9d0d40_cc4d_11ed_8e79_12e413fbf88crow1_col3\" class=\"data row1 col3\" >0.289</td>\n",
       "            </tr>\n",
       "            <tr>\n",
       "                        <th id=\"T_3e9d0d40_cc4d_11ed_8e79_12e413fbf88clevel0_row2\" class=\"row_heading level0 row2\" >10</th>\n",
       "                        <td id=\"T_3e9d0d40_cc4d_11ed_8e79_12e413fbf88crow2_col0\" class=\"data row2 col0\" >9.89e+03</td>\n",
       "                        <td id=\"T_3e9d0d40_cc4d_11ed_8e79_12e413fbf88crow2_col1\" class=\"data row2 col1\" >9.94e+03</td>\n",
       "                        <td id=\"T_3e9d0d40_cc4d_11ed_8e79_12e413fbf88crow2_col2\" class=\"data row2 col2\" >0.172</td>\n",
       "                        <td id=\"T_3e9d0d40_cc4d_11ed_8e79_12e413fbf88crow2_col3\" class=\"data row2 col3\" >0.168</td>\n",
       "            </tr>\n",
       "            <tr>\n",
       "                        <th id=\"T_3e9d0d40_cc4d_11ed_8e79_12e413fbf88clevel0_row3\" class=\"row_heading level0 row3\" >15</th>\n",
       "                        <td id=\"T_3e9d0d40_cc4d_11ed_8e79_12e413fbf88crow3_col0\" class=\"data row3 col0\" >9.66e+03</td>\n",
       "                        <td id=\"T_3e9d0d40_cc4d_11ed_8e79_12e413fbf88crow3_col1\" class=\"data row3 col1\" >9.74e+03</td>\n",
       "                        <td id=\"T_3e9d0d40_cc4d_11ed_8e79_12e413fbf88crow3_col2\" class=\"data row3 col2\" >0.126</td>\n",
       "                        <td id=\"T_3e9d0d40_cc4d_11ed_8e79_12e413fbf88crow3_col3\" class=\"data row3 col3\" >0.122</td>\n",
       "            </tr>\n",
       "    </tbody></table>"
      ],
      "text/plain": [
       "<pandas.io.formats.style.Styler at 0x7fa1b9c0dd60>"
      ]
     },
     "metadata": {},
     "output_type": "display_data"
    },
    {
     "name": "stdout",
     "output_type": "stream",
     "text": [
      "[\u001b[1mtardis.simulation.base\u001b[0m][\u001b[1;37mINFO\u001b[0m   ]  \n",
      "\t\n",
      "\tCurrent t_inner = 10653.699 K\n",
      "\tExpected t_inner for next iteration = 10660.676 K\n",
      " (\u001b[1mbase.py\u001b[0m:554)\n",
      "[\u001b[1mtardis.simulation.base\u001b[0m][\u001b[1;37mINFO\u001b[0m   ]  \n",
      "\t\n",
      "\tStarting iteration 10 of 20 (\u001b[1mbase.py\u001b[0m:385)\n",
      "[\u001b[1mtardis.simulation.base\u001b[0m][\u001b[1;37mINFO\u001b[0m   ]  \n",
      "\t\n",
      "\tLuminosity emitted   = 1.063e+43 erg / s\n",
      "\tLuminosity absorbed  = 3.441e+42 erg / s\n",
      "\tLuminosity requested = 1.059e+43 erg / s\n",
      " (\u001b[1mbase.py\u001b[0m:559)\n",
      "[\u001b[1mtardis.simulation.base\u001b[0m][\u001b[1;37mINFO\u001b[0m   ]  \n",
      "\tIteration converged 8/4 consecutive times. (\u001b[1mbase.py\u001b[0m:266)\n",
      "[\u001b[1mtardis.simulation.base\u001b[0m][\u001b[1;37mINFO\u001b[0m   ]  \n",
      "\t\n",
      "\tPlasma stratification: (\u001b[1mbase.py\u001b[0m:527)\n"
     ]
    },
    {
     "data": {
      "text/html": [
       "<style  type=\"text/css\" >\n",
       "</style><table id=\"T_3ef503a6_cc4d_11ed_8e79_12e413fbf88c\" ><thead>    <tr>        <th class=\"index_name level0\" >Shell No.</th>        <th class=\"col_heading level0 col0\" >t_rad</th>        <th class=\"col_heading level0 col1\" >next_t_rad</th>        <th class=\"col_heading level0 col2\" >w</th>        <th class=\"col_heading level0 col3\" >next_w</th>    </tr></thead><tbody>\n",
       "                <tr>\n",
       "                        <th id=\"T_3ef503a6_cc4d_11ed_8e79_12e413fbf88clevel0_row0\" class=\"row_heading level0 row0\" >0</th>\n",
       "                        <td id=\"T_3ef503a6_cc4d_11ed_8e79_12e413fbf88crow0_col0\" class=\"data row0 col0\" >9.69e+03</td>\n",
       "                        <td id=\"T_3ef503a6_cc4d_11ed_8e79_12e413fbf88crow0_col1\" class=\"data row0 col1\" >9.69e+03</td>\n",
       "                        <td id=\"T_3ef503a6_cc4d_11ed_8e79_12e413fbf88crow0_col2\" class=\"data row0 col2\" >0.8</td>\n",
       "                        <td id=\"T_3ef503a6_cc4d_11ed_8e79_12e413fbf88crow0_col3\" class=\"data row0 col3\" >0.805</td>\n",
       "            </tr>\n",
       "            <tr>\n",
       "                        <th id=\"T_3ef503a6_cc4d_11ed_8e79_12e413fbf88clevel0_row1\" class=\"row_heading level0 row1\" >5</th>\n",
       "                        <td id=\"T_3ef503a6_cc4d_11ed_8e79_12e413fbf88crow1_col0\" class=\"data row1 col0\" >9.99e+03</td>\n",
       "                        <td id=\"T_3ef503a6_cc4d_11ed_8e79_12e413fbf88crow1_col1\" class=\"data row1 col1\" >9.97e+03</td>\n",
       "                        <td id=\"T_3ef503a6_cc4d_11ed_8e79_12e413fbf88crow1_col2\" class=\"data row1 col2\" >0.289</td>\n",
       "                        <td id=\"T_3ef503a6_cc4d_11ed_8e79_12e413fbf88crow1_col3\" class=\"data row1 col3\" >0.29</td>\n",
       "            </tr>\n",
       "            <tr>\n",
       "                        <th id=\"T_3ef503a6_cc4d_11ed_8e79_12e413fbf88clevel0_row2\" class=\"row_heading level0 row2\" >10</th>\n",
       "                        <td id=\"T_3ef503a6_cc4d_11ed_8e79_12e413fbf88crow2_col0\" class=\"data row2 col0\" >9.94e+03</td>\n",
       "                        <td id=\"T_3ef503a6_cc4d_11ed_8e79_12e413fbf88crow2_col1\" class=\"data row2 col1\" >9.84e+03</td>\n",
       "                        <td id=\"T_3ef503a6_cc4d_11ed_8e79_12e413fbf88crow2_col2\" class=\"data row2 col2\" >0.168</td>\n",
       "                        <td id=\"T_3ef503a6_cc4d_11ed_8e79_12e413fbf88crow2_col3\" class=\"data row2 col3\" >0.177</td>\n",
       "            </tr>\n",
       "            <tr>\n",
       "                        <th id=\"T_3ef503a6_cc4d_11ed_8e79_12e413fbf88clevel0_row3\" class=\"row_heading level0 row3\" >15</th>\n",
       "                        <td id=\"T_3ef503a6_cc4d_11ed_8e79_12e413fbf88crow3_col0\" class=\"data row3 col0\" >9.74e+03</td>\n",
       "                        <td id=\"T_3ef503a6_cc4d_11ed_8e79_12e413fbf88crow3_col1\" class=\"data row3 col1\" >9.65e+03</td>\n",
       "                        <td id=\"T_3ef503a6_cc4d_11ed_8e79_12e413fbf88crow3_col2\" class=\"data row3 col2\" >0.122</td>\n",
       "                        <td id=\"T_3ef503a6_cc4d_11ed_8e79_12e413fbf88crow3_col3\" class=\"data row3 col3\" >0.128</td>\n",
       "            </tr>\n",
       "    </tbody></table>"
      ],
      "text/plain": [
       "<pandas.io.formats.style.Styler at 0x7fa1bba5bd60>"
      ]
     },
     "metadata": {},
     "output_type": "display_data"
    },
    {
     "name": "stdout",
     "output_type": "stream",
     "text": [
      "[\u001b[1mtardis.simulation.base\u001b[0m][\u001b[1;37mINFO\u001b[0m   ]  \n",
      "\t\n",
      "\tCurrent t_inner = 10660.676 K\n",
      "\tExpected t_inner for next iteration = 10651.860 K\n",
      " (\u001b[1mbase.py\u001b[0m:554)\n",
      "[\u001b[1mtardis.simulation.base\u001b[0m][\u001b[1;37mINFO\u001b[0m   ]  \n",
      "\t\n",
      "\tStarting iteration 11 of 20 (\u001b[1mbase.py\u001b[0m:385)\n",
      "[\u001b[1mtardis.simulation.base\u001b[0m][\u001b[1;37mINFO\u001b[0m   ]  \n",
      "\t\n",
      "\tLuminosity emitted   = 1.055e+43 erg / s\n",
      "\tLuminosity absorbed  = 3.470e+42 erg / s\n",
      "\tLuminosity requested = 1.059e+43 erg / s\n",
      " (\u001b[1mbase.py\u001b[0m:559)\n",
      "[\u001b[1mtardis.simulation.base\u001b[0m][\u001b[1;37mINFO\u001b[0m   ]  \n",
      "\tIteration converged 9/4 consecutive times. (\u001b[1mbase.py\u001b[0m:266)\n",
      "[\u001b[1mtardis.simulation.base\u001b[0m][\u001b[1;37mINFO\u001b[0m   ]  \n",
      "\t\n",
      "\tPlasma stratification: (\u001b[1mbase.py\u001b[0m:527)\n"
     ]
    },
    {
     "data": {
      "text/html": [
       "<style  type=\"text/css\" >\n",
       "</style><table id=\"T_3f541d00_cc4d_11ed_8e79_12e413fbf88c\" ><thead>    <tr>        <th class=\"index_name level0\" >Shell No.</th>        <th class=\"col_heading level0 col0\" >t_rad</th>        <th class=\"col_heading level0 col1\" >next_t_rad</th>        <th class=\"col_heading level0 col2\" >w</th>        <th class=\"col_heading level0 col3\" >next_w</th>    </tr></thead><tbody>\n",
       "                <tr>\n",
       "                        <th id=\"T_3f541d00_cc4d_11ed_8e79_12e413fbf88clevel0_row0\" class=\"row_heading level0 row0\" >0</th>\n",
       "                        <td id=\"T_3f541d00_cc4d_11ed_8e79_12e413fbf88crow0_col0\" class=\"data row0 col0\" >9.69e+03</td>\n",
       "                        <td id=\"T_3f541d00_cc4d_11ed_8e79_12e413fbf88crow0_col1\" class=\"data row0 col1\" >9.68e+03</td>\n",
       "                        <td id=\"T_3f541d00_cc4d_11ed_8e79_12e413fbf88crow0_col2\" class=\"data row0 col2\" >0.805</td>\n",
       "                        <td id=\"T_3f541d00_cc4d_11ed_8e79_12e413fbf88crow0_col3\" class=\"data row0 col3\" >0.804</td>\n",
       "            </tr>\n",
       "            <tr>\n",
       "                        <th id=\"T_3f541d00_cc4d_11ed_8e79_12e413fbf88clevel0_row1\" class=\"row_heading level0 row1\" >5</th>\n",
       "                        <td id=\"T_3f541d00_cc4d_11ed_8e79_12e413fbf88crow1_col0\" class=\"data row1 col0\" >9.97e+03</td>\n",
       "                        <td id=\"T_3f541d00_cc4d_11ed_8e79_12e413fbf88crow1_col1\" class=\"data row1 col1\" >1e+04</td>\n",
       "                        <td id=\"T_3f541d00_cc4d_11ed_8e79_12e413fbf88crow1_col2\" class=\"data row1 col2\" >0.29</td>\n",
       "                        <td id=\"T_3f541d00_cc4d_11ed_8e79_12e413fbf88crow1_col3\" class=\"data row1 col3\" >0.282</td>\n",
       "            </tr>\n",
       "            <tr>\n",
       "                        <th id=\"T_3f541d00_cc4d_11ed_8e79_12e413fbf88clevel0_row2\" class=\"row_heading level0 row2\" >10</th>\n",
       "                        <td id=\"T_3f541d00_cc4d_11ed_8e79_12e413fbf88crow2_col0\" class=\"data row2 col0\" >9.84e+03</td>\n",
       "                        <td id=\"T_3f541d00_cc4d_11ed_8e79_12e413fbf88crow2_col1\" class=\"data row2 col1\" >9.9e+03</td>\n",
       "                        <td id=\"T_3f541d00_cc4d_11ed_8e79_12e413fbf88crow2_col2\" class=\"data row2 col2\" >0.177</td>\n",
       "                        <td id=\"T_3f541d00_cc4d_11ed_8e79_12e413fbf88crow2_col3\" class=\"data row2 col3\" >0.171</td>\n",
       "            </tr>\n",
       "            <tr>\n",
       "                        <th id=\"T_3f541d00_cc4d_11ed_8e79_12e413fbf88clevel0_row3\" class=\"row_heading level0 row3\" >15</th>\n",
       "                        <td id=\"T_3f541d00_cc4d_11ed_8e79_12e413fbf88crow3_col0\" class=\"data row3 col0\" >9.65e+03</td>\n",
       "                        <td id=\"T_3f541d00_cc4d_11ed_8e79_12e413fbf88crow3_col1\" class=\"data row3 col1\" >9.71e+03</td>\n",
       "                        <td id=\"T_3f541d00_cc4d_11ed_8e79_12e413fbf88crow3_col2\" class=\"data row3 col2\" >0.128</td>\n",
       "                        <td id=\"T_3f541d00_cc4d_11ed_8e79_12e413fbf88crow3_col3\" class=\"data row3 col3\" >0.123</td>\n",
       "            </tr>\n",
       "    </tbody></table>"
      ],
      "text/plain": [
       "<pandas.io.formats.style.Styler at 0x7fa1bba73970>"
      ]
     },
     "metadata": {},
     "output_type": "display_data"
    },
    {
     "name": "stdout",
     "output_type": "stream",
     "text": [
      "[\u001b[1mtardis.simulation.base\u001b[0m][\u001b[1;37mINFO\u001b[0m   ]  \n",
      "\t\n",
      "\tCurrent t_inner = 10651.860 K\n",
      "\tExpected t_inner for next iteration = 10662.765 K\n",
      " (\u001b[1mbase.py\u001b[0m:554)\n",
      "[\u001b[1mtardis.simulation.base\u001b[0m][\u001b[1;37mINFO\u001b[0m   ]  \n",
      "\t\n",
      "\tStarting iteration 12 of 20 (\u001b[1mbase.py\u001b[0m:385)\n",
      "[\u001b[1mtardis.simulation.base\u001b[0m][\u001b[1;37mINFO\u001b[0m   ]  \n",
      "\t\n",
      "\tLuminosity emitted   = 1.065e+43 erg / s\n",
      "\tLuminosity absorbed  = 3.429e+42 erg / s\n",
      "\tLuminosity requested = 1.059e+43 erg / s\n",
      " (\u001b[1mbase.py\u001b[0m:559)\n",
      "[\u001b[1mtardis.simulation.base\u001b[0m][\u001b[1;37mINFO\u001b[0m   ]  \n",
      "\tIteration converged 10/4 consecutive times. (\u001b[1mbase.py\u001b[0m:266)\n",
      "[\u001b[1mtardis.simulation.base\u001b[0m][\u001b[1;37mINFO\u001b[0m   ]  \n",
      "\t\n",
      "\tPlasma stratification: (\u001b[1mbase.py\u001b[0m:527)\n"
     ]
    },
    {
     "data": {
      "text/html": [
       "<style  type=\"text/css\" >\n",
       "</style><table id=\"T_3fb033f6_cc4d_11ed_8e79_12e413fbf88c\" ><thead>    <tr>        <th class=\"index_name level0\" >Shell No.</th>        <th class=\"col_heading level0 col0\" >t_rad</th>        <th class=\"col_heading level0 col1\" >next_t_rad</th>        <th class=\"col_heading level0 col2\" >w</th>        <th class=\"col_heading level0 col3\" >next_w</th>    </tr></thead><tbody>\n",
       "                <tr>\n",
       "                        <th id=\"T_3fb033f6_cc4d_11ed_8e79_12e413fbf88clevel0_row0\" class=\"row_heading level0 row0\" >0</th>\n",
       "                        <td id=\"T_3fb033f6_cc4d_11ed_8e79_12e413fbf88crow0_col0\" class=\"data row0 col0\" >9.68e+03</td>\n",
       "                        <td id=\"T_3fb033f6_cc4d_11ed_8e79_12e413fbf88crow0_col1\" class=\"data row0 col1\" >9.65e+03</td>\n",
       "                        <td id=\"T_3fb033f6_cc4d_11ed_8e79_12e413fbf88crow0_col2\" class=\"data row0 col2\" >0.804</td>\n",
       "                        <td id=\"T_3fb033f6_cc4d_11ed_8e79_12e413fbf88crow0_col3\" class=\"data row0 col3\" >0.82</td>\n",
       "            </tr>\n",
       "            <tr>\n",
       "                        <th id=\"T_3fb033f6_cc4d_11ed_8e79_12e413fbf88clevel0_row1\" class=\"row_heading level0 row1\" >5</th>\n",
       "                        <td id=\"T_3fb033f6_cc4d_11ed_8e79_12e413fbf88crow1_col0\" class=\"data row1 col0\" >1e+04</td>\n",
       "                        <td id=\"T_3fb033f6_cc4d_11ed_8e79_12e413fbf88crow1_col1\" class=\"data row1 col1\" >9.99e+03</td>\n",
       "                        <td id=\"T_3fb033f6_cc4d_11ed_8e79_12e413fbf88crow1_col2\" class=\"data row1 col2\" >0.282</td>\n",
       "                        <td id=\"T_3fb033f6_cc4d_11ed_8e79_12e413fbf88crow1_col3\" class=\"data row1 col3\" >0.287</td>\n",
       "            </tr>\n",
       "            <tr>\n",
       "                        <th id=\"T_3fb033f6_cc4d_11ed_8e79_12e413fbf88clevel0_row2\" class=\"row_heading level0 row2\" >10</th>\n",
       "                        <td id=\"T_3fb033f6_cc4d_11ed_8e79_12e413fbf88crow2_col0\" class=\"data row2 col0\" >9.9e+03</td>\n",
       "                        <td id=\"T_3fb033f6_cc4d_11ed_8e79_12e413fbf88crow2_col1\" class=\"data row2 col1\" >9.96e+03</td>\n",
       "                        <td id=\"T_3fb033f6_cc4d_11ed_8e79_12e413fbf88crow2_col2\" class=\"data row2 col2\" >0.171</td>\n",
       "                        <td id=\"T_3fb033f6_cc4d_11ed_8e79_12e413fbf88crow2_col3\" class=\"data row2 col3\" >0.168</td>\n",
       "            </tr>\n",
       "            <tr>\n",
       "                        <th id=\"T_3fb033f6_cc4d_11ed_8e79_12e413fbf88clevel0_row3\" class=\"row_heading level0 row3\" >15</th>\n",
       "                        <td id=\"T_3fb033f6_cc4d_11ed_8e79_12e413fbf88crow3_col0\" class=\"data row3 col0\" >9.71e+03</td>\n",
       "                        <td id=\"T_3fb033f6_cc4d_11ed_8e79_12e413fbf88crow3_col1\" class=\"data row3 col1\" >9.72e+03</td>\n",
       "                        <td id=\"T_3fb033f6_cc4d_11ed_8e79_12e413fbf88crow3_col2\" class=\"data row3 col2\" >0.123</td>\n",
       "                        <td id=\"T_3fb033f6_cc4d_11ed_8e79_12e413fbf88crow3_col3\" class=\"data row3 col3\" >0.124</td>\n",
       "            </tr>\n",
       "    </tbody></table>"
      ],
      "text/plain": [
       "<pandas.io.formats.style.Styler at 0x7fa1ce35d3d0>"
      ]
     },
     "metadata": {},
     "output_type": "display_data"
    },
    {
     "name": "stdout",
     "output_type": "stream",
     "text": [
      "[\u001b[1mtardis.simulation.base\u001b[0m][\u001b[1;37mINFO\u001b[0m   ]  \n",
      "\t\n",
      "\tCurrent t_inner = 10662.765 K\n",
      "\tExpected t_inner for next iteration = 10647.529 K\n",
      " (\u001b[1mbase.py\u001b[0m:554)\n",
      "[\u001b[1mtardis.simulation.base\u001b[0m][\u001b[1;37mINFO\u001b[0m   ]  \n",
      "\t\n",
      "\tStarting iteration 13 of 20 (\u001b[1mbase.py\u001b[0m:385)\n",
      "[\u001b[1mtardis.simulation.base\u001b[0m][\u001b[1;37mINFO\u001b[0m   ]  \n",
      "\t\n",
      "\tLuminosity emitted   = 1.059e+43 erg / s\n",
      "\tLuminosity absorbed  = 3.406e+42 erg / s\n",
      "\tLuminosity requested = 1.059e+43 erg / s\n",
      " (\u001b[1mbase.py\u001b[0m:559)\n",
      "[\u001b[1mtardis.simulation.base\u001b[0m][\u001b[1;37mINFO\u001b[0m   ]  \n",
      "\tIteration converged 11/4 consecutive times. (\u001b[1mbase.py\u001b[0m:266)\n",
      "[\u001b[1mtardis.simulation.base\u001b[0m][\u001b[1;37mINFO\u001b[0m   ]  \n",
      "\t\n",
      "\tPlasma stratification: (\u001b[1mbase.py\u001b[0m:527)\n"
     ]
    },
    {
     "data": {
      "text/html": [
       "<style  type=\"text/css\" >\n",
       "</style><table id=\"T_400a51a6_cc4d_11ed_8e79_12e413fbf88c\" ><thead>    <tr>        <th class=\"index_name level0\" >Shell No.</th>        <th class=\"col_heading level0 col0\" >t_rad</th>        <th class=\"col_heading level0 col1\" >next_t_rad</th>        <th class=\"col_heading level0 col2\" >w</th>        <th class=\"col_heading level0 col3\" >next_w</th>    </tr></thead><tbody>\n",
       "                <tr>\n",
       "                        <th id=\"T_400a51a6_cc4d_11ed_8e79_12e413fbf88clevel0_row0\" class=\"row_heading level0 row0\" >0</th>\n",
       "                        <td id=\"T_400a51a6_cc4d_11ed_8e79_12e413fbf88crow0_col0\" class=\"data row0 col0\" >9.65e+03</td>\n",
       "                        <td id=\"T_400a51a6_cc4d_11ed_8e79_12e413fbf88crow0_col1\" class=\"data row0 col1\" >9.68e+03</td>\n",
       "                        <td id=\"T_400a51a6_cc4d_11ed_8e79_12e413fbf88crow0_col2\" class=\"data row0 col2\" >0.82</td>\n",
       "                        <td id=\"T_400a51a6_cc4d_11ed_8e79_12e413fbf88crow0_col3\" class=\"data row0 col3\" >0.802</td>\n",
       "            </tr>\n",
       "            <tr>\n",
       "                        <th id=\"T_400a51a6_cc4d_11ed_8e79_12e413fbf88clevel0_row1\" class=\"row_heading level0 row1\" >5</th>\n",
       "                        <td id=\"T_400a51a6_cc4d_11ed_8e79_12e413fbf88crow1_col0\" class=\"data row1 col0\" >9.99e+03</td>\n",
       "                        <td id=\"T_400a51a6_cc4d_11ed_8e79_12e413fbf88crow1_col1\" class=\"data row1 col1\" >1e+04</td>\n",
       "                        <td id=\"T_400a51a6_cc4d_11ed_8e79_12e413fbf88crow1_col2\" class=\"data row1 col2\" >0.287</td>\n",
       "                        <td id=\"T_400a51a6_cc4d_11ed_8e79_12e413fbf88crow1_col3\" class=\"data row1 col3\" >0.283</td>\n",
       "            </tr>\n",
       "            <tr>\n",
       "                        <th id=\"T_400a51a6_cc4d_11ed_8e79_12e413fbf88clevel0_row2\" class=\"row_heading level0 row2\" >10</th>\n",
       "                        <td id=\"T_400a51a6_cc4d_11ed_8e79_12e413fbf88crow2_col0\" class=\"data row2 col0\" >9.96e+03</td>\n",
       "                        <td id=\"T_400a51a6_cc4d_11ed_8e79_12e413fbf88crow2_col1\" class=\"data row2 col1\" >9.93e+03</td>\n",
       "                        <td id=\"T_400a51a6_cc4d_11ed_8e79_12e413fbf88crow2_col2\" class=\"data row2 col2\" >0.168</td>\n",
       "                        <td id=\"T_400a51a6_cc4d_11ed_8e79_12e413fbf88crow2_col3\" class=\"data row2 col3\" >0.17</td>\n",
       "            </tr>\n",
       "            <tr>\n",
       "                        <th id=\"T_400a51a6_cc4d_11ed_8e79_12e413fbf88clevel0_row3\" class=\"row_heading level0 row3\" >15</th>\n",
       "                        <td id=\"T_400a51a6_cc4d_11ed_8e79_12e413fbf88crow3_col0\" class=\"data row3 col0\" >9.72e+03</td>\n",
       "                        <td id=\"T_400a51a6_cc4d_11ed_8e79_12e413fbf88crow3_col1\" class=\"data row3 col1\" >9.64e+03</td>\n",
       "                        <td id=\"T_400a51a6_cc4d_11ed_8e79_12e413fbf88crow3_col2\" class=\"data row3 col2\" >0.124</td>\n",
       "                        <td id=\"T_400a51a6_cc4d_11ed_8e79_12e413fbf88crow3_col3\" class=\"data row3 col3\" >0.128</td>\n",
       "            </tr>\n",
       "    </tbody></table>"
      ],
      "text/plain": [
       "<pandas.io.formats.style.Styler at 0x7fa1ce04e0a0>"
      ]
     },
     "metadata": {},
     "output_type": "display_data"
    },
    {
     "name": "stdout",
     "output_type": "stream",
     "text": [
      "[\u001b[1mtardis.simulation.base\u001b[0m][\u001b[1;37mINFO\u001b[0m   ]  \n",
      "\t\n",
      "\tCurrent t_inner = 10647.529 K\n",
      "\tExpected t_inner for next iteration = 10647.025 K\n",
      " (\u001b[1mbase.py\u001b[0m:554)\n",
      "[\u001b[1mtardis.simulation.base\u001b[0m][\u001b[1;37mINFO\u001b[0m   ]  \n",
      "\t\n",
      "\tStarting iteration 14 of 20 (\u001b[1mbase.py\u001b[0m:385)\n",
      "[\u001b[1mtardis.simulation.base\u001b[0m][\u001b[1;37mINFO\u001b[0m   ]  \n",
      "\t\n",
      "\tLuminosity emitted   = 1.058e+43 erg / s\n",
      "\tLuminosity absorbed  = 3.415e+42 erg / s\n",
      "\tLuminosity requested = 1.059e+43 erg / s\n",
      " (\u001b[1mbase.py\u001b[0m:559)\n",
      "[\u001b[1mtardis.simulation.base\u001b[0m][\u001b[1;37mINFO\u001b[0m   ]  \n",
      "\tIteration converged 12/4 consecutive times. (\u001b[1mbase.py\u001b[0m:266)\n",
      "[\u001b[1mtardis.simulation.base\u001b[0m][\u001b[1;37mINFO\u001b[0m   ]  \n",
      "\t\n",
      "\tPlasma stratification: (\u001b[1mbase.py\u001b[0m:527)\n"
     ]
    },
    {
     "data": {
      "text/html": [
       "<style  type=\"text/css\" >\n",
       "</style><table id=\"T_4061bcd4_cc4d_11ed_8e79_12e413fbf88c\" ><thead>    <tr>        <th class=\"index_name level0\" >Shell No.</th>        <th class=\"col_heading level0 col0\" >t_rad</th>        <th class=\"col_heading level0 col1\" >next_t_rad</th>        <th class=\"col_heading level0 col2\" >w</th>        <th class=\"col_heading level0 col3\" >next_w</th>    </tr></thead><tbody>\n",
       "                <tr>\n",
       "                        <th id=\"T_4061bcd4_cc4d_11ed_8e79_12e413fbf88clevel0_row0\" class=\"row_heading level0 row0\" >0</th>\n",
       "                        <td id=\"T_4061bcd4_cc4d_11ed_8e79_12e413fbf88crow0_col0\" class=\"data row0 col0\" >9.68e+03</td>\n",
       "                        <td id=\"T_4061bcd4_cc4d_11ed_8e79_12e413fbf88crow0_col1\" class=\"data row0 col1\" >9.66e+03</td>\n",
       "                        <td id=\"T_4061bcd4_cc4d_11ed_8e79_12e413fbf88crow0_col2\" class=\"data row0 col2\" >0.802</td>\n",
       "                        <td id=\"T_4061bcd4_cc4d_11ed_8e79_12e413fbf88crow0_col3\" class=\"data row0 col3\" >0.807</td>\n",
       "            </tr>\n",
       "            <tr>\n",
       "                        <th id=\"T_4061bcd4_cc4d_11ed_8e79_12e413fbf88clevel0_row1\" class=\"row_heading level0 row1\" >5</th>\n",
       "                        <td id=\"T_4061bcd4_cc4d_11ed_8e79_12e413fbf88crow1_col0\" class=\"data row1 col0\" >1e+04</td>\n",
       "                        <td id=\"T_4061bcd4_cc4d_11ed_8e79_12e413fbf88crow1_col1\" class=\"data row1 col1\" >1e+04</td>\n",
       "                        <td id=\"T_4061bcd4_cc4d_11ed_8e79_12e413fbf88crow1_col2\" class=\"data row1 col2\" >0.283</td>\n",
       "                        <td id=\"T_4061bcd4_cc4d_11ed_8e79_12e413fbf88crow1_col3\" class=\"data row1 col3\" >0.288</td>\n",
       "            </tr>\n",
       "            <tr>\n",
       "                        <th id=\"T_4061bcd4_cc4d_11ed_8e79_12e413fbf88clevel0_row2\" class=\"row_heading level0 row2\" >10</th>\n",
       "                        <td id=\"T_4061bcd4_cc4d_11ed_8e79_12e413fbf88crow2_col0\" class=\"data row2 col0\" >9.93e+03</td>\n",
       "                        <td id=\"T_4061bcd4_cc4d_11ed_8e79_12e413fbf88crow2_col1\" class=\"data row2 col1\" >9.94e+03</td>\n",
       "                        <td id=\"T_4061bcd4_cc4d_11ed_8e79_12e413fbf88crow2_col2\" class=\"data row2 col2\" >0.17</td>\n",
       "                        <td id=\"T_4061bcd4_cc4d_11ed_8e79_12e413fbf88crow2_col3\" class=\"data row2 col3\" >0.169</td>\n",
       "            </tr>\n",
       "            <tr>\n",
       "                        <th id=\"T_4061bcd4_cc4d_11ed_8e79_12e413fbf88clevel0_row3\" class=\"row_heading level0 row3\" >15</th>\n",
       "                        <td id=\"T_4061bcd4_cc4d_11ed_8e79_12e413fbf88crow3_col0\" class=\"data row3 col0\" >9.64e+03</td>\n",
       "                        <td id=\"T_4061bcd4_cc4d_11ed_8e79_12e413fbf88crow3_col1\" class=\"data row3 col1\" >9.7e+03</td>\n",
       "                        <td id=\"T_4061bcd4_cc4d_11ed_8e79_12e413fbf88crow3_col2\" class=\"data row3 col2\" >0.128</td>\n",
       "                        <td id=\"T_4061bcd4_cc4d_11ed_8e79_12e413fbf88crow3_col3\" class=\"data row3 col3\" >0.125</td>\n",
       "            </tr>\n",
       "    </tbody></table>"
      ],
      "text/plain": [
       "<pandas.io.formats.style.Styler at 0x7fa1ce04e220>"
      ]
     },
     "metadata": {},
     "output_type": "display_data"
    },
    {
     "name": "stdout",
     "output_type": "stream",
     "text": [
      "[\u001b[1mtardis.simulation.base\u001b[0m][\u001b[1;37mINFO\u001b[0m   ]  \n",
      "\t\n",
      "\tCurrent t_inner = 10647.025 K\n",
      "\tExpected t_inner for next iteration = 10649.748 K\n",
      " (\u001b[1mbase.py\u001b[0m:554)\n",
      "[\u001b[1mtardis.simulation.base\u001b[0m][\u001b[1;37mINFO\u001b[0m   ]  \n",
      "\t\n",
      "\tStarting iteration 15 of 20 (\u001b[1mbase.py\u001b[0m:385)\n",
      "[\u001b[1mtardis.simulation.base\u001b[0m][\u001b[1;37mINFO\u001b[0m   ]  \n",
      "\t\n",
      "\tLuminosity emitted   = 1.055e+43 erg / s\n",
      "\tLuminosity absorbed  = 3.455e+42 erg / s\n",
      "\tLuminosity requested = 1.059e+43 erg / s\n",
      " (\u001b[1mbase.py\u001b[0m:559)\n",
      "[\u001b[1mtardis.simulation.base\u001b[0m][\u001b[1;37mINFO\u001b[0m   ]  \n",
      "\tIteration converged 13/4 consecutive times. (\u001b[1mbase.py\u001b[0m:266)\n",
      "[\u001b[1mtardis.simulation.base\u001b[0m][\u001b[1;37mINFO\u001b[0m   ]  \n",
      "\t\n",
      "\tPlasma stratification: (\u001b[1mbase.py\u001b[0m:527)\n"
     ]
    },
    {
     "data": {
      "text/html": [
       "<style  type=\"text/css\" >\n",
       "</style><table id=\"T_40bc8ef2_cc4d_11ed_8e79_12e413fbf88c\" ><thead>    <tr>        <th class=\"index_name level0\" >Shell No.</th>        <th class=\"col_heading level0 col0\" >t_rad</th>        <th class=\"col_heading level0 col1\" >next_t_rad</th>        <th class=\"col_heading level0 col2\" >w</th>        <th class=\"col_heading level0 col3\" >next_w</th>    </tr></thead><tbody>\n",
       "                <tr>\n",
       "                        <th id=\"T_40bc8ef2_cc4d_11ed_8e79_12e413fbf88clevel0_row0\" class=\"row_heading level0 row0\" >0</th>\n",
       "                        <td id=\"T_40bc8ef2_cc4d_11ed_8e79_12e413fbf88crow0_col0\" class=\"data row0 col0\" >9.66e+03</td>\n",
       "                        <td id=\"T_40bc8ef2_cc4d_11ed_8e79_12e413fbf88crow0_col1\" class=\"data row0 col1\" >9.63e+03</td>\n",
       "                        <td id=\"T_40bc8ef2_cc4d_11ed_8e79_12e413fbf88crow0_col2\" class=\"data row0 col2\" >0.807</td>\n",
       "                        <td id=\"T_40bc8ef2_cc4d_11ed_8e79_12e413fbf88crow0_col3\" class=\"data row0 col3\" >0.815</td>\n",
       "            </tr>\n",
       "            <tr>\n",
       "                        <th id=\"T_40bc8ef2_cc4d_11ed_8e79_12e413fbf88clevel0_row1\" class=\"row_heading level0 row1\" >5</th>\n",
       "                        <td id=\"T_40bc8ef2_cc4d_11ed_8e79_12e413fbf88crow1_col0\" class=\"data row1 col0\" >1e+04</td>\n",
       "                        <td id=\"T_40bc8ef2_cc4d_11ed_8e79_12e413fbf88crow1_col1\" class=\"data row1 col1\" >9.96e+03</td>\n",
       "                        <td id=\"T_40bc8ef2_cc4d_11ed_8e79_12e413fbf88crow1_col2\" class=\"data row1 col2\" >0.288</td>\n",
       "                        <td id=\"T_40bc8ef2_cc4d_11ed_8e79_12e413fbf88crow1_col3\" class=\"data row1 col3\" >0.29</td>\n",
       "            </tr>\n",
       "            <tr>\n",
       "                        <th id=\"T_40bc8ef2_cc4d_11ed_8e79_12e413fbf88clevel0_row2\" class=\"row_heading level0 row2\" >10</th>\n",
       "                        <td id=\"T_40bc8ef2_cc4d_11ed_8e79_12e413fbf88crow2_col0\" class=\"data row2 col0\" >9.94e+03</td>\n",
       "                        <td id=\"T_40bc8ef2_cc4d_11ed_8e79_12e413fbf88crow2_col1\" class=\"data row2 col1\" >9.89e+03</td>\n",
       "                        <td id=\"T_40bc8ef2_cc4d_11ed_8e79_12e413fbf88crow2_col2\" class=\"data row2 col2\" >0.169</td>\n",
       "                        <td id=\"T_40bc8ef2_cc4d_11ed_8e79_12e413fbf88crow2_col3\" class=\"data row2 col3\" >0.172</td>\n",
       "            </tr>\n",
       "            <tr>\n",
       "                        <th id=\"T_40bc8ef2_cc4d_11ed_8e79_12e413fbf88clevel0_row3\" class=\"row_heading level0 row3\" >15</th>\n",
       "                        <td id=\"T_40bc8ef2_cc4d_11ed_8e79_12e413fbf88crow3_col0\" class=\"data row3 col0\" >9.7e+03</td>\n",
       "                        <td id=\"T_40bc8ef2_cc4d_11ed_8e79_12e413fbf88crow3_col1\" class=\"data row3 col1\" >9.66e+03</td>\n",
       "                        <td id=\"T_40bc8ef2_cc4d_11ed_8e79_12e413fbf88crow3_col2\" class=\"data row3 col2\" >0.125</td>\n",
       "                        <td id=\"T_40bc8ef2_cc4d_11ed_8e79_12e413fbf88crow3_col3\" class=\"data row3 col3\" >0.127</td>\n",
       "            </tr>\n",
       "    </tbody></table>"
      ],
      "text/plain": [
       "<pandas.io.formats.style.Styler at 0x7fa1bba7d400>"
      ]
     },
     "metadata": {},
     "output_type": "display_data"
    },
    {
     "name": "stdout",
     "output_type": "stream",
     "text": [
      "[\u001b[1mtardis.simulation.base\u001b[0m][\u001b[1;37mINFO\u001b[0m   ]  \n",
      "\t\n",
      "\tCurrent t_inner = 10649.748 K\n",
      "\tExpected t_inner for next iteration = 10659.500 K\n",
      " (\u001b[1mbase.py\u001b[0m:554)\n",
      "[\u001b[1mtardis.simulation.base\u001b[0m][\u001b[1;37mINFO\u001b[0m   ]  \n",
      "\t\n",
      "\tStarting iteration 16 of 20 (\u001b[1mbase.py\u001b[0m:385)\n",
      "[\u001b[1mtardis.simulation.base\u001b[0m][\u001b[1;37mINFO\u001b[0m   ]  \n",
      "\t\n",
      "\tLuminosity emitted   = 1.065e+43 erg / s\n",
      "\tLuminosity absorbed  = 3.412e+42 erg / s\n",
      "\tLuminosity requested = 1.059e+43 erg / s\n",
      " (\u001b[1mbase.py\u001b[0m:559)\n",
      "[\u001b[1mtardis.simulation.base\u001b[0m][\u001b[1;37mINFO\u001b[0m   ]  \n",
      "\tIteration converged 14/4 consecutive times. (\u001b[1mbase.py\u001b[0m:266)\n",
      "[\u001b[1mtardis.simulation.base\u001b[0m][\u001b[1;37mINFO\u001b[0m   ]  \n",
      "\t\n",
      "\tPlasma stratification: (\u001b[1mbase.py\u001b[0m:527)\n"
     ]
    },
    {
     "data": {
      "text/html": [
       "<style  type=\"text/css\" >\n",
       "</style><table id=\"T_4115033e_cc4d_11ed_8e79_12e413fbf88c\" ><thead>    <tr>        <th class=\"index_name level0\" >Shell No.</th>        <th class=\"col_heading level0 col0\" >t_rad</th>        <th class=\"col_heading level0 col1\" >next_t_rad</th>        <th class=\"col_heading level0 col2\" >w</th>        <th class=\"col_heading level0 col3\" >next_w</th>    </tr></thead><tbody>\n",
       "                <tr>\n",
       "                        <th id=\"T_4115033e_cc4d_11ed_8e79_12e413fbf88clevel0_row0\" class=\"row_heading level0 row0\" >0</th>\n",
       "                        <td id=\"T_4115033e_cc4d_11ed_8e79_12e413fbf88crow0_col0\" class=\"data row0 col0\" >9.63e+03</td>\n",
       "                        <td id=\"T_4115033e_cc4d_11ed_8e79_12e413fbf88crow0_col1\" class=\"data row0 col1\" >9.63e+03</td>\n",
       "                        <td id=\"T_4115033e_cc4d_11ed_8e79_12e413fbf88crow0_col2\" class=\"data row0 col2\" >0.815</td>\n",
       "                        <td id=\"T_4115033e_cc4d_11ed_8e79_12e413fbf88crow0_col3\" class=\"data row0 col3\" >0.817</td>\n",
       "            </tr>\n",
       "            <tr>\n",
       "                        <th id=\"T_4115033e_cc4d_11ed_8e79_12e413fbf88clevel0_row1\" class=\"row_heading level0 row1\" >5</th>\n",
       "                        <td id=\"T_4115033e_cc4d_11ed_8e79_12e413fbf88crow1_col0\" class=\"data row1 col0\" >9.96e+03</td>\n",
       "                        <td id=\"T_4115033e_cc4d_11ed_8e79_12e413fbf88crow1_col1\" class=\"data row1 col1\" >9.99e+03</td>\n",
       "                        <td id=\"T_4115033e_cc4d_11ed_8e79_12e413fbf88crow1_col2\" class=\"data row1 col2\" >0.29</td>\n",
       "                        <td id=\"T_4115033e_cc4d_11ed_8e79_12e413fbf88crow1_col3\" class=\"data row1 col3\" >0.286</td>\n",
       "            </tr>\n",
       "            <tr>\n",
       "                        <th id=\"T_4115033e_cc4d_11ed_8e79_12e413fbf88clevel0_row2\" class=\"row_heading level0 row2\" >10</th>\n",
       "                        <td id=\"T_4115033e_cc4d_11ed_8e79_12e413fbf88crow2_col0\" class=\"data row2 col0\" >9.89e+03</td>\n",
       "                        <td id=\"T_4115033e_cc4d_11ed_8e79_12e413fbf88crow2_col1\" class=\"data row2 col1\" >9.89e+03</td>\n",
       "                        <td id=\"T_4115033e_cc4d_11ed_8e79_12e413fbf88crow2_col2\" class=\"data row2 col2\" >0.172</td>\n",
       "                        <td id=\"T_4115033e_cc4d_11ed_8e79_12e413fbf88crow2_col3\" class=\"data row2 col3\" >0.174</td>\n",
       "            </tr>\n",
       "            <tr>\n",
       "                        <th id=\"T_4115033e_cc4d_11ed_8e79_12e413fbf88clevel0_row3\" class=\"row_heading level0 row3\" >15</th>\n",
       "                        <td id=\"T_4115033e_cc4d_11ed_8e79_12e413fbf88crow3_col0\" class=\"data row3 col0\" >9.66e+03</td>\n",
       "                        <td id=\"T_4115033e_cc4d_11ed_8e79_12e413fbf88crow3_col1\" class=\"data row3 col1\" >9.65e+03</td>\n",
       "                        <td id=\"T_4115033e_cc4d_11ed_8e79_12e413fbf88crow3_col2\" class=\"data row3 col2\" >0.127</td>\n",
       "                        <td id=\"T_4115033e_cc4d_11ed_8e79_12e413fbf88crow3_col3\" class=\"data row3 col3\" >0.128</td>\n",
       "            </tr>\n",
       "    </tbody></table>"
      ],
      "text/plain": [
       "<pandas.io.formats.style.Styler at 0x7fa1ce04e0a0>"
      ]
     },
     "metadata": {},
     "output_type": "display_data"
    },
    {
     "name": "stdout",
     "output_type": "stream",
     "text": [
      "[\u001b[1mtardis.simulation.base\u001b[0m][\u001b[1;37mINFO\u001b[0m   ]  \n",
      "\t\n",
      "\tCurrent t_inner = 10659.500 K\n",
      "\tExpected t_inner for next iteration = 10644.516 K\n",
      " (\u001b[1mbase.py\u001b[0m:554)\n",
      "[\u001b[1mtardis.simulation.base\u001b[0m][\u001b[1;37mINFO\u001b[0m   ]  \n",
      "\t\n",
      "\tStarting iteration 17 of 20 (\u001b[1mbase.py\u001b[0m:385)\n",
      "[\u001b[1mtardis.simulation.base\u001b[0m][\u001b[1;37mINFO\u001b[0m   ]  \n",
      "\t\n",
      "\tLuminosity emitted   = 1.057e+43 erg / s\n",
      "\tLuminosity absorbed  = 3.411e+42 erg / s\n",
      "\tLuminosity requested = 1.059e+43 erg / s\n",
      " (\u001b[1mbase.py\u001b[0m:559)\n",
      "[\u001b[1mtardis.simulation.base\u001b[0m][\u001b[1;37mINFO\u001b[0m   ]  \n",
      "\t\n",
      "\tPlasma stratification: (\u001b[1mbase.py\u001b[0m:527)\n"
     ]
    },
    {
     "data": {
      "text/html": [
       "<style  type=\"text/css\" >\n",
       "</style><table id=\"T_416fe704_cc4d_11ed_8e79_12e413fbf88c\" ><thead>    <tr>        <th class=\"index_name level0\" >Shell No.</th>        <th class=\"col_heading level0 col0\" >t_rad</th>        <th class=\"col_heading level0 col1\" >next_t_rad</th>        <th class=\"col_heading level0 col2\" >w</th>        <th class=\"col_heading level0 col3\" >next_w</th>    </tr></thead><tbody>\n",
       "                <tr>\n",
       "                        <th id=\"T_416fe704_cc4d_11ed_8e79_12e413fbf88clevel0_row0\" class=\"row_heading level0 row0\" >0</th>\n",
       "                        <td id=\"T_416fe704_cc4d_11ed_8e79_12e413fbf88crow0_col0\" class=\"data row0 col0\" >9.63e+03</td>\n",
       "                        <td id=\"T_416fe704_cc4d_11ed_8e79_12e413fbf88crow0_col1\" class=\"data row0 col1\" >9.66e+03</td>\n",
       "                        <td id=\"T_416fe704_cc4d_11ed_8e79_12e413fbf88crow0_col2\" class=\"data row0 col2\" >0.817</td>\n",
       "                        <td id=\"T_416fe704_cc4d_11ed_8e79_12e413fbf88crow0_col3\" class=\"data row0 col3\" >0.806</td>\n",
       "            </tr>\n",
       "            <tr>\n",
       "                        <th id=\"T_416fe704_cc4d_11ed_8e79_12e413fbf88clevel0_row1\" class=\"row_heading level0 row1\" >5</th>\n",
       "                        <td id=\"T_416fe704_cc4d_11ed_8e79_12e413fbf88crow1_col0\" class=\"data row1 col0\" >9.99e+03</td>\n",
       "                        <td id=\"T_416fe704_cc4d_11ed_8e79_12e413fbf88crow1_col1\" class=\"data row1 col1\" >1e+04</td>\n",
       "                        <td id=\"T_416fe704_cc4d_11ed_8e79_12e413fbf88crow1_col2\" class=\"data row1 col2\" >0.286</td>\n",
       "                        <td id=\"T_416fe704_cc4d_11ed_8e79_12e413fbf88crow1_col3\" class=\"data row1 col3\" >0.283</td>\n",
       "            </tr>\n",
       "            <tr>\n",
       "                        <th id=\"T_416fe704_cc4d_11ed_8e79_12e413fbf88clevel0_row2\" class=\"row_heading level0 row2\" >10</th>\n",
       "                        <td id=\"T_416fe704_cc4d_11ed_8e79_12e413fbf88crow2_col0\" class=\"data row2 col0\" >9.89e+03</td>\n",
       "                        <td id=\"T_416fe704_cc4d_11ed_8e79_12e413fbf88crow2_col1\" class=\"data row2 col1\" >9.89e+03</td>\n",
       "                        <td id=\"T_416fe704_cc4d_11ed_8e79_12e413fbf88crow2_col2\" class=\"data row2 col2\" >0.174</td>\n",
       "                        <td id=\"T_416fe704_cc4d_11ed_8e79_12e413fbf88crow2_col3\" class=\"data row2 col3\" >0.171</td>\n",
       "            </tr>\n",
       "            <tr>\n",
       "                        <th id=\"T_416fe704_cc4d_11ed_8e79_12e413fbf88clevel0_row3\" class=\"row_heading level0 row3\" >15</th>\n",
       "                        <td id=\"T_416fe704_cc4d_11ed_8e79_12e413fbf88crow3_col0\" class=\"data row3 col0\" >9.65e+03</td>\n",
       "                        <td id=\"T_416fe704_cc4d_11ed_8e79_12e413fbf88crow3_col1\" class=\"data row3 col1\" >9.77e+03</td>\n",
       "                        <td id=\"T_416fe704_cc4d_11ed_8e79_12e413fbf88crow3_col2\" class=\"data row3 col2\" >0.128</td>\n",
       "                        <td id=\"T_416fe704_cc4d_11ed_8e79_12e413fbf88crow3_col3\" class=\"data row3 col3\" >0.121</td>\n",
       "            </tr>\n",
       "    </tbody></table>"
      ],
      "text/plain": [
       "<pandas.io.formats.style.Styler at 0x7fa1ce04b520>"
      ]
     },
     "metadata": {},
     "output_type": "display_data"
    },
    {
     "name": "stdout",
     "output_type": "stream",
     "text": [
      "[\u001b[1mtardis.simulation.base\u001b[0m][\u001b[1;37mINFO\u001b[0m   ]  \n",
      "\t\n",
      "\tCurrent t_inner = 10644.516 K\n",
      "\tExpected t_inner for next iteration = 10649.248 K\n",
      " (\u001b[1mbase.py\u001b[0m:554)\n",
      "[\u001b[1mtardis.simulation.base\u001b[0m][\u001b[1;37mINFO\u001b[0m   ]  \n",
      "\t\n",
      "\tStarting iteration 18 of 20 (\u001b[1mbase.py\u001b[0m:385)\n",
      "[\u001b[1mtardis.simulation.base\u001b[0m][\u001b[1;37mINFO\u001b[0m   ]  \n",
      "\t\n",
      "\tLuminosity emitted   = 1.058e+43 erg / s\n",
      "\tLuminosity absorbed  = 3.424e+42 erg / s\n",
      "\tLuminosity requested = 1.059e+43 erg / s\n",
      " (\u001b[1mbase.py\u001b[0m:559)\n",
      "[\u001b[1mtardis.simulation.base\u001b[0m][\u001b[1;37mINFO\u001b[0m   ]  \n",
      "\tIteration converged 1/4 consecutive times. (\u001b[1mbase.py\u001b[0m:266)\n",
      "[\u001b[1mtardis.simulation.base\u001b[0m][\u001b[1;37mINFO\u001b[0m   ]  \n",
      "\t\n",
      "\tPlasma stratification: (\u001b[1mbase.py\u001b[0m:527)\n"
     ]
    },
    {
     "data": {
      "text/html": [
       "<style  type=\"text/css\" >\n",
       "</style><table id=\"T_41c88cc4_cc4d_11ed_8e79_12e413fbf88c\" ><thead>    <tr>        <th class=\"index_name level0\" >Shell No.</th>        <th class=\"col_heading level0 col0\" >t_rad</th>        <th class=\"col_heading level0 col1\" >next_t_rad</th>        <th class=\"col_heading level0 col2\" >w</th>        <th class=\"col_heading level0 col3\" >next_w</th>    </tr></thead><tbody>\n",
       "                <tr>\n",
       "                        <th id=\"T_41c88cc4_cc4d_11ed_8e79_12e413fbf88clevel0_row0\" class=\"row_heading level0 row0\" >0</th>\n",
       "                        <td id=\"T_41c88cc4_cc4d_11ed_8e79_12e413fbf88crow0_col0\" class=\"data row0 col0\" >9.66e+03</td>\n",
       "                        <td id=\"T_41c88cc4_cc4d_11ed_8e79_12e413fbf88crow0_col1\" class=\"data row0 col1\" >9.65e+03</td>\n",
       "                        <td id=\"T_41c88cc4_cc4d_11ed_8e79_12e413fbf88crow0_col2\" class=\"data row0 col2\" >0.806</td>\n",
       "                        <td id=\"T_41c88cc4_cc4d_11ed_8e79_12e413fbf88crow0_col3\" class=\"data row0 col3\" >0.808</td>\n",
       "            </tr>\n",
       "            <tr>\n",
       "                        <th id=\"T_41c88cc4_cc4d_11ed_8e79_12e413fbf88clevel0_row1\" class=\"row_heading level0 row1\" >5</th>\n",
       "                        <td id=\"T_41c88cc4_cc4d_11ed_8e79_12e413fbf88crow1_col0\" class=\"data row1 col0\" >1e+04</td>\n",
       "                        <td id=\"T_41c88cc4_cc4d_11ed_8e79_12e413fbf88crow1_col1\" class=\"data row1 col1\" >9.91e+03</td>\n",
       "                        <td id=\"T_41c88cc4_cc4d_11ed_8e79_12e413fbf88crow1_col2\" class=\"data row1 col2\" >0.283</td>\n",
       "                        <td id=\"T_41c88cc4_cc4d_11ed_8e79_12e413fbf88crow1_col3\" class=\"data row1 col3\" >0.295</td>\n",
       "            </tr>\n",
       "            <tr>\n",
       "                        <th id=\"T_41c88cc4_cc4d_11ed_8e79_12e413fbf88clevel0_row2\" class=\"row_heading level0 row2\" >10</th>\n",
       "                        <td id=\"T_41c88cc4_cc4d_11ed_8e79_12e413fbf88crow2_col0\" class=\"data row2 col0\" >9.89e+03</td>\n",
       "                        <td id=\"T_41c88cc4_cc4d_11ed_8e79_12e413fbf88crow2_col1\" class=\"data row2 col1\" >9.85e+03</td>\n",
       "                        <td id=\"T_41c88cc4_cc4d_11ed_8e79_12e413fbf88crow2_col2\" class=\"data row2 col2\" >0.171</td>\n",
       "                        <td id=\"T_41c88cc4_cc4d_11ed_8e79_12e413fbf88crow2_col3\" class=\"data row2 col3\" >0.176</td>\n",
       "            </tr>\n",
       "            <tr>\n",
       "                        <th id=\"T_41c88cc4_cc4d_11ed_8e79_12e413fbf88clevel0_row3\" class=\"row_heading level0 row3\" >15</th>\n",
       "                        <td id=\"T_41c88cc4_cc4d_11ed_8e79_12e413fbf88crow3_col0\" class=\"data row3 col0\" >9.77e+03</td>\n",
       "                        <td id=\"T_41c88cc4_cc4d_11ed_8e79_12e413fbf88crow3_col1\" class=\"data row3 col1\" >9.67e+03</td>\n",
       "                        <td id=\"T_41c88cc4_cc4d_11ed_8e79_12e413fbf88crow3_col2\" class=\"data row3 col2\" >0.121</td>\n",
       "                        <td id=\"T_41c88cc4_cc4d_11ed_8e79_12e413fbf88crow3_col3\" class=\"data row3 col3\" >0.126</td>\n",
       "            </tr>\n",
       "    </tbody></table>"
      ],
      "text/plain": [
       "<pandas.io.formats.style.Styler at 0x7fa1bba5ba60>"
      ]
     },
     "metadata": {},
     "output_type": "display_data"
    },
    {
     "name": "stdout",
     "output_type": "stream",
     "text": [
      "[\u001b[1mtardis.simulation.base\u001b[0m][\u001b[1;37mINFO\u001b[0m   ]  \n",
      "\t\n",
      "\tCurrent t_inner = 10649.248 K\n",
      "\tExpected t_inner for next iteration = 10651.551 K\n",
      " (\u001b[1mbase.py\u001b[0m:554)\n",
      "[\u001b[1mtardis.simulation.base\u001b[0m][\u001b[1;37mINFO\u001b[0m   ]  \n",
      "\t\n",
      "\tStarting iteration 19 of 20 (\u001b[1mbase.py\u001b[0m:385)\n",
      "[\u001b[1mtardis.simulation.base\u001b[0m][\u001b[1;37mINFO\u001b[0m   ]  \n",
      "\t\n",
      "\tLuminosity emitted   = 1.059e+43 erg / s\n",
      "\tLuminosity absorbed  = 3.434e+42 erg / s\n",
      "\tLuminosity requested = 1.059e+43 erg / s\n",
      " (\u001b[1mbase.py\u001b[0m:559)\n",
      "[\u001b[1mtardis.simulation.base\u001b[0m][\u001b[1;37mINFO\u001b[0m   ]  \n",
      "\tIteration converged 2/4 consecutive times. (\u001b[1mbase.py\u001b[0m:266)\n",
      "[\u001b[1mtardis.simulation.base\u001b[0m][\u001b[1;37mINFO\u001b[0m   ]  \n",
      "\t\n",
      "\tPlasma stratification: (\u001b[1mbase.py\u001b[0m:527)\n"
     ]
    },
    {
     "data": {
      "text/html": [
       "<style  type=\"text/css\" >\n",
       "</style><table id=\"T_421fc3a4_cc4d_11ed_8e79_12e413fbf88c\" ><thead>    <tr>        <th class=\"index_name level0\" >Shell No.</th>        <th class=\"col_heading level0 col0\" >t_rad</th>        <th class=\"col_heading level0 col1\" >next_t_rad</th>        <th class=\"col_heading level0 col2\" >w</th>        <th class=\"col_heading level0 col3\" >next_w</th>    </tr></thead><tbody>\n",
       "                <tr>\n",
       "                        <th id=\"T_421fc3a4_cc4d_11ed_8e79_12e413fbf88clevel0_row0\" class=\"row_heading level0 row0\" >0</th>\n",
       "                        <td id=\"T_421fc3a4_cc4d_11ed_8e79_12e413fbf88crow0_col0\" class=\"data row0 col0\" >9.65e+03</td>\n",
       "                        <td id=\"T_421fc3a4_cc4d_11ed_8e79_12e413fbf88crow0_col1\" class=\"data row0 col1\" >9.64e+03</td>\n",
       "                        <td id=\"T_421fc3a4_cc4d_11ed_8e79_12e413fbf88crow0_col2\" class=\"data row0 col2\" >0.808</td>\n",
       "                        <td id=\"T_421fc3a4_cc4d_11ed_8e79_12e413fbf88crow0_col3\" class=\"data row0 col3\" >0.813</td>\n",
       "            </tr>\n",
       "            <tr>\n",
       "                        <th id=\"T_421fc3a4_cc4d_11ed_8e79_12e413fbf88clevel0_row1\" class=\"row_heading level0 row1\" >5</th>\n",
       "                        <td id=\"T_421fc3a4_cc4d_11ed_8e79_12e413fbf88crow1_col0\" class=\"data row1 col0\" >9.91e+03</td>\n",
       "                        <td id=\"T_421fc3a4_cc4d_11ed_8e79_12e413fbf88crow1_col1\" class=\"data row1 col1\" >9.96e+03</td>\n",
       "                        <td id=\"T_421fc3a4_cc4d_11ed_8e79_12e413fbf88crow1_col2\" class=\"data row1 col2\" >0.295</td>\n",
       "                        <td id=\"T_421fc3a4_cc4d_11ed_8e79_12e413fbf88crow1_col3\" class=\"data row1 col3\" >0.289</td>\n",
       "            </tr>\n",
       "            <tr>\n",
       "                        <th id=\"T_421fc3a4_cc4d_11ed_8e79_12e413fbf88clevel0_row2\" class=\"row_heading level0 row2\" >10</th>\n",
       "                        <td id=\"T_421fc3a4_cc4d_11ed_8e79_12e413fbf88crow2_col0\" class=\"data row2 col0\" >9.85e+03</td>\n",
       "                        <td id=\"T_421fc3a4_cc4d_11ed_8e79_12e413fbf88crow2_col1\" class=\"data row2 col1\" >9.9e+03</td>\n",
       "                        <td id=\"T_421fc3a4_cc4d_11ed_8e79_12e413fbf88crow2_col2\" class=\"data row2 col2\" >0.176</td>\n",
       "                        <td id=\"T_421fc3a4_cc4d_11ed_8e79_12e413fbf88crow2_col3\" class=\"data row2 col3\" >0.171</td>\n",
       "            </tr>\n",
       "            <tr>\n",
       "                        <th id=\"T_421fc3a4_cc4d_11ed_8e79_12e413fbf88clevel0_row3\" class=\"row_heading level0 row3\" >15</th>\n",
       "                        <td id=\"T_421fc3a4_cc4d_11ed_8e79_12e413fbf88crow3_col0\" class=\"data row3 col0\" >9.67e+03</td>\n",
       "                        <td id=\"T_421fc3a4_cc4d_11ed_8e79_12e413fbf88crow3_col1\" class=\"data row3 col1\" >9.66e+03</td>\n",
       "                        <td id=\"T_421fc3a4_cc4d_11ed_8e79_12e413fbf88crow3_col2\" class=\"data row3 col2\" >0.126</td>\n",
       "                        <td id=\"T_421fc3a4_cc4d_11ed_8e79_12e413fbf88crow3_col3\" class=\"data row3 col3\" >0.126</td>\n",
       "            </tr>\n",
       "    </tbody></table>"
      ],
      "text/plain": [
       "<pandas.io.formats.style.Styler at 0x7fa1ce04e940>"
      ]
     },
     "metadata": {},
     "output_type": "display_data"
    },
    {
     "name": "stdout",
     "output_type": "stream",
     "text": [
      "[\u001b[1mtardis.simulation.base\u001b[0m][\u001b[1;37mINFO\u001b[0m   ]  \n",
      "\t\n",
      "\tCurrent t_inner = 10651.551 K\n",
      "\tExpected t_inner for next iteration = 10652.913 K\n",
      " (\u001b[1mbase.py\u001b[0m:554)\n",
      "[\u001b[1mtardis.simulation.base\u001b[0m][\u001b[1;37mINFO\u001b[0m   ]  \n",
      "\t\n",
      "\tStarting iteration 20 of 20 (\u001b[1mbase.py\u001b[0m:385)\n",
      "[\u001b[1mtardis.simulation.base\u001b[0m][\u001b[1;37mINFO\u001b[0m   ]  \n",
      "\t\n",
      "\tLuminosity emitted   = 1.060e+43 erg / s\n",
      "\tLuminosity absorbed  = 3.427e+42 erg / s\n",
      "\tLuminosity requested = 1.059e+43 erg / s\n",
      " (\u001b[1mbase.py\u001b[0m:559)\n",
      "[\u001b[1mtardis.simulation.base\u001b[0m][\u001b[1;37mINFO\u001b[0m   ]  \n",
      "\t\n",
      "\tSimulation finished in 20 iterations \n",
      "\tSimulation took 30.18 s\n",
      " (\u001b[1mbase.py\u001b[0m:480)\n",
      "[\u001b[1mtardis.plasma.standard_plasmas\u001b[0m][\u001b[1;37mINFO\u001b[0m   ]  \n",
      "\t\n",
      "\tReading Atomic Data from kurucz_cd23_chianti_H_He.h5 (\u001b[1mstandard_plasmas.py\u001b[0m:95)\n",
      "[\u001b[1mtardis.io.atom_data.util\u001b[0m][\u001b[1;37mINFO\u001b[0m   ]  \n",
      "\t\n",
      "\tAtom Data kurucz_cd23_chianti_H_He.h5 not found in local path.\n",
      "\tExists in TARDIS Data repo /Users/archil/Downloads/tardis-data/kurucz_cd23_chianti_H_He.h5 (\u001b[1mutil.py\u001b[0m:33)\n",
      "[\u001b[1mtardis.io.atom_data.base\u001b[0m][\u001b[1;37mINFO\u001b[0m   ]  \n",
      "\tReading Atom Data with: UUID = 6f7b09e887a311e7a06b246e96350010 MD5  = 864f1753714343c41f99cb065710cace  (\u001b[1mbase.py\u001b[0m:249)\n",
      "[\u001b[1mtardis.io.atom_data.base\u001b[0m][\u001b[1;37mINFO\u001b[0m   ]  \n",
      "\tNon provided Atomic Data: synpp_refs, photoionization_data, yg_data, two_photon_data (\u001b[1mbase.py\u001b[0m:253)\n",
      "[\u001b[1mtardis.simulation.base\u001b[0m][\u001b[1;37mINFO\u001b[0m   ]  \n",
      "\t\n",
      "\tStarting iteration 1 of 20 (\u001b[1mbase.py\u001b[0m:385)\n"
     ]
    },
    {
     "data": {
      "application/vnd.jupyter.widget-view+json": {
       "model_id": "25cf45160e9849dd83c7f47ee1e69ebc",
       "version_major": 2,
       "version_minor": 0
      },
      "text/plain": [
       "TqdmHBox(children=(HTML(value='Iterations:', layout=Layout(width='6%')), FloatProgress(value=0.0, layout=Layou…"
      ]
     },
     "metadata": {},
     "output_type": "display_data"
    },
    {
     "data": {
      "application/vnd.jupyter.widget-view+json": {
       "model_id": "2377e5495c9045369a39ee72993947a1",
       "version_major": 2,
       "version_minor": 0
      },
      "text/plain": [
       "TqdmHBox(children=(HTML(value='Packets:   ', layout=Layout(width='6%')), FloatProgress(value=0.0, layout=Layou…"
      ]
     },
     "metadata": {},
     "output_type": "display_data"
    },
    {
     "name": "stdout",
     "output_type": "stream",
     "text": [
      "[\u001b[1mtardis.simulation.base\u001b[0m][\u001b[1;37mINFO\u001b[0m   ]  \n",
      "\t\n",
      "\tLuminosity emitted   = 7.942e+42 erg / s\n",
      "\tLuminosity absorbed  = 2.659e+42 erg / s\n",
      "\tLuminosity requested = 1.059e+43 erg / s\n",
      " (\u001b[1mbase.py\u001b[0m:559)\n",
      "[\u001b[1mtardis.simulation.base\u001b[0m][\u001b[1;37mINFO\u001b[0m   ]  \n",
      "\t\n",
      "\tPlasma stratification: (\u001b[1mbase.py\u001b[0m:527)\n"
     ]
    },
    {
     "data": {
      "text/html": [
       "<style  type=\"text/css\" >\n",
       "</style><table id=\"T_46a658de_cc4d_11ed_8e79_12e413fbf88c\" ><thead>    <tr>        <th class=\"index_name level0\" >Shell No.</th>        <th class=\"col_heading level0 col0\" >t_rad</th>        <th class=\"col_heading level0 col1\" >next_t_rad</th>        <th class=\"col_heading level0 col2\" >w</th>        <th class=\"col_heading level0 col3\" >next_w</th>    </tr></thead><tbody>\n",
       "                <tr>\n",
       "                        <th id=\"T_46a658de_cc4d_11ed_8e79_12e413fbf88clevel0_row0\" class=\"row_heading level0 row0\" >0</th>\n",
       "                        <td id=\"T_46a658de_cc4d_11ed_8e79_12e413fbf88crow0_col0\" class=\"data row0 col0\" >9.93e+03</td>\n",
       "                        <td id=\"T_46a658de_cc4d_11ed_8e79_12e413fbf88crow0_col1\" class=\"data row0 col1\" >1.01e+04</td>\n",
       "                        <td id=\"T_46a658de_cc4d_11ed_8e79_12e413fbf88crow0_col2\" class=\"data row0 col2\" >0.4</td>\n",
       "                        <td id=\"T_46a658de_cc4d_11ed_8e79_12e413fbf88crow0_col3\" class=\"data row0 col3\" >0.507</td>\n",
       "            </tr>\n",
       "            <tr>\n",
       "                        <th id=\"T_46a658de_cc4d_11ed_8e79_12e413fbf88clevel0_row1\" class=\"row_heading level0 row1\" >5</th>\n",
       "                        <td id=\"T_46a658de_cc4d_11ed_8e79_12e413fbf88crow1_col0\" class=\"data row1 col0\" >9.85e+03</td>\n",
       "                        <td id=\"T_46a658de_cc4d_11ed_8e79_12e413fbf88crow1_col1\" class=\"data row1 col1\" >1.02e+04</td>\n",
       "                        <td id=\"T_46a658de_cc4d_11ed_8e79_12e413fbf88crow1_col2\" class=\"data row1 col2\" >0.211</td>\n",
       "                        <td id=\"T_46a658de_cc4d_11ed_8e79_12e413fbf88crow1_col3\" class=\"data row1 col3\" >0.197</td>\n",
       "            </tr>\n",
       "            <tr>\n",
       "                        <th id=\"T_46a658de_cc4d_11ed_8e79_12e413fbf88clevel0_row2\" class=\"row_heading level0 row2\" >10</th>\n",
       "                        <td id=\"T_46a658de_cc4d_11ed_8e79_12e413fbf88crow2_col0\" class=\"data row2 col0\" >9.78e+03</td>\n",
       "                        <td id=\"T_46a658de_cc4d_11ed_8e79_12e413fbf88crow2_col1\" class=\"data row2 col1\" >1.01e+04</td>\n",
       "                        <td id=\"T_46a658de_cc4d_11ed_8e79_12e413fbf88crow2_col2\" class=\"data row2 col2\" >0.143</td>\n",
       "                        <td id=\"T_46a658de_cc4d_11ed_8e79_12e413fbf88crow2_col3\" class=\"data row2 col3\" >0.117</td>\n",
       "            </tr>\n",
       "            <tr>\n",
       "                        <th id=\"T_46a658de_cc4d_11ed_8e79_12e413fbf88clevel0_row3\" class=\"row_heading level0 row3\" >15</th>\n",
       "                        <td id=\"T_46a658de_cc4d_11ed_8e79_12e413fbf88crow3_col0\" class=\"data row3 col0\" >9.71e+03</td>\n",
       "                        <td id=\"T_46a658de_cc4d_11ed_8e79_12e413fbf88crow3_col1\" class=\"data row3 col1\" >9.87e+03</td>\n",
       "                        <td id=\"T_46a658de_cc4d_11ed_8e79_12e413fbf88crow3_col2\" class=\"data row3 col2\" >0.105</td>\n",
       "                        <td id=\"T_46a658de_cc4d_11ed_8e79_12e413fbf88crow3_col3\" class=\"data row3 col3\" >0.0869</td>\n",
       "            </tr>\n",
       "    </tbody></table>"
      ],
      "text/plain": [
       "<pandas.io.formats.style.Styler at 0x7fa1bb938fa0>"
      ]
     },
     "metadata": {},
     "output_type": "display_data"
    },
    {
     "name": "stdout",
     "output_type": "stream",
     "text": [
      "[\u001b[1mtardis.simulation.base\u001b[0m][\u001b[1;37mINFO\u001b[0m   ]  \n",
      "\t\n",
      "\tCurrent t_inner = 9933.952 K\n",
      "\tExpected t_inner for next iteration = 10703.212 K\n",
      " (\u001b[1mbase.py\u001b[0m:554)\n",
      "[\u001b[1mtardis.simulation.base\u001b[0m][\u001b[1;37mINFO\u001b[0m   ]  \n",
      "\t\n",
      "\tStarting iteration 2 of 20 (\u001b[1mbase.py\u001b[0m:385)\n",
      "[\u001b[1mtardis.simulation.base\u001b[0m][\u001b[1;37mINFO\u001b[0m   ]  \n",
      "\t\n",
      "\tLuminosity emitted   = 1.071e+43 erg / s\n",
      "\tLuminosity absorbed  = 3.576e+42 erg / s\n",
      "\tLuminosity requested = 1.059e+43 erg / s\n",
      " (\u001b[1mbase.py\u001b[0m:559)\n",
      "[\u001b[1mtardis.simulation.base\u001b[0m][\u001b[1;37mINFO\u001b[0m   ]  \n",
      "\t\n",
      "\tPlasma stratification: (\u001b[1mbase.py\u001b[0m:527)\n"
     ]
    },
    {
     "data": {
      "text/html": [
       "<style  type=\"text/css\" >\n",
       "</style><table id=\"T_4701bc24_cc4d_11ed_8e79_12e413fbf88c\" ><thead>    <tr>        <th class=\"index_name level0\" >Shell No.</th>        <th class=\"col_heading level0 col0\" >t_rad</th>        <th class=\"col_heading level0 col1\" >next_t_rad</th>        <th class=\"col_heading level0 col2\" >w</th>        <th class=\"col_heading level0 col3\" >next_w</th>    </tr></thead><tbody>\n",
       "                <tr>\n",
       "                        <th id=\"T_4701bc24_cc4d_11ed_8e79_12e413fbf88clevel0_row0\" class=\"row_heading level0 row0\" >0</th>\n",
       "                        <td id=\"T_4701bc24_cc4d_11ed_8e79_12e413fbf88crow0_col0\" class=\"data row0 col0\" >1.01e+04</td>\n",
       "                        <td id=\"T_4701bc24_cc4d_11ed_8e79_12e413fbf88crow0_col1\" class=\"data row0 col1\" >1.08e+04</td>\n",
       "                        <td id=\"T_4701bc24_cc4d_11ed_8e79_12e413fbf88crow0_col2\" class=\"data row0 col2\" >0.507</td>\n",
       "                        <td id=\"T_4701bc24_cc4d_11ed_8e79_12e413fbf88crow0_col3\" class=\"data row0 col3\" >0.525</td>\n",
       "            </tr>\n",
       "            <tr>\n",
       "                        <th id=\"T_4701bc24_cc4d_11ed_8e79_12e413fbf88clevel0_row1\" class=\"row_heading level0 row1\" >5</th>\n",
       "                        <td id=\"T_4701bc24_cc4d_11ed_8e79_12e413fbf88crow1_col0\" class=\"data row1 col0\" >1.02e+04</td>\n",
       "                        <td id=\"T_4701bc24_cc4d_11ed_8e79_12e413fbf88crow1_col1\" class=\"data row1 col1\" >1.1e+04</td>\n",
       "                        <td id=\"T_4701bc24_cc4d_11ed_8e79_12e413fbf88crow1_col2\" class=\"data row1 col2\" >0.197</td>\n",
       "                        <td id=\"T_4701bc24_cc4d_11ed_8e79_12e413fbf88crow1_col3\" class=\"data row1 col3\" >0.203</td>\n",
       "            </tr>\n",
       "            <tr>\n",
       "                        <th id=\"T_4701bc24_cc4d_11ed_8e79_12e413fbf88clevel0_row2\" class=\"row_heading level0 row2\" >10</th>\n",
       "                        <td id=\"T_4701bc24_cc4d_11ed_8e79_12e413fbf88crow2_col0\" class=\"data row2 col0\" >1.01e+04</td>\n",
       "                        <td id=\"T_4701bc24_cc4d_11ed_8e79_12e413fbf88crow2_col1\" class=\"data row2 col1\" >1.08e+04</td>\n",
       "                        <td id=\"T_4701bc24_cc4d_11ed_8e79_12e413fbf88crow2_col2\" class=\"data row2 col2\" >0.117</td>\n",
       "                        <td id=\"T_4701bc24_cc4d_11ed_8e79_12e413fbf88crow2_col3\" class=\"data row2 col3\" >0.125</td>\n",
       "            </tr>\n",
       "            <tr>\n",
       "                        <th id=\"T_4701bc24_cc4d_11ed_8e79_12e413fbf88clevel0_row3\" class=\"row_heading level0 row3\" >15</th>\n",
       "                        <td id=\"T_4701bc24_cc4d_11ed_8e79_12e413fbf88crow3_col0\" class=\"data row3 col0\" >9.87e+03</td>\n",
       "                        <td id=\"T_4701bc24_cc4d_11ed_8e79_12e413fbf88crow3_col1\" class=\"data row3 col1\" >1.05e+04</td>\n",
       "                        <td id=\"T_4701bc24_cc4d_11ed_8e79_12e413fbf88crow3_col2\" class=\"data row3 col2\" >0.0869</td>\n",
       "                        <td id=\"T_4701bc24_cc4d_11ed_8e79_12e413fbf88crow3_col3\" class=\"data row3 col3\" >0.0933</td>\n",
       "            </tr>\n",
       "    </tbody></table>"
      ],
      "text/plain": [
       "<pandas.io.formats.style.Styler at 0x7fa1bb938f10>"
      ]
     },
     "metadata": {},
     "output_type": "display_data"
    },
    {
     "name": "stdout",
     "output_type": "stream",
     "text": [
      "[\u001b[1mtardis.simulation.base\u001b[0m][\u001b[1;37mINFO\u001b[0m   ]  \n",
      "\t\n",
      "\tCurrent t_inner = 10703.212 K\n",
      "\tExpected t_inner for next iteration = 10673.712 K\n",
      " (\u001b[1mbase.py\u001b[0m:554)\n",
      "[\u001b[1mtardis.simulation.base\u001b[0m][\u001b[1;37mINFO\u001b[0m   ]  \n",
      "\t\n",
      "\tStarting iteration 3 of 20 (\u001b[1mbase.py\u001b[0m:385)\n",
      "[\u001b[1mtardis.simulation.base\u001b[0m][\u001b[1;37mINFO\u001b[0m   ]  \n",
      "\t\n",
      "\tLuminosity emitted   = 1.074e+43 erg / s\n",
      "\tLuminosity absorbed  = 3.391e+42 erg / s\n",
      "\tLuminosity requested = 1.059e+43 erg / s\n",
      " (\u001b[1mbase.py\u001b[0m:559)\n",
      "[\u001b[1mtardis.simulation.base\u001b[0m][\u001b[1;37mINFO\u001b[0m   ]  \n",
      "\t\n",
      "\tPlasma stratification: (\u001b[1mbase.py\u001b[0m:527)\n"
     ]
    },
    {
     "data": {
      "text/html": [
       "<style  type=\"text/css\" >\n",
       "</style><table id=\"T_475eadd0_cc4d_11ed_8e79_12e413fbf88c\" ><thead>    <tr>        <th class=\"index_name level0\" >Shell No.</th>        <th class=\"col_heading level0 col0\" >t_rad</th>        <th class=\"col_heading level0 col1\" >next_t_rad</th>        <th class=\"col_heading level0 col2\" >w</th>        <th class=\"col_heading level0 col3\" >next_w</th>    </tr></thead><tbody>\n",
       "                <tr>\n",
       "                        <th id=\"T_475eadd0_cc4d_11ed_8e79_12e413fbf88clevel0_row0\" class=\"row_heading level0 row0\" >0</th>\n",
       "                        <td id=\"T_475eadd0_cc4d_11ed_8e79_12e413fbf88crow0_col0\" class=\"data row0 col0\" >1.08e+04</td>\n",
       "                        <td id=\"T_475eadd0_cc4d_11ed_8e79_12e413fbf88crow0_col1\" class=\"data row0 col1\" >1.1e+04</td>\n",
       "                        <td id=\"T_475eadd0_cc4d_11ed_8e79_12e413fbf88crow0_col2\" class=\"data row0 col2\" >0.525</td>\n",
       "                        <td id=\"T_475eadd0_cc4d_11ed_8e79_12e413fbf88crow0_col3\" class=\"data row0 col3\" >0.483</td>\n",
       "            </tr>\n",
       "            <tr>\n",
       "                        <th id=\"T_475eadd0_cc4d_11ed_8e79_12e413fbf88clevel0_row1\" class=\"row_heading level0 row1\" >5</th>\n",
       "                        <td id=\"T_475eadd0_cc4d_11ed_8e79_12e413fbf88crow1_col0\" class=\"data row1 col0\" >1.1e+04</td>\n",
       "                        <td id=\"T_475eadd0_cc4d_11ed_8e79_12e413fbf88crow1_col1\" class=\"data row1 col1\" >1.12e+04</td>\n",
       "                        <td id=\"T_475eadd0_cc4d_11ed_8e79_12e413fbf88crow1_col2\" class=\"data row1 col2\" >0.203</td>\n",
       "                        <td id=\"T_475eadd0_cc4d_11ed_8e79_12e413fbf88crow1_col3\" class=\"data row1 col3\" >0.189</td>\n",
       "            </tr>\n",
       "            <tr>\n",
       "                        <th id=\"T_475eadd0_cc4d_11ed_8e79_12e413fbf88clevel0_row2\" class=\"row_heading level0 row2\" >10</th>\n",
       "                        <td id=\"T_475eadd0_cc4d_11ed_8e79_12e413fbf88crow2_col0\" class=\"data row2 col0\" >1.08e+04</td>\n",
       "                        <td id=\"T_475eadd0_cc4d_11ed_8e79_12e413fbf88crow2_col1\" class=\"data row2 col1\" >1.1e+04</td>\n",
       "                        <td id=\"T_475eadd0_cc4d_11ed_8e79_12e413fbf88crow2_col2\" class=\"data row2 col2\" >0.125</td>\n",
       "                        <td id=\"T_475eadd0_cc4d_11ed_8e79_12e413fbf88crow2_col3\" class=\"data row2 col3\" >0.118</td>\n",
       "            </tr>\n",
       "            <tr>\n",
       "                        <th id=\"T_475eadd0_cc4d_11ed_8e79_12e413fbf88clevel0_row3\" class=\"row_heading level0 row3\" >15</th>\n",
       "                        <td id=\"T_475eadd0_cc4d_11ed_8e79_12e413fbf88crow3_col0\" class=\"data row3 col0\" >1.05e+04</td>\n",
       "                        <td id=\"T_475eadd0_cc4d_11ed_8e79_12e413fbf88crow3_col1\" class=\"data row3 col1\" >1.06e+04</td>\n",
       "                        <td id=\"T_475eadd0_cc4d_11ed_8e79_12e413fbf88crow3_col2\" class=\"data row3 col2\" >0.0933</td>\n",
       "                        <td id=\"T_475eadd0_cc4d_11ed_8e79_12e413fbf88crow3_col3\" class=\"data row3 col3\" >0.0895</td>\n",
       "            </tr>\n",
       "    </tbody></table>"
      ],
      "text/plain": [
       "<pandas.io.formats.style.Styler at 0x7fa1bb88edc0>"
      ]
     },
     "metadata": {},
     "output_type": "display_data"
    },
    {
     "name": "stdout",
     "output_type": "stream",
     "text": [
      "[\u001b[1mtardis.simulation.base\u001b[0m][\u001b[1;37mINFO\u001b[0m   ]  \n",
      "\t\n",
      "\tCurrent t_inner = 10673.712 K\n",
      "\tExpected t_inner for next iteration = 10635.953 K\n",
      " (\u001b[1mbase.py\u001b[0m:554)\n",
      "[\u001b[1mtardis.simulation.base\u001b[0m][\u001b[1;37mINFO\u001b[0m   ]  \n",
      "\t\n",
      "\tStarting iteration 4 of 20 (\u001b[1mbase.py\u001b[0m:385)\n",
      "[\u001b[1mtardis.simulation.base\u001b[0m][\u001b[1;37mINFO\u001b[0m   ]  \n",
      "\t\n",
      "\tLuminosity emitted   = 1.058e+43 erg / s\n",
      "\tLuminosity absorbed  = 3.352e+42 erg / s\n",
      "\tLuminosity requested = 1.059e+43 erg / s\n",
      " (\u001b[1mbase.py\u001b[0m:559)\n",
      "[\u001b[1mtardis.simulation.base\u001b[0m][\u001b[1;37mINFO\u001b[0m   ]  \n",
      "\t\n",
      "\tPlasma stratification: (\u001b[1mbase.py\u001b[0m:527)\n"
     ]
    },
    {
     "data": {
      "text/html": [
       "<style  type=\"text/css\" >\n",
       "</style><table id=\"T_47bcce60_cc4d_11ed_8e79_12e413fbf88c\" ><thead>    <tr>        <th class=\"index_name level0\" >Shell No.</th>        <th class=\"col_heading level0 col0\" >t_rad</th>        <th class=\"col_heading level0 col1\" >next_t_rad</th>        <th class=\"col_heading level0 col2\" >w</th>        <th class=\"col_heading level0 col3\" >next_w</th>    </tr></thead><tbody>\n",
       "                <tr>\n",
       "                        <th id=\"T_47bcce60_cc4d_11ed_8e79_12e413fbf88clevel0_row0\" class=\"row_heading level0 row0\" >0</th>\n",
       "                        <td id=\"T_47bcce60_cc4d_11ed_8e79_12e413fbf88crow0_col0\" class=\"data row0 col0\" >1.1e+04</td>\n",
       "                        <td id=\"T_47bcce60_cc4d_11ed_8e79_12e413fbf88crow0_col1\" class=\"data row0 col1\" >1.1e+04</td>\n",
       "                        <td id=\"T_47bcce60_cc4d_11ed_8e79_12e413fbf88crow0_col2\" class=\"data row0 col2\" >0.483</td>\n",
       "                        <td id=\"T_47bcce60_cc4d_11ed_8e79_12e413fbf88crow0_col3\" class=\"data row0 col3\" >0.469</td>\n",
       "            </tr>\n",
       "            <tr>\n",
       "                        <th id=\"T_47bcce60_cc4d_11ed_8e79_12e413fbf88clevel0_row1\" class=\"row_heading level0 row1\" >5</th>\n",
       "                        <td id=\"T_47bcce60_cc4d_11ed_8e79_12e413fbf88crow1_col0\" class=\"data row1 col0\" >1.12e+04</td>\n",
       "                        <td id=\"T_47bcce60_cc4d_11ed_8e79_12e413fbf88crow1_col1\" class=\"data row1 col1\" >1.12e+04</td>\n",
       "                        <td id=\"T_47bcce60_cc4d_11ed_8e79_12e413fbf88crow1_col2\" class=\"data row1 col2\" >0.189</td>\n",
       "                        <td id=\"T_47bcce60_cc4d_11ed_8e79_12e413fbf88crow1_col3\" class=\"data row1 col3\" >0.182</td>\n",
       "            </tr>\n",
       "            <tr>\n",
       "                        <th id=\"T_47bcce60_cc4d_11ed_8e79_12e413fbf88clevel0_row2\" class=\"row_heading level0 row2\" >10</th>\n",
       "                        <td id=\"T_47bcce60_cc4d_11ed_8e79_12e413fbf88crow2_col0\" class=\"data row2 col0\" >1.1e+04</td>\n",
       "                        <td id=\"T_47bcce60_cc4d_11ed_8e79_12e413fbf88crow2_col1\" class=\"data row2 col1\" >1.1e+04</td>\n",
       "                        <td id=\"T_47bcce60_cc4d_11ed_8e79_12e413fbf88crow2_col2\" class=\"data row2 col2\" >0.118</td>\n",
       "                        <td id=\"T_47bcce60_cc4d_11ed_8e79_12e413fbf88crow2_col3\" class=\"data row2 col3\" >0.113</td>\n",
       "            </tr>\n",
       "            <tr>\n",
       "                        <th id=\"T_47bcce60_cc4d_11ed_8e79_12e413fbf88clevel0_row3\" class=\"row_heading level0 row3\" >15</th>\n",
       "                        <td id=\"T_47bcce60_cc4d_11ed_8e79_12e413fbf88crow3_col0\" class=\"data row3 col0\" >1.06e+04</td>\n",
       "                        <td id=\"T_47bcce60_cc4d_11ed_8e79_12e413fbf88crow3_col1\" class=\"data row3 col1\" >1.07e+04</td>\n",
       "                        <td id=\"T_47bcce60_cc4d_11ed_8e79_12e413fbf88crow3_col2\" class=\"data row3 col2\" >0.0895</td>\n",
       "                        <td id=\"T_47bcce60_cc4d_11ed_8e79_12e413fbf88crow3_col3\" class=\"data row3 col3\" >0.0861</td>\n",
       "            </tr>\n",
       "    </tbody></table>"
      ],
      "text/plain": [
       "<pandas.io.formats.style.Styler at 0x7fa1bb88e460>"
      ]
     },
     "metadata": {},
     "output_type": "display_data"
    },
    {
     "name": "stdout",
     "output_type": "stream",
     "text": [
      "[\u001b[1mtardis.simulation.base\u001b[0m][\u001b[1;37mINFO\u001b[0m   ]  \n",
      "\t\n",
      "\tCurrent t_inner = 10635.953 K\n",
      "\tExpected t_inner for next iteration = 10638.407 K\n",
      " (\u001b[1mbase.py\u001b[0m:554)\n",
      "[\u001b[1mtardis.simulation.base\u001b[0m][\u001b[1;37mINFO\u001b[0m   ]  \n",
      "\t\n",
      "\tStarting iteration 5 of 20 (\u001b[1mbase.py\u001b[0m:385)\n",
      "[\u001b[1mtardis.simulation.base\u001b[0m][\u001b[1;37mINFO\u001b[0m   ]  \n",
      "\t\n",
      "\tLuminosity emitted   = 1.055e+43 erg / s\n",
      "\tLuminosity absorbed  = 3.399e+42 erg / s\n",
      "\tLuminosity requested = 1.059e+43 erg / s\n",
      " (\u001b[1mbase.py\u001b[0m:559)\n",
      "[\u001b[1mtardis.simulation.base\u001b[0m][\u001b[1;37mINFO\u001b[0m   ]  \n",
      "\tIteration converged 1/4 consecutive times. (\u001b[1mbase.py\u001b[0m:266)\n",
      "[\u001b[1mtardis.simulation.base\u001b[0m][\u001b[1;37mINFO\u001b[0m   ]  \n",
      "\t\n",
      "\tPlasma stratification: (\u001b[1mbase.py\u001b[0m:527)\n"
     ]
    },
    {
     "data": {
      "text/html": [
       "<style  type=\"text/css\" >\n",
       "</style><table id=\"T_4816feb2_cc4d_11ed_8e79_12e413fbf88c\" ><thead>    <tr>        <th class=\"index_name level0\" >Shell No.</th>        <th class=\"col_heading level0 col0\" >t_rad</th>        <th class=\"col_heading level0 col1\" >next_t_rad</th>        <th class=\"col_heading level0 col2\" >w</th>        <th class=\"col_heading level0 col3\" >next_w</th>    </tr></thead><tbody>\n",
       "                <tr>\n",
       "                        <th id=\"T_4816feb2_cc4d_11ed_8e79_12e413fbf88clevel0_row0\" class=\"row_heading level0 row0\" >0</th>\n",
       "                        <td id=\"T_4816feb2_cc4d_11ed_8e79_12e413fbf88crow0_col0\" class=\"data row0 col0\" >1.1e+04</td>\n",
       "                        <td id=\"T_4816feb2_cc4d_11ed_8e79_12e413fbf88crow0_col1\" class=\"data row0 col1\" >1.1e+04</td>\n",
       "                        <td id=\"T_4816feb2_cc4d_11ed_8e79_12e413fbf88crow0_col2\" class=\"data row0 col2\" >0.469</td>\n",
       "                        <td id=\"T_4816feb2_cc4d_11ed_8e79_12e413fbf88crow0_col3\" class=\"data row0 col3\" >0.479</td>\n",
       "            </tr>\n",
       "            <tr>\n",
       "                        <th id=\"T_4816feb2_cc4d_11ed_8e79_12e413fbf88clevel0_row1\" class=\"row_heading level0 row1\" >5</th>\n",
       "                        <td id=\"T_4816feb2_cc4d_11ed_8e79_12e413fbf88crow1_col0\" class=\"data row1 col0\" >1.12e+04</td>\n",
       "                        <td id=\"T_4816feb2_cc4d_11ed_8e79_12e413fbf88crow1_col1\" class=\"data row1 col1\" >1.13e+04</td>\n",
       "                        <td id=\"T_4816feb2_cc4d_11ed_8e79_12e413fbf88crow1_col2\" class=\"data row1 col2\" >0.182</td>\n",
       "                        <td id=\"T_4816feb2_cc4d_11ed_8e79_12e413fbf88crow1_col3\" class=\"data row1 col3\" >0.178</td>\n",
       "            </tr>\n",
       "            <tr>\n",
       "                        <th id=\"T_4816feb2_cc4d_11ed_8e79_12e413fbf88clevel0_row2\" class=\"row_heading level0 row2\" >10</th>\n",
       "                        <td id=\"T_4816feb2_cc4d_11ed_8e79_12e413fbf88crow2_col0\" class=\"data row2 col0\" >1.1e+04</td>\n",
       "                        <td id=\"T_4816feb2_cc4d_11ed_8e79_12e413fbf88crow2_col1\" class=\"data row2 col1\" >1.1e+04</td>\n",
       "                        <td id=\"T_4816feb2_cc4d_11ed_8e79_12e413fbf88crow2_col2\" class=\"data row2 col2\" >0.113</td>\n",
       "                        <td id=\"T_4816feb2_cc4d_11ed_8e79_12e413fbf88crow2_col3\" class=\"data row2 col3\" >0.113</td>\n",
       "            </tr>\n",
       "            <tr>\n",
       "                        <th id=\"T_4816feb2_cc4d_11ed_8e79_12e413fbf88clevel0_row3\" class=\"row_heading level0 row3\" >15</th>\n",
       "                        <td id=\"T_4816feb2_cc4d_11ed_8e79_12e413fbf88crow3_col0\" class=\"data row3 col0\" >1.07e+04</td>\n",
       "                        <td id=\"T_4816feb2_cc4d_11ed_8e79_12e413fbf88crow3_col1\" class=\"data row3 col1\" >1.07e+04</td>\n",
       "                        <td id=\"T_4816feb2_cc4d_11ed_8e79_12e413fbf88crow3_col2\" class=\"data row3 col2\" >0.0861</td>\n",
       "                        <td id=\"T_4816feb2_cc4d_11ed_8e79_12e413fbf88crow3_col3\" class=\"data row3 col3\" >0.0839</td>\n",
       "            </tr>\n",
       "    </tbody></table>"
      ],
      "text/plain": [
       "<pandas.io.formats.style.Styler at 0x7fa1cf1f89a0>"
      ]
     },
     "metadata": {},
     "output_type": "display_data"
    },
    {
     "name": "stdout",
     "output_type": "stream",
     "text": [
      "[\u001b[1mtardis.simulation.base\u001b[0m][\u001b[1;37mINFO\u001b[0m   ]  \n",
      "\t\n",
      "\tCurrent t_inner = 10638.407 K\n",
      "\tExpected t_inner for next iteration = 10650.202 K\n",
      " (\u001b[1mbase.py\u001b[0m:554)\n",
      "[\u001b[1mtardis.simulation.base\u001b[0m][\u001b[1;37mINFO\u001b[0m   ]  \n",
      "\t\n",
      "\tStarting iteration 6 of 20 (\u001b[1mbase.py\u001b[0m:385)\n",
      "[\u001b[1mtardis.simulation.base\u001b[0m][\u001b[1;37mINFO\u001b[0m   ]  \n",
      "\t\n",
      "\tLuminosity emitted   = 1.061e+43 erg / s\n",
      "\tLuminosity absorbed  = 3.398e+42 erg / s\n",
      "\tLuminosity requested = 1.059e+43 erg / s\n",
      " (\u001b[1mbase.py\u001b[0m:559)\n",
      "[\u001b[1mtardis.simulation.base\u001b[0m][\u001b[1;37mINFO\u001b[0m   ]  \n",
      "\tIteration converged 2/4 consecutive times. (\u001b[1mbase.py\u001b[0m:266)\n",
      "[\u001b[1mtardis.simulation.base\u001b[0m][\u001b[1;37mINFO\u001b[0m   ]  \n",
      "\t\n",
      "\tPlasma stratification: (\u001b[1mbase.py\u001b[0m:527)\n"
     ]
    },
    {
     "data": {
      "text/html": [
       "<style  type=\"text/css\" >\n",
       "</style><table id=\"T_486fa9d6_cc4d_11ed_8e79_12e413fbf88c\" ><thead>    <tr>        <th class=\"index_name level0\" >Shell No.</th>        <th class=\"col_heading level0 col0\" >t_rad</th>        <th class=\"col_heading level0 col1\" >next_t_rad</th>        <th class=\"col_heading level0 col2\" >w</th>        <th class=\"col_heading level0 col3\" >next_w</th>    </tr></thead><tbody>\n",
       "                <tr>\n",
       "                        <th id=\"T_486fa9d6_cc4d_11ed_8e79_12e413fbf88clevel0_row0\" class=\"row_heading level0 row0\" >0</th>\n",
       "                        <td id=\"T_486fa9d6_cc4d_11ed_8e79_12e413fbf88crow0_col0\" class=\"data row0 col0\" >1.1e+04</td>\n",
       "                        <td id=\"T_486fa9d6_cc4d_11ed_8e79_12e413fbf88crow0_col1\" class=\"data row0 col1\" >1.1e+04</td>\n",
       "                        <td id=\"T_486fa9d6_cc4d_11ed_8e79_12e413fbf88crow0_col2\" class=\"data row0 col2\" >0.479</td>\n",
       "                        <td id=\"T_486fa9d6_cc4d_11ed_8e79_12e413fbf88crow0_col3\" class=\"data row0 col3\" >0.47</td>\n",
       "            </tr>\n",
       "            <tr>\n",
       "                        <th id=\"T_486fa9d6_cc4d_11ed_8e79_12e413fbf88clevel0_row1\" class=\"row_heading level0 row1\" >5</th>\n",
       "                        <td id=\"T_486fa9d6_cc4d_11ed_8e79_12e413fbf88crow1_col0\" class=\"data row1 col0\" >1.13e+04</td>\n",
       "                        <td id=\"T_486fa9d6_cc4d_11ed_8e79_12e413fbf88crow1_col1\" class=\"data row1 col1\" >1.12e+04</td>\n",
       "                        <td id=\"T_486fa9d6_cc4d_11ed_8e79_12e413fbf88crow1_col2\" class=\"data row1 col2\" >0.178</td>\n",
       "                        <td id=\"T_486fa9d6_cc4d_11ed_8e79_12e413fbf88crow1_col3\" class=\"data row1 col3\" >0.185</td>\n",
       "            </tr>\n",
       "            <tr>\n",
       "                        <th id=\"T_486fa9d6_cc4d_11ed_8e79_12e413fbf88clevel0_row2\" class=\"row_heading level0 row2\" >10</th>\n",
       "                        <td id=\"T_486fa9d6_cc4d_11ed_8e79_12e413fbf88crow2_col0\" class=\"data row2 col0\" >1.1e+04</td>\n",
       "                        <td id=\"T_486fa9d6_cc4d_11ed_8e79_12e413fbf88crow2_col1\" class=\"data row2 col1\" >1.11e+04</td>\n",
       "                        <td id=\"T_486fa9d6_cc4d_11ed_8e79_12e413fbf88crow2_col2\" class=\"data row2 col2\" >0.113</td>\n",
       "                        <td id=\"T_486fa9d6_cc4d_11ed_8e79_12e413fbf88crow2_col3\" class=\"data row2 col3\" >0.112</td>\n",
       "            </tr>\n",
       "            <tr>\n",
       "                        <th id=\"T_486fa9d6_cc4d_11ed_8e79_12e413fbf88clevel0_row3\" class=\"row_heading level0 row3\" >15</th>\n",
       "                        <td id=\"T_486fa9d6_cc4d_11ed_8e79_12e413fbf88crow3_col0\" class=\"data row3 col0\" >1.07e+04</td>\n",
       "                        <td id=\"T_486fa9d6_cc4d_11ed_8e79_12e413fbf88crow3_col1\" class=\"data row3 col1\" >1.07e+04</td>\n",
       "                        <td id=\"T_486fa9d6_cc4d_11ed_8e79_12e413fbf88crow3_col2\" class=\"data row3 col2\" >0.0839</td>\n",
       "                        <td id=\"T_486fa9d6_cc4d_11ed_8e79_12e413fbf88crow3_col3\" class=\"data row3 col3\" >0.0856</td>\n",
       "            </tr>\n",
       "    </tbody></table>"
      ],
      "text/plain": [
       "<pandas.io.formats.style.Styler at 0x7fa1bb90be50>"
      ]
     },
     "metadata": {},
     "output_type": "display_data"
    },
    {
     "name": "stdout",
     "output_type": "stream",
     "text": [
      "[\u001b[1mtardis.simulation.base\u001b[0m][\u001b[1;37mINFO\u001b[0m   ]  \n",
      "\t\n",
      "\tCurrent t_inner = 10650.202 K\n",
      "\tExpected t_inner for next iteration = 10645.955 K\n",
      " (\u001b[1mbase.py\u001b[0m:554)\n",
      "[\u001b[1mtardis.simulation.base\u001b[0m][\u001b[1;37mINFO\u001b[0m   ]  \n",
      "\t\n",
      "\tStarting iteration 7 of 20 (\u001b[1mbase.py\u001b[0m:385)\n",
      "[\u001b[1mtardis.simulation.base\u001b[0m][\u001b[1;37mINFO\u001b[0m   ]  \n",
      "\t\n",
      "\tLuminosity emitted   = 1.061e+43 erg / s\n",
      "\tLuminosity absorbed  = 3.382e+42 erg / s\n",
      "\tLuminosity requested = 1.059e+43 erg / s\n",
      " (\u001b[1mbase.py\u001b[0m:559)\n",
      "[\u001b[1mtardis.simulation.base\u001b[0m][\u001b[1;37mINFO\u001b[0m   ]  \n",
      "\tIteration converged 3/4 consecutive times. (\u001b[1mbase.py\u001b[0m:266)\n",
      "[\u001b[1mtardis.simulation.base\u001b[0m][\u001b[1;37mINFO\u001b[0m   ]  \n",
      "\t\n",
      "\tPlasma stratification: (\u001b[1mbase.py\u001b[0m:527)\n"
     ]
    },
    {
     "data": {
      "text/html": [
       "<style  type=\"text/css\" >\n",
       "</style><table id=\"T_48cea8a0_cc4d_11ed_8e79_12e413fbf88c\" ><thead>    <tr>        <th class=\"index_name level0\" >Shell No.</th>        <th class=\"col_heading level0 col0\" >t_rad</th>        <th class=\"col_heading level0 col1\" >next_t_rad</th>        <th class=\"col_heading level0 col2\" >w</th>        <th class=\"col_heading level0 col3\" >next_w</th>    </tr></thead><tbody>\n",
       "                <tr>\n",
       "                        <th id=\"T_48cea8a0_cc4d_11ed_8e79_12e413fbf88clevel0_row0\" class=\"row_heading level0 row0\" >0</th>\n",
       "                        <td id=\"T_48cea8a0_cc4d_11ed_8e79_12e413fbf88crow0_col0\" class=\"data row0 col0\" >1.1e+04</td>\n",
       "                        <td id=\"T_48cea8a0_cc4d_11ed_8e79_12e413fbf88crow0_col1\" class=\"data row0 col1\" >1.1e+04</td>\n",
       "                        <td id=\"T_48cea8a0_cc4d_11ed_8e79_12e413fbf88crow0_col2\" class=\"data row0 col2\" >0.47</td>\n",
       "                        <td id=\"T_48cea8a0_cc4d_11ed_8e79_12e413fbf88crow0_col3\" class=\"data row0 col3\" >0.47</td>\n",
       "            </tr>\n",
       "            <tr>\n",
       "                        <th id=\"T_48cea8a0_cc4d_11ed_8e79_12e413fbf88clevel0_row1\" class=\"row_heading level0 row1\" >5</th>\n",
       "                        <td id=\"T_48cea8a0_cc4d_11ed_8e79_12e413fbf88crow1_col0\" class=\"data row1 col0\" >1.12e+04</td>\n",
       "                        <td id=\"T_48cea8a0_cc4d_11ed_8e79_12e413fbf88crow1_col1\" class=\"data row1 col1\" >1.13e+04</td>\n",
       "                        <td id=\"T_48cea8a0_cc4d_11ed_8e79_12e413fbf88crow1_col2\" class=\"data row1 col2\" >0.185</td>\n",
       "                        <td id=\"T_48cea8a0_cc4d_11ed_8e79_12e413fbf88crow1_col3\" class=\"data row1 col3\" >0.178</td>\n",
       "            </tr>\n",
       "            <tr>\n",
       "                        <th id=\"T_48cea8a0_cc4d_11ed_8e79_12e413fbf88clevel0_row2\" class=\"row_heading level0 row2\" >10</th>\n",
       "                        <td id=\"T_48cea8a0_cc4d_11ed_8e79_12e413fbf88crow2_col0\" class=\"data row2 col0\" >1.11e+04</td>\n",
       "                        <td id=\"T_48cea8a0_cc4d_11ed_8e79_12e413fbf88crow2_col1\" class=\"data row2 col1\" >1.11e+04</td>\n",
       "                        <td id=\"T_48cea8a0_cc4d_11ed_8e79_12e413fbf88crow2_col2\" class=\"data row2 col2\" >0.112</td>\n",
       "                        <td id=\"T_48cea8a0_cc4d_11ed_8e79_12e413fbf88crow2_col3\" class=\"data row2 col3\" >0.112</td>\n",
       "            </tr>\n",
       "            <tr>\n",
       "                        <th id=\"T_48cea8a0_cc4d_11ed_8e79_12e413fbf88clevel0_row3\" class=\"row_heading level0 row3\" >15</th>\n",
       "                        <td id=\"T_48cea8a0_cc4d_11ed_8e79_12e413fbf88crow3_col0\" class=\"data row3 col0\" >1.07e+04</td>\n",
       "                        <td id=\"T_48cea8a0_cc4d_11ed_8e79_12e413fbf88crow3_col1\" class=\"data row3 col1\" >1.07e+04</td>\n",
       "                        <td id=\"T_48cea8a0_cc4d_11ed_8e79_12e413fbf88crow3_col2\" class=\"data row3 col2\" >0.0856</td>\n",
       "                        <td id=\"T_48cea8a0_cc4d_11ed_8e79_12e413fbf88crow3_col3\" class=\"data row3 col3\" >0.086</td>\n",
       "            </tr>\n",
       "    </tbody></table>"
      ],
      "text/plain": [
       "<pandas.io.formats.style.Styler at 0x7fa1ab1b2520>"
      ]
     },
     "metadata": {},
     "output_type": "display_data"
    },
    {
     "name": "stdout",
     "output_type": "stream",
     "text": [
      "[\u001b[1mtardis.simulation.base\u001b[0m][\u001b[1;37mINFO\u001b[0m   ]  \n",
      "\t\n",
      "\tCurrent t_inner = 10645.955 K\n",
      "\tExpected t_inner for next iteration = 10642.050 K\n",
      " (\u001b[1mbase.py\u001b[0m:554)\n",
      "[\u001b[1mtardis.simulation.base\u001b[0m][\u001b[1;37mINFO\u001b[0m   ]  \n",
      "\t\n",
      "\tStarting iteration 8 of 20 (\u001b[1mbase.py\u001b[0m:385)\n",
      "[\u001b[1mtardis.simulation.base\u001b[0m][\u001b[1;37mINFO\u001b[0m   ]  \n",
      "\t\n",
      "\tLuminosity emitted   = 1.062e+43 erg / s\n",
      "\tLuminosity absorbed  = 3.350e+42 erg / s\n",
      "\tLuminosity requested = 1.059e+43 erg / s\n",
      " (\u001b[1mbase.py\u001b[0m:559)\n",
      "[\u001b[1mtardis.simulation.base\u001b[0m][\u001b[1;37mINFO\u001b[0m   ]  \n",
      "\tIteration converged 4/4 consecutive times. (\u001b[1mbase.py\u001b[0m:266)\n",
      "[\u001b[1mtardis.simulation.base\u001b[0m][\u001b[1;37mINFO\u001b[0m   ]  \n",
      "\t\n",
      "\tPlasma stratification: (\u001b[1mbase.py\u001b[0m:527)\n"
     ]
    },
    {
     "data": {
      "text/html": [
       "<style  type=\"text/css\" >\n",
       "</style><table id=\"T_49271396_cc4d_11ed_8e79_12e413fbf88c\" ><thead>    <tr>        <th class=\"index_name level0\" >Shell No.</th>        <th class=\"col_heading level0 col0\" >t_rad</th>        <th class=\"col_heading level0 col1\" >next_t_rad</th>        <th class=\"col_heading level0 col2\" >w</th>        <th class=\"col_heading level0 col3\" >next_w</th>    </tr></thead><tbody>\n",
       "                <tr>\n",
       "                        <th id=\"T_49271396_cc4d_11ed_8e79_12e413fbf88clevel0_row0\" class=\"row_heading level0 row0\" >0</th>\n",
       "                        <td id=\"T_49271396_cc4d_11ed_8e79_12e413fbf88crow0_col0\" class=\"data row0 col0\" >1.1e+04</td>\n",
       "                        <td id=\"T_49271396_cc4d_11ed_8e79_12e413fbf88crow0_col1\" class=\"data row0 col1\" >1.11e+04</td>\n",
       "                        <td id=\"T_49271396_cc4d_11ed_8e79_12e413fbf88crow0_col2\" class=\"data row0 col2\" >0.47</td>\n",
       "                        <td id=\"T_49271396_cc4d_11ed_8e79_12e413fbf88crow0_col3\" class=\"data row0 col3\" >0.472</td>\n",
       "            </tr>\n",
       "            <tr>\n",
       "                        <th id=\"T_49271396_cc4d_11ed_8e79_12e413fbf88clevel0_row1\" class=\"row_heading level0 row1\" >5</th>\n",
       "                        <td id=\"T_49271396_cc4d_11ed_8e79_12e413fbf88crow1_col0\" class=\"data row1 col0\" >1.13e+04</td>\n",
       "                        <td id=\"T_49271396_cc4d_11ed_8e79_12e413fbf88crow1_col1\" class=\"data row1 col1\" >1.14e+04</td>\n",
       "                        <td id=\"T_49271396_cc4d_11ed_8e79_12e413fbf88crow1_col2\" class=\"data row1 col2\" >0.178</td>\n",
       "                        <td id=\"T_49271396_cc4d_11ed_8e79_12e413fbf88crow1_col3\" class=\"data row1 col3\" >0.175</td>\n",
       "            </tr>\n",
       "            <tr>\n",
       "                        <th id=\"T_49271396_cc4d_11ed_8e79_12e413fbf88clevel0_row2\" class=\"row_heading level0 row2\" >10</th>\n",
       "                        <td id=\"T_49271396_cc4d_11ed_8e79_12e413fbf88crow2_col0\" class=\"data row2 col0\" >1.11e+04</td>\n",
       "                        <td id=\"T_49271396_cc4d_11ed_8e79_12e413fbf88crow2_col1\" class=\"data row2 col1\" >1.11e+04</td>\n",
       "                        <td id=\"T_49271396_cc4d_11ed_8e79_12e413fbf88crow2_col2\" class=\"data row2 col2\" >0.112</td>\n",
       "                        <td id=\"T_49271396_cc4d_11ed_8e79_12e413fbf88crow2_col3\" class=\"data row2 col3\" >0.111</td>\n",
       "            </tr>\n",
       "            <tr>\n",
       "                        <th id=\"T_49271396_cc4d_11ed_8e79_12e413fbf88clevel0_row3\" class=\"row_heading level0 row3\" >15</th>\n",
       "                        <td id=\"T_49271396_cc4d_11ed_8e79_12e413fbf88crow3_col0\" class=\"data row3 col0\" >1.07e+04</td>\n",
       "                        <td id=\"T_49271396_cc4d_11ed_8e79_12e413fbf88crow3_col1\" class=\"data row3 col1\" >1.07e+04</td>\n",
       "                        <td id=\"T_49271396_cc4d_11ed_8e79_12e413fbf88crow3_col2\" class=\"data row3 col2\" >0.086</td>\n",
       "                        <td id=\"T_49271396_cc4d_11ed_8e79_12e413fbf88crow3_col3\" class=\"data row3 col3\" >0.084</td>\n",
       "            </tr>\n",
       "    </tbody></table>"
      ],
      "text/plain": [
       "<pandas.io.formats.style.Styler at 0x7fa1ab1b2a30>"
      ]
     },
     "metadata": {},
     "output_type": "display_data"
    },
    {
     "name": "stdout",
     "output_type": "stream",
     "text": [
      "[\u001b[1mtardis.simulation.base\u001b[0m][\u001b[1;37mINFO\u001b[0m   ]  \n",
      "\t\n",
      "\tCurrent t_inner = 10642.050 K\n",
      "\tExpected t_inner for next iteration = 10636.106 K\n",
      " (\u001b[1mbase.py\u001b[0m:554)\n",
      "[\u001b[1mtardis.simulation.base\u001b[0m][\u001b[1;37mINFO\u001b[0m   ]  \n",
      "\t\n",
      "\tStarting iteration 9 of 20 (\u001b[1mbase.py\u001b[0m:385)\n",
      "[\u001b[1mtardis.simulation.base\u001b[0m][\u001b[1;37mINFO\u001b[0m   ]  \n",
      "\t\n",
      "\tLuminosity emitted   = 1.052e+43 erg / s\n",
      "\tLuminosity absorbed  = 3.411e+42 erg / s\n",
      "\tLuminosity requested = 1.059e+43 erg / s\n",
      " (\u001b[1mbase.py\u001b[0m:559)\n",
      "[\u001b[1mtardis.simulation.base\u001b[0m][\u001b[1;37mINFO\u001b[0m   ]  \n",
      "\tIteration converged 5/4 consecutive times. (\u001b[1mbase.py\u001b[0m:266)\n",
      "[\u001b[1mtardis.simulation.base\u001b[0m][\u001b[1;37mINFO\u001b[0m   ]  \n",
      "\t\n",
      "\tPlasma stratification: (\u001b[1mbase.py\u001b[0m:527)\n"
     ]
    },
    {
     "data": {
      "text/html": [
       "<style  type=\"text/css\" >\n",
       "</style><table id=\"T_4980ebd2_cc4d_11ed_8e79_12e413fbf88c\" ><thead>    <tr>        <th class=\"index_name level0\" >Shell No.</th>        <th class=\"col_heading level0 col0\" >t_rad</th>        <th class=\"col_heading level0 col1\" >next_t_rad</th>        <th class=\"col_heading level0 col2\" >w</th>        <th class=\"col_heading level0 col3\" >next_w</th>    </tr></thead><tbody>\n",
       "                <tr>\n",
       "                        <th id=\"T_4980ebd2_cc4d_11ed_8e79_12e413fbf88clevel0_row0\" class=\"row_heading level0 row0\" >0</th>\n",
       "                        <td id=\"T_4980ebd2_cc4d_11ed_8e79_12e413fbf88crow0_col0\" class=\"data row0 col0\" >1.11e+04</td>\n",
       "                        <td id=\"T_4980ebd2_cc4d_11ed_8e79_12e413fbf88crow0_col1\" class=\"data row0 col1\" >1.11e+04</td>\n",
       "                        <td id=\"T_4980ebd2_cc4d_11ed_8e79_12e413fbf88crow0_col2\" class=\"data row0 col2\" >0.472</td>\n",
       "                        <td id=\"T_4980ebd2_cc4d_11ed_8e79_12e413fbf88crow0_col3\" class=\"data row0 col3\" >0.469</td>\n",
       "            </tr>\n",
       "            <tr>\n",
       "                        <th id=\"T_4980ebd2_cc4d_11ed_8e79_12e413fbf88clevel0_row1\" class=\"row_heading level0 row1\" >5</th>\n",
       "                        <td id=\"T_4980ebd2_cc4d_11ed_8e79_12e413fbf88crow1_col0\" class=\"data row1 col0\" >1.14e+04</td>\n",
       "                        <td id=\"T_4980ebd2_cc4d_11ed_8e79_12e413fbf88crow1_col1\" class=\"data row1 col1\" >1.15e+04</td>\n",
       "                        <td id=\"T_4980ebd2_cc4d_11ed_8e79_12e413fbf88crow1_col2\" class=\"data row1 col2\" >0.175</td>\n",
       "                        <td id=\"T_4980ebd2_cc4d_11ed_8e79_12e413fbf88crow1_col3\" class=\"data row1 col3\" >0.17</td>\n",
       "            </tr>\n",
       "            <tr>\n",
       "                        <th id=\"T_4980ebd2_cc4d_11ed_8e79_12e413fbf88clevel0_row2\" class=\"row_heading level0 row2\" >10</th>\n",
       "                        <td id=\"T_4980ebd2_cc4d_11ed_8e79_12e413fbf88crow2_col0\" class=\"data row2 col0\" >1.11e+04</td>\n",
       "                        <td id=\"T_4980ebd2_cc4d_11ed_8e79_12e413fbf88crow2_col1\" class=\"data row2 col1\" >1.11e+04</td>\n",
       "                        <td id=\"T_4980ebd2_cc4d_11ed_8e79_12e413fbf88crow2_col2\" class=\"data row2 col2\" >0.111</td>\n",
       "                        <td id=\"T_4980ebd2_cc4d_11ed_8e79_12e413fbf88crow2_col3\" class=\"data row2 col3\" >0.109</td>\n",
       "            </tr>\n",
       "            <tr>\n",
       "                        <th id=\"T_4980ebd2_cc4d_11ed_8e79_12e413fbf88clevel0_row3\" class=\"row_heading level0 row3\" >15</th>\n",
       "                        <td id=\"T_4980ebd2_cc4d_11ed_8e79_12e413fbf88crow3_col0\" class=\"data row3 col0\" >1.07e+04</td>\n",
       "                        <td id=\"T_4980ebd2_cc4d_11ed_8e79_12e413fbf88crow3_col1\" class=\"data row3 col1\" >1.08e+04</td>\n",
       "                        <td id=\"T_4980ebd2_cc4d_11ed_8e79_12e413fbf88crow3_col2\" class=\"data row3 col2\" >0.084</td>\n",
       "                        <td id=\"T_4980ebd2_cc4d_11ed_8e79_12e413fbf88crow3_col3\" class=\"data row3 col3\" >0.0822</td>\n",
       "            </tr>\n",
       "    </tbody></table>"
      ],
      "text/plain": [
       "<pandas.io.formats.style.Styler at 0x7fa1d957f280>"
      ]
     },
     "metadata": {},
     "output_type": "display_data"
    },
    {
     "name": "stdout",
     "output_type": "stream",
     "text": [
      "[\u001b[1mtardis.simulation.base\u001b[0m][\u001b[1;37mINFO\u001b[0m   ]  \n",
      "\t\n",
      "\tCurrent t_inner = 10636.106 K\n",
      "\tExpected t_inner for next iteration = 10654.313 K\n",
      " (\u001b[1mbase.py\u001b[0m:554)\n",
      "[\u001b[1mtardis.simulation.base\u001b[0m][\u001b[1;37mINFO\u001b[0m   ]  \n",
      "\t\n",
      "\tStarting iteration 10 of 20 (\u001b[1mbase.py\u001b[0m:385)\n",
      "[\u001b[1mtardis.simulation.base\u001b[0m][\u001b[1;37mINFO\u001b[0m   ]  \n",
      "\t\n",
      "\tLuminosity emitted   = 1.070e+43 erg / s\n",
      "\tLuminosity absorbed  = 3.335e+42 erg / s\n",
      "\tLuminosity requested = 1.059e+43 erg / s\n",
      " (\u001b[1mbase.py\u001b[0m:559)\n",
      "[\u001b[1mtardis.simulation.base\u001b[0m][\u001b[1;37mINFO\u001b[0m   ]  \n",
      "\t\n",
      "\tPlasma stratification: (\u001b[1mbase.py\u001b[0m:527)\n"
     ]
    },
    {
     "data": {
      "text/html": [
       "<style  type=\"text/css\" >\n",
       "</style><table id=\"T_49dd86b2_cc4d_11ed_8e79_12e413fbf88c\" ><thead>    <tr>        <th class=\"index_name level0\" >Shell No.</th>        <th class=\"col_heading level0 col0\" >t_rad</th>        <th class=\"col_heading level0 col1\" >next_t_rad</th>        <th class=\"col_heading level0 col2\" >w</th>        <th class=\"col_heading level0 col3\" >next_w</th>    </tr></thead><tbody>\n",
       "                <tr>\n",
       "                        <th id=\"T_49dd86b2_cc4d_11ed_8e79_12e413fbf88clevel0_row0\" class=\"row_heading level0 row0\" >0</th>\n",
       "                        <td id=\"T_49dd86b2_cc4d_11ed_8e79_12e413fbf88crow0_col0\" class=\"data row0 col0\" >1.11e+04</td>\n",
       "                        <td id=\"T_49dd86b2_cc4d_11ed_8e79_12e413fbf88crow0_col1\" class=\"data row0 col1\" >1.1e+04</td>\n",
       "                        <td id=\"T_49dd86b2_cc4d_11ed_8e79_12e413fbf88crow0_col2\" class=\"data row0 col2\" >0.469</td>\n",
       "                        <td id=\"T_49dd86b2_cc4d_11ed_8e79_12e413fbf88crow0_col3\" class=\"data row0 col3\" >0.475</td>\n",
       "            </tr>\n",
       "            <tr>\n",
       "                        <th id=\"T_49dd86b2_cc4d_11ed_8e79_12e413fbf88clevel0_row1\" class=\"row_heading level0 row1\" >5</th>\n",
       "                        <td id=\"T_49dd86b2_cc4d_11ed_8e79_12e413fbf88crow1_col0\" class=\"data row1 col0\" >1.15e+04</td>\n",
       "                        <td id=\"T_49dd86b2_cc4d_11ed_8e79_12e413fbf88crow1_col1\" class=\"data row1 col1\" >1.14e+04</td>\n",
       "                        <td id=\"T_49dd86b2_cc4d_11ed_8e79_12e413fbf88crow1_col2\" class=\"data row1 col2\" >0.17</td>\n",
       "                        <td id=\"T_49dd86b2_cc4d_11ed_8e79_12e413fbf88crow1_col3\" class=\"data row1 col3\" >0.177</td>\n",
       "            </tr>\n",
       "            <tr>\n",
       "                        <th id=\"T_49dd86b2_cc4d_11ed_8e79_12e413fbf88clevel0_row2\" class=\"row_heading level0 row2\" >10</th>\n",
       "                        <td id=\"T_49dd86b2_cc4d_11ed_8e79_12e413fbf88crow2_col0\" class=\"data row2 col0\" >1.11e+04</td>\n",
       "                        <td id=\"T_49dd86b2_cc4d_11ed_8e79_12e413fbf88crow2_col1\" class=\"data row2 col1\" >1.11e+04</td>\n",
       "                        <td id=\"T_49dd86b2_cc4d_11ed_8e79_12e413fbf88crow2_col2\" class=\"data row2 col2\" >0.109</td>\n",
       "                        <td id=\"T_49dd86b2_cc4d_11ed_8e79_12e413fbf88crow2_col3\" class=\"data row2 col3\" >0.112</td>\n",
       "            </tr>\n",
       "            <tr>\n",
       "                        <th id=\"T_49dd86b2_cc4d_11ed_8e79_12e413fbf88clevel0_row3\" class=\"row_heading level0 row3\" >15</th>\n",
       "                        <td id=\"T_49dd86b2_cc4d_11ed_8e79_12e413fbf88crow3_col0\" class=\"data row3 col0\" >1.08e+04</td>\n",
       "                        <td id=\"T_49dd86b2_cc4d_11ed_8e79_12e413fbf88crow3_col1\" class=\"data row3 col1\" >1.06e+04</td>\n",
       "                        <td id=\"T_49dd86b2_cc4d_11ed_8e79_12e413fbf88crow3_col2\" class=\"data row3 col2\" >0.0822</td>\n",
       "                        <td id=\"T_49dd86b2_cc4d_11ed_8e79_12e413fbf88crow3_col3\" class=\"data row3 col3\" >0.0878</td>\n",
       "            </tr>\n",
       "    </tbody></table>"
      ],
      "text/plain": [
       "<pandas.io.formats.style.Styler at 0x7fa1bb890340>"
      ]
     },
     "metadata": {},
     "output_type": "display_data"
    },
    {
     "name": "stdout",
     "output_type": "stream",
     "text": [
      "[\u001b[1mtardis.simulation.base\u001b[0m][\u001b[1;37mINFO\u001b[0m   ]  \n",
      "\t\n",
      "\tCurrent t_inner = 10654.313 K\n",
      "\tExpected t_inner for next iteration = 10628.190 K\n",
      " (\u001b[1mbase.py\u001b[0m:554)\n",
      "[\u001b[1mtardis.simulation.base\u001b[0m][\u001b[1;37mINFO\u001b[0m   ]  \n",
      "\t\n",
      "\tStarting iteration 11 of 20 (\u001b[1mbase.py\u001b[0m:385)\n",
      "[\u001b[1mtardis.simulation.base\u001b[0m][\u001b[1;37mINFO\u001b[0m   ]  \n",
      "\t\n",
      "\tLuminosity emitted   = 1.053e+43 erg / s\n",
      "\tLuminosity absorbed  = 3.363e+42 erg / s\n",
      "\tLuminosity requested = 1.059e+43 erg / s\n",
      " (\u001b[1mbase.py\u001b[0m:559)\n",
      "[\u001b[1mtardis.simulation.base\u001b[0m][\u001b[1;37mINFO\u001b[0m   ]  \n",
      "\tIteration converged 1/4 consecutive times. (\u001b[1mbase.py\u001b[0m:266)\n",
      "[\u001b[1mtardis.simulation.base\u001b[0m][\u001b[1;37mINFO\u001b[0m   ]  \n",
      "\t\n",
      "\tPlasma stratification: (\u001b[1mbase.py\u001b[0m:527)\n"
     ]
    },
    {
     "data": {
      "text/html": [
       "<style  type=\"text/css\" >\n",
       "</style><table id=\"T_4a36e7d4_cc4d_11ed_8e79_12e413fbf88c\" ><thead>    <tr>        <th class=\"index_name level0\" >Shell No.</th>        <th class=\"col_heading level0 col0\" >t_rad</th>        <th class=\"col_heading level0 col1\" >next_t_rad</th>        <th class=\"col_heading level0 col2\" >w</th>        <th class=\"col_heading level0 col3\" >next_w</th>    </tr></thead><tbody>\n",
       "                <tr>\n",
       "                        <th id=\"T_4a36e7d4_cc4d_11ed_8e79_12e413fbf88clevel0_row0\" class=\"row_heading level0 row0\" >0</th>\n",
       "                        <td id=\"T_4a36e7d4_cc4d_11ed_8e79_12e413fbf88crow0_col0\" class=\"data row0 col0\" >1.1e+04</td>\n",
       "                        <td id=\"T_4a36e7d4_cc4d_11ed_8e79_12e413fbf88crow0_col1\" class=\"data row0 col1\" >1.1e+04</td>\n",
       "                        <td id=\"T_4a36e7d4_cc4d_11ed_8e79_12e413fbf88crow0_col2\" class=\"data row0 col2\" >0.475</td>\n",
       "                        <td id=\"T_4a36e7d4_cc4d_11ed_8e79_12e413fbf88crow0_col3\" class=\"data row0 col3\" >0.472</td>\n",
       "            </tr>\n",
       "            <tr>\n",
       "                        <th id=\"T_4a36e7d4_cc4d_11ed_8e79_12e413fbf88clevel0_row1\" class=\"row_heading level0 row1\" >5</th>\n",
       "                        <td id=\"T_4a36e7d4_cc4d_11ed_8e79_12e413fbf88crow1_col0\" class=\"data row1 col0\" >1.14e+04</td>\n",
       "                        <td id=\"T_4a36e7d4_cc4d_11ed_8e79_12e413fbf88crow1_col1\" class=\"data row1 col1\" >1.12e+04</td>\n",
       "                        <td id=\"T_4a36e7d4_cc4d_11ed_8e79_12e413fbf88crow1_col2\" class=\"data row1 col2\" >0.177</td>\n",
       "                        <td id=\"T_4a36e7d4_cc4d_11ed_8e79_12e413fbf88crow1_col3\" class=\"data row1 col3\" >0.184</td>\n",
       "            </tr>\n",
       "            <tr>\n",
       "                        <th id=\"T_4a36e7d4_cc4d_11ed_8e79_12e413fbf88clevel0_row2\" class=\"row_heading level0 row2\" >10</th>\n",
       "                        <td id=\"T_4a36e7d4_cc4d_11ed_8e79_12e413fbf88crow2_col0\" class=\"data row2 col0\" >1.11e+04</td>\n",
       "                        <td id=\"T_4a36e7d4_cc4d_11ed_8e79_12e413fbf88crow2_col1\" class=\"data row2 col1\" >1.1e+04</td>\n",
       "                        <td id=\"T_4a36e7d4_cc4d_11ed_8e79_12e413fbf88crow2_col2\" class=\"data row2 col2\" >0.112</td>\n",
       "                        <td id=\"T_4a36e7d4_cc4d_11ed_8e79_12e413fbf88crow2_col3\" class=\"data row2 col3\" >0.114</td>\n",
       "            </tr>\n",
       "            <tr>\n",
       "                        <th id=\"T_4a36e7d4_cc4d_11ed_8e79_12e413fbf88clevel0_row3\" class=\"row_heading level0 row3\" >15</th>\n",
       "                        <td id=\"T_4a36e7d4_cc4d_11ed_8e79_12e413fbf88crow3_col0\" class=\"data row3 col0\" >1.06e+04</td>\n",
       "                        <td id=\"T_4a36e7d4_cc4d_11ed_8e79_12e413fbf88crow3_col1\" class=\"data row3 col1\" >1.06e+04</td>\n",
       "                        <td id=\"T_4a36e7d4_cc4d_11ed_8e79_12e413fbf88crow3_col2\" class=\"data row3 col2\" >0.0878</td>\n",
       "                        <td id=\"T_4a36e7d4_cc4d_11ed_8e79_12e413fbf88crow3_col3\" class=\"data row3 col3\" >0.0859</td>\n",
       "            </tr>\n",
       "    </tbody></table>"
      ],
      "text/plain": [
       "<pandas.io.formats.style.Styler at 0x7fa1bb890ac0>"
      ]
     },
     "metadata": {},
     "output_type": "display_data"
    },
    {
     "name": "stdout",
     "output_type": "stream",
     "text": [
      "[\u001b[1mtardis.simulation.base\u001b[0m][\u001b[1;37mINFO\u001b[0m   ]  \n",
      "\t\n",
      "\tCurrent t_inner = 10628.190 K\n",
      "\tExpected t_inner for next iteration = 10644.054 K\n",
      " (\u001b[1mbase.py\u001b[0m:554)\n",
      "[\u001b[1mtardis.simulation.base\u001b[0m][\u001b[1;37mINFO\u001b[0m   ]  \n",
      "\t\n",
      "\tStarting iteration 12 of 20 (\u001b[1mbase.py\u001b[0m:385)\n",
      "[\u001b[1mtardis.simulation.base\u001b[0m][\u001b[1;37mINFO\u001b[0m   ]  \n",
      "\t\n",
      "\tLuminosity emitted   = 1.056e+43 erg / s\n",
      "\tLuminosity absorbed  = 3.420e+42 erg / s\n",
      "\tLuminosity requested = 1.059e+43 erg / s\n",
      " (\u001b[1mbase.py\u001b[0m:559)\n",
      "[\u001b[1mtardis.simulation.base\u001b[0m][\u001b[1;37mINFO\u001b[0m   ]  \n",
      "\t\n",
      "\tPlasma stratification: (\u001b[1mbase.py\u001b[0m:527)\n"
     ]
    },
    {
     "data": {
      "text/html": [
       "<style  type=\"text/css\" >\n",
       "</style><table id=\"T_4a8f9532_cc4d_11ed_8e79_12e413fbf88c\" ><thead>    <tr>        <th class=\"index_name level0\" >Shell No.</th>        <th class=\"col_heading level0 col0\" >t_rad</th>        <th class=\"col_heading level0 col1\" >next_t_rad</th>        <th class=\"col_heading level0 col2\" >w</th>        <th class=\"col_heading level0 col3\" >next_w</th>    </tr></thead><tbody>\n",
       "                <tr>\n",
       "                        <th id=\"T_4a8f9532_cc4d_11ed_8e79_12e413fbf88clevel0_row0\" class=\"row_heading level0 row0\" >0</th>\n",
       "                        <td id=\"T_4a8f9532_cc4d_11ed_8e79_12e413fbf88crow0_col0\" class=\"data row0 col0\" >1.1e+04</td>\n",
       "                        <td id=\"T_4a8f9532_cc4d_11ed_8e79_12e413fbf88crow0_col1\" class=\"data row0 col1\" >1.11e+04</td>\n",
       "                        <td id=\"T_4a8f9532_cc4d_11ed_8e79_12e413fbf88crow0_col2\" class=\"data row0 col2\" >0.472</td>\n",
       "                        <td id=\"T_4a8f9532_cc4d_11ed_8e79_12e413fbf88crow0_col3\" class=\"data row0 col3\" >0.467</td>\n",
       "            </tr>\n",
       "            <tr>\n",
       "                        <th id=\"T_4a8f9532_cc4d_11ed_8e79_12e413fbf88clevel0_row1\" class=\"row_heading level0 row1\" >5</th>\n",
       "                        <td id=\"T_4a8f9532_cc4d_11ed_8e79_12e413fbf88crow1_col0\" class=\"data row1 col0\" >1.12e+04</td>\n",
       "                        <td id=\"T_4a8f9532_cc4d_11ed_8e79_12e413fbf88crow1_col1\" class=\"data row1 col1\" >1.13e+04</td>\n",
       "                        <td id=\"T_4a8f9532_cc4d_11ed_8e79_12e413fbf88crow1_col2\" class=\"data row1 col2\" >0.184</td>\n",
       "                        <td id=\"T_4a8f9532_cc4d_11ed_8e79_12e413fbf88crow1_col3\" class=\"data row1 col3\" >0.176</td>\n",
       "            </tr>\n",
       "            <tr>\n",
       "                        <th id=\"T_4a8f9532_cc4d_11ed_8e79_12e413fbf88clevel0_row2\" class=\"row_heading level0 row2\" >10</th>\n",
       "                        <td id=\"T_4a8f9532_cc4d_11ed_8e79_12e413fbf88crow2_col0\" class=\"data row2 col0\" >1.1e+04</td>\n",
       "                        <td id=\"T_4a8f9532_cc4d_11ed_8e79_12e413fbf88crow2_col1\" class=\"data row2 col1\" >1.11e+04</td>\n",
       "                        <td id=\"T_4a8f9532_cc4d_11ed_8e79_12e413fbf88crow2_col2\" class=\"data row2 col2\" >0.114</td>\n",
       "                        <td id=\"T_4a8f9532_cc4d_11ed_8e79_12e413fbf88crow2_col3\" class=\"data row2 col3\" >0.11</td>\n",
       "            </tr>\n",
       "            <tr>\n",
       "                        <th id=\"T_4a8f9532_cc4d_11ed_8e79_12e413fbf88clevel0_row3\" class=\"row_heading level0 row3\" >15</th>\n",
       "                        <td id=\"T_4a8f9532_cc4d_11ed_8e79_12e413fbf88crow3_col0\" class=\"data row3 col0\" >1.06e+04</td>\n",
       "                        <td id=\"T_4a8f9532_cc4d_11ed_8e79_12e413fbf88crow3_col1\" class=\"data row3 col1\" >1.08e+04</td>\n",
       "                        <td id=\"T_4a8f9532_cc4d_11ed_8e79_12e413fbf88crow3_col2\" class=\"data row3 col2\" >0.0859</td>\n",
       "                        <td id=\"T_4a8f9532_cc4d_11ed_8e79_12e413fbf88crow3_col3\" class=\"data row3 col3\" >0.0821</td>\n",
       "            </tr>\n",
       "    </tbody></table>"
      ],
      "text/plain": [
       "<pandas.io.formats.style.Styler at 0x7fa1cf405a90>"
      ]
     },
     "metadata": {},
     "output_type": "display_data"
    },
    {
     "name": "stdout",
     "output_type": "stream",
     "text": [
      "[\u001b[1mtardis.simulation.base\u001b[0m][\u001b[1;37mINFO\u001b[0m   ]  \n",
      "\t\n",
      "\tCurrent t_inner = 10644.054 K\n",
      "\tExpected t_inner for next iteration = 10653.543 K\n",
      " (\u001b[1mbase.py\u001b[0m:554)\n",
      "[\u001b[1mtardis.simulation.base\u001b[0m][\u001b[1;37mINFO\u001b[0m   ]  \n",
      "\t\n",
      "\tStarting iteration 13 of 20 (\u001b[1mbase.py\u001b[0m:385)\n",
      "[\u001b[1mtardis.simulation.base\u001b[0m][\u001b[1;37mINFO\u001b[0m   ]  \n",
      "\t\n",
      "\tLuminosity emitted   = 1.062e+43 erg / s\n",
      "\tLuminosity absorbed  = 3.406e+42 erg / s\n",
      "\tLuminosity requested = 1.059e+43 erg / s\n",
      " (\u001b[1mbase.py\u001b[0m:559)\n",
      "[\u001b[1mtardis.simulation.base\u001b[0m][\u001b[1;37mINFO\u001b[0m   ]  \n",
      "\tIteration converged 1/4 consecutive times. (\u001b[1mbase.py\u001b[0m:266)\n",
      "[\u001b[1mtardis.simulation.base\u001b[0m][\u001b[1;37mINFO\u001b[0m   ]  \n",
      "\t\n",
      "\tPlasma stratification: (\u001b[1mbase.py\u001b[0m:527)\n"
     ]
    },
    {
     "data": {
      "text/html": [
       "<style  type=\"text/css\" >\n",
       "</style><table id=\"T_4ae788a0_cc4d_11ed_8e79_12e413fbf88c\" ><thead>    <tr>        <th class=\"index_name level0\" >Shell No.</th>        <th class=\"col_heading level0 col0\" >t_rad</th>        <th class=\"col_heading level0 col1\" >next_t_rad</th>        <th class=\"col_heading level0 col2\" >w</th>        <th class=\"col_heading level0 col3\" >next_w</th>    </tr></thead><tbody>\n",
       "                <tr>\n",
       "                        <th id=\"T_4ae788a0_cc4d_11ed_8e79_12e413fbf88clevel0_row0\" class=\"row_heading level0 row0\" >0</th>\n",
       "                        <td id=\"T_4ae788a0_cc4d_11ed_8e79_12e413fbf88crow0_col0\" class=\"data row0 col0\" >1.11e+04</td>\n",
       "                        <td id=\"T_4ae788a0_cc4d_11ed_8e79_12e413fbf88crow0_col1\" class=\"data row0 col1\" >1.11e+04</td>\n",
       "                        <td id=\"T_4ae788a0_cc4d_11ed_8e79_12e413fbf88crow0_col2\" class=\"data row0 col2\" >0.467</td>\n",
       "                        <td id=\"T_4ae788a0_cc4d_11ed_8e79_12e413fbf88crow0_col3\" class=\"data row0 col3\" >0.466</td>\n",
       "            </tr>\n",
       "            <tr>\n",
       "                        <th id=\"T_4ae788a0_cc4d_11ed_8e79_12e413fbf88clevel0_row1\" class=\"row_heading level0 row1\" >5</th>\n",
       "                        <td id=\"T_4ae788a0_cc4d_11ed_8e79_12e413fbf88crow1_col0\" class=\"data row1 col0\" >1.13e+04</td>\n",
       "                        <td id=\"T_4ae788a0_cc4d_11ed_8e79_12e413fbf88crow1_col1\" class=\"data row1 col1\" >1.13e+04</td>\n",
       "                        <td id=\"T_4ae788a0_cc4d_11ed_8e79_12e413fbf88crow1_col2\" class=\"data row1 col2\" >0.176</td>\n",
       "                        <td id=\"T_4ae788a0_cc4d_11ed_8e79_12e413fbf88crow1_col3\" class=\"data row1 col3\" >0.18</td>\n",
       "            </tr>\n",
       "            <tr>\n",
       "                        <th id=\"T_4ae788a0_cc4d_11ed_8e79_12e413fbf88clevel0_row2\" class=\"row_heading level0 row2\" >10</th>\n",
       "                        <td id=\"T_4ae788a0_cc4d_11ed_8e79_12e413fbf88crow2_col0\" class=\"data row2 col0\" >1.11e+04</td>\n",
       "                        <td id=\"T_4ae788a0_cc4d_11ed_8e79_12e413fbf88crow2_col1\" class=\"data row2 col1\" >1.11e+04</td>\n",
       "                        <td id=\"T_4ae788a0_cc4d_11ed_8e79_12e413fbf88crow2_col2\" class=\"data row2 col2\" >0.11</td>\n",
       "                        <td id=\"T_4ae788a0_cc4d_11ed_8e79_12e413fbf88crow2_col3\" class=\"data row2 col3\" >0.111</td>\n",
       "            </tr>\n",
       "            <tr>\n",
       "                        <th id=\"T_4ae788a0_cc4d_11ed_8e79_12e413fbf88clevel0_row3\" class=\"row_heading level0 row3\" >15</th>\n",
       "                        <td id=\"T_4ae788a0_cc4d_11ed_8e79_12e413fbf88crow3_col0\" class=\"data row3 col0\" >1.08e+04</td>\n",
       "                        <td id=\"T_4ae788a0_cc4d_11ed_8e79_12e413fbf88crow3_col1\" class=\"data row3 col1\" >1.08e+04</td>\n",
       "                        <td id=\"T_4ae788a0_cc4d_11ed_8e79_12e413fbf88crow3_col2\" class=\"data row3 col2\" >0.0821</td>\n",
       "                        <td id=\"T_4ae788a0_cc4d_11ed_8e79_12e413fbf88crow3_col3\" class=\"data row3 col3\" >0.0841</td>\n",
       "            </tr>\n",
       "    </tbody></table>"
      ],
      "text/plain": [
       "<pandas.io.formats.style.Styler at 0x7fa1bab05940>"
      ]
     },
     "metadata": {},
     "output_type": "display_data"
    },
    {
     "name": "stdout",
     "output_type": "stream",
     "text": [
      "[\u001b[1mtardis.simulation.base\u001b[0m][\u001b[1;37mINFO\u001b[0m   ]  \n",
      "\t\n",
      "\tCurrent t_inner = 10653.543 K\n",
      "\tExpected t_inner for next iteration = 10647.277 K\n",
      " (\u001b[1mbase.py\u001b[0m:554)\n",
      "[\u001b[1mtardis.simulation.base\u001b[0m][\u001b[1;37mINFO\u001b[0m   ]  \n",
      "\t\n",
      "\tStarting iteration 14 of 20 (\u001b[1mbase.py\u001b[0m:385)\n",
      "[\u001b[1mtardis.simulation.base\u001b[0m][\u001b[1;37mINFO\u001b[0m   ]  \n",
      "\t\n",
      "\tLuminosity emitted   = 1.063e+43 erg / s\n",
      "\tLuminosity absorbed  = 3.369e+42 erg / s\n",
      "\tLuminosity requested = 1.059e+43 erg / s\n",
      " (\u001b[1mbase.py\u001b[0m:559)\n",
      "[\u001b[1mtardis.simulation.base\u001b[0m][\u001b[1;37mINFO\u001b[0m   ]  \n",
      "\tIteration converged 2/4 consecutive times. (\u001b[1mbase.py\u001b[0m:266)\n",
      "[\u001b[1mtardis.simulation.base\u001b[0m][\u001b[1;37mINFO\u001b[0m   ]  \n",
      "\t\n",
      "\tPlasma stratification: (\u001b[1mbase.py\u001b[0m:527)\n"
     ]
    },
    {
     "data": {
      "text/html": [
       "<style  type=\"text/css\" >\n",
       "</style><table id=\"T_4b3f99e6_cc4d_11ed_8e79_12e413fbf88c\" ><thead>    <tr>        <th class=\"index_name level0\" >Shell No.</th>        <th class=\"col_heading level0 col0\" >t_rad</th>        <th class=\"col_heading level0 col1\" >next_t_rad</th>        <th class=\"col_heading level0 col2\" >w</th>        <th class=\"col_heading level0 col3\" >next_w</th>    </tr></thead><tbody>\n",
       "                <tr>\n",
       "                        <th id=\"T_4b3f99e6_cc4d_11ed_8e79_12e413fbf88clevel0_row0\" class=\"row_heading level0 row0\" >0</th>\n",
       "                        <td id=\"T_4b3f99e6_cc4d_11ed_8e79_12e413fbf88crow0_col0\" class=\"data row0 col0\" >1.11e+04</td>\n",
       "                        <td id=\"T_4b3f99e6_cc4d_11ed_8e79_12e413fbf88crow0_col1\" class=\"data row0 col1\" >1.11e+04</td>\n",
       "                        <td id=\"T_4b3f99e6_cc4d_11ed_8e79_12e413fbf88crow0_col2\" class=\"data row0 col2\" >0.466</td>\n",
       "                        <td id=\"T_4b3f99e6_cc4d_11ed_8e79_12e413fbf88crow0_col3\" class=\"data row0 col3\" >0.469</td>\n",
       "            </tr>\n",
       "            <tr>\n",
       "                        <th id=\"T_4b3f99e6_cc4d_11ed_8e79_12e413fbf88clevel0_row1\" class=\"row_heading level0 row1\" >5</th>\n",
       "                        <td id=\"T_4b3f99e6_cc4d_11ed_8e79_12e413fbf88crow1_col0\" class=\"data row1 col0\" >1.13e+04</td>\n",
       "                        <td id=\"T_4b3f99e6_cc4d_11ed_8e79_12e413fbf88crow1_col1\" class=\"data row1 col1\" >1.13e+04</td>\n",
       "                        <td id=\"T_4b3f99e6_cc4d_11ed_8e79_12e413fbf88crow1_col2\" class=\"data row1 col2\" >0.18</td>\n",
       "                        <td id=\"T_4b3f99e6_cc4d_11ed_8e79_12e413fbf88crow1_col3\" class=\"data row1 col3\" >0.182</td>\n",
       "            </tr>\n",
       "            <tr>\n",
       "                        <th id=\"T_4b3f99e6_cc4d_11ed_8e79_12e413fbf88clevel0_row2\" class=\"row_heading level0 row2\" >10</th>\n",
       "                        <td id=\"T_4b3f99e6_cc4d_11ed_8e79_12e413fbf88crow2_col0\" class=\"data row2 col0\" >1.11e+04</td>\n",
       "                        <td id=\"T_4b3f99e6_cc4d_11ed_8e79_12e413fbf88crow2_col1\" class=\"data row2 col1\" >1.1e+04</td>\n",
       "                        <td id=\"T_4b3f99e6_cc4d_11ed_8e79_12e413fbf88crow2_col2\" class=\"data row2 col2\" >0.111</td>\n",
       "                        <td id=\"T_4b3f99e6_cc4d_11ed_8e79_12e413fbf88crow2_col3\" class=\"data row2 col3\" >0.113</td>\n",
       "            </tr>\n",
       "            <tr>\n",
       "                        <th id=\"T_4b3f99e6_cc4d_11ed_8e79_12e413fbf88clevel0_row3\" class=\"row_heading level0 row3\" >15</th>\n",
       "                        <td id=\"T_4b3f99e6_cc4d_11ed_8e79_12e413fbf88crow3_col0\" class=\"data row3 col0\" >1.08e+04</td>\n",
       "                        <td id=\"T_4b3f99e6_cc4d_11ed_8e79_12e413fbf88crow3_col1\" class=\"data row3 col1\" >1.07e+04</td>\n",
       "                        <td id=\"T_4b3f99e6_cc4d_11ed_8e79_12e413fbf88crow3_col2\" class=\"data row3 col2\" >0.0841</td>\n",
       "                        <td id=\"T_4b3f99e6_cc4d_11ed_8e79_12e413fbf88crow3_col3\" class=\"data row3 col3\" >0.0854</td>\n",
       "            </tr>\n",
       "    </tbody></table>"
      ],
      "text/plain": [
       "<pandas.io.formats.style.Styler at 0x7fa1ab164250>"
      ]
     },
     "metadata": {},
     "output_type": "display_data"
    },
    {
     "name": "stdout",
     "output_type": "stream",
     "text": [
      "[\u001b[1mtardis.simulation.base\u001b[0m][\u001b[1;37mINFO\u001b[0m   ]  \n",
      "\t\n",
      "\tCurrent t_inner = 10647.277 K\n",
      "\tExpected t_inner for next iteration = 10638.875 K\n",
      " (\u001b[1mbase.py\u001b[0m:554)\n",
      "[\u001b[1mtardis.simulation.base\u001b[0m][\u001b[1;37mINFO\u001b[0m   ]  \n",
      "\t\n",
      "\tStarting iteration 15 of 20 (\u001b[1mbase.py\u001b[0m:385)\n",
      "[\u001b[1mtardis.simulation.base\u001b[0m][\u001b[1;37mINFO\u001b[0m   ]  \n",
      "\t\n",
      "\tLuminosity emitted   = 1.053e+43 erg / s\n",
      "\tLuminosity absorbed  = 3.417e+42 erg / s\n",
      "\tLuminosity requested = 1.059e+43 erg / s\n",
      " (\u001b[1mbase.py\u001b[0m:559)\n",
      "[\u001b[1mtardis.simulation.base\u001b[0m][\u001b[1;37mINFO\u001b[0m   ]  \n",
      "\tIteration converged 3/4 consecutive times. (\u001b[1mbase.py\u001b[0m:266)\n",
      "[\u001b[1mtardis.simulation.base\u001b[0m][\u001b[1;37mINFO\u001b[0m   ]  \n",
      "\t\n",
      "\tPlasma stratification: (\u001b[1mbase.py\u001b[0m:527)\n"
     ]
    },
    {
     "data": {
      "text/html": [
       "<style  type=\"text/css\" >\n",
       "</style><table id=\"T_4b961c6c_cc4d_11ed_8e79_12e413fbf88c\" ><thead>    <tr>        <th class=\"index_name level0\" >Shell No.</th>        <th class=\"col_heading level0 col0\" >t_rad</th>        <th class=\"col_heading level0 col1\" >next_t_rad</th>        <th class=\"col_heading level0 col2\" >w</th>        <th class=\"col_heading level0 col3\" >next_w</th>    </tr></thead><tbody>\n",
       "                <tr>\n",
       "                        <th id=\"T_4b961c6c_cc4d_11ed_8e79_12e413fbf88clevel0_row0\" class=\"row_heading level0 row0\" >0</th>\n",
       "                        <td id=\"T_4b961c6c_cc4d_11ed_8e79_12e413fbf88crow0_col0\" class=\"data row0 col0\" >1.11e+04</td>\n",
       "                        <td id=\"T_4b961c6c_cc4d_11ed_8e79_12e413fbf88crow0_col1\" class=\"data row0 col1\" >1.1e+04</td>\n",
       "                        <td id=\"T_4b961c6c_cc4d_11ed_8e79_12e413fbf88crow0_col2\" class=\"data row0 col2\" >0.469</td>\n",
       "                        <td id=\"T_4b961c6c_cc4d_11ed_8e79_12e413fbf88crow0_col3\" class=\"data row0 col3\" >0.484</td>\n",
       "            </tr>\n",
       "            <tr>\n",
       "                        <th id=\"T_4b961c6c_cc4d_11ed_8e79_12e413fbf88clevel0_row1\" class=\"row_heading level0 row1\" >5</th>\n",
       "                        <td id=\"T_4b961c6c_cc4d_11ed_8e79_12e413fbf88crow1_col0\" class=\"data row1 col0\" >1.13e+04</td>\n",
       "                        <td id=\"T_4b961c6c_cc4d_11ed_8e79_12e413fbf88crow1_col1\" class=\"data row1 col1\" >1.13e+04</td>\n",
       "                        <td id=\"T_4b961c6c_cc4d_11ed_8e79_12e413fbf88crow1_col2\" class=\"data row1 col2\" >0.182</td>\n",
       "                        <td id=\"T_4b961c6c_cc4d_11ed_8e79_12e413fbf88crow1_col3\" class=\"data row1 col3\" >0.181</td>\n",
       "            </tr>\n",
       "            <tr>\n",
       "                        <th id=\"T_4b961c6c_cc4d_11ed_8e79_12e413fbf88clevel0_row2\" class=\"row_heading level0 row2\" >10</th>\n",
       "                        <td id=\"T_4b961c6c_cc4d_11ed_8e79_12e413fbf88crow2_col0\" class=\"data row2 col0\" >1.1e+04</td>\n",
       "                        <td id=\"T_4b961c6c_cc4d_11ed_8e79_12e413fbf88crow2_col1\" class=\"data row2 col1\" >1.1e+04</td>\n",
       "                        <td id=\"T_4b961c6c_cc4d_11ed_8e79_12e413fbf88crow2_col2\" class=\"data row2 col2\" >0.113</td>\n",
       "                        <td id=\"T_4b961c6c_cc4d_11ed_8e79_12e413fbf88crow2_col3\" class=\"data row2 col3\" >0.113</td>\n",
       "            </tr>\n",
       "            <tr>\n",
       "                        <th id=\"T_4b961c6c_cc4d_11ed_8e79_12e413fbf88clevel0_row3\" class=\"row_heading level0 row3\" >15</th>\n",
       "                        <td id=\"T_4b961c6c_cc4d_11ed_8e79_12e413fbf88crow3_col0\" class=\"data row3 col0\" >1.07e+04</td>\n",
       "                        <td id=\"T_4b961c6c_cc4d_11ed_8e79_12e413fbf88crow3_col1\" class=\"data row3 col1\" >1.07e+04</td>\n",
       "                        <td id=\"T_4b961c6c_cc4d_11ed_8e79_12e413fbf88crow3_col2\" class=\"data row3 col2\" >0.0854</td>\n",
       "                        <td id=\"T_4b961c6c_cc4d_11ed_8e79_12e413fbf88crow3_col3\" class=\"data row3 col3\" >0.0858</td>\n",
       "            </tr>\n",
       "    </tbody></table>"
      ],
      "text/plain": [
       "<pandas.io.formats.style.Styler at 0x7fa1cec7c430>"
      ]
     },
     "metadata": {},
     "output_type": "display_data"
    },
    {
     "name": "stdout",
     "output_type": "stream",
     "text": [
      "[\u001b[1mtardis.simulation.base\u001b[0m][\u001b[1;37mINFO\u001b[0m   ]  \n",
      "\t\n",
      "\tCurrent t_inner = 10638.875 K\n",
      "\tExpected t_inner for next iteration = 10655.125 K\n",
      " (\u001b[1mbase.py\u001b[0m:554)\n",
      "[\u001b[1mtardis.simulation.base\u001b[0m][\u001b[1;37mINFO\u001b[0m   ]  \n",
      "\t\n",
      "\tStarting iteration 16 of 20 (\u001b[1mbase.py\u001b[0m:385)\n",
      "[\u001b[1mtardis.simulation.base\u001b[0m][\u001b[1;37mINFO\u001b[0m   ]  \n",
      "\t\n",
      "\tLuminosity emitted   = 1.059e+43 erg / s\n",
      "\tLuminosity absorbed  = 3.445e+42 erg / s\n",
      "\tLuminosity requested = 1.059e+43 erg / s\n",
      " (\u001b[1mbase.py\u001b[0m:559)\n",
      "[\u001b[1mtardis.simulation.base\u001b[0m][\u001b[1;37mINFO\u001b[0m   ]  \n",
      "\tIteration converged 4/4 consecutive times. (\u001b[1mbase.py\u001b[0m:266)\n",
      "[\u001b[1mtardis.simulation.base\u001b[0m][\u001b[1;37mINFO\u001b[0m   ]  \n",
      "\t\n",
      "\tPlasma stratification: (\u001b[1mbase.py\u001b[0m:527)\n"
     ]
    },
    {
     "data": {
      "text/html": [
       "<style  type=\"text/css\" >\n",
       "</style><table id=\"T_4bed6788_cc4d_11ed_8e79_12e413fbf88c\" ><thead>    <tr>        <th class=\"index_name level0\" >Shell No.</th>        <th class=\"col_heading level0 col0\" >t_rad</th>        <th class=\"col_heading level0 col1\" >next_t_rad</th>        <th class=\"col_heading level0 col2\" >w</th>        <th class=\"col_heading level0 col3\" >next_w</th>    </tr></thead><tbody>\n",
       "                <tr>\n",
       "                        <th id=\"T_4bed6788_cc4d_11ed_8e79_12e413fbf88clevel0_row0\" class=\"row_heading level0 row0\" >0</th>\n",
       "                        <td id=\"T_4bed6788_cc4d_11ed_8e79_12e413fbf88crow0_col0\" class=\"data row0 col0\" >1.1e+04</td>\n",
       "                        <td id=\"T_4bed6788_cc4d_11ed_8e79_12e413fbf88crow0_col1\" class=\"data row0 col1\" >1.1e+04</td>\n",
       "                        <td id=\"T_4bed6788_cc4d_11ed_8e79_12e413fbf88crow0_col2\" class=\"data row0 col2\" >0.484</td>\n",
       "                        <td id=\"T_4bed6788_cc4d_11ed_8e79_12e413fbf88crow0_col3\" class=\"data row0 col3\" >0.472</td>\n",
       "            </tr>\n",
       "            <tr>\n",
       "                        <th id=\"T_4bed6788_cc4d_11ed_8e79_12e413fbf88clevel0_row1\" class=\"row_heading level0 row1\" >5</th>\n",
       "                        <td id=\"T_4bed6788_cc4d_11ed_8e79_12e413fbf88crow1_col0\" class=\"data row1 col0\" >1.13e+04</td>\n",
       "                        <td id=\"T_4bed6788_cc4d_11ed_8e79_12e413fbf88crow1_col1\" class=\"data row1 col1\" >1.13e+04</td>\n",
       "                        <td id=\"T_4bed6788_cc4d_11ed_8e79_12e413fbf88crow1_col2\" class=\"data row1 col2\" >0.181</td>\n",
       "                        <td id=\"T_4bed6788_cc4d_11ed_8e79_12e413fbf88crow1_col3\" class=\"data row1 col3\" >0.177</td>\n",
       "            </tr>\n",
       "            <tr>\n",
       "                        <th id=\"T_4bed6788_cc4d_11ed_8e79_12e413fbf88clevel0_row2\" class=\"row_heading level0 row2\" >10</th>\n",
       "                        <td id=\"T_4bed6788_cc4d_11ed_8e79_12e413fbf88crow2_col0\" class=\"data row2 col0\" >1.1e+04</td>\n",
       "                        <td id=\"T_4bed6788_cc4d_11ed_8e79_12e413fbf88crow2_col1\" class=\"data row2 col1\" >1.1e+04</td>\n",
       "                        <td id=\"T_4bed6788_cc4d_11ed_8e79_12e413fbf88crow2_col2\" class=\"data row2 col2\" >0.113</td>\n",
       "                        <td id=\"T_4bed6788_cc4d_11ed_8e79_12e413fbf88crow2_col3\" class=\"data row2 col3\" >0.113</td>\n",
       "            </tr>\n",
       "            <tr>\n",
       "                        <th id=\"T_4bed6788_cc4d_11ed_8e79_12e413fbf88clevel0_row3\" class=\"row_heading level0 row3\" >15</th>\n",
       "                        <td id=\"T_4bed6788_cc4d_11ed_8e79_12e413fbf88crow3_col0\" class=\"data row3 col0\" >1.07e+04</td>\n",
       "                        <td id=\"T_4bed6788_cc4d_11ed_8e79_12e413fbf88crow3_col1\" class=\"data row3 col1\" >1.06e+04</td>\n",
       "                        <td id=\"T_4bed6788_cc4d_11ed_8e79_12e413fbf88crow3_col2\" class=\"data row3 col2\" >0.0858</td>\n",
       "                        <td id=\"T_4bed6788_cc4d_11ed_8e79_12e413fbf88crow3_col3\" class=\"data row3 col3\" >0.0858</td>\n",
       "            </tr>\n",
       "    </tbody></table>"
      ],
      "text/plain": [
       "<pandas.io.formats.style.Styler at 0x7fa1bb6a39a0>"
      ]
     },
     "metadata": {},
     "output_type": "display_data"
    },
    {
     "name": "stdout",
     "output_type": "stream",
     "text": [
      "[\u001b[1mtardis.simulation.base\u001b[0m][\u001b[1;37mINFO\u001b[0m   ]  \n",
      "\t\n",
      "\tCurrent t_inner = 10655.125 K\n",
      "\tExpected t_inner for next iteration = 10655.561 K\n",
      " (\u001b[1mbase.py\u001b[0m:554)\n",
      "[\u001b[1mtardis.simulation.base\u001b[0m][\u001b[1;37mINFO\u001b[0m   ]  \n",
      "\t\n",
      "\tStarting iteration 17 of 20 (\u001b[1mbase.py\u001b[0m:385)\n",
      "[\u001b[1mtardis.simulation.base\u001b[0m][\u001b[1;37mINFO\u001b[0m   ]  \n",
      "\t\n",
      "\tLuminosity emitted   = 1.067e+43 erg / s\n",
      "\tLuminosity absorbed  = 3.372e+42 erg / s\n",
      "\tLuminosity requested = 1.059e+43 erg / s\n",
      " (\u001b[1mbase.py\u001b[0m:559)\n",
      "[\u001b[1mtardis.simulation.base\u001b[0m][\u001b[1;37mINFO\u001b[0m   ]  \n",
      "\t\n",
      "\tPlasma stratification: (\u001b[1mbase.py\u001b[0m:527)\n"
     ]
    },
    {
     "data": {
      "text/html": [
       "<style  type=\"text/css\" >\n",
       "</style><table id=\"T_4c4bc62a_cc4d_11ed_8e79_12e413fbf88c\" ><thead>    <tr>        <th class=\"index_name level0\" >Shell No.</th>        <th class=\"col_heading level0 col0\" >t_rad</th>        <th class=\"col_heading level0 col1\" >next_t_rad</th>        <th class=\"col_heading level0 col2\" >w</th>        <th class=\"col_heading level0 col3\" >next_w</th>    </tr></thead><tbody>\n",
       "                <tr>\n",
       "                        <th id=\"T_4c4bc62a_cc4d_11ed_8e79_12e413fbf88clevel0_row0\" class=\"row_heading level0 row0\" >0</th>\n",
       "                        <td id=\"T_4c4bc62a_cc4d_11ed_8e79_12e413fbf88crow0_col0\" class=\"data row0 col0\" >1.1e+04</td>\n",
       "                        <td id=\"T_4c4bc62a_cc4d_11ed_8e79_12e413fbf88crow0_col1\" class=\"data row0 col1\" >1.11e+04</td>\n",
       "                        <td id=\"T_4c4bc62a_cc4d_11ed_8e79_12e413fbf88crow0_col2\" class=\"data row0 col2\" >0.472</td>\n",
       "                        <td id=\"T_4c4bc62a_cc4d_11ed_8e79_12e413fbf88crow0_col3\" class=\"data row0 col3\" >0.468</td>\n",
       "            </tr>\n",
       "            <tr>\n",
       "                        <th id=\"T_4c4bc62a_cc4d_11ed_8e79_12e413fbf88clevel0_row1\" class=\"row_heading level0 row1\" >5</th>\n",
       "                        <td id=\"T_4c4bc62a_cc4d_11ed_8e79_12e413fbf88crow1_col0\" class=\"data row1 col0\" >1.13e+04</td>\n",
       "                        <td id=\"T_4c4bc62a_cc4d_11ed_8e79_12e413fbf88crow1_col1\" class=\"data row1 col1\" >1.14e+04</td>\n",
       "                        <td id=\"T_4c4bc62a_cc4d_11ed_8e79_12e413fbf88crow1_col2\" class=\"data row1 col2\" >0.177</td>\n",
       "                        <td id=\"T_4c4bc62a_cc4d_11ed_8e79_12e413fbf88crow1_col3\" class=\"data row1 col3\" >0.175</td>\n",
       "            </tr>\n",
       "            <tr>\n",
       "                        <th id=\"T_4c4bc62a_cc4d_11ed_8e79_12e413fbf88clevel0_row2\" class=\"row_heading level0 row2\" >10</th>\n",
       "                        <td id=\"T_4c4bc62a_cc4d_11ed_8e79_12e413fbf88crow2_col0\" class=\"data row2 col0\" >1.1e+04</td>\n",
       "                        <td id=\"T_4c4bc62a_cc4d_11ed_8e79_12e413fbf88crow2_col1\" class=\"data row2 col1\" >1.11e+04</td>\n",
       "                        <td id=\"T_4c4bc62a_cc4d_11ed_8e79_12e413fbf88crow2_col2\" class=\"data row2 col2\" >0.113</td>\n",
       "                        <td id=\"T_4c4bc62a_cc4d_11ed_8e79_12e413fbf88crow2_col3\" class=\"data row2 col3\" >0.11</td>\n",
       "            </tr>\n",
       "            <tr>\n",
       "                        <th id=\"T_4c4bc62a_cc4d_11ed_8e79_12e413fbf88clevel0_row3\" class=\"row_heading level0 row3\" >15</th>\n",
       "                        <td id=\"T_4c4bc62a_cc4d_11ed_8e79_12e413fbf88crow3_col0\" class=\"data row3 col0\" >1.06e+04</td>\n",
       "                        <td id=\"T_4c4bc62a_cc4d_11ed_8e79_12e413fbf88crow3_col1\" class=\"data row3 col1\" >1.08e+04</td>\n",
       "                        <td id=\"T_4c4bc62a_cc4d_11ed_8e79_12e413fbf88crow3_col2\" class=\"data row3 col2\" >0.0858</td>\n",
       "                        <td id=\"T_4c4bc62a_cc4d_11ed_8e79_12e413fbf88crow3_col3\" class=\"data row3 col3\" >0.0816</td>\n",
       "            </tr>\n",
       "    </tbody></table>"
      ],
      "text/plain": [
       "<pandas.io.formats.style.Styler at 0x7fa1aa570040>"
      ]
     },
     "metadata": {},
     "output_type": "display_data"
    },
    {
     "name": "stdout",
     "output_type": "stream",
     "text": [
      "[\u001b[1mtardis.simulation.base\u001b[0m][\u001b[1;37mINFO\u001b[0m   ]  \n",
      "\t\n",
      "\tCurrent t_inner = 10655.561 K\n",
      "\tExpected t_inner for next iteration = 10636.536 K\n",
      " (\u001b[1mbase.py\u001b[0m:554)\n",
      "[\u001b[1mtardis.simulation.base\u001b[0m][\u001b[1;37mINFO\u001b[0m   ]  \n",
      "\t\n",
      "\tStarting iteration 18 of 20 (\u001b[1mbase.py\u001b[0m:385)\n",
      "[\u001b[1mtardis.simulation.base\u001b[0m][\u001b[1;37mINFO\u001b[0m   ]  \n",
      "\t\n",
      "\tLuminosity emitted   = 1.057e+43 erg / s\n",
      "\tLuminosity absorbed  = 3.365e+42 erg / s\n",
      "\tLuminosity requested = 1.059e+43 erg / s\n",
      " (\u001b[1mbase.py\u001b[0m:559)\n",
      "[\u001b[1mtardis.simulation.base\u001b[0m][\u001b[1;37mINFO\u001b[0m   ]  \n",
      "\tIteration converged 1/4 consecutive times. (\u001b[1mbase.py\u001b[0m:266)\n",
      "[\u001b[1mtardis.simulation.base\u001b[0m][\u001b[1;37mINFO\u001b[0m   ]  \n",
      "\t\n",
      "\tPlasma stratification: (\u001b[1mbase.py\u001b[0m:527)\n"
     ]
    },
    {
     "data": {
      "text/html": [
       "<style  type=\"text/css\" >\n",
       "</style><table id=\"T_4cab56a8_cc4d_11ed_8e79_12e413fbf88c\" ><thead>    <tr>        <th class=\"index_name level0\" >Shell No.</th>        <th class=\"col_heading level0 col0\" >t_rad</th>        <th class=\"col_heading level0 col1\" >next_t_rad</th>        <th class=\"col_heading level0 col2\" >w</th>        <th class=\"col_heading level0 col3\" >next_w</th>    </tr></thead><tbody>\n",
       "                <tr>\n",
       "                        <th id=\"T_4cab56a8_cc4d_11ed_8e79_12e413fbf88clevel0_row0\" class=\"row_heading level0 row0\" >0</th>\n",
       "                        <td id=\"T_4cab56a8_cc4d_11ed_8e79_12e413fbf88crow0_col0\" class=\"data row0 col0\" >1.11e+04</td>\n",
       "                        <td id=\"T_4cab56a8_cc4d_11ed_8e79_12e413fbf88crow0_col1\" class=\"data row0 col1\" >1.11e+04</td>\n",
       "                        <td id=\"T_4cab56a8_cc4d_11ed_8e79_12e413fbf88crow0_col2\" class=\"data row0 col2\" >0.468</td>\n",
       "                        <td id=\"T_4cab56a8_cc4d_11ed_8e79_12e413fbf88crow0_col3\" class=\"data row0 col3\" >0.464</td>\n",
       "            </tr>\n",
       "            <tr>\n",
       "                        <th id=\"T_4cab56a8_cc4d_11ed_8e79_12e413fbf88clevel0_row1\" class=\"row_heading level0 row1\" >5</th>\n",
       "                        <td id=\"T_4cab56a8_cc4d_11ed_8e79_12e413fbf88crow1_col0\" class=\"data row1 col0\" >1.14e+04</td>\n",
       "                        <td id=\"T_4cab56a8_cc4d_11ed_8e79_12e413fbf88crow1_col1\" class=\"data row1 col1\" >1.13e+04</td>\n",
       "                        <td id=\"T_4cab56a8_cc4d_11ed_8e79_12e413fbf88crow1_col2\" class=\"data row1 col2\" >0.175</td>\n",
       "                        <td id=\"T_4cab56a8_cc4d_11ed_8e79_12e413fbf88crow1_col3\" class=\"data row1 col3\" >0.177</td>\n",
       "            </tr>\n",
       "            <tr>\n",
       "                        <th id=\"T_4cab56a8_cc4d_11ed_8e79_12e413fbf88clevel0_row2\" class=\"row_heading level0 row2\" >10</th>\n",
       "                        <td id=\"T_4cab56a8_cc4d_11ed_8e79_12e413fbf88crow2_col0\" class=\"data row2 col0\" >1.11e+04</td>\n",
       "                        <td id=\"T_4cab56a8_cc4d_11ed_8e79_12e413fbf88crow2_col1\" class=\"data row2 col1\" >1.1e+04</td>\n",
       "                        <td id=\"T_4cab56a8_cc4d_11ed_8e79_12e413fbf88crow2_col2\" class=\"data row2 col2\" >0.11</td>\n",
       "                        <td id=\"T_4cab56a8_cc4d_11ed_8e79_12e413fbf88crow2_col3\" class=\"data row2 col3\" >0.113</td>\n",
       "            </tr>\n",
       "            <tr>\n",
       "                        <th id=\"T_4cab56a8_cc4d_11ed_8e79_12e413fbf88clevel0_row3\" class=\"row_heading level0 row3\" >15</th>\n",
       "                        <td id=\"T_4cab56a8_cc4d_11ed_8e79_12e413fbf88crow3_col0\" class=\"data row3 col0\" >1.08e+04</td>\n",
       "                        <td id=\"T_4cab56a8_cc4d_11ed_8e79_12e413fbf88crow3_col1\" class=\"data row3 col1\" >1.07e+04</td>\n",
       "                        <td id=\"T_4cab56a8_cc4d_11ed_8e79_12e413fbf88crow3_col2\" class=\"data row3 col2\" >0.0816</td>\n",
       "                        <td id=\"T_4cab56a8_cc4d_11ed_8e79_12e413fbf88crow3_col3\" class=\"data row3 col3\" >0.0848</td>\n",
       "            </tr>\n",
       "    </tbody></table>"
      ],
      "text/plain": [
       "<pandas.io.formats.style.Styler at 0x7fa1cedb9a30>"
      ]
     },
     "metadata": {},
     "output_type": "display_data"
    },
    {
     "name": "stdout",
     "output_type": "stream",
     "text": [
      "[\u001b[1mtardis.simulation.base\u001b[0m][\u001b[1;37mINFO\u001b[0m   ]  \n",
      "\t\n",
      "\tCurrent t_inner = 10636.536 K\n",
      "\tExpected t_inner for next iteration = 10641.692 K\n",
      " (\u001b[1mbase.py\u001b[0m:554)\n",
      "[\u001b[1mtardis.simulation.base\u001b[0m][\u001b[1;37mINFO\u001b[0m   ]  \n",
      "\t\n",
      "\tStarting iteration 19 of 20 (\u001b[1mbase.py\u001b[0m:385)\n",
      "[\u001b[1mtardis.simulation.base\u001b[0m][\u001b[1;37mINFO\u001b[0m   ]  \n",
      "\t\n",
      "\tLuminosity emitted   = 1.056e+43 erg / s\n",
      "\tLuminosity absorbed  = 3.405e+42 erg / s\n",
      "\tLuminosity requested = 1.059e+43 erg / s\n",
      " (\u001b[1mbase.py\u001b[0m:559)\n",
      "[\u001b[1mtardis.simulation.base\u001b[0m][\u001b[1;37mINFO\u001b[0m   ]  \n",
      "\tIteration converged 2/4 consecutive times. (\u001b[1mbase.py\u001b[0m:266)\n",
      "[\u001b[1mtardis.simulation.base\u001b[0m][\u001b[1;37mINFO\u001b[0m   ]  \n",
      "\t\n",
      "\tPlasma stratification: (\u001b[1mbase.py\u001b[0m:527)\n"
     ]
    },
    {
     "data": {
      "text/html": [
       "<style  type=\"text/css\" >\n",
       "</style><table id=\"T_4d035592_cc4d_11ed_8e79_12e413fbf88c\" ><thead>    <tr>        <th class=\"index_name level0\" >Shell No.</th>        <th class=\"col_heading level0 col0\" >t_rad</th>        <th class=\"col_heading level0 col1\" >next_t_rad</th>        <th class=\"col_heading level0 col2\" >w</th>        <th class=\"col_heading level0 col3\" >next_w</th>    </tr></thead><tbody>\n",
       "                <tr>\n",
       "                        <th id=\"T_4d035592_cc4d_11ed_8e79_12e413fbf88clevel0_row0\" class=\"row_heading level0 row0\" >0</th>\n",
       "                        <td id=\"T_4d035592_cc4d_11ed_8e79_12e413fbf88crow0_col0\" class=\"data row0 col0\" >1.11e+04</td>\n",
       "                        <td id=\"T_4d035592_cc4d_11ed_8e79_12e413fbf88crow0_col1\" class=\"data row0 col1\" >1.11e+04</td>\n",
       "                        <td id=\"T_4d035592_cc4d_11ed_8e79_12e413fbf88crow0_col2\" class=\"data row0 col2\" >0.464</td>\n",
       "                        <td id=\"T_4d035592_cc4d_11ed_8e79_12e413fbf88crow0_col3\" class=\"data row0 col3\" >0.466</td>\n",
       "            </tr>\n",
       "            <tr>\n",
       "                        <th id=\"T_4d035592_cc4d_11ed_8e79_12e413fbf88clevel0_row1\" class=\"row_heading level0 row1\" >5</th>\n",
       "                        <td id=\"T_4d035592_cc4d_11ed_8e79_12e413fbf88crow1_col0\" class=\"data row1 col0\" >1.13e+04</td>\n",
       "                        <td id=\"T_4d035592_cc4d_11ed_8e79_12e413fbf88crow1_col1\" class=\"data row1 col1\" >1.13e+04</td>\n",
       "                        <td id=\"T_4d035592_cc4d_11ed_8e79_12e413fbf88crow1_col2\" class=\"data row1 col2\" >0.177</td>\n",
       "                        <td id=\"T_4d035592_cc4d_11ed_8e79_12e413fbf88crow1_col3\" class=\"data row1 col3\" >0.177</td>\n",
       "            </tr>\n",
       "            <tr>\n",
       "                        <th id=\"T_4d035592_cc4d_11ed_8e79_12e413fbf88clevel0_row2\" class=\"row_heading level0 row2\" >10</th>\n",
       "                        <td id=\"T_4d035592_cc4d_11ed_8e79_12e413fbf88crow2_col0\" class=\"data row2 col0\" >1.1e+04</td>\n",
       "                        <td id=\"T_4d035592_cc4d_11ed_8e79_12e413fbf88crow2_col1\" class=\"data row2 col1\" >1.11e+04</td>\n",
       "                        <td id=\"T_4d035592_cc4d_11ed_8e79_12e413fbf88crow2_col2\" class=\"data row2 col2\" >0.113</td>\n",
       "                        <td id=\"T_4d035592_cc4d_11ed_8e79_12e413fbf88crow2_col3\" class=\"data row2 col3\" >0.111</td>\n",
       "            </tr>\n",
       "            <tr>\n",
       "                        <th id=\"T_4d035592_cc4d_11ed_8e79_12e413fbf88clevel0_row3\" class=\"row_heading level0 row3\" >15</th>\n",
       "                        <td id=\"T_4d035592_cc4d_11ed_8e79_12e413fbf88crow3_col0\" class=\"data row3 col0\" >1.07e+04</td>\n",
       "                        <td id=\"T_4d035592_cc4d_11ed_8e79_12e413fbf88crow3_col1\" class=\"data row3 col1\" >1.07e+04</td>\n",
       "                        <td id=\"T_4d035592_cc4d_11ed_8e79_12e413fbf88crow3_col2\" class=\"data row3 col2\" >0.0848</td>\n",
       "                        <td id=\"T_4d035592_cc4d_11ed_8e79_12e413fbf88crow3_col3\" class=\"data row3 col3\" >0.0853</td>\n",
       "            </tr>\n",
       "    </tbody></table>"
      ],
      "text/plain": [
       "<pandas.io.formats.style.Styler at 0x7fa1bb88ed90>"
      ]
     },
     "metadata": {},
     "output_type": "display_data"
    },
    {
     "name": "stdout",
     "output_type": "stream",
     "text": [
      "[\u001b[1mtardis.simulation.base\u001b[0m][\u001b[1;37mINFO\u001b[0m   ]  \n",
      "\t\n",
      "\tCurrent t_inner = 10641.692 K\n",
      "\tExpected t_inner for next iteration = 10650.463 K\n",
      " (\u001b[1mbase.py\u001b[0m:554)\n",
      "[\u001b[1mtardis.simulation.base\u001b[0m][\u001b[1;37mINFO\u001b[0m   ]  \n",
      "\t\n",
      "\tStarting iteration 20 of 20 (\u001b[1mbase.py\u001b[0m:385)\n",
      "[\u001b[1mtardis.simulation.base\u001b[0m][\u001b[1;37mINFO\u001b[0m   ]  \n",
      "\t\n",
      "\tLuminosity emitted   = 1.061e+43 erg / s\n",
      "\tLuminosity absorbed  = 3.401e+42 erg / s\n",
      "\tLuminosity requested = 1.059e+43 erg / s\n",
      " (\u001b[1mbase.py\u001b[0m:559)\n",
      "[\u001b[1mtardis.simulation.base\u001b[0m][\u001b[1;37mINFO\u001b[0m   ]  \n",
      "\t\n",
      "\tSimulation finished in 20 iterations \n",
      "\tSimulation took 16.73 s\n",
      " (\u001b[1mbase.py\u001b[0m:480)\n"
     ]
    }
   ],
   "source": [
    "mdl = run_tardis('tardis_example.yml',\n",
    "                 packet_source=packet_source)\n",
    "mdl_norm = run_tardis('tardis_example.yml')"
   ]
  },
  {
   "cell_type": "code",
   "execution_count": 5,
   "metadata": {},
   "outputs": [
    {
     "data": {
      "text/plain": [
       "<matplotlib.legend.Legend at 0x7fa1cec492b0>"
      ]
     },
     "execution_count": 5,
     "metadata": {},
     "output_type": "execute_result"
    },
    {
     "data": {
      "image/png": "[encoded data removed]",
      "text/plain": [
       "<Figure size 640x480 with 1 Axes>"
      ]
     },
     "metadata": {},
     "output_type": "display_data"
    }
   ],
   "source": [
    "%matplotlib inline\n",
    "plt.plot(mdl.transport.spectrum_virtual.wavelength,\n",
    "         mdl.transport.spectrum_virtual.luminosity_density_lambda,\n",
    "         color='red', label='truncated blackbody (custom packet source)')\n",
    "plt.plot(mdl_norm.transport.spectrum_virtual.wavelength,\n",
    "         mdl_norm.transport.spectrum_virtual.luminosity_density_lambda,\n",
    "         color='blue', label='normal blackbody (default packet source)')\n",
    "plt.xlabel('$\\lambda [\\AA]$')\n",
    "plt.ylabel('$L_\\lambda$ [erg/s/$\\AA$]')\n",
    "plt.xlim(500, 10000)\n",
    "plt.legend()"
   ]
  },
  {
   "cell_type": "code",
   "execution_count": null,
   "metadata": {},
   "outputs": [],
   "source": []
  }
 ],
 "metadata": {
  "kernelspec": {
   "display_name": "Python 3",
   "language": "python",
   "name": "python3"
  },
  "language_info": {
   "codemirror_mode": {
    "name": "ipython",
    "version": 3
   },
   "file_extension": ".py",
   "mimetype": "text/x-python",
   "name": "python",
   "nbconvert_exporter": "python",
   "pygments_lexer": "ipython3",
   "version": "3.8.16"
  }
 },
 "nbformat": 4,
 "nbformat_minor": 2
}
